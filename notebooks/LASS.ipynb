{
 "cells": [
  {
   "cell_type": "markdown",
   "id": "77357781",
   "metadata": {},
   "source": [
    "# LASS"
   ]
  },
  {
   "cell_type": "code",
   "execution_count": 1,
   "id": "9caf175c",
   "metadata": {},
   "outputs": [
    {
     "name": "stderr",
     "output_type": "stream",
     "text": [
      "2025-05-16 12:10:29.968521: I metal_plugin/src/device/metal_device.cc:1154] Metal device set to: Apple M4 Pro\n",
      "2025-05-16 12:10:29.968544: I metal_plugin/src/device/metal_device.cc:296] systemMemory: 48.00 GB\n",
      "2025-05-16 12:10:29.968549: I metal_plugin/src/device/metal_device.cc:313] maxCacheSize: 18.00 GB\n",
      "2025-05-16 12:10:29.968566: I tensorflow/core/common_runtime/pluggable_device/pluggable_device_factory.cc:305] Could not identify NUMA node of platform GPU ID 0, defaulting to 0. Your kernel may not have been built with NUMA support.\n",
      "2025-05-16 12:10:29.968575: I tensorflow/core/common_runtime/pluggable_device/pluggable_device_factory.cc:271] Created TensorFlow device (/job:localhost/replica:0/task:0/device:GPU:0 with 0 MB memory) -> physical PluggableDevice (device: 0, name: METAL, pci bus id: <undefined>)\n"
     ]
    }
   ],
   "source": [
    "import numpy as np\n",
    "import amplitf.interface as atfi\n",
    "import amplitf.dynamics as atfd\n",
    "import amplitf.kinematics as atfk\n",
    "from amplitf.phasespace.dalitz_phasespace import DalitzPhaseSpace\n",
    "import matplotlib.pyplot as plt\n",
    "import tfa.plotting as tfp"
   ]
  },
  {
   "cell_type": "code",
   "execution_count": 2,
   "id": "51211173",
   "metadata": {},
   "outputs": [],
   "source": [
    "# LASS\n",
    "lass_M = atfi.const(1.4617)\n",
    "lass_G = atfi.const(0.2683)\n",
    "lass_F = atfi.const(0.4524)\n",
    "lass_phiF = atfi.const(0.248)\n",
    "lass_R = atfi.const(1.0)\n",
    "lass_phiR = atfi.const(2.495)\n",
    "lass_a = atfi.const(0.172)\n",
    "lass_r = atfi.const(-20.6)"
   ]
  },
  {
   "cell_type": "code",
   "execution_count": 3,
   "id": "4050cd71",
   "metadata": {},
   "outputs": [],
   "source": [
    "# Masses of final state particles\n",
    "from particle.particle import literals as lp\n",
    "# Dalitz Particles\n",
    "mkz = atfi.const(lp.K_S_0.mass/1000)\n",
    "mpi = atfi.const(lp.pi_plus.mass/1000)\n",
    "md = atfi.const(lp.D_0.mass/1000)\n",
    "# Dalitz Phase Space\n",
    "phsp = DalitzPhaseSpace(mpi, mkz, mpi, md)"
   ]
  },
  {
   "cell_type": "code",
   "execution_count": 12,
   "id": "ee38890c",
   "metadata": {},
   "outputs": [],
   "source": [
    "def LASS(m2, a, r, m0, gamma0, md, mc, amp_res, amp_nr, phase_res, phase_nr):\n",
    "    m = atfi.sqrt(m2)\n",
    "    #q0 = atfk.two_body_momentum(md, m0, mc)\n",
    "    q = atfk.two_body_momentum(md, m, mc)\n",
    "    cot_delta_beta = atfi.const(1.0) / a / q + atfi.const(0.5) * r * q\n",
    "    #delta_beta = atfi.atan(1.0 / cot_delta_beta)\n",
    "    nr = atfd.nonresonant_lass_lineshape(m2, a, r, md, mc)\n",
    "    res= atfd.resonant_lass_lineshape(m2, m0, gamma0, a, r, md, mc)\n",
    "    lass = atfi.cast_complex(amp_res) * \\\n",
    "        atfi.complex( atfi.cos(phase_res + 2.0*phase_nr), atfi.sin(phase_res + 2.0*phase_nr) ) * \\\n",
    "             atfi.complex( q * cot_delta_beta, q ) / atfi.complex( q * cot_delta_beta, -q ) * res\n",
    "    lass += atfi.cast_complex(amp_nr) * atfi.complex( atfi.cos(phase_nr), atfi.sin(phase_nr) ) * \\\n",
    "            atfi.cast_complex( atfi.cos(phase_nr) + atfi.sin(phase_nr) * cot_delta_beta ) * nr\n",
    "    return lass"
   ]
  },
  {
   "cell_type": "code",
   "execution_count": 5,
   "id": "46aa6646",
   "metadata": {},
   "outputs": [
    {
     "name": "stderr",
     "output_type": "stream",
     "text": [
      "2025-05-16 12:10:30.420699: I tensorflow/core/grappler/optimizers/custom_graph_optimizer_registry.cc:117] Plugin optimizer for device_type GPU is enabled.\n"
     ]
    }
   ],
   "source": [
    "nnorm=100000\n",
    "norm_sample = phsp.uniform_sample(nnorm)"
   ]
  },
  {
   "cell_type": "code",
   "execution_count": 6,
   "id": "58dfa6be",
   "metadata": {},
   "outputs": [],
   "source": [
    "lass_tf = LASS(phsp.m2ab(norm_sample), lass_a, lass_r, lass_M, lass_G, mkz, mpi, lass_R, lass_F, lass_phiR, lass_phiF)"
   ]
  },
  {
   "cell_type": "code",
   "execution_count": 13,
   "id": "5d067163",
   "metadata": {},
   "outputs": [
    {
     "data": {
      "text/plain": [
       "<matplotlib.legend.Legend at 0x37624bad0>"
      ]
     },
     "execution_count": 13,
     "metadata": {},
     "output_type": "execute_result"
    },
    {
     "data": {
      "image/png": "[encoded data removed]",
      "text/plain": [
       "<Figure size 640x480 with 1 Axes>"
      ]
     },
     "metadata": {},
     "output_type": "display_data"
    }
   ],
   "source": [
    "plt.hist(phsp.m2ab(norm_sample), weights = np.power(np.abs(lass_tf),2), bins=100, histtype='step', label='LASS Amplitf')\n",
    "#plt.hist(phsp.m2ab(norm_sample), weights = atfd.density(aBW_tf), bins=100, histtype='step', label='BW Amplitf', density=True)\n",
    "plt.xlabel(r'$m_{ab}^2$ [GeV$^2$]')\n",
    "plt.ylabel(r'$|A|$')\n",
    "plt.title('Amplitude vs m2ab')\n",
    "plt.legend()"
   ]
  },
  {
   "cell_type": "markdown",
   "id": "c8f0c6e5",
   "metadata": {},
   "source": [
    "Let's now code Jordi's version of the LASS to check what is different."
   ]
  },
  {
   "cell_type": "code",
   "execution_count": 8,
   "id": "56df0677",
   "metadata": {},
   "outputs": [],
   "source": [
    "def lass_jordi(mab2, _amp, _phase, _LASS_a, _LASS_r, _massR, _gammaR, _ma, _mb, _LASS_R, _LASS_phi_R, _LASS_F, _LASS_phi_F):\n",
    "    pi180inv = np.pi / 180.\n",
    "\n",
    "    ampl=_amp\n",
    "    theta=_phase\n",
    "\n",
    "    s = mab2\n",
    "\n",
    "    _a = _LASS_a\n",
    "    _r = _LASS_r\n",
    "    _R = _LASS_R # Amplitude magnitude of the resonant term\n",
    "    _phiR = _LASS_phi_R # Phase of the resonant term\n",
    "    _F = _LASS_F # Amplitude magnitude of the non-resonant term\n",
    "    _phiF = _LASS_phi_F # Phase of the non-resonant term\n",
    "\n",
    "    mR=_massR\n",
    "    gammaR=_gammaR\n",
    "\n",
    "    fR=1.0 # K*0(1430) has spin zero\n",
    "    power=1 # Power is 1 for spin zero\n",
    "\n",
    "    mAB=np.sqrt(mab2) # (_p4_d1+_p4_d2).mass();\n",
    "\n",
    "    mA=_ma # _p4_d1.mass();\n",
    "    mB=_mb # _p4_d2.mass();\n",
    "\n",
    "    pAB=np.sqrt( (((mAB*mAB-mA*mA-mB*mB)*(mAB*mAB-mA*mA-mB*mB)/4.0) - mA*mA*mB*mB)/(mAB*mAB))\n",
    "    q=pAB\n",
    "\n",
    "    pR= np.sqrt( (((mR*mR-mA*mA-mB*mB)*(mR*mR-mA*mA-mB*mB)/4.0) - mA*mA*mB*mB)/(mR*mR))\n",
    "\n",
    "    # Running width.\n",
    "    g = gammaR*np.power(pAB/pR,power)*(mR/mAB)*fR*fR\n",
    "\n",
    "    propagator_relativistic_BreitWigner = 1./(mR*mR - mAB*mAB - 1j*mR*g)\n",
    "\n",
    "\t# Non-resonant phase shift\n",
    "    cot_deltaF = 1.0/(_a*q) + 0.5*_r*q\n",
    "    qcot_deltaF = 1.0/_a + 0.5*_r*q*q\n",
    "\n",
    "\t# Compute resonant part\n",
    "    expi2deltaF = (qcot_deltaF + 1j*q)/ (qcot_deltaF - 1j*q)\n",
    "\n",
    "    resonant_term_T = _R * complex(np.cos(_phiR + 2 * _phiF), np.sin(_phiR + 2 * _phiF)) * propagator_relativistic_BreitWigner * mR * gammaR * mR / pR * expi2deltaF\n",
    "\n",
    "\t# Compute non-resonant part\n",
    "    non_resonant_term_F = _F * complex(np.cos(_phiF), np.sin(_phiF)) * (np.cos(_phiF) + cot_deltaF * np.sin(_phiF)) * np.sqrt(s) / (qcot_deltaF - 1j*q)\n",
    "\n",
    "\t# Add non-resonant and resonant terms\n",
    "    LASS_contribution = non_resonant_term_F + resonant_term_T\n",
    "\n",
    "    matrixEl = ampl * complex(np.cos(theta*pi180inv), np.sin(theta*pi180inv)) * LASS_contribution\n",
    "\n",
    "    return matrixEl"
   ]
  },
  {
   "cell_type": "code",
   "execution_count": 9,
   "id": "77f34de7",
   "metadata": {},
   "outputs": [],
   "source": [
    "lass_jd = lass_jordi(phsp.m2ab(norm_sample), 1.0, 0.0, lass_a.numpy(), lass_r.numpy(), \n",
    "                    lass_M.numpy(), lass_G.numpy(), mkz.numpy(), mpi.numpy(), \n",
    "                    lass_R.numpy(), lass_phiR.numpy(), lass_F.numpy(), lass_phiF.numpy())"
   ]
  },
  {
   "cell_type": "code",
   "execution_count": 10,
   "id": "d3286e98",
   "metadata": {},
   "outputs": [
    {
     "data": {
      "text/plain": [
       "<matplotlib.legend.Legend at 0x34835ab50>"
      ]
     },
     "execution_count": 10,
     "metadata": {},
     "output_type": "execute_result"
    },
    {
     "data": {
      "image/png": "[encoded data removed]",
      "text/plain": [
       "<Figure size 640x480 with 1 Axes>"
      ]
     },
     "metadata": {},
     "output_type": "display_data"
    }
   ],
   "source": [
    "plt.hist(phsp.m2ab(norm_sample), weights = np.power(np.abs(lass_jd),2), bins=100, histtype='step', label='LASS Jordi')\n",
    "#plt.hist(phsp.m2ab(norm_sample), weights = atfd.density(aBW_tf), bins=100, histtype='step', label='BW Amplitf', density=True)\n",
    "plt.xlabel(r'$m_{ab}^2$ [GeV$^2$]')\n",
    "plt.ylabel(r'$|A|$')\n",
    "plt.title('Amplitude vs m2ab')\n",
    "plt.legend()"
   ]
  },
  {
   "cell_type": "markdown",
   "id": "4772bb33",
   "metadata": {},
   "source": []
  },
  {
   "cell_type": "markdown",
   "id": "6ac756ac",
   "metadata": {},
   "source": []
  }
 ],
 "metadata": {
  "kernelspec": {
   "display_name": "tfa",
   "language": "python",
   "name": "python3"
  },
  "language_info": {
   "codemirror_mode": {
    "name": "ipython",
    "version": 3
   },
   "file_extension": ".py",
   "mimetype": "text/x-python",
   "name": "python",
   "nbconvert_exporter": "python",
   "pygments_lexer": "ipython3",
   "version": "3.11.12"
  }
 },
 "nbformat": 4,
 "nbformat_minor": 5
}

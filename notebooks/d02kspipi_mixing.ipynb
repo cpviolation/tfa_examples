{
 "cells": [
  {
   "cell_type": "markdown",
   "metadata": {},
   "source": [
    "# $D^0 \\to K^0_Sπ^+π^-$ with Mixing\n",
    "\n",
    "We will fit \n",
    "\n",
    "$$\n",
    "D^0 \\to K^0_S \\pi^+\\pi^-\n",
    "$$\n",
    "\n",
    "decays generated with the following intermediate resonances:\n",
    "- $D^0 \\to K^0_S \\rho(770)$\n",
    "- $D^0 \\to K^{*-}\\pi^+$\n",
    "\n",
    "In addition we add mixing, meaning that $D^0$ oscillates to $\\bar{D}^0$, which subsequently decays with a charged-conjugate decay model, depending on time:\n",
    "\n",
    "$$\n",
    "|\\mathcal{A}(t)|^2 = \\frac{1}{4}\\left|\\mathcal{A}_{D^0} + \\frac{q}{p}\\mathcal{A}_{\\bar{D}^0}\\right|^2 \\psi_+(t) + \n",
    "                     \\frac{1}{4}\\left|\\mathcal{A}_{D^0} - \\frac{q}{p}\\mathcal{A}_{\\bar{D}^0}\\right|^2 \\psi_-(t) + \n",
    "                     2 \\Re{\\left((\\mathcal{A}_{D^0} + \\frac{q}{p}\\mathcal{A}_{\\bar{D}^0})(\\mathcal{A}_{D^0} - \\frac{q}{p}\\mathcal{A}_{\\bar{D}^0})^*\\right)}\\psi_i(t),\n",
    "$$\n",
    "\n",
    "with\n",
    "\n",
    "$$\n",
    "\\begin{align*}\n",
    "\\psi_+(t) &= e^{ -(1-x)\\frac{t}{\\tau} }\\\\\n",
    "\\psi_-(t) &= e^{ -(1+x)\\frac{t}{\\tau} }\\\\\n",
    "\\psi_i(t) &= e^{ -(1-iy)\\frac{t}{\\tau} }\\\\\n",
    "\\end{align*}\n",
    "$$"
   ]
  },
  {
   "cell_type": "markdown",
   "metadata": {},
   "source": [
    "Import modules"
   ]
  },
  {
   "cell_type": "code",
   "execution_count": 1,
   "metadata": {},
   "outputs": [
    {
     "name": "stderr",
     "output_type": "stream",
     "text": [
      "2024-10-21 16:56:02.736255: I tensorflow/core/util/port.cc:113] oneDNN custom operations are on. You may see slightly different numerical results due to floating-point round-off errors from different computation orders. To turn them off, set the environment variable `TF_ENABLE_ONEDNN_OPTS=0`.\n",
      "2024-10-21 16:56:02.749231: E external/local_xla/xla/stream_executor/cuda/cuda_fft.cc:479] Unable to register cuFFT factory: Attempting to register factory for plugin cuFFT when one has already been registered\n",
      "2024-10-21 16:56:02.767049: E external/local_xla/xla/stream_executor/cuda/cuda_dnn.cc:10575] Unable to register cuDNN factory: Attempting to register factory for plugin cuDNN when one has already been registered\n",
      "2024-10-21 16:56:02.767070: E external/local_xla/xla/stream_executor/cuda/cuda_blas.cc:1442] Unable to register cuBLAS factory: Attempting to register factory for plugin cuBLAS when one has already been registered\n",
      "2024-10-21 16:56:02.778217: I tensorflow/core/platform/cpu_feature_guard.cc:210] This TensorFlow binary is optimized to use available CPU instructions in performance-critical operations.\n",
      "To enable the following instructions: AVX2 AVX512F AVX512_VNNI FMA, in other operations, rebuild TensorFlow with the appropriate compiler flags.\n",
      "2024-10-21 16:56:03.405074: W tensorflow/compiler/tf2tensorrt/utils/py_utils.cc:38] TF-TRT Warning: Could not find TensorRT\n"
     ]
    },
    {
     "name": "stdout",
     "output_type": "stream",
     "text": [
      "WARNING:tensorflow:From /user/gr1/lhcb/mmartinelli/environments/tfa/lib64/python3.9/site-packages/tensorflow/python/util/deprecation.py:588: calling function (from tensorflow.python.eager.polymorphic_function.polymorphic_function) with experimental_relax_shapes is deprecated and will be removed in a future version.\n",
      "Instructions for updating:\n",
      "experimental_relax_shapes is deprecated, use reduce_retracing instead\n"
     ]
    }
   ],
   "source": [
    "# import NumPy\n",
    "import numpy as np\n",
    "# Import Tensorflow\n",
    "import tensorflow as tf\n",
    "# Import AmpliTF modules\n",
    "import amplitf.interface as atfi\n",
    "import amplitf.kinematics as atfk\n",
    "import amplitf.dynamics as atfd\n",
    "import amplitf.likelihood as atfl\n",
    "from amplitf.phasespace.dalitz_phasespace import DalitzPhaseSpace\n",
    "from amplitf.phasespace.decaytime_phasespace import DecayTimePhaseSpace\n",
    "from amplitf.phasespace.combined_phasespace import CombinedPhaseSpace\n",
    "from amplitf.mixing import Mixing\n",
    "\n",
    "# Import TFA modules\n",
    "import tfa.toymc as tft\n",
    "import tfa.plotting as tfp\n",
    "import tfa.optimisation as tfo\n",
    "\n",
    "# Import plotting module\n",
    "import matplotlib.pyplot as plt"
   ]
  },
  {
   "cell_type": "markdown",
   "metadata": {},
   "source": [
    "Set the number of events to generate and the number of normalisation point to calculate the integral of the likelihood"
   ]
  },
  {
   "cell_type": "code",
   "execution_count": 2,
   "metadata": {},
   "outputs": [],
   "source": [
    "ntoys = 100000  # Number of points to generate\n",
    "nnorm = 1000000  # Number of normalisation points"
   ]
  },
  {
   "cell_type": "markdown",
   "metadata": {},
   "source": [
    "Now define some constants"
   ]
  },
  {
   "cell_type": "code",
   "execution_count": 3,
   "metadata": {},
   "outputs": [
    {
     "name": "stderr",
     "output_type": "stream",
     "text": [
      "2024-10-21 16:56:06.642755: I tensorflow/core/common_runtime/gpu/gpu_device.cc:1928] Created device /job:localhost/replica:0/task:0/device:GPU:0 with 79196 MB memory:  -> device: 0, name: NVIDIA A100 80GB PCIe, pci bus id: 0000:b1:00.0, compute capability: 8.0\n"
     ]
    }
   ],
   "source": [
    "# Masses of final state particles\n",
    "from particle.particle import literals as lp\n",
    "# Dalitz Particles\n",
    "mkz = atfi.const(lp.K_S_0.mass/1000)\n",
    "mpi = atfi.const(lp.pi_plus.mass/1000)\n",
    "md = atfi.const(lp.D_0.mass/1000)\n",
    "\n",
    "# Resonances\n",
    "mkst = atfi.const(lp.Kst_892_0.mass/1000)\n",
    "wkst = atfi.const(lp.Kst_892_0.width/1000)\n",
    "mrho = atfi.const(lp.rho_770_0.mass/1000)\n",
    "wrho = atfi.const(lp.rho_770_0.width/1000)\n",
    "\n",
    "# Blatt-Weisskopf radii for Breit-Wigner lineshape\n",
    "rd = atfi.const(5.0)\n",
    "rr = atfi.const(1.5)"
   ]
  },
  {
   "cell_type": "markdown",
   "metadata": {},
   "source": [
    "The mixing parameters"
   ]
  },
  {
   "cell_type": "code",
   "execution_count": 21,
   "metadata": {},
   "outputs": [],
   "source": [
    "tdz = atfi.const(1.)\n",
    "x_mix = atfi.const(0.004)\n",
    "y_mix = atfi.const(0.0064)\n",
    "qop_mix = atfi.const(1)\n",
    "phi_mix = atfi.const(0)\n",
    "qoverp = atfi.complex( qop_mix * atfi.cos(phi_mix), \n",
    "                       qop_mix * atfi.sin(phi_mix) )"
   ]
  },
  {
   "cell_type": "markdown",
   "metadata": {},
   "source": [
    "and a class to deal with three-body Dalitz phase-space"
   ]
  },
  {
   "cell_type": "code",
   "execution_count": 5,
   "metadata": {},
   "outputs": [],
   "source": [
    "phsp = DalitzPhaseSpace(mpi, mkz, mpi, md)"
   ]
  },
  {
   "cell_type": "markdown",
   "metadata": {},
   "source": [
    "Add a class to deal with the decay time"
   ]
  },
  {
   "cell_type": "code",
   "execution_count": 6,
   "metadata": {},
   "outputs": [],
   "source": [
    "tphsp = DecayTimePhaseSpace(tdz)"
   ]
  },
  {
   "cell_type": "markdown",
   "metadata": {},
   "source": [
    "And the combined phase-space"
   ]
  },
  {
   "cell_type": "code",
   "execution_count": 7,
   "metadata": {},
   "outputs": [],
   "source": [
    "c_phsp = CombinedPhaseSpace(phsp,tphsp)"
   ]
  },
  {
   "cell_type": "markdown",
   "metadata": {},
   "source": [
    "## Phasespace\n",
    "Let's study the phasespace and the value of the functions on it"
   ]
  },
  {
   "cell_type": "code",
   "execution_count": 8,
   "metadata": {},
   "outputs": [],
   "source": [
    "comb_sample = c_phsp.filter(c_phsp.unfiltered_sample(10000,1.0e-20))"
   ]
  },
  {
   "cell_type": "markdown",
   "metadata": {},
   "source": [
    "Plot the invariant masses and the decay time"
   ]
  },
  {
   "cell_type": "code",
   "execution_count": 9,
   "metadata": {},
   "outputs": [
    {
     "data": {
      "image/png": "[encoded data removed]",
      "text/plain": [
       "<Figure size 640x480 with 4 Axes>"
      ]
     },
     "metadata": {},
     "output_type": "display_data"
    }
   ],
   "source": [
    "fig, ax = plt.subplots(2,2)\n",
    "_ = ax[0][0].hist( np.array(c_phsp.phsp1.m2ab(c_phsp.data1(comb_sample)) ),bins=100)\n",
    "_ = ax[1][0].hist( np.array(c_phsp.phsp1.m2bc(c_phsp.data1(comb_sample)) ),bins=100)\n",
    "_ = ax[0][1].hist( np.array(c_phsp.phsp1.m2ac(c_phsp.data1(comb_sample)) ),bins=100)\n",
    "_ = ax[1][1].hist( np.array(c_phsp.phsp2.t(c_phsp.data2(comb_sample)) ),bins=100)\n",
    "ax[1][1].set_yscale('log')"
   ]
  },
  {
   "cell_type": "markdown",
   "metadata": {},
   "source": [
    "## Model\n",
    "Below there is a function to define the model, allowing to switch on and off specific components."
   ]
  },
  {
   "cell_type": "code",
   "execution_count": 10,
   "metadata": {},
   "outputs": [],
   "source": [
    "def model(x):\n",
    "\n",
    "    m2ab = phsp.m2ab(x)\n",
    "    m2bc = phsp.m2bc(x)\n",
    "    m2ac = phsp.m2ac(x)\n",
    "\n",
    "    hel_ab = atfd.helicity_amplitude(phsp.cos_helicity_ab(x), 1)\n",
    "    hel_bc = atfd.helicity_amplitude(phsp.cos_helicity_bc(x), 1)\n",
    "    hel_ac = atfd.helicity_amplitude(phsp.cos_helicity_ac(x), 1)\n",
    "\n",
    "    bw1 = atfd.breit_wigner_lineshape(m2ab, mkst, wkst, mpi, mkz, mpi, md, rd, rr, 1, 1)\n",
    "    bw2 = atfd.breit_wigner_lineshape(m2bc, mkst, wkst, mpi, mkz, mpi, md, rd, rr, 1, 1)\n",
    "    bw3 = atfd.breit_wigner_lineshape(m2ac, mrho, wrho, mpi, mpi, mkz, md, rd, rr, 1, 1)\n",
    "\n",
    "    def _model(a1r, a1i, a2r, a2i, a3r, a3i, switches=4 * [1]):\n",
    "\n",
    "        a1 = atfi.complex(a1r, a1i)\n",
    "        a2 = atfi.complex(a2r, a2i)\n",
    "        a3 = atfi.complex(a3r, a3i)\n",
    "\n",
    "        ampl = atfi.cast_complex(atfi.ones(m2ab)) * atfi.complex(\n",
    "            atfi.const(0.0), atfi.const(0.0)\n",
    "        )\n",
    "\n",
    "        if switches[0]:\n",
    "            ampl += a1 * bw1 * hel_ab\n",
    "        if switches[1]:\n",
    "            ampl += a2 * bw2 * hel_bc\n",
    "        if switches[2]:\n",
    "            ampl += a3 * bw3 * hel_ac\n",
    "        if switches[3]:\n",
    "            ampl += atfi.cast_complex(atfi.ones(m2ab)) * atfi.complex(\n",
    "                atfi.const(5.0), atfi.const(0.0)\n",
    "            )\n",
    "\n",
    "        return atfd.density(ampl)\n",
    "\n",
    "    return _model"
   ]
  },
  {
   "cell_type": "code",
   "execution_count": 11,
   "metadata": {},
   "outputs": [],
   "source": [
    "# Time evolution functions.\n",
    "@atfi.function\n",
    "def psip( t, x, tau ):\n",
    "    \"\"\"Time evolution function $\\psi_+(t)$\n",
    "\n",
    "    Args:\n",
    "        t (float): decay time of the candidate\n",
    "        x (float): mixing parameter\n",
    "        tau (float): lifetime of the decaying particle\n",
    "\n",
    "    Returns:\n",
    "        float: the time evolution function for the sum of the two decay amplitudes\n",
    "    \"\"\"\n",
    "    return atfi.exp( - ( 1.0 - x ) * t / tau)\n",
    "\n",
    "@atfi.function\n",
    "def psim( t, x, tau ):\n",
    "    \"\"\"Time evolution function $\\psi_-(t)$\n",
    "\n",
    "    Args:\n",
    "        t (float): decay time of the candidate\n",
    "        x (float): mixing parameter\n",
    "        tau (float): lifetime of the decaying particle\n",
    "\n",
    "    Returns:\n",
    "        float: the time evolution function for the sum of the two decay amplitudes\n",
    "    \"\"\"\n",
    "    return atfi.exp( - ( 1.0 + x ) * t / tau)\n",
    "\n",
    "@atfi.function\n",
    "def psii( t, y, tau ):\n",
    "    \"\"\"Time evolution function $\\psi_i(t)$\n",
    "\n",
    "    Args:\n",
    "        t (float): decay time of the candidate\n",
    "        y (float): mixing parameter\n",
    "        tau (float): lifetime of the decaying particle\n",
    "\n",
    "    Returns:\n",
    "        float: the time evolution function for the sum of the two decay amplitudes\n",
    "    \"\"\"\n",
    "    return atfi.exp( - atfi.complex( atfi.const(1.0) , -y ) * tf.cast(t / tau, tf.complex128))"
   ]
  },
  {
   "cell_type": "code",
   "execution_count": 12,
   "metadata": {},
   "outputs": [],
   "source": [
    "def model_mix(x):\n",
    "\n",
    "    # DZ - MIXING MODEL\n",
    "    \n",
    "    # CACHED VARIABLES\n",
    "    m2ab = c_phsp.phsp1.m2ab(x)\n",
    "    m2bc = c_phsp.phsp1.m2bc(x)\n",
    "    m2ac = c_phsp.phsp1.m2ac(x)\n",
    "\n",
    "    hel_ab = atfd.helicity_amplitude(c_phsp.phsp1.cos_helicity_ab(x), 1)\n",
    "    hel_bc = atfd.helicity_amplitude(c_phsp.phsp1.cos_helicity_bc(x), 1)\n",
    "    hel_ac = atfd.helicity_amplitude(c_phsp.phsp1.cos_helicity_ac(x), 1)\n",
    "\n",
    "    bw1 = atfd.breit_wigner_lineshape(m2ab, mkst, wkst, mpi, mkz, mpi, md, rd, rr, 1, 1)\n",
    "    bw2 = atfd.breit_wigner_lineshape(m2bc, mkst, wkst, mpi, mkz, mpi, md, rd, rr, 1, 1)\n",
    "    bw3 = atfd.breit_wigner_lineshape(m2ac, mrho, wrho, mpi, mpi, mkz, md, rd, rr, 1, 1)\n",
    "\n",
    "    tep = psip(c_phsp.phsp2.t(c_phsp.data2(x)), x_mix, tdz)\n",
    "    tem = psim(c_phsp.phsp2.t(c_phsp.data2(x)), x_mix, tdz)\n",
    "    tei = psii(c_phsp.phsp2.t(c_phsp.data2(x)), y_mix, tdz)\n",
    "\n",
    "    def _model(a1r, a1i, a2r, a2i, a3r, a3i, switches=4 * [1]):\n",
    "\n",
    "        a1 = atfi.complex(a1r, a1i)\n",
    "        a2 = atfi.complex(a2r, a2i)\n",
    "        a3 = atfi.complex(a3r, a3i)\n",
    "\n",
    "        # D0 AMPLITUDE\n",
    "        ampl_dz = atfi.cast_complex(atfi.ones(m2ab)) * atfi.complex(\n",
    "            atfi.const(0.0), atfi.const(0.0)\n",
    "        )\n",
    "\n",
    "        if switches[0]:\n",
    "            ampl_dz += a1 * bw1 * hel_ab\n",
    "        if switches[1]:\n",
    "            ampl_dz += a2 * bw2 * hel_bc\n",
    "        if switches[2]:\n",
    "            ampl_dz += a3 * bw3 * hel_ac\n",
    "        if switches[3]:\n",
    "            ampl_dz += atfi.cast_complex(atfi.ones(m2ab)) * atfi.complex(\n",
    "                atfi.const(5.0), atfi.const(0.0)\n",
    "            )\n",
    "\n",
    "        # D0bar AMPLITUDE: exchange a <--> c\n",
    "        ampl_dzb = atfi.cast_complex(atfi.ones(m2ab)) * atfi.complex(\n",
    "            atfi.const(0.0), atfi.const(0.0)\n",
    "        )\n",
    "\n",
    "        if switches[0]:\n",
    "            ampl_dzb += a1 * bw2 * hel_bc\n",
    "        if switches[1]:\n",
    "            ampl_dzb += a2 * bw1 * hel_ab\n",
    "        if switches[2]:\n",
    "            ampl_dzb += -a3 * bw3 * hel_ac\n",
    "        if switches[3]:\n",
    "            ampl_dzb += atfi.cast_complex(atfi.ones(m2ab)) * atfi.complex(\n",
    "                atfi.const(5.0), atfi.const(0.0)\n",
    "            )\n",
    "\n",
    "        # MIXING\n",
    "        ampl = atfi.cast_complex(atfi.ones(m2ab)) * atfi.complex(\n",
    "            atfi.const(0.0), atfi.const(0.0) )\n",
    "        ampDir = ampl_dz\n",
    "        ampCnj = qoverp * ampl_dzb\n",
    "\n",
    "        apb2 = 0.5 * (ampDir + ampCnj)\n",
    "        amb2 = 0.5 * atfi.conjugate(ampDir - ampCnj)\n",
    "        dens = atfd.density( tf.multiply(apb2 , atfi.complex(tep, atfi.const(0)) ) )\n",
    "        # mix_model = Mixing(ampl_dz, ampl_dzb, tdz, \n",
    "        #                    x_mix, y_mix, qop_mix, phi_mix)\n",
    "        # ampl = mix_model.amplitude(c_phsp.phsp2.t(x))\n",
    "        \n",
    "        return atfd.density( dens )\n",
    "\n",
    "    return _model"
   ]
  },
  {
   "cell_type": "markdown",
   "metadata": {},
   "source": [
    "**TODO**: The syntax above does not work for the mixing class I though because it multiplies at a certain point a function to a tensor.\n",
    "I should try to define a full model with mixing as a function and then think how this can be generalised in the code."
   ]
  },
  {
   "cell_type": "markdown",
   "metadata": {},
   "source": [
    "## Toy MC Model\n",
    "The model of the toy MC has all the components on by default. By means of the `switches` flag, some of them can be turned off to see the effects on the fit."
   ]
  },
  {
   "cell_type": "code",
   "execution_count": 13,
   "metadata": {},
   "outputs": [],
   "source": [
    "def toymc_model(x, switches=4 * [1]):\n",
    "    return model_mix(x)(\n",
    "        switches=switches,\n",
    "        a1r=atfi.const(1.0),\n",
    "        a1i=atfi.const(0.0),\n",
    "        a2r=atfi.const(0.5),\n",
    "        a2i=atfi.const(0.0),\n",
    "        a3r=atfi.const(2.0),\n",
    "        a3i=atfi.const(0.0),\n",
    "    )"
   ]
  },
  {
   "cell_type": "code",
   "execution_count": 14,
   "metadata": {},
   "outputs": [],
   "source": [
    "toy = toymc_model(comb_sample)"
   ]
  },
  {
   "cell_type": "code",
   "execution_count": 15,
   "metadata": {},
   "outputs": [
    {
     "name": "stdout",
     "output_type": "stream",
     "text": [
      "tf.Tensor(\n",
      "[[0.68958815]\n",
      " [0.65933642]\n",
      " [0.4791328 ]\n",
      " ...\n",
      " [0.29983519]\n",
      " [0.90755347]\n",
      " [0.55306431]], shape=(4806, 1), dtype=float64)\n"
     ]
    }
   ],
   "source": [
    "tep = psip(c_phsp.phsp2.t(c_phsp.data2(comb_sample)), x_mix, tdz)\n",
    "print(tep)"
   ]
  },
  {
   "cell_type": "code",
   "execution_count": 33,
   "metadata": {},
   "outputs": [
    {
     "data": {
      "text/plain": [
       "<matplotlib.legend.Legend at 0x7fc3b45bfeb0>"
      ]
     },
     "execution_count": 33,
     "metadata": {},
     "output_type": "execute_result"
    },
    {
     "data": {
      "image/png": "[encoded data removed]",
      "text/plain": [
       "<Figure size 640x480 with 1 Axes>"
      ]
     },
     "metadata": {},
     "output_type": "display_data"
    }
   ],
   "source": [
    "t_pl = np.linspace(0,10,1000)\n",
    "plt.plot( t_pl, psip(t_pl, x_mix, tdz)/np.exp(-t_pl/tdz), label=r'$\\psi_{+}$/exp' )\n",
    "plt.plot( t_pl, psim(t_pl, x_mix, tdz)/np.exp(-t_pl/tdz), label=r'$\\psi_{-}$/exp' )\n",
    "plt.plot( t_pl, np.ones(len(t_pl)), label='exponential', linestyle='dashed' )\n",
    "plt.plot( t_pl, np.real(psii(t_pl, y_mix, tdz))/np.exp(-t_pl/tdz), label=r'Re($\\psi_{i}$)/exp' )\n",
    "plt.plot( t_pl, 1+np.imag(psii(t_pl, y_mix, tdz))/np.exp(-t_pl/tdz), label=r'Im($\\psi_{i}$)/exp+1' )\n",
    "#plt.yscale('log')\n",
    "plt.legend()"
   ]
  },
  {
   "cell_type": "markdown",
   "metadata": {},
   "source": [
    "## Likelihood\n",
    "\n",
    "The Negative Log Likelihood"
   ]
  },
  {
   "cell_type": "code",
   "execution_count": 34,
   "metadata": {},
   "outputs": [],
   "source": [
    "# TF graph for unbinned negalite log likelihood (the quantity to be minimised)\n",
    "def nll(data, norm):\n",
    "    data_model = model_mix(data)\n",
    "    norm_model = model_mix(norm)\n",
    "\n",
    "    @atfi.function\n",
    "    def _nll(pars):\n",
    "        return atfl.unbinned_nll(data_model(**pars), atfl.integral(norm_model(**pars)))\n",
    "\n",
    "    return _nll"
   ]
  },
  {
   "cell_type": "markdown",
   "metadata": {},
   "source": [
    "## Samples\n",
    "\n",
    "The samples to fit"
   ]
  },
  {
   "cell_type": "code",
   "execution_count": 35,
   "metadata": {},
   "outputs": [
    {
     "name": "stdout",
     "output_type": "stream",
     "text": [
      "tf.Tensor(\n",
      "[[1.04691199e+00 2.09825573e+00 3.71660745e-01 9.06997633e-21]\n",
      " [1.33135050e+00 1.79476480e+00 4.16521375e-01 2.02658012e-21]\n",
      " [8.05834527e-01 1.72644185e+00 7.35777477e-01 5.15068568e-21]\n",
      " ...\n",
      " [1.53516621e+00 7.61067544e-01 1.20452232e+00 4.83897543e-21]\n",
      " [1.05163684e+00 1.57295821e+00 9.70027941e-02 4.78110270e-21]\n",
      " [1.55486062e+00 1.04543433e+00 5.92280988e-01 4.15781848e-21]], shape=(4806, 4), dtype=float64)\n"
     ]
    }
   ],
   "source": [
    "print(comb_sample)"
   ]
  },
  {
   "cell_type": "code",
   "execution_count": 36,
   "metadata": {},
   "outputs": [
    {
     "ename": "ValueError",
     "evalue": "in user code:\n\n    File \"/user/gr1/lhcb/mmartinelli/dalitz/TFA2/tfa/toymc.py\", line 70, in pdf_vals  *\n        d = accept_reject_sample(\n    File \"/user/gr1/lhcb/mmartinelli/dalitz/AmpliTF/amplitf/phasespace/combined_phasespace.py\", line 52, in filter\n        return tf.boolean_mask(x, self.inside(x))\n\n    ValueError: Number of mask dimensions must be specified, even if some dimensions are None.  E.g. shape=[None] is ok, but shape=None is not.\n",
     "output_type": "error",
     "traceback": [
      "\u001b[0;31m---------------------------------------------------------------------------\u001b[0m",
      "\u001b[0;31mValueError\u001b[0m                                Traceback (most recent call last)",
      "Cell \u001b[0;32mIn[36], line 1\u001b[0m\n\u001b[0;32m----> 1\u001b[0m toy_sample \u001b[38;5;241m=\u001b[39m \u001b[43mtft\u001b[49m\u001b[38;5;241;43m.\u001b[39;49m\u001b[43mrun_toymc\u001b[49m\u001b[43m(\u001b[49m\n\u001b[1;32m      2\u001b[0m \u001b[43m    \u001b[49m\u001b[43mtoymc_model\u001b[49m\u001b[43m,\u001b[49m\u001b[43m \u001b[49m\u001b[43mc_phsp\u001b[49m\u001b[43m,\u001b[49m\u001b[43m \u001b[49m\u001b[43mntoys\u001b[49m\u001b[43m,\u001b[49m\u001b[43m \u001b[49m\u001b[43mmaximum\u001b[49m\u001b[38;5;241;43m=\u001b[39;49m\u001b[38;5;241;43m1.0e-20\u001b[39;49m\u001b[43m,\u001b[49m\u001b[43m \u001b[49m\u001b[43mchunk\u001b[49m\u001b[38;5;241;43m=\u001b[39;49m\u001b[38;5;241;43m1000000\u001b[39;49m\u001b[43m,\u001b[49m\u001b[43m \u001b[49m\u001b[43mcomponents\u001b[49m\u001b[38;5;241;43m=\u001b[39;49m\u001b[38;5;28;43;01mFalse\u001b[39;49;00m\n\u001b[1;32m      3\u001b[0m \u001b[43m)\u001b[49m\n\u001b[1;32m      5\u001b[0m \u001b[38;5;28mprint\u001b[39m(toy_sample)\n",
      "File \u001b[0;32m~/dalitz/TFA2/tfa/toymc.py:97\u001b[0m, in \u001b[0;36mrun_toymc\u001b[0;34m(pdf, phsp, size, maximum, chunk, seed, components)\u001b[0m\n\u001b[1;32m     94\u001b[0m     \u001b[38;5;28;01mreturn\u001b[39;00m result\n\u001b[1;32m     96\u001b[0m \u001b[38;5;28;01mwhile\u001b[39;00m condition(length, size, nchunk):\n\u001b[0;32m---> 97\u001b[0m     d, v \u001b[38;5;241m=\u001b[39m \u001b[43mpdf_vals\u001b[49m\u001b[43m(\u001b[49m\u001b[43mchunk\u001b[49m\u001b[43m,\u001b[49m\u001b[43m \u001b[49m\u001b[43mcurr_maximum\u001b[49m\u001b[43m)\u001b[49m\n\u001b[1;32m     98\u001b[0m     over_maximum \u001b[38;5;241m=\u001b[39m v[v \u001b[38;5;241m>\u001b[39m curr_maximum]\n\u001b[1;32m     99\u001b[0m     \u001b[38;5;28;01mif\u001b[39;00m \u001b[38;5;28mlen\u001b[39m(over_maximum) \u001b[38;5;241m>\u001b[39m \u001b[38;5;241m0\u001b[39m:\n",
      "File \u001b[0;32m~/environments/tfa/lib64/python3.9/site-packages/tensorflow/python/util/traceback_utils.py:153\u001b[0m, in \u001b[0;36mfilter_traceback.<locals>.error_handler\u001b[0;34m(*args, **kwargs)\u001b[0m\n\u001b[1;32m    151\u001b[0m \u001b[38;5;28;01mexcept\u001b[39;00m \u001b[38;5;167;01mException\u001b[39;00m \u001b[38;5;28;01mas\u001b[39;00m e:\n\u001b[1;32m    152\u001b[0m   filtered_tb \u001b[38;5;241m=\u001b[39m _process_traceback_frames(e\u001b[38;5;241m.\u001b[39m__traceback__)\n\u001b[0;32m--> 153\u001b[0m   \u001b[38;5;28;01mraise\u001b[39;00m e\u001b[38;5;241m.\u001b[39mwith_traceback(filtered_tb) \u001b[38;5;28;01mfrom\u001b[39;00m \u001b[38;5;28;01mNone\u001b[39;00m\n\u001b[1;32m    154\u001b[0m \u001b[38;5;28;01mfinally\u001b[39;00m:\n\u001b[1;32m    155\u001b[0m   \u001b[38;5;28;01mdel\u001b[39;00m filtered_tb\n",
      "File \u001b[0;32m/tmp/mmartinelli/__autograph_generated_filek12fokya.py:12\u001b[0m, in \u001b[0;36mouter_factory.<locals>.inner_factory.<locals>.tf__pdf_vals\u001b[0;34m(chunk, curr_maximum)\u001b[0m\n\u001b[1;32m     10\u001b[0m do_return \u001b[38;5;241m=\u001b[39m \u001b[38;5;28;01mFalse\u001b[39;00m\n\u001b[1;32m     11\u001b[0m retval_ \u001b[38;5;241m=\u001b[39m ag__\u001b[38;5;241m.\u001b[39mUndefinedReturnValue()\n\u001b[0;32m---> 12\u001b[0m d \u001b[38;5;241m=\u001b[39m ag__\u001b[38;5;241m.\u001b[39mconverted_call(ag__\u001b[38;5;241m.\u001b[39mld(accept_reject_sample), (ag__\u001b[38;5;241m.\u001b[39mld(pdf), ag__\u001b[38;5;241m.\u001b[39mconverted_call(ag__\u001b[38;5;241m.\u001b[39mld(phsp)\u001b[38;5;241m.\u001b[39mfilter, (ag__\u001b[38;5;241m.\u001b[39mconverted_call(ag__\u001b[38;5;241m.\u001b[39mld(phsp)\u001b[38;5;241m.\u001b[39munfiltered_sample, (ag__\u001b[38;5;241m.\u001b[39mld(chunk), ag__\u001b[38;5;241m.\u001b[39mld(curr_maximum)), \u001b[38;5;28;01mNone\u001b[39;00m, fscope),), \u001b[38;5;28;01mNone\u001b[39;00m, fscope)), \u001b[38;5;28;01mNone\u001b[39;00m, fscope)\n\u001b[1;32m     13\u001b[0m \u001b[38;5;28;01mtry\u001b[39;00m:\n\u001b[1;32m     14\u001b[0m     do_return \u001b[38;5;241m=\u001b[39m \u001b[38;5;28;01mTrue\u001b[39;00m\n",
      "File \u001b[0;32m~/dalitz/AmpliTF/amplitf/phasespace/combined_phasespace.py:52\u001b[0m, in \u001b[0;36mCombinedPhaseSpace.filter\u001b[0;34m(self, x)\u001b[0m\n\u001b[1;32m     50\u001b[0m \u001b[38;5;129m@atfi\u001b[39m\u001b[38;5;241m.\u001b[39mfunction\n\u001b[1;32m     51\u001b[0m \u001b[38;5;28;01mdef\u001b[39;00m \u001b[38;5;21mfilter\u001b[39m(\u001b[38;5;28mself\u001b[39m, x):\n\u001b[0;32m---> 52\u001b[0m     \u001b[38;5;28;01mreturn\u001b[39;00m \u001b[43mtf\u001b[49m\u001b[38;5;241;43m.\u001b[39;49m\u001b[43mboolean_mask\u001b[49m\u001b[43m(\u001b[49m\u001b[43mx\u001b[49m\u001b[43m,\u001b[49m\u001b[43m \u001b[49m\u001b[38;5;28;43mself\u001b[39;49m\u001b[38;5;241;43m.\u001b[39;49m\u001b[43minside\u001b[49m\u001b[43m(\u001b[49m\u001b[43mx\u001b[49m\u001b[43m)\u001b[49m\u001b[43m)\u001b[49m\n",
      "\u001b[0;31mValueError\u001b[0m: in user code:\n\n    File \"/user/gr1/lhcb/mmartinelli/dalitz/TFA2/tfa/toymc.py\", line 70, in pdf_vals  *\n        d = accept_reject_sample(\n    File \"/user/gr1/lhcb/mmartinelli/dalitz/AmpliTF/amplitf/phasespace/combined_phasespace.py\", line 52, in filter\n        return tf.boolean_mask(x, self.inside(x))\n\n    ValueError: Number of mask dimensions must be specified, even if some dimensions are None.  E.g. shape=[None] is ok, but shape=None is not.\n"
     ]
    }
   ],
   "source": [
    "toy_sample = tft.run_toymc(\n",
    "    toymc_model, c_phsp, ntoys, maximum=1.0e-20, chunk=1000000, components=False\n",
    ")\n",
    "\n",
    "print(toy_sample)"
   ]
  },
  {
   "cell_type": "markdown",
   "metadata": {},
   "source": [
    "and to calculate the integrals"
   ]
  },
  {
   "cell_type": "code",
   "execution_count": null,
   "metadata": {},
   "outputs": [],
   "source": [
    "norm_sample = phsp.uniform_sample(nnorm)\n",
    "\n",
    "print(norm_sample)"
   ]
  },
  {
   "cell_type": "markdown",
   "metadata": {},
   "source": [
    "Beware that only approximately 1/2 of the events have been generated in the normalisation sample."
   ]
  },
  {
   "cell_type": "markdown",
   "metadata": {},
   "source": [
    "## Fit\n",
    "\n",
    "We are now ready to run the fit. We define first the fit parameters:"
   ]
  },
  {
   "cell_type": "code",
   "execution_count": null,
   "metadata": {},
   "outputs": [],
   "source": [
    "pars = [\n",
    "    tfo.FitParameter(\"a1r\", 1.0, -10.0, 10.0),\n",
    "    tfo.FitParameter(\"a1i\", 0.0, -10.0, 10.0),\n",
    "    tfo.FitParameter(\"a2r\", 0.5, -10.0, 10.0),\n",
    "    tfo.FitParameter(\"a2i\", 0.0, -10.0, 10.0),\n",
    "    tfo.FitParameter(\"a3r\", 2.0, -10.0, 10.0),\n",
    "    tfo.FitParameter(\"a3i\", 0.0, -10.0, 10.0),\n",
    "]"
   ]
  },
  {
   "cell_type": "markdown",
   "metadata": {},
   "source": [
    "and run Minuit"
   ]
  },
  {
   "cell_type": "code",
   "execution_count": null,
   "metadata": {
    "scrolled": true
   },
   "outputs": [],
   "source": [
    "# Run MINUIT minimisation of the neg. log likelihood\n",
    "result = tfo.run_minuit(nll(toy_sample, norm_sample), pars)\n",
    "print(result)\n",
    "cov = result['covariance']\n",
    "\n",
    "print(f\"{result['time']/result['func_calls']} sec per function call\")\n",
    "\n",
    "fitted_pars = {p: atfi.const(v[0]) for p, v in result[\"params\"].items()}"
   ]
  },
  {
   "cell_type": "markdown",
   "metadata": {},
   "source": [
    "Define a function with the fitted model to calculate fit fractions and projections"
   ]
  },
  {
   "cell_type": "code",
   "execution_count": null,
   "metadata": {},
   "outputs": [],
   "source": [
    "def fitted_model(x, switches=4 * [1]):\n",
    "    return model(x)(**fitted_pars, switches=switches)"
   ]
  },
  {
   "cell_type": "markdown",
   "metadata": {},
   "source": [
    "The fit fractions are calculated"
   ]
  },
  {
   "cell_type": "code",
   "execution_count": null,
   "metadata": {},
   "outputs": [],
   "source": [
    "ff = tfo.calculate_fit_fractions(fitted_model, norm_sample)\n",
    "print(ff)"
   ]
  },
  {
   "cell_type": "markdown",
   "metadata": {},
   "source": [
    "## Plotting\n",
    "\n",
    "For plotting the results we generate a sample according to the model and we overlay it to the data"
   ]
  },
  {
   "cell_type": "code",
   "execution_count": null,
   "metadata": {},
   "outputs": [],
   "source": [
    "fitted_sample = tft.run_toymc(\n",
    "    fitted_model, phsp, nnorm, maximum=1.0e-20, chunk=1000000, components=True\n",
    ")"
   ]
  },
  {
   "cell_type": "code",
   "execution_count": null,
   "metadata": {},
   "outputs": [],
   "source": [
    "# Plot results\n",
    "import matplotlib.pyplot as plt\n",
    "\n",
    "tfp.set_lhcb_style(size=12, usetex=False)  # Adjust plotting style for LHCb papers\n",
    "fig, ax = plt.subplots(nrows=2, ncols=3, figsize=(10, 6))  # Single subplot on the figure\n",
    "\n",
    "# Plot 1D histogram from the toy MC sample\n",
    "tfp.plot_distr2d(\n",
    "    toy_sample[:, 0],\n",
    "    toy_sample[:, 1],\n",
    "    bins=(50, 50),\n",
    "    ranges=((0.3, 3.1), (0.3, 3.1)),\n",
    "    fig=fig,\n",
    "    ax=ax[0, 0],\n",
    "    labels=(r\"$m^2(K_S^0\\pi^+)$\", r\"$m^2(K_S^0\\pi^-)$\"),\n",
    "    units=(\"MeV$^2$\", \"MeV$^2$\"),\n",
    "    log=True,\n",
    ")\n",
    "\n",
    "tfp.plot_distr1d_comparison(\n",
    "    toy_sample[:, 0],\n",
    "    fitted_sample[:, 0],\n",
    "    cweights=[fitted_sample[:, 2 + i] for i in range(4)],\n",
    "    bins=50,\n",
    "    range=(0.3, 3.1),\n",
    "    ax=ax[0, 1],\n",
    "    label=r\"$m^2(K_S^0\\pi^+)$\",\n",
    "    units=\"MeV$^2$\",\n",
    "    legend=False\n",
    ")\n",
    "\n",
    "tfp.plot_distr1d_comparison(\n",
    "    toy_sample[:, 1],\n",
    "    fitted_sample[:, 1],\n",
    "    cweights=[fitted_sample[:, 2 + i] for i in range(4)],\n",
    "    bins=50,\n",
    "    range=(0.3, 3.1),\n",
    "    ax=ax[1, 0],\n",
    "    label=r\"$m^2(K_S^0\\pi^-)$\",\n",
    "    units=\"MeV$^2$\",\n",
    "    legend=False\n",
    ")\n",
    "\n",
    "tfp.plot_distr1d_comparison(\n",
    "    phsp.m2ac(toy_sample),\n",
    "    phsp.m2ac(fitted_sample),\n",
    "    cweights=[fitted_sample[:, 2 + i] for i in range(4)],\n",
    "    bins=50,\n",
    "    range=(0.05, 1.9),\n",
    "    ax=ax[1, 1],\n",
    "    label=r\"$m^2(\\pi^+\\pi^-)$\",\n",
    "    units=\"MeV$^2$\",\n",
    "    legend_ax=ax[1,2]\n",
    ")\n",
    "\n",
    "# Show the plot\n",
    "plt.tight_layout(pad=1.0, w_pad=1.0, h_pad=1.0)"
   ]
  },
  {
   "cell_type": "code",
   "execution_count": null,
   "metadata": {},
   "outputs": [],
   "source": [
    "tt = c_phsp.filter(c_phsp.unfiltered_sample(1000))"
   ]
  },
  {
   "cell_type": "code",
   "execution_count": null,
   "metadata": {},
   "outputs": [],
   "source": [
    "model_mix(tt)"
   ]
  },
  {
   "cell_type": "code",
   "execution_count": 13,
   "metadata": {},
   "outputs": [],
   "source": [
    "csm = c_phsp.unfiltered_sample(1000)"
   ]
  },
  {
   "cell_type": "code",
   "execution_count": null,
   "metadata": {},
   "outputs": [],
   "source": [
    "csm"
   ]
  },
  {
   "cell_type": "code",
   "execution_count": null,
   "metadata": {},
   "outputs": [],
   "source": [
    "c_phsp.data1(csm)"
   ]
  },
  {
   "cell_type": "code",
   "execution_count": null,
   "metadata": {},
   "outputs": [],
   "source": [
    "c_phsp.data2(csm)"
   ]
  },
  {
   "cell_type": "code",
   "execution_count": null,
   "metadata": {},
   "outputs": [],
   "source": [
    "c_phsp.phsp1.inside(c_phsp.data1(csm))"
   ]
  },
  {
   "cell_type": "code",
   "execution_count": null,
   "metadata": {},
   "outputs": [],
   "source": [
    "c_phsp.phsp2.inside(c_phsp.data2(csm))"
   ]
  },
  {
   "cell_type": "code",
   "execution_count": 14,
   "metadata": {},
   "outputs": [],
   "source": [
    "import tensorflow as tf"
   ]
  },
  {
   "cell_type": "code",
   "execution_count": 15,
   "metadata": {},
   "outputs": [
    {
     "data": {
      "text/plain": [
       "<tf.Tensor: shape=(1000,), dtype=bool, numpy=\n",
       "array([False, False,  True, False, False,  True, False,  True, False,\n",
       "        True, False, False, False, False,  True,  True, False,  True,\n",
       "       False, False,  True,  True,  True, False, False, False,  True,\n",
       "       False,  True, False,  True,  True,  True, False,  True,  True,\n",
       "       False,  True, False,  True, False, False,  True, False,  True,\n",
       "       False,  True,  True, False, False,  True,  True, False,  True,\n",
       "        True,  True, False,  True, False, False,  True, False,  True,\n",
       "        True, False, False, False, False, False, False,  True,  True,\n",
       "       False, False, False,  True,  True,  True,  True, False, False,\n",
       "        True, False, False,  True, False, False, False, False,  True,\n",
       "        True,  True, False,  True, False, False,  True, False, False,\n",
       "       False, False,  True,  True,  True,  True, False, False,  True,\n",
       "       False, False,  True, False,  True, False,  True,  True, False,\n",
       "       False, False,  True, False, False,  True,  True, False,  True,\n",
       "        True, False, False, False,  True, False, False,  True, False,\n",
       "       False, False, False, False, False, False,  True, False,  True,\n",
       "       False,  True, False,  True, False, False,  True,  True, False,\n",
       "       False, False, False, False, False,  True, False,  True, False,\n",
       "        True,  True, False, False,  True,  True,  True, False, False,\n",
       "        True,  True, False, False, False,  True, False,  True,  True,\n",
       "       False,  True, False,  True,  True,  True, False, False,  True,\n",
       "        True, False, False, False,  True, False, False, False, False,\n",
       "       False, False,  True,  True,  True,  True,  True,  True, False,\n",
       "        True, False, False,  True, False, False, False,  True,  True,\n",
       "       False, False,  True, False,  True, False,  True, False,  True,\n",
       "       False, False,  True, False, False,  True, False,  True,  True,\n",
       "       False,  True, False, False,  True, False, False,  True, False,\n",
       "       False, False,  True, False, False,  True,  True,  True,  True,\n",
       "       False,  True,  True, False,  True,  True,  True, False, False,\n",
       "       False, False, False,  True, False, False, False, False, False,\n",
       "        True,  True,  True,  True,  True,  True,  True,  True, False,\n",
       "       False,  True,  True, False,  True, False,  True, False, False,\n",
       "        True,  True,  True,  True,  True, False,  True, False,  True,\n",
       "       False,  True,  True, False,  True, False,  True, False,  True,\n",
       "        True,  True, False,  True,  True,  True, False,  True, False,\n",
       "        True,  True,  True, False,  True,  True, False,  True, False,\n",
       "        True,  True,  True, False, False, False, False,  True,  True,\n",
       "        True, False, False, False, False,  True,  True, False, False,\n",
       "       False,  True, False, False, False,  True,  True,  True, False,\n",
       "       False, False, False,  True,  True, False, False,  True, False,\n",
       "        True,  True,  True, False, False,  True,  True,  True,  True,\n",
       "       False, False, False,  True, False,  True, False, False,  True,\n",
       "       False,  True, False,  True, False,  True, False, False, False,\n",
       "        True,  True, False,  True, False,  True,  True,  True, False,\n",
       "       False, False, False, False, False,  True,  True, False, False,\n",
       "       False, False, False,  True,  True, False, False,  True,  True,\n",
       "        True,  True, False, False, False,  True,  True, False, False,\n",
       "       False,  True,  True, False, False,  True,  True,  True, False,\n",
       "       False,  True,  True,  True,  True, False,  True,  True, False,\n",
       "       False,  True,  True, False, False,  True,  True, False, False,\n",
       "       False, False, False,  True, False,  True,  True, False,  True,\n",
       "       False,  True, False,  True, False,  True, False,  True, False,\n",
       "        True,  True,  True, False,  True, False, False,  True, False,\n",
       "        True,  True,  True, False, False,  True, False,  True,  True,\n",
       "        True, False, False, False,  True,  True, False,  True,  True,\n",
       "        True,  True,  True, False, False, False, False, False, False,\n",
       "        True,  True, False, False, False, False, False,  True, False,\n",
       "       False, False, False,  True,  True,  True, False,  True, False,\n",
       "       False, False, False,  True,  True, False, False, False, False,\n",
       "       False, False, False, False, False, False, False,  True, False,\n",
       "       False, False,  True, False,  True,  True, False, False,  True,\n",
       "       False, False, False, False,  True, False,  True,  True, False,\n",
       "       False, False, False,  True,  True,  True,  True,  True, False,\n",
       "       False, False,  True, False, False, False,  True, False, False,\n",
       "       False,  True, False,  True,  True,  True, False, False, False,\n",
       "       False,  True, False, False,  True,  True,  True,  True, False,\n",
       "       False,  True,  True, False, False, False,  True,  True,  True,\n",
       "       False, False,  True, False,  True, False, False, False, False,\n",
       "        True, False,  True, False, False,  True,  True, False,  True,\n",
       "        True, False, False,  True, False, False,  True, False, False,\n",
       "       False,  True,  True, False,  True,  True, False, False, False,\n",
       "       False,  True,  True,  True,  True, False, False, False, False,\n",
       "        True,  True, False,  True,  True,  True,  True,  True,  True,\n",
       "        True,  True,  True, False, False,  True,  True, False, False,\n",
       "       False,  True,  True, False, False, False, False, False,  True,\n",
       "       False, False, False,  True,  True, False,  True,  True, False,\n",
       "        True,  True, False,  True, False, False, False, False,  True,\n",
       "       False, False,  True, False, False, False, False, False,  True,\n",
       "       False, False, False, False,  True, False,  True, False,  True,\n",
       "        True,  True, False, False, False,  True,  True,  True, False,\n",
       "        True, False, False, False,  True,  True, False, False, False,\n",
       "        True,  True, False, False,  True, False,  True,  True,  True,\n",
       "        True,  True,  True, False,  True, False, False, False,  True,\n",
       "        True, False,  True, False, False,  True, False, False, False,\n",
       "       False, False, False, False, False,  True, False,  True, False,\n",
       "        True, False, False,  True,  True, False, False,  True, False,\n",
       "        True,  True, False, False, False, False,  True,  True,  True,\n",
       "        True,  True, False, False,  True, False,  True, False, False,\n",
       "       False, False,  True,  True,  True, False,  True, False,  True,\n",
       "        True, False, False, False, False, False, False, False, False,\n",
       "       False, False, False,  True, False, False,  True, False,  True,\n",
       "        True,  True, False, False, False,  True, False,  True,  True,\n",
       "       False, False, False, False, False, False, False, False, False,\n",
       "       False,  True, False,  True,  True,  True, False, False, False,\n",
       "        True, False, False,  True,  True,  True, False, False,  True,\n",
       "        True,  True,  True, False,  True,  True, False, False, False,\n",
       "       False,  True, False, False,  True, False,  True, False,  True,\n",
       "       False, False,  True, False, False, False,  True, False, False,\n",
       "       False, False,  True,  True,  True,  True,  True,  True, False,\n",
       "       False,  True, False, False, False, False,  True, False, False,\n",
       "       False,  True,  True, False,  True, False,  True, False,  True,\n",
       "        True,  True, False,  True,  True,  True, False, False, False,\n",
       "        True, False,  True, False, False, False, False, False,  True,\n",
       "       False, False, False, False, False,  True,  True,  True, False,\n",
       "       False, False, False, False,  True, False, False, False,  True,\n",
       "       False, False,  True,  True, False,  True,  True, False, False,\n",
       "       False, False,  True,  True,  True, False, False,  True, False,\n",
       "        True,  True,  True, False, False,  True,  True, False,  True,\n",
       "       False, False, False, False,  True, False, False, False, False,\n",
       "       False,  True, False, False,  True, False,  True, False, False,\n",
       "        True, False,  True, False,  True,  True,  True, False,  True,\n",
       "       False])>"
      ]
     },
     "execution_count": 15,
     "metadata": {},
     "output_type": "execute_result"
    }
   ],
   "source": [
    "tf.logical_and(c_phsp.phsp1.inside(c_phsp.data1(csm)), c_phsp.phsp2.inside(c_phsp.data2(csm)))"
   ]
  },
  {
   "cell_type": "code",
   "execution_count": null,
   "metadata": {},
   "outputs": [],
   "source": [
    "c_phsp.inside(csm)"
   ]
  },
  {
   "cell_type": "code",
   "execution_count": 16,
   "metadata": {},
   "outputs": [
    {
     "data": {
      "text/plain": [
       "<tf.Tensor: shape=(446, 3), dtype=float64, numpy=\n",
       "array([[1.26845584, 1.40739703, 2.52047777],\n",
       "       [1.52090891, 1.74615411, 0.08005097],\n",
       "       [2.79709285, 0.4208446 , 1.32477453],\n",
       "       ...,\n",
       "       [1.23538566, 1.63386922, 2.21573788],\n",
       "       [1.27979382, 1.72754877, 3.61677233],\n",
       "       [2.47853334, 1.09368273, 2.68752011]])>"
      ]
     },
     "execution_count": 16,
     "metadata": {},
     "output_type": "execute_result"
    }
   ],
   "source": [
    "tf.boolean_mask(csm, c_phsp.inside(csm))"
   ]
  },
  {
   "cell_type": "code",
   "execution_count": 37,
   "metadata": {},
   "outputs": [],
   "source": [
    "csm_m = toymc_model(csm)"
   ]
  },
  {
   "cell_type": "code",
   "execution_count": null,
   "metadata": {},
   "outputs": [],
   "source": [
    "model_dz(c_phsp.data1(csm))(\n",
    "        switches=switches,\n",
    "        a1r=atfi.const(1.0),\n",
    "        a1i=atfi.const(0.0),\n",
    "        a2r=atfi.const(0.5),\n",
    "        a2i=atfi.const(0.0),\n",
    "        a3r=atfi.const(2.0),\n",
    "        a3i=atfi.const(0.0),\n",
    "    )"
   ]
  },
  {
   "cell_type": "code",
   "execution_count": null,
   "metadata": {},
   "outputs": [],
   "source": [
    "atfd.helicity_amplitude(c_phsp.phsp1.cos_helicity_bc(c_phsp.data1(csm)), 1)"
   ]
  },
  {
   "cell_type": "code",
   "execution_count": null,
   "metadata": {},
   "outputs": [],
   "source": []
  }
 ],
 "metadata": {
  "kernelspec": {
   "display_name": "Python 3 (ipykernel)",
   "language": "python",
   "name": "python3"
  },
  "language_info": {
   "codemirror_mode": {
    "name": "ipython",
    "version": 3
   },
   "file_extension": ".py",
   "mimetype": "text/x-python",
   "name": "python",
   "nbconvert_exporter": "python",
   "pygments_lexer": "ipython3",
   "version": "3.9.18"
  }
 },
 "nbformat": 4,
 "nbformat_minor": 4
}

{
 "cells": [
  {
   "cell_type": "markdown",
   "metadata": {},
   "source": [
    "# $D^0 \\to K^0_Sπ^+π^-$ with Mixing\n",
    "\n",
    "We will fit \n",
    "\n",
    "$$\n",
    "D^0 \\to K^0_S \\pi^+\\pi^-\n",
    "$$\n",
    "\n",
    "decays generated with the following intermediate resonances:\n",
    "- $D^0 \\to K^0_S \\rho(770)$\n",
    "- $D^0 \\to K^{*-}\\pi^+$\n",
    "\n",
    "In addition we add mixing, meaning that $D^0$ oscillates to $\\bar{D}^0$, which subsequently decays with a charged-conjugate decay model, depending on time:\n",
    "\n",
    "$$\n",
    "|\\mathcal{A}(t)|^2 = \\frac{1}{4}\\left|\\mathcal{A}_{D^0} + \\frac{q}{p}\\mathcal{A}_{\\bar{D}^0}\\right|^2 \\psi_+(t) + \n",
    "                     \\frac{1}{4}\\left|\\mathcal{A}_{D^0} - \\frac{q}{p}\\mathcal{A}_{\\bar{D}^0}\\right|^2 \\psi_-(t) + \n",
    "                     2 \\Re{\\left((\\mathcal{A}_{D^0} + \\frac{q}{p}\\mathcal{A}_{\\bar{D}^0})(\\mathcal{A}_{D^0} - \\frac{q}{p}\\mathcal{A}_{\\bar{D}^0})^*\\right)}\\psi_i(t),\n",
    "$$\n",
    "\n",
    "with\n",
    "\n",
    "$$\n",
    "\\begin{align*}\n",
    "\\psi_+(t) &= e^{ -(1-x)\\frac{t}{\\tau} }\\\\\n",
    "\\psi_-(t) &= e^{ -(1+x)\\frac{t}{\\tau} }\\\\\n",
    "\\psi_i(t) &= e^{ -(1-iy)\\frac{t}{\\tau} }\\\\\n",
    "\\end{align*}\n",
    "$$"
   ]
  },
  {
   "cell_type": "markdown",
   "metadata": {},
   "source": [
    "Import modules"
   ]
  },
  {
   "cell_type": "code",
   "execution_count": 1,
   "metadata": {},
   "outputs": [
    {
     "name": "stdout",
     "output_type": "stream",
     "text": [
      "['/Users/maurizio/Software/AnalysisHelpers/python', '/Users/maurizio/Software/AnalysisHelpers/ganga', '/usr/local/Cellar/root/6.32.02/lib/root', '/usr/local/Cellar/python@3.12/3.12.4/Frameworks/Python.framework/Versions/3.12/lib/python312.zip', '/usr/local/Cellar/python@3.12/3.12.4/Frameworks/Python.framework/Versions/3.12/lib/python3.12', '/usr/local/Cellar/python@3.12/3.12.4/Frameworks/Python.framework/Versions/3.12/lib/python3.12/lib-dynload', '', '/Users/maurizio/Software/tfa/lib/python3.12/site-packages', '/Users/maurizio/Software/AmpliTF', '/Users/maurizio/Software/AmpliTF/TFA2', '/Users/maurizio/Documents/GitRepositories/tfa_examples']\n"
     ]
    }
   ],
   "source": [
    "import os, sys\n",
    "sys.path.append(os.path.abspath('../'))\n",
    "print(sys.path)"
   ]
  },
  {
   "cell_type": "code",
   "execution_count": 2,
   "metadata": {},
   "outputs": [
    {
     "name": "stderr",
     "output_type": "stream",
     "text": [
      "2024-07-15 23:09:53.279063: I tensorflow/core/platform/cpu_feature_guard.cc:210] This TensorFlow binary is optimized to use available CPU instructions in performance-critical operations.\n",
      "To enable the following instructions: AVX2 FMA, in other operations, rebuild TensorFlow with the appropriate compiler flags.\n"
     ]
    },
    {
     "name": "stdout",
     "output_type": "stream",
     "text": [
      "WARNING:tensorflow:From /Users/maurizio/Software/tfa/lib/python3.12/site-packages/tensorflow/python/util/deprecation.py:588: calling function (from tensorflow.python.eager.polymorphic_function.polymorphic_function) with experimental_relax_shapes is deprecated and will be removed in a future version.\n",
      "Instructions for updating:\n",
      "experimental_relax_shapes is deprecated, use reduce_retracing instead\n"
     ]
    }
   ],
   "source": [
    "# Import Tensorflow\n",
    "import tensorflow as tf\n",
    "\n",
    "# Import AmpliTF modules\n",
    "import amplitf.interface as atfi\n",
    "import amplitf.kinematics as atfk\n",
    "import amplitf.dynamics as atfd\n",
    "import amplitf.likelihood as atfl\n",
    "from amplitf.phasespace.dalitz_phasespace import DalitzPhaseSpace\n",
    "from develtfa.decaytime_phasespace import DecayTimePhaseSpace\n",
    "from amplitf.phasespace.combined_phasespace import CombinedPhaseSpace\n",
    "from develtfa.mixing import Mixing\n",
    "\n",
    "# Import TFA modules\n",
    "import tfa.toymc as tft\n",
    "import tfa.plotting as tfp\n",
    "import tfa.optimisation as tfo"
   ]
  },
  {
   "cell_type": "markdown",
   "metadata": {},
   "source": [
    "Set the number of events to generate and the number of normalisation point to calculate the integral of the likelihood"
   ]
  },
  {
   "cell_type": "code",
   "execution_count": 3,
   "metadata": {},
   "outputs": [],
   "source": [
    "ntoys = 10000  # Number of points to generate\n",
    "nnorm = 100000  # Number of normalisation points"
   ]
  },
  {
   "cell_type": "markdown",
   "metadata": {},
   "source": [
    "Now define some constants"
   ]
  },
  {
   "cell_type": "code",
   "execution_count": 4,
   "metadata": {},
   "outputs": [],
   "source": [
    "# Masses of final state particles\n",
    "from particle.particle import literals as lp\n",
    "# Dalitz Particles\n",
    "mkz = atfi.const(lp.K_S_0.mass/1000)\n",
    "mpi = atfi.const(lp.pi_plus.mass/1000)\n",
    "md = atfi.const(lp.D_0.mass/1000)\n",
    "\n",
    "# Resonances\n",
    "mkst = atfi.const(lp.Kst_892_0.mass/1000)\n",
    "wkst = atfi.const(lp.Kst_892_0.width/1000)\n",
    "mrho = atfi.const(lp.rho_770_0.mass/1000)\n",
    "wrho = atfi.const(lp.rho_770_0.width/1000)\n",
    "\n",
    "# Blatt-Weisskopf radii for Breit-Wigner lineshape\n",
    "rd = atfi.const(5.0)\n",
    "rr = atfi.const(1.5)"
   ]
  },
  {
   "cell_type": "markdown",
   "metadata": {},
   "source": [
    "The mixing parameters"
   ]
  },
  {
   "cell_type": "code",
   "execution_count": 5,
   "metadata": {},
   "outputs": [],
   "source": [
    "tdz = atfi.const(1.)\n",
    "x_mix = atfi.const(0)\n",
    "y_mix = atfi.const(0)\n",
    "qop_mix = atfi.const(1)\n",
    "phi_mix = atfi.const(0)\n",
    "qoverp = atfi.complex( qop_mix * atfi.cos(phi_mix), \n",
    "                       qop_mix * atfi.sin(phi_mix) )"
   ]
  },
  {
   "cell_type": "code",
   "execution_count": 6,
   "metadata": {},
   "outputs": [],
   "source": [
    "mixing_model = Mixing(tdz,x_mix,y_mix,qop_mix,phi_mix)"
   ]
  },
  {
   "cell_type": "markdown",
   "metadata": {},
   "source": [
    "and a class to deal with three-body Dalitz phase-space"
   ]
  },
  {
   "cell_type": "code",
   "execution_count": 7,
   "metadata": {},
   "outputs": [],
   "source": [
    "phsp = DalitzPhaseSpace(mpi, mkz, mpi, md)"
   ]
  },
  {
   "cell_type": "markdown",
   "metadata": {},
   "source": [
    "Add a class to deal with the decay time"
   ]
  },
  {
   "cell_type": "code",
   "execution_count": 8,
   "metadata": {},
   "outputs": [],
   "source": [
    "tphsp = DecayTimePhaseSpace(tdz)"
   ]
  },
  {
   "cell_type": "markdown",
   "metadata": {},
   "source": [
    "And the combined phase-space"
   ]
  },
  {
   "cell_type": "code",
   "execution_count": 9,
   "metadata": {},
   "outputs": [],
   "source": [
    "c_phsp = CombinedPhaseSpace(phsp,tphsp)"
   ]
  },
  {
   "cell_type": "markdown",
   "metadata": {},
   "source": [
    "## Model\n",
    "Below there is a function to define the model, allowing to switch on and off specific components."
   ]
  },
  {
   "cell_type": "code",
   "execution_count": 10,
   "metadata": {},
   "outputs": [],
   "source": [
    "def model(x):\n",
    "\n",
    "    m2ab = phsp.m2ab(x)\n",
    "    m2bc = phsp.m2bc(x)\n",
    "    m2ac = phsp.m2ac(x)\n",
    "\n",
    "    hel_ab = atfd.helicity_amplitude(phsp.cos_helicity_ab(x), 1)\n",
    "    hel_bc = atfd.helicity_amplitude(phsp.cos_helicity_bc(x), 1)\n",
    "    hel_ac = atfd.helicity_amplitude(phsp.cos_helicity_ac(x), 1)\n",
    "\n",
    "    bw1 = atfd.breit_wigner_lineshape(m2ab, mkst, wkst, mpi, mkz, mpi, md, rd, rr, 1, 1)\n",
    "    bw2 = atfd.breit_wigner_lineshape(m2bc, mkst, wkst, mpi, mkz, mpi, md, rd, rr, 1, 1)\n",
    "    bw3 = atfd.breit_wigner_lineshape(m2ac, mrho, wrho, mpi, mpi, mkz, md, rd, rr, 1, 1)\n",
    "\n",
    "    def _model(a1r, a1i, a2r, a2i, a3r, a3i, switches=4 * [1]):\n",
    "\n",
    "        a1 = atfi.complex(a1r, a1i)\n",
    "        a2 = atfi.complex(a2r, a2i)\n",
    "        a3 = atfi.complex(a3r, a3i)\n",
    "\n",
    "        ampl = atfi.cast_complex(atfi.ones(m2ab)) * atfi.complex(\n",
    "            atfi.const(0.0), atfi.const(0.0)\n",
    "        )\n",
    "\n",
    "        if switches[0]:\n",
    "            ampl += a1 * bw1 * hel_ab\n",
    "        if switches[1]:\n",
    "            ampl += a2 * bw2 * hel_bc\n",
    "        if switches[2]:\n",
    "            ampl += a3 * bw3 * hel_ac\n",
    "        if switches[3]:\n",
    "            ampl += atfi.cast_complex(atfi.ones(m2ab)) * atfi.complex(\n",
    "                atfi.const(5.0), atfi.const(0.0)\n",
    "            )\n",
    "\n",
    "        return atfd.density(ampl)\n",
    "\n",
    "    return _model"
   ]
  },
  {
   "cell_type": "code",
   "execution_count": 11,
   "metadata": {},
   "outputs": [],
   "source": [
    "# Time evolution functions.\n",
    "@atfi.function\n",
    "def psip( t, x, tau ):\n",
    "    r\"\"\"Time evolution function $\\psi_+(t)$\n",
    "\n",
    "    Args:\n",
    "        t (float): decay time of the candidate\n",
    "        x (float): mixing parameter\n",
    "        tau (float): lifetime of the decaying particle\n",
    "\n",
    "    Returns:\n",
    "        float: the time evolution function for the sum of the two decay amplitudes\n",
    "    \"\"\"\n",
    "    return atfi.exp( - ( 1.0 - x ) * t / tau)\n",
    "\n",
    "@atfi.function\n",
    "def psim( t, x, tau ):\n",
    "    r\"\"\"Time evolution function $\\psi_-(t)$\n",
    "\n",
    "    Args:\n",
    "        t (float): decay time of the candidate\n",
    "        x (float): mixing parameter\n",
    "        tau (float): lifetime of the decaying particle\n",
    "\n",
    "    Returns:\n",
    "        float: the time evolution function for the sum of the two decay amplitudes\n",
    "    \"\"\"\n",
    "    return atfi.exp( - ( 1.0 + x ) * t / tau)\n",
    "\n",
    "@atfi.function\n",
    "def psii( t, y, tau ):\n",
    "    r\"\"\"Time evolution function $\\psi_i(t)$\n",
    "\n",
    "    Args:\n",
    "        t (float): decay time of the candidate\n",
    "        y (float): mixing parameter\n",
    "        tau (float): lifetime of the decaying particle\n",
    "\n",
    "    Returns:\n",
    "        float: the time evolution function for the sum of the two decay amplitudes\n",
    "    \"\"\"\n",
    "    return atfi.exp( - atfi.complex( atfi.const(1.0) , -y ) * tf.cast(t / tau, tf.complex128))"
   ]
  },
  {
   "cell_type": "code",
   "execution_count": 12,
   "metadata": {},
   "outputs": [],
   "source": [
    "def model_mix(x):\n",
    "\n",
    "    # DZ - MIXING MODEL\n",
    "    \n",
    "    # CACHED VARIABLES\n",
    "    x1 = c_phsp.data1(x)\n",
    "    x2 = c_phsp.data2(x)\n",
    "    m2ab = c_phsp.phsp1.m2ab(x1)\n",
    "    m2bc = c_phsp.phsp1.m2bc(x1)\n",
    "    m2ac = c_phsp.phsp1.m2ac(x1)\n",
    "\n",
    "    hel_ab = atfd.helicity_amplitude(c_phsp.phsp1.cos_helicity_ab(x1), 1)\n",
    "    hel_bc = atfd.helicity_amplitude(c_phsp.phsp1.cos_helicity_bc(x1), 1)\n",
    "    hel_ac = atfd.helicity_amplitude(c_phsp.phsp1.cos_helicity_ac(x1), 1)\n",
    "\n",
    "    bw1 = atfd.breit_wigner_lineshape(m2ab, mkst, wkst, mpi, mkz, mpi, md, rd, rr, 1, 1)\n",
    "    bw2 = atfd.breit_wigner_lineshape(m2bc, mkst, wkst, mpi, mkz, mpi, md, rd, rr, 1, 1)\n",
    "    bw3 = atfd.breit_wigner_lineshape(m2ac, mrho, wrho, mpi, mpi, mkz, md, rd, rr, 1, 1)\n",
    "\n",
    "    tep = tf.squeeze(psip(c_phsp.phsp2.t(x2), x_mix, tdz))\n",
    "    tem = tf.squeeze(psim(c_phsp.phsp2.t(x2), x_mix, tdz))\n",
    "    tei = tf.squeeze(psii(c_phsp.phsp2.t(x2), y_mix, tdz))\n",
    "\n",
    "    def _model(a1r, a1i, a2r, a2i, a3r, a3i, switches=4 * [1]):\n",
    "\n",
    "        a1 = atfi.complex(a1r, a1i)\n",
    "        a2 = atfi.complex(a2r, a2i)\n",
    "        a3 = atfi.complex(a3r, a3i)\n",
    "\n",
    "        # D0 AMPLITUDE\n",
    "        ampl_dz = atfi.cast_complex(atfi.ones(m2ab)) * atfi.complex(\n",
    "            atfi.const(0.0), atfi.const(0.0)\n",
    "        )\n",
    "\n",
    "        if switches[0]:\n",
    "            ampl_dz += a1 * bw1 * hel_ab\n",
    "        if switches[1]:\n",
    "            ampl_dz += a2 * bw2 * hel_bc\n",
    "        if switches[2]:\n",
    "            ampl_dz += a3 * bw3 * hel_ac\n",
    "        if switches[3]:\n",
    "            ampl_dz += atfi.cast_complex(atfi.ones(m2ab)) * atfi.complex(\n",
    "                atfi.const(5.0), atfi.const(0.0)\n",
    "            )\n",
    "\n",
    "        # D0bar AMPLITUDE: exchange a <--> c\n",
    "        ampl_dzb = atfi.cast_complex(atfi.ones(m2ab)) * atfi.complex(\n",
    "            atfi.const(0.0), atfi.const(0.0)\n",
    "        )\n",
    "\n",
    "        if switches[0]:\n",
    "            ampl_dzb += a1 * bw2 * hel_bc\n",
    "        if switches[1]:\n",
    "            ampl_dzb += a2 * bw1 * hel_ab\n",
    "        if switches[2]:\n",
    "            ampl_dzb += -a3 * bw3 * hel_ac\n",
    "        if switches[3]:\n",
    "            ampl_dzb += atfi.cast_complex(atfi.ones(m2ab)) * atfi.complex(\n",
    "                atfi.const(5.0), atfi.const(0.0)\n",
    "            )\n",
    "\n",
    "        # MIXING\n",
    "        ampl = atfi.cast_complex(atfi.ones(m2ab)) * atfi.complex(\n",
    "            atfi.const(0.0), atfi.const(0.0) )\n",
    "\n",
    "        # return mixing_model.amplitude(c_phsp.phsp2.t(x),ampl_dz,ampl_dzb)\n",
    "        ampDir = ampl_dz\n",
    "        ampCnj = qoverp * ampl_dzb\n",
    "\n",
    "        apb2 = 0.5 * (ampDir + ampCnj)\n",
    "        amb2 = 0.5 * atfi.conjugate(ampDir - ampCnj)\n",
    "        dens = atfd.density( apb2 ) * tep\n",
    "        #print( atfd.density( apb2 ).shape, tep.shape, dens.shape)\n",
    "        #print( atfd.density( apb2) )\n",
    "        dens+= atfd.density( amb2 ) * tem\n",
    "        dens+= 2.0 * atfi.cast_real( apb2 * amb2 * tei )\n",
    "        #dens+= atfi.density( tf.multiply(apb2 , atfi.complex(tep, atfi.const(0)) ) )\n",
    "        # mix_model = Mixing(ampl_dz, ampl_dzb, tdz, \n",
    "        #                    x_mix, y_mix, qop_mix, phi_mix)\n",
    "        # ampl = mix_model.amplitude(c_phsp.phsp2.t(x))\n",
    "        \n",
    "        return dens\n",
    "\n",
    "    return _model"
   ]
  },
  {
   "cell_type": "markdown",
   "metadata": {},
   "source": [
    "**TODO**: The syntax above does not work for the mixing class I though because it multiplies at a certain point a function to a tensor.\n",
    "I should try to define a full model with mixing as a function and then think how this can be generalised in the code."
   ]
  },
  {
   "cell_type": "markdown",
   "metadata": {},
   "source": [
    "## Toy MC Model\n",
    "The model of the toy MC has all the components on by default. By means of the `switches` flag, some of them can be turned off to see the effects on the fit."
   ]
  },
  {
   "cell_type": "code",
   "execution_count": 13,
   "metadata": {},
   "outputs": [],
   "source": [
    "def toymc_model(x, switches=4 * [1]):\n",
    "    return model(x)(\n",
    "        switches=switches,\n",
    "        a1r=atfi.const(1.0),\n",
    "        a1i=atfi.const(0.0),\n",
    "        a2r=atfi.const(0.5),\n",
    "        a2i=atfi.const(0.0),\n",
    "        a3r=atfi.const(2.0),\n",
    "        a3i=atfi.const(0.0),\n",
    "    )"
   ]
  },
  {
   "cell_type": "code",
   "execution_count": 14,
   "metadata": {},
   "outputs": [],
   "source": [
    "def toymc_model_mix(x, switches=4 * [1]):\n",
    "    return model_mix(x)(\n",
    "        switches=switches,\n",
    "        a1r=atfi.const(1.0),\n",
    "        a1i=atfi.const(0.0),\n",
    "        a2r=atfi.const(0.5),\n",
    "        a2i=atfi.const(0.0),\n",
    "        a3r=atfi.const(2.0),\n",
    "        a3i=atfi.const(0.0),\n",
    "    )"
   ]
  },
  {
   "cell_type": "markdown",
   "metadata": {},
   "source": [
    "## Likelihood\n",
    "\n",
    "The Negative Log Likelihood"
   ]
  },
  {
   "cell_type": "code",
   "execution_count": 15,
   "metadata": {},
   "outputs": [],
   "source": [
    "# TF graph for unbinned negalite log likelihood (the quantity to be minimised)\n",
    "def nll(data, norm):\n",
    "    data_model = model_mix(data)\n",
    "    norm_model = model_mix(norm)\n",
    "\n",
    "    @atfi.function\n",
    "    def _nll(pars):\n",
    "        return atfl.unbinned_nll(data_model(**pars), atfl.integral(norm_model(**pars)))\n",
    "\n",
    "    return _nll"
   ]
  },
  {
   "cell_type": "markdown",
   "metadata": {},
   "source": [
    "## Samples\n",
    "\n",
    "The samples to fit"
   ]
  },
  {
   "cell_type": "code",
   "execution_count": 16,
   "metadata": {},
   "outputs": [
    {
     "name": "stdout",
     "output_type": "stream",
     "text": [
      "WARNING:tensorflow:You are casting an input of type complex128 to an incompatible dtype float64.  This will discard the imaginary part and may not be what you intended.\n"
     ]
    },
    {
     "ename": "ValueError",
     "evalue": "in user code:\n\n    File \"/Users/maurizio/Software/AmpliTF/TFA2/tfa/toymc.py\", line 70, in pdf_vals  *\n        d = accept_reject_sample(\n    File \"/Users/maurizio/Software/AmpliTF/TFA2/tfa/toymc.py\", line 30, in accept_reject_sample  *\n        return tf.boolean_mask(x, density(x) > r)\n\n    ValueError: Number of mask dimensions must be specified, even if some dimensions are None.  E.g. shape=[None] is ok, but shape=None is not.\n",
     "output_type": "error",
     "traceback": [
      "\u001b[0;31m---------------------------------------------------------------------------\u001b[0m",
      "\u001b[0;31mValueError\u001b[0m                                Traceback (most recent call last)",
      "Cell \u001b[0;32mIn[16], line 1\u001b[0m\n\u001b[0;32m----> 1\u001b[0m toy_sample \u001b[38;5;241m=\u001b[39m \u001b[43mtft\u001b[49m\u001b[38;5;241;43m.\u001b[39;49m\u001b[43mrun_toymc\u001b[49m\u001b[43m(\u001b[49m\n\u001b[1;32m      2\u001b[0m \u001b[43m    \u001b[49m\u001b[43mtoymc_model_mix\u001b[49m\u001b[43m,\u001b[49m\u001b[43m \u001b[49m\u001b[43mc_phsp\u001b[49m\u001b[43m,\u001b[49m\u001b[43m \u001b[49m\u001b[43mntoys\u001b[49m\u001b[43m,\u001b[49m\u001b[43m \u001b[49m\u001b[43mmaximum\u001b[49m\u001b[38;5;241;43m=\u001b[39;49m\u001b[38;5;241;43m1.0e-20\u001b[39;49m\u001b[43m,\u001b[49m\u001b[43m \u001b[49m\u001b[43mchunk\u001b[49m\u001b[38;5;241;43m=\u001b[39;49m\u001b[38;5;241;43m1000000\u001b[39;49m\u001b[43m,\u001b[49m\u001b[43m \u001b[49m\u001b[43mcomponents\u001b[49m\u001b[38;5;241;43m=\u001b[39;49m\u001b[38;5;28;43;01mFalse\u001b[39;49;00m\n\u001b[1;32m      3\u001b[0m \u001b[43m)\u001b[49m\n\u001b[1;32m      5\u001b[0m \u001b[38;5;28mprint\u001b[39m(toy_sample)\n",
      "File \u001b[0;32m~/Software/AmpliTF/TFA2/tfa/toymc.py:97\u001b[0m, in \u001b[0;36mrun_toymc\u001b[0;34m(pdf, phsp, size, maximum, chunk, seed, components)\u001b[0m\n\u001b[1;32m     94\u001b[0m     \u001b[38;5;28;01mreturn\u001b[39;00m result\n\u001b[1;32m     96\u001b[0m \u001b[38;5;28;01mwhile\u001b[39;00m condition(length, size, nchunk):\n\u001b[0;32m---> 97\u001b[0m     d, v \u001b[38;5;241m=\u001b[39m \u001b[43mpdf_vals\u001b[49m\u001b[43m(\u001b[49m\u001b[43mchunk\u001b[49m\u001b[43m,\u001b[49m\u001b[43m \u001b[49m\u001b[43mcurr_maximum\u001b[49m\u001b[43m)\u001b[49m\n\u001b[1;32m     98\u001b[0m     over_maximum \u001b[38;5;241m=\u001b[39m v[v \u001b[38;5;241m>\u001b[39m curr_maximum]\n\u001b[1;32m     99\u001b[0m     \u001b[38;5;28;01mif\u001b[39;00m \u001b[38;5;28mlen\u001b[39m(over_maximum) \u001b[38;5;241m>\u001b[39m \u001b[38;5;241m0\u001b[39m:\n",
      "File \u001b[0;32m~/Software/tfa/lib/python3.12/site-packages/tensorflow/python/util/traceback_utils.py:153\u001b[0m, in \u001b[0;36mfilter_traceback.<locals>.error_handler\u001b[0;34m(*args, **kwargs)\u001b[0m\n\u001b[1;32m    151\u001b[0m \u001b[38;5;28;01mexcept\u001b[39;00m \u001b[38;5;167;01mException\u001b[39;00m \u001b[38;5;28;01mas\u001b[39;00m e:\n\u001b[1;32m    152\u001b[0m   filtered_tb \u001b[38;5;241m=\u001b[39m _process_traceback_frames(e\u001b[38;5;241m.\u001b[39m__traceback__)\n\u001b[0;32m--> 153\u001b[0m   \u001b[38;5;28;01mraise\u001b[39;00m e\u001b[38;5;241m.\u001b[39mwith_traceback(filtered_tb) \u001b[38;5;28;01mfrom\u001b[39;00m \u001b[38;5;28;01mNone\u001b[39;00m\n\u001b[1;32m    154\u001b[0m \u001b[38;5;28;01mfinally\u001b[39;00m:\n\u001b[1;32m    155\u001b[0m   \u001b[38;5;28;01mdel\u001b[39;00m filtered_tb\n",
      "File \u001b[0;32m/var/folders/fg/1l9r5jv17rg0lp_glcmb86lc0000gn/T/__autograph_generated_filekch_xmbf.py:12\u001b[0m, in \u001b[0;36mouter_factory.<locals>.inner_factory.<locals>.tf__pdf_vals\u001b[0;34m(chunk, curr_maximum)\u001b[0m\n\u001b[1;32m     10\u001b[0m do_return \u001b[38;5;241m=\u001b[39m \u001b[38;5;28;01mFalse\u001b[39;00m\n\u001b[1;32m     11\u001b[0m retval_ \u001b[38;5;241m=\u001b[39m ag__\u001b[38;5;241m.\u001b[39mUndefinedReturnValue()\n\u001b[0;32m---> 12\u001b[0m d \u001b[38;5;241m=\u001b[39m \u001b[43mag__\u001b[49m\u001b[38;5;241;43m.\u001b[39;49m\u001b[43mconverted_call\u001b[49m\u001b[43m(\u001b[49m\u001b[43mag__\u001b[49m\u001b[38;5;241;43m.\u001b[39;49m\u001b[43mld\u001b[49m\u001b[43m(\u001b[49m\u001b[43maccept_reject_sample\u001b[49m\u001b[43m)\u001b[49m\u001b[43m,\u001b[49m\u001b[43m \u001b[49m\u001b[43m(\u001b[49m\u001b[43mag__\u001b[49m\u001b[38;5;241;43m.\u001b[39;49m\u001b[43mld\u001b[49m\u001b[43m(\u001b[49m\u001b[43mpdf\u001b[49m\u001b[43m)\u001b[49m\u001b[43m,\u001b[49m\u001b[43m \u001b[49m\u001b[43mag__\u001b[49m\u001b[38;5;241;43m.\u001b[39;49m\u001b[43mconverted_call\u001b[49m\u001b[43m(\u001b[49m\u001b[43mag__\u001b[49m\u001b[38;5;241;43m.\u001b[39;49m\u001b[43mld\u001b[49m\u001b[43m(\u001b[49m\u001b[43mphsp\u001b[49m\u001b[43m)\u001b[49m\u001b[38;5;241;43m.\u001b[39;49m\u001b[43mfilter\u001b[49m\u001b[43m,\u001b[49m\u001b[43m \u001b[49m\u001b[43m(\u001b[49m\u001b[43mag__\u001b[49m\u001b[38;5;241;43m.\u001b[39;49m\u001b[43mconverted_call\u001b[49m\u001b[43m(\u001b[49m\u001b[43mag__\u001b[49m\u001b[38;5;241;43m.\u001b[39;49m\u001b[43mld\u001b[49m\u001b[43m(\u001b[49m\u001b[43mphsp\u001b[49m\u001b[43m)\u001b[49m\u001b[38;5;241;43m.\u001b[39;49m\u001b[43munfiltered_sample\u001b[49m\u001b[43m,\u001b[49m\u001b[43m \u001b[49m\u001b[43m(\u001b[49m\u001b[43mag__\u001b[49m\u001b[38;5;241;43m.\u001b[39;49m\u001b[43mld\u001b[49m\u001b[43m(\u001b[49m\u001b[43mchunk\u001b[49m\u001b[43m)\u001b[49m\u001b[43m,\u001b[49m\u001b[43m \u001b[49m\u001b[43mag__\u001b[49m\u001b[38;5;241;43m.\u001b[39;49m\u001b[43mld\u001b[49m\u001b[43m(\u001b[49m\u001b[43mcurr_maximum\u001b[49m\u001b[43m)\u001b[49m\u001b[43m)\u001b[49m\u001b[43m,\u001b[49m\u001b[43m \u001b[49m\u001b[38;5;28;43;01mNone\u001b[39;49;00m\u001b[43m,\u001b[49m\u001b[43m \u001b[49m\u001b[43mfscope\u001b[49m\u001b[43m)\u001b[49m\u001b[43m,\u001b[49m\u001b[43m)\u001b[49m\u001b[43m,\u001b[49m\u001b[43m \u001b[49m\u001b[38;5;28;43;01mNone\u001b[39;49;00m\u001b[43m,\u001b[49m\u001b[43m \u001b[49m\u001b[43mfscope\u001b[49m\u001b[43m)\u001b[49m\u001b[43m)\u001b[49m\u001b[43m,\u001b[49m\u001b[43m \u001b[49m\u001b[38;5;28;43;01mNone\u001b[39;49;00m\u001b[43m,\u001b[49m\u001b[43m \u001b[49m\u001b[43mfscope\u001b[49m\u001b[43m)\u001b[49m\n\u001b[1;32m     13\u001b[0m \u001b[38;5;28;01mtry\u001b[39;00m:\n\u001b[1;32m     14\u001b[0m     do_return \u001b[38;5;241m=\u001b[39m \u001b[38;5;28;01mTrue\u001b[39;00m\n",
      "File \u001b[0;32m/var/folders/fg/1l9r5jv17rg0lp_glcmb86lc0000gn/T/__autograph_generated_files5117zr7.py:43\u001b[0m, in \u001b[0;36mouter_factory.<locals>.inner_factory.<locals>.tf__accept_reject_sample\u001b[0;34m(density, sample)\u001b[0m\n\u001b[1;32m     41\u001b[0m         \u001b[38;5;28;01mraise\u001b[39;00m\n\u001b[1;32m     42\u001b[0m r \u001b[38;5;241m=\u001b[39m ag__\u001b[38;5;241m.\u001b[39mUndefined(\u001b[38;5;124m'\u001b[39m\u001b[38;5;124mr\u001b[39m\u001b[38;5;124m'\u001b[39m)\n\u001b[0;32m---> 43\u001b[0m \u001b[43mag__\u001b[49m\u001b[38;5;241;43m.\u001b[39;49m\u001b[43mif_stmt\u001b[49m\u001b[43m(\u001b[49m\u001b[43mag__\u001b[49m\u001b[38;5;241;43m.\u001b[39;49m\u001b[43mld\u001b[49m\u001b[43m(\u001b[49m\u001b[43mdensity\u001b[49m\u001b[43m)\u001b[49m\u001b[43m \u001b[49m\u001b[38;5;129;43;01mis\u001b[39;49;00m\u001b[43m \u001b[49m\u001b[38;5;129;43;01mnot\u001b[39;49;00m\u001b[43m \u001b[49m\u001b[38;5;28;43;01mNone\u001b[39;49;00m\u001b[43m,\u001b[49m\u001b[43m \u001b[49m\u001b[43mif_body\u001b[49m\u001b[43m,\u001b[49m\u001b[43m \u001b[49m\u001b[43melse_body\u001b[49m\u001b[43m,\u001b[49m\u001b[43m \u001b[49m\u001b[43mget_state\u001b[49m\u001b[43m,\u001b[49m\u001b[43m \u001b[49m\u001b[43mset_state\u001b[49m\u001b[43m,\u001b[49m\u001b[43m \u001b[49m\u001b[43m(\u001b[49m\u001b[38;5;124;43m'\u001b[39;49m\u001b[38;5;124;43mdo_return\u001b[39;49m\u001b[38;5;124;43m'\u001b[39;49m\u001b[43m,\u001b[49m\u001b[43m \u001b[49m\u001b[38;5;124;43m'\u001b[39;49m\u001b[38;5;124;43mretval_\u001b[39;49m\u001b[38;5;124;43m'\u001b[39;49m\u001b[43m)\u001b[49m\u001b[43m,\u001b[49m\u001b[43m \u001b[49m\u001b[38;5;241;43m2\u001b[39;49m\u001b[43m)\u001b[49m\n\u001b[1;32m     44\u001b[0m \u001b[38;5;28;01mreturn\u001b[39;00m fscope\u001b[38;5;241m.\u001b[39mret(retval_, do_return)\n",
      "File \u001b[0;32m/var/folders/fg/1l9r5jv17rg0lp_glcmb86lc0000gn/T/__autograph_generated_files5117zr7.py:29\u001b[0m, in \u001b[0;36mouter_factory.<locals>.inner_factory.<locals>.tf__accept_reject_sample.<locals>.if_body\u001b[0;34m()\u001b[0m\n\u001b[1;32m     27\u001b[0m \u001b[38;5;28;01mtry\u001b[39;00m:\n\u001b[1;32m     28\u001b[0m     do_return \u001b[38;5;241m=\u001b[39m \u001b[38;5;28;01mTrue\u001b[39;00m\n\u001b[0;32m---> 29\u001b[0m     retval_ \u001b[38;5;241m=\u001b[39m ag__\u001b[38;5;241m.\u001b[39mconverted_call(ag__\u001b[38;5;241m.\u001b[39mld(tf)\u001b[38;5;241m.\u001b[39mboolean_mask, (ag__\u001b[38;5;241m.\u001b[39mld(x), ag__\u001b[38;5;241m.\u001b[39mconverted_call(ag__\u001b[38;5;241m.\u001b[39mld(density), (ag__\u001b[38;5;241m.\u001b[39mld(x),), \u001b[38;5;28;01mNone\u001b[39;00m, fscope) \u001b[38;5;241m>\u001b[39m ag__\u001b[38;5;241m.\u001b[39mld(r)), \u001b[38;5;28;01mNone\u001b[39;00m, fscope)\n\u001b[1;32m     30\u001b[0m \u001b[38;5;28;01mexcept\u001b[39;00m:\n\u001b[1;32m     31\u001b[0m     do_return \u001b[38;5;241m=\u001b[39m \u001b[38;5;28;01mFalse\u001b[39;00m\n",
      "\u001b[0;31mValueError\u001b[0m: in user code:\n\n    File \"/Users/maurizio/Software/AmpliTF/TFA2/tfa/toymc.py\", line 70, in pdf_vals  *\n        d = accept_reject_sample(\n    File \"/Users/maurizio/Software/AmpliTF/TFA2/tfa/toymc.py\", line 30, in accept_reject_sample  *\n        return tf.boolean_mask(x, density(x) > r)\n\n    ValueError: Number of mask dimensions must be specified, even if some dimensions are None.  E.g. shape=[None] is ok, but shape=None is not.\n"
     ]
    }
   ],
   "source": [
    "toy_sample = tft.run_toymc(\n",
    "    toymc_model_mix, c_phsp, ntoys, maximum=1.0e-20, chunk=1000000, components=False\n",
    ")\n",
    "\n",
    "print(toy_sample)"
   ]
  },
  {
   "cell_type": "markdown",
   "metadata": {},
   "source": [
    "and to calculate the integrals"
   ]
  },
  {
   "cell_type": "code",
   "execution_count": 47,
   "metadata": {},
   "outputs": [
    {
     "name": "stdout",
     "output_type": "stream",
     "text": [
      "tf.Tensor(\n",
      "[[1.43696864 1.63334256 0.32197015]\n",
      " [1.55763063 1.05794523 0.87581189]\n",
      " [1.22938953 0.83107077 1.28048402]\n",
      " ...\n",
      " [0.80923705 2.39296498 0.57776134]\n",
      " [0.68223338 2.11787583 0.07159538]\n",
      " [2.35804056 0.58700197 1.46736376]], shape=(47086, 3), dtype=float64)\n"
     ]
    }
   ],
   "source": [
    "norm_sample = c_phsp.uniform_sample(nnorm)\n",
    "\n",
    "print(norm_sample)"
   ]
  },
  {
   "cell_type": "markdown",
   "metadata": {},
   "source": [
    "Beware that only approximately 1/2 of the events have been generated in the normalisation sample."
   ]
  },
  {
   "cell_type": "markdown",
   "metadata": {},
   "source": [
    "## Fit\n",
    "\n",
    "We are now ready to run the fit. We define first the fit parameters:"
   ]
  },
  {
   "cell_type": "code",
   "execution_count": 48,
   "metadata": {},
   "outputs": [],
   "source": [
    "pars = [\n",
    "    tfo.FitParameter(\"a1r\", 1.0, -10.0, 10.0),\n",
    "    tfo.FitParameter(\"a1i\", 0.0, -10.0, 10.0),\n",
    "    tfo.FitParameter(\"a2r\", 0.5, -10.0, 10.0),\n",
    "    tfo.FitParameter(\"a2i\", 0.0, -10.0, 10.0),\n",
    "    tfo.FitParameter(\"a3r\", 2.0, -10.0, 10.0),\n",
    "    tfo.FitParameter(\"a3i\", 0.0, -10.0, 10.0),\n",
    "]"
   ]
  },
  {
   "cell_type": "markdown",
   "metadata": {},
   "source": [
    "and run Minuit"
   ]
  },
  {
   "cell_type": "code",
   "execution_count": 49,
   "metadata": {
    "scrolled": true
   },
   "outputs": [
    {
     "name": "stdout",
     "output_type": "stream",
     "text": [
      "WARNING:tensorflow:You are casting an input of type complex128 to an incompatible dtype float64.  This will discard the imaginary part and may not be what you intended.\n",
      "WARNING:tensorflow:You are casting an input of type complex128 to an incompatible dtype float64.  This will discard the imaginary part and may not be what you intended.\n",
      "10 -2084.463946994023 [ 1.0000000e+00 -3.1530751e-07  5.0000000e-01  0.0000000e+00\n",
      "  2.0000000e+00  0.0000000e+00]\n",
      "20 -2084.463914880088 [1.         0.         0.5        0.         1.99999906 0.        ]\n",
      "30 -2092.7227365782846 [ 0.99105059 -0.08457612  0.48731389 -0.00730316  1.98098668 -0.07894469]\n",
      "40 -2092.8216305720052 [ 0.985217   -0.08476894  0.48515932 -0.01047798  1.97484904 -0.07414026]\n",
      "50 -2092.8216290813934 [ 0.98521232 -0.08476894  0.48515932 -0.01047795  1.97484904 -0.07414026]\n",
      "60 -2092.821629083194 [ 0.98521232 -0.08476894  0.48515932 -0.01047798  1.97484904 -0.0741399 ]\n",
      "70 -2092.821628565892 [ 0.98521232 -0.08476894  0.48515932 -0.01047798  1.97485834 -0.07414026]\n",
      "80 -2092.821629076737 [ 0.98521232 -0.08476894  0.48515932 -0.01047792  1.97484904 -0.07414026]\n",
      "90 -2092.821630569737 [ 0.985217   -0.08476894  0.48515932 -0.01047798  1.97484904 -0.0741399 ]\n",
      "100 -2092.8216285621197 [ 0.98521232 -0.08476894  0.48515932 -0.01047798  1.97485834 -0.0741399 ]\n",
      "┌─────────────────────────────────────────────────────────────────────────┐\n",
      "│                                Migrad                                   │\n",
      "├──────────────────────────────────┬──────────────────────────────────────┤\n",
      "│ FCN = -2093                      │         Nfcn = 99, Ngrad = 5         │\n",
      "│ EDM = 3.69e-05 (Goal: 0.0001)    │            time = 1.1 sec            │\n",
      "├──────────────────────────────────┼──────────────────────────────────────┤\n",
      "│          Valid Minimum           │   Below EDM threshold (goal x 10)    │\n",
      "├──────────────────────────────────┼──────────────────────────────────────┤\n",
      "│      No parameters at limit      │           Below call limit           │\n",
      "├──────────────────────────────────┼──────────────────────────────────────┤\n",
      "│             Hesse ok             │         Covariance accurate          │\n",
      "└──────────────────────────────────┴──────────────────────────────────────┘\n",
      "┌───┬──────┬───────────┬───────────┬────────────┬────────────┬─────────┬─────────┬───────┐\n",
      "│   │ Name │   Value   │ Hesse Err │ Minos Err- │ Minos Err+ │ Limit-  │ Limit+  │ Fixed │\n",
      "├───┼──────┼───────────┼───────────┼────────────┼────────────┼─────────┼─────────┼───────┤\n",
      "│ 0 │ a1r  │   0.985   │   0.017   │            │            │   -10   │   10    │       │\n",
      "│ 1 │ a1i  │  -0.085   │   0.022   │            │            │   -10   │   10    │       │\n",
      "│ 2 │ a2r  │   0.485   │   0.014   │            │            │   -10   │   10    │       │\n",
      "│ 3 │ a2i  │  -0.010   │   0.022   │            │            │   -10   │   10    │       │\n",
      "│ 4 │ a3r  │   1.975   │   0.029   │            │            │   -10   │   10    │       │\n",
      "│ 5 │ a3i  │  -0.074   │   0.035   │            │            │   -10   │   10    │       │\n",
      "└───┴──────┴───────────┴───────────┴────────────┴────────────┴─────────┴─────────┴───────┘\n",
      "┌─────┬───────────────────────────────┐\n",
      "│     │  a1r  a1i  a2r  a2i  a3r  a3i │\n",
      "├─────┼───────────────────────────────┤\n",
      "│ a1r │    1  0.1  0.3    0  0.5  0.1 │\n",
      "│ a1i │  0.1    1    0  0.1    0  0.3 │\n",
      "│ a2r │  0.3    0    1 -0.2  0.3  0.1 │\n",
      "│ a2i │    0  0.1 -0.2    1    0  0.2 │\n",
      "│ a3r │  0.5    0  0.3    0    1 -0.1 │\n",
      "│ a3i │  0.1  0.3  0.1  0.2 -0.1    1 │\n",
      "└─────┴───────────────────────────────┘\n",
      "{'params': {'a1r': (0.9852123191308761, 0.016621850861490428), 'a1i': (-0.08476893715947814, 0.02216222036614074), 'a2r': (0.48515932223947716, 0.01360256532874679), 'a2i': (-0.0104779793781943, 0.021562015976347625), 'a3r': (1.9748490443442317, 0.02879892783232485), 'a3i': (-0.07414025748572146, 0.03519827762030945)}, 'initlh': -2084.463898237599, 'loglh': -2092.8216290860432, 'iterations': 99, 'func_calls': 100, 'grad_calls': 5, 'time': 1.1465460760518909, 'is_valid': 1, 'has_parameters_at_limit': 0, 'has_accurate_covar': 1, 'has_posdef_covar': 1, 'has_made_posdef_covar': 0, 'has_reached_call_limit': 0, 'covariance': [[0.00027628618300236206, 1.8701690545163185e-05, 6.476859722305549e-05, 6.1158706884590035e-06, 0.00024325220529510932, 6.236128082113483e-05], [1.8701690545163185e-05, 0.0004911648157575653, -4.0149331345386465e-06, 6.95363471383434e-05, 6.513238532957662e-06, 0.00024922937544483804], [6.476859722305549e-05, -4.0149331345386465e-06, 0.00018502989791225504, -5.127550078133474e-05, 0.00012525085990132328, 3.582450243958258e-05], [6.1158706884590035e-06, 6.95363471383434e-05, -5.127550078133474e-05, 0.0004649212534705209, 3.7435870289774934e-06, 0.00014804252457167256], [0.00024325220529510932, 6.513238532957662e-06, 0.00012525085990132328, 3.7435870289774934e-06, 0.0008293806302492924, -0.00010206784762998413], [6.236128082113483e-05, 0.00024922937544483804, 3.582450243958258e-05, 0.00014804252457167256, -0.00010206784762998413, 0.0012389238641503167]]}\n",
      "0.011465460760518909 sec per function call\n"
     ]
    }
   ],
   "source": [
    "# Run MINUIT minimisation of the neg. log likelihood\n",
    "result = tfo.run_minuit(nll(toy_sample, norm_sample), pars)\n",
    "print(result)\n",
    "cov = result['covariance']\n",
    "\n",
    "print(f\"{result['time']/result['func_calls']} sec per function call\")\n",
    "\n",
    "fitted_pars = {p: atfi.const(v[0]) for p, v in result[\"params\"].items()}"
   ]
  },
  {
   "cell_type": "markdown",
   "metadata": {},
   "source": [
    "Define a function with the fitted model to calculate fit fractions and projections"
   ]
  },
  {
   "cell_type": "code",
   "execution_count": 50,
   "metadata": {},
   "outputs": [],
   "source": [
    "def fitted_model(x, switches=4 * [1]):\n",
    "    return model(x)(**fitted_pars, switches=switches)"
   ]
  },
  {
   "cell_type": "markdown",
   "metadata": {},
   "source": [
    "The fit fractions are calculated"
   ]
  },
  {
   "cell_type": "code",
   "execution_count": 51,
   "metadata": {},
   "outputs": [
    {
     "name": "stdout",
     "output_type": "stream",
     "text": [
      "[0.2124658758722057, 0.05282594530084564, 0.3925271897073242, 0.43972784820717387]\n"
     ]
    }
   ],
   "source": [
    "ff = tfo.calculate_fit_fractions(fitted_model, norm_sample)\n",
    "print(ff)"
   ]
  },
  {
   "cell_type": "markdown",
   "metadata": {},
   "source": [
    "## Plotting\n",
    "\n",
    "For plotting the results we generate a sample according to the model and we overlay it to the data"
   ]
  },
  {
   "cell_type": "code",
   "execution_count": 52,
   "metadata": {},
   "outputs": [
    {
     "name": "stdout",
     "output_type": "stream",
     "text": [
      "WARNING:tensorflow:5 out of the last 5 calls to <function run_toymc.<locals>.pdf_vals at 0x13007c220> triggered tf.function retracing. Tracing is expensive and the excessive number of tracings could be due to (1) creating @tf.function repeatedly in a loop, (2) passing tensors with different shapes, (3) passing Python objects instead of tensors. For (1), please define your @tf.function outside of the loop. For (2), @tf.function has reduce_retracing=True option that can avoid unnecessary retracing. For (3), please refer to https://www.tensorflow.org/guide/function#controlling_retracing and https://www.tensorflow.org/api_docs/python/tf/function for  more details.\n",
      "  Updating maximum: 1e-20 -> 967.1933898872821. Starting over.\n",
      "WARNING:tensorflow:6 out of the last 6 calls to <function run_toymc.<locals>.pdf_vals at 0x13007c220> triggered tf.function retracing. Tracing is expensive and the excessive number of tracings could be due to (1) creating @tf.function repeatedly in a loop, (2) passing tensors with different shapes, (3) passing Python objects instead of tensors. For (1), please define your @tf.function outside of the loop. For (2), @tf.function has reduce_retracing=True option that can avoid unnecessary retracing. For (3), please refer to https://www.tensorflow.org/guide/function#controlling_retracing and https://www.tensorflow.org/api_docs/python/tf/function for  more details.\n",
      "  Chunk 1, size=27548, total length=27548\n",
      "  Chunk 2, size=27570, total length=55118\n",
      "  Chunk 3, size=27410, total length=82528\n",
      "  Chunk 4, size=27607, total length=110135\n"
     ]
    }
   ],
   "source": [
    "fitted_sample = tft.run_toymc_mix(\n",
    "    fitted_model, c_phsp, nnorm, maximum=1.0e-20, chunk=1000000, components=True\n",
    ")"
   ]
  },
  {
   "cell_type": "code",
   "execution_count": null,
   "metadata": {},
   "outputs": [],
   "source": [
    "# Plot results\n",
    "import matplotlib.pyplot as plt\n",
    "\n",
    "tfp.set_lhcb_style(size=12, usetex=False)  # Adjust plotting style for LHCb papers\n",
    "fig, ax = plt.subplots(nrows=2, ncols=3, figsize=(10, 6))  # Single subplot on the figure\n",
    "\n",
    "# Plot 1D histogram from the toy MC sample\n",
    "tfp.plot_distr2d(\n",
    "    toy_sample[:, 0],\n",
    "    toy_sample[:, 1],\n",
    "    bins=(50, 50),\n",
    "    ranges=((0.3, 3.1), (0.3, 3.1)),\n",
    "    fig=fig,\n",
    "    ax=ax[0, 0],\n",
    "    labels=(r\"$m^2(K_S^0\\pi^+)$\", r\"$m^2(K_S^0\\pi^-)$\"),\n",
    "    units=(\"MeV$^2$\", \"MeV$^2$\"),\n",
    "    log=True,\n",
    ")\n",
    "\n",
    "tfp.plot_distr1d_comparison(\n",
    "    toy_sample[:, 0],\n",
    "    fitted_sample[:, 0],\n",
    "    cweights=[fitted_sample[:, 2 + i] for i in range(4)],\n",
    "    bins=50,\n",
    "    range=(0.3, 3.1),\n",
    "    ax=ax[0, 1],\n",
    "    label=r\"$m^2(K_S^0\\pi^+)$\",\n",
    "    units=\"MeV$^2$\",\n",
    "    legend=False\n",
    ")\n",
    "\n",
    "tfp.plot_distr1d_comparison(\n",
    "    toy_sample[:, 1],\n",
    "    fitted_sample[:, 1],\n",
    "    cweights=[fitted_sample[:, 2 + i] for i in range(4)],\n",
    "    bins=50,\n",
    "    range=(0.3, 3.1),\n",
    "    ax=ax[1, 0],\n",
    "    label=r\"$m^2(K_S^0\\pi^-)$\",\n",
    "    units=\"MeV$^2$\",\n",
    "    legend=False\n",
    ")\n",
    "\n",
    "tfp.plot_distr1d_comparison(\n",
    "    phsp.m2ac(toy_sample),\n",
    "    phsp.m2ac(fitted_sample),\n",
    "    cweights=[fitted_sample[:, 2 + i] for i in range(4)],\n",
    "    bins=50,\n",
    "    range=(0.05, 1.9),\n",
    "    ax=ax[1, 1],\n",
    "    label=r\"$m^2(\\pi^+\\pi^-)$\",\n",
    "    units=\"MeV$^2$\",\n",
    "    legend_ax=ax[1,2]\n",
    ")\n",
    "\n",
    "# Show the plot\n",
    "plt.tight_layout(pad=1.0, w_pad=1.0, h_pad=1.0)"
   ]
  },
  {
   "cell_type": "code",
   "execution_count": 13,
   "metadata": {},
   "outputs": [],
   "source": [
    "tt = c_phsp.filter(c_phsp.unfiltered_sample(1000))"
   ]
  },
  {
   "cell_type": "code",
   "execution_count": null,
   "metadata": {},
   "outputs": [],
   "source": []
  },
  {
   "cell_type": "code",
   "execution_count": 54,
   "metadata": {},
   "outputs": [
    {
     "ename": "ValueError",
     "evalue": "Attempt to convert a value (<function model_mix.<locals>._model at 0x12c2cb9c0>) with an unsupported type (<class 'function'>) to a Tensor.",
     "output_type": "error",
     "traceback": [
      "\u001b[0;31m---------------------------------------------------------------------------\u001b[0m",
      "\u001b[0;31mValueError\u001b[0m                                Traceback (most recent call last)",
      "Cell \u001b[0;32mIn[54], line 1\u001b[0m\n\u001b[0;32m----> 1\u001b[0m d \u001b[38;5;241m=\u001b[39m \u001b[43mtft\u001b[49m\u001b[38;5;241;43m.\u001b[39;49m\u001b[43maccept_reject_sample\u001b[49m\u001b[43m(\u001b[49m\n\u001b[1;32m      2\u001b[0m \u001b[43m            \u001b[49m\u001b[43mmodel_mix\u001b[49m\u001b[43m,\u001b[49m\u001b[43m \u001b[49m\u001b[43mtt\u001b[49m\n\u001b[1;32m      3\u001b[0m \u001b[43m        \u001b[49m\u001b[43m)\u001b[49m\n",
      "File \u001b[0;32m~/Software/AmpliTF/TFA2/tfa/toymc.py:30\u001b[0m, in \u001b[0;36maccept_reject_sample\u001b[0;34m(density, sample)\u001b[0m\n\u001b[1;32m     28\u001b[0m \u001b[38;5;28;01mif\u001b[39;00m density \u001b[38;5;129;01mis\u001b[39;00m \u001b[38;5;129;01mnot\u001b[39;00m \u001b[38;5;28;01mNone\u001b[39;00m:\n\u001b[1;32m     29\u001b[0m     r \u001b[38;5;241m=\u001b[39m sample[\u001b[38;5;241m.\u001b[39m\u001b[38;5;241m.\u001b[39m\u001b[38;5;241m.\u001b[39m, \u001b[38;5;241m-\u001b[39m\u001b[38;5;241m1\u001b[39m]\n\u001b[0;32m---> 30\u001b[0m     \u001b[38;5;28;01mreturn\u001b[39;00m tf\u001b[38;5;241m.\u001b[39mboolean_mask(x, \u001b[43mdensity\u001b[49m\u001b[43m(\u001b[49m\u001b[43mx\u001b[49m\u001b[43m)\u001b[49m\u001b[43m \u001b[49m\u001b[38;5;241;43m>\u001b[39;49m\u001b[43m \u001b[49m\u001b[43mr\u001b[49m)\n\u001b[1;32m     31\u001b[0m \u001b[38;5;28;01melse\u001b[39;00m:\n\u001b[1;32m     32\u001b[0m     \u001b[38;5;28;01mreturn\u001b[39;00m x\n",
      "File \u001b[0;32m~/Software/tfa/lib/python3.12/site-packages/tensorflow/python/ops/tensor_math_operator_overrides.py:150\u001b[0m, in \u001b[0;36m_promote_dtypes_decorator.<locals>.wrapper\u001b[0;34m(x, y, *args, **kwargs)\u001b[0m\n\u001b[1;32m    148\u001b[0m \u001b[38;5;28;01mdef\u001b[39;00m \u001b[38;5;21mwrapper\u001b[39m(x, y, \u001b[38;5;241m*\u001b[39margs, \u001b[38;5;241m*\u001b[39m\u001b[38;5;241m*\u001b[39mkwargs):\n\u001b[1;32m    149\u001b[0m   x, y \u001b[38;5;241m=\u001b[39m override_binary_operator\u001b[38;5;241m.\u001b[39mmaybe_promote_tensors(x, y)\n\u001b[0;32m--> 150\u001b[0m   \u001b[38;5;28;01mreturn\u001b[39;00m \u001b[43mfn\u001b[49m\u001b[43m(\u001b[49m\u001b[43mx\u001b[49m\u001b[43m,\u001b[49m\u001b[43m \u001b[49m\u001b[43my\u001b[49m\u001b[43m,\u001b[49m\u001b[43m \u001b[49m\u001b[38;5;241;43m*\u001b[39;49m\u001b[43margs\u001b[49m\u001b[43m,\u001b[49m\u001b[43m \u001b[49m\u001b[38;5;241;43m*\u001b[39;49m\u001b[38;5;241;43m*\u001b[39;49m\u001b[43mkwargs\u001b[49m\u001b[43m)\u001b[49m\n",
      "File \u001b[0;32m~/Software/tfa/lib/python3.12/site-packages/tensorflow/python/ops/gen_math_ops.py:5323\u001b[0m, in \u001b[0;36mless\u001b[0;34m(x, y, name)\u001b[0m\n\u001b[1;32m   5321\u001b[0m   \u001b[38;5;28;01mif\u001b[39;00m _result \u001b[38;5;129;01mis\u001b[39;00m \u001b[38;5;129;01mnot\u001b[39;00m \u001b[38;5;28mNotImplemented\u001b[39m:\n\u001b[1;32m   5322\u001b[0m     \u001b[38;5;28;01mreturn\u001b[39;00m _result\n\u001b[0;32m-> 5323\u001b[0m   \u001b[38;5;28;01mreturn\u001b[39;00m \u001b[43mless_eager_fallback\u001b[49m\u001b[43m(\u001b[49m\n\u001b[1;32m   5324\u001b[0m \u001b[43m      \u001b[49m\u001b[43mx\u001b[49m\u001b[43m,\u001b[49m\u001b[43m \u001b[49m\u001b[43my\u001b[49m\u001b[43m,\u001b[49m\u001b[43m \u001b[49m\u001b[43mname\u001b[49m\u001b[38;5;241;43m=\u001b[39;49m\u001b[43mname\u001b[49m\u001b[43m,\u001b[49m\u001b[43m \u001b[49m\u001b[43mctx\u001b[49m\u001b[38;5;241;43m=\u001b[39;49m\u001b[43m_ctx\u001b[49m\u001b[43m)\u001b[49m\n\u001b[1;32m   5325\u001b[0m \u001b[38;5;28;01mexcept\u001b[39;00m _core\u001b[38;5;241m.\u001b[39m_SymbolicException:\n\u001b[1;32m   5326\u001b[0m   \u001b[38;5;28;01mpass\u001b[39;00m  \u001b[38;5;66;03m# Add nodes to the TensorFlow graph.\u001b[39;00m\n",
      "File \u001b[0;32m~/Software/tfa/lib/python3.12/site-packages/tensorflow/python/ops/gen_math_ops.py:5364\u001b[0m, in \u001b[0;36mless_eager_fallback\u001b[0;34m(x, y, name, ctx)\u001b[0m\n\u001b[1;32m   5363\u001b[0m \u001b[38;5;28;01mdef\u001b[39;00m \u001b[38;5;21mless_eager_fallback\u001b[39m(x: Annotated[Any, TV_Less_T], y: Annotated[Any, TV_Less_T], name, ctx) \u001b[38;5;241m-\u001b[39m\u001b[38;5;241m>\u001b[39m Annotated[Any, _atypes\u001b[38;5;241m.\u001b[39mBool]:\n\u001b[0;32m-> 5364\u001b[0m   _attr_T, _inputs_T \u001b[38;5;241m=\u001b[39m \u001b[43m_execute\u001b[49m\u001b[38;5;241;43m.\u001b[39;49m\u001b[43margs_to_matching_eager\u001b[49m\u001b[43m(\u001b[49m\u001b[43m[\u001b[49m\u001b[43mx\u001b[49m\u001b[43m,\u001b[49m\u001b[43m \u001b[49m\u001b[43my\u001b[49m\u001b[43m]\u001b[49m\u001b[43m,\u001b[49m\u001b[43m \u001b[49m\u001b[43mctx\u001b[49m\u001b[43m,\u001b[49m\u001b[43m \u001b[49m\u001b[43m[\u001b[49m\u001b[43m_dtypes\u001b[49m\u001b[38;5;241;43m.\u001b[39;49m\u001b[43mfloat32\u001b[49m\u001b[43m,\u001b[49m\u001b[43m \u001b[49m\u001b[43m_dtypes\u001b[49m\u001b[38;5;241;43m.\u001b[39;49m\u001b[43mfloat64\u001b[49m\u001b[43m,\u001b[49m\u001b[43m \u001b[49m\u001b[43m_dtypes\u001b[49m\u001b[38;5;241;43m.\u001b[39;49m\u001b[43mint32\u001b[49m\u001b[43m,\u001b[49m\u001b[43m \u001b[49m\u001b[43m_dtypes\u001b[49m\u001b[38;5;241;43m.\u001b[39;49m\u001b[43muint8\u001b[49m\u001b[43m,\u001b[49m\u001b[43m \u001b[49m\u001b[43m_dtypes\u001b[49m\u001b[38;5;241;43m.\u001b[39;49m\u001b[43mint16\u001b[49m\u001b[43m,\u001b[49m\u001b[43m \u001b[49m\u001b[43m_dtypes\u001b[49m\u001b[38;5;241;43m.\u001b[39;49m\u001b[43mint8\u001b[49m\u001b[43m,\u001b[49m\u001b[43m \u001b[49m\u001b[43m_dtypes\u001b[49m\u001b[38;5;241;43m.\u001b[39;49m\u001b[43mint64\u001b[49m\u001b[43m,\u001b[49m\u001b[43m \u001b[49m\u001b[43m_dtypes\u001b[49m\u001b[38;5;241;43m.\u001b[39;49m\u001b[43mbfloat16\u001b[49m\u001b[43m,\u001b[49m\u001b[43m \u001b[49m\u001b[43m_dtypes\u001b[49m\u001b[38;5;241;43m.\u001b[39;49m\u001b[43muint16\u001b[49m\u001b[43m,\u001b[49m\u001b[43m \u001b[49m\u001b[43m_dtypes\u001b[49m\u001b[38;5;241;43m.\u001b[39;49m\u001b[43mhalf\u001b[49m\u001b[43m,\u001b[49m\u001b[43m \u001b[49m\u001b[43m_dtypes\u001b[49m\u001b[38;5;241;43m.\u001b[39;49m\u001b[43muint32\u001b[49m\u001b[43m,\u001b[49m\u001b[43m \u001b[49m\u001b[43m_dtypes\u001b[49m\u001b[38;5;241;43m.\u001b[39;49m\u001b[43muint64\u001b[49m\u001b[43m,\u001b[49m\u001b[43m \u001b[49m\u001b[43m]\u001b[49m\u001b[43m)\u001b[49m\n\u001b[1;32m   5365\u001b[0m   (x, y) \u001b[38;5;241m=\u001b[39m _inputs_T\n\u001b[1;32m   5366\u001b[0m   _inputs_flat \u001b[38;5;241m=\u001b[39m [x, y]\n",
      "File \u001b[0;32m~/Software/tfa/lib/python3.12/site-packages/tensorflow/python/eager/execute.py:267\u001b[0m, in \u001b[0;36margs_to_matching_eager\u001b[0;34m(***failed resolving arguments***)\u001b[0m\n\u001b[1;32m    265\u001b[0m       dtype \u001b[38;5;241m=\u001b[39m tensor\u001b[38;5;241m.\u001b[39mdtype\n\u001b[1;32m    266\u001b[0m \u001b[38;5;28;01melse\u001b[39;00m:\n\u001b[0;32m--> 267\u001b[0m   ret \u001b[38;5;241m=\u001b[39m [\u001b[43mtensor_conversion_registry\u001b[49m\u001b[38;5;241;43m.\u001b[39;49m\u001b[43mconvert\u001b[49m\u001b[43m(\u001b[49m\u001b[43mt\u001b[49m\u001b[43m,\u001b[49m\u001b[43m \u001b[49m\u001b[43mdtype\u001b[49m\u001b[43m)\u001b[49m \u001b[38;5;28;01mfor\u001b[39;00m t \u001b[38;5;129;01min\u001b[39;00m l]\n\u001b[1;32m    269\u001b[0m \u001b[38;5;66;03m# TODO(slebedev): consider removing this as it leaks a Keras concept.\u001b[39;00m\n\u001b[1;32m    270\u001b[0m \u001b[38;5;66;03m# pylint: disable=protected-access\u001b[39;00m\n\u001b[1;32m    271\u001b[0m keras_symbolic_tensors \u001b[38;5;241m=\u001b[39m [x \u001b[38;5;28;01mfor\u001b[39;00m x \u001b[38;5;129;01min\u001b[39;00m ret \u001b[38;5;28;01mif\u001b[39;00m _is_keras_symbolic_tensor(x)]\n",
      "File \u001b[0;32m~/Software/tfa/lib/python3.12/site-packages/tensorflow/python/framework/tensor_conversion_registry.py:234\u001b[0m, in \u001b[0;36mconvert\u001b[0;34m(value, dtype, name, as_ref, preferred_dtype, accepted_result_types)\u001b[0m\n\u001b[1;32m    225\u001b[0m       \u001b[38;5;28;01mraise\u001b[39;00m \u001b[38;5;167;01mRuntimeError\u001b[39;00m(\n\u001b[1;32m    226\u001b[0m           _add_error_prefix(\n\u001b[1;32m    227\u001b[0m               \u001b[38;5;124mf\u001b[39m\u001b[38;5;124m\"\u001b[39m\u001b[38;5;124mConversion function \u001b[39m\u001b[38;5;132;01m{\u001b[39;00mconversion_func\u001b[38;5;132;01m!r}\u001b[39;00m\u001b[38;5;124m for type \u001b[39m\u001b[38;5;124m\"\u001b[39m\n\u001b[0;32m   (...)\u001b[0m\n\u001b[1;32m    230\u001b[0m               \u001b[38;5;124mf\u001b[39m\u001b[38;5;124m\"\u001b[39m\u001b[38;5;124mactual = \u001b[39m\u001b[38;5;132;01m{\u001b[39;00mret\u001b[38;5;241m.\u001b[39mdtype\u001b[38;5;241m.\u001b[39mbase_dtype\u001b[38;5;241m.\u001b[39mname\u001b[38;5;132;01m}\u001b[39;00m\u001b[38;5;124m\"\u001b[39m,\n\u001b[1;32m    231\u001b[0m               name\u001b[38;5;241m=\u001b[39mname))\n\u001b[1;32m    233\u001b[0m \u001b[38;5;28;01mif\u001b[39;00m ret \u001b[38;5;129;01mis\u001b[39;00m \u001b[38;5;28;01mNone\u001b[39;00m:\n\u001b[0;32m--> 234\u001b[0m   ret \u001b[38;5;241m=\u001b[39m \u001b[43mconversion_func\u001b[49m\u001b[43m(\u001b[49m\u001b[43mvalue\u001b[49m\u001b[43m,\u001b[49m\u001b[43m \u001b[49m\u001b[43mdtype\u001b[49m\u001b[38;5;241;43m=\u001b[39;49m\u001b[43mdtype\u001b[49m\u001b[43m,\u001b[49m\u001b[43m \u001b[49m\u001b[43mname\u001b[49m\u001b[38;5;241;43m=\u001b[39;49m\u001b[43mname\u001b[49m\u001b[43m,\u001b[49m\u001b[43m \u001b[49m\u001b[43mas_ref\u001b[49m\u001b[38;5;241;43m=\u001b[39;49m\u001b[43mas_ref\u001b[49m\u001b[43m)\u001b[49m\n\u001b[1;32m    236\u001b[0m \u001b[38;5;28;01mif\u001b[39;00m ret \u001b[38;5;129;01mis\u001b[39;00m \u001b[38;5;28mNotImplemented\u001b[39m:\n\u001b[1;32m    237\u001b[0m   \u001b[38;5;28;01mcontinue\u001b[39;00m\n",
      "File \u001b[0;32m~/Software/tfa/lib/python3.12/site-packages/tensorflow/python/framework/constant_tensor_conversion.py:29\u001b[0m, in \u001b[0;36m_constant_tensor_conversion_function\u001b[0;34m(v, dtype, name, as_ref)\u001b[0m\n\u001b[1;32m     26\u001b[0m \u001b[38;5;28;01mfrom\u001b[39;00m \u001b[38;5;21;01mtensorflow\u001b[39;00m\u001b[38;5;21;01m.\u001b[39;00m\u001b[38;5;21;01mpython\u001b[39;00m\u001b[38;5;21;01m.\u001b[39;00m\u001b[38;5;21;01mframework\u001b[39;00m \u001b[38;5;28;01mimport\u001b[39;00m constant_op  \u001b[38;5;66;03m# pylint: disable=g-import-not-at-top\u001b[39;00m\n\u001b[1;32m     28\u001b[0m _ \u001b[38;5;241m=\u001b[39m as_ref\n\u001b[0;32m---> 29\u001b[0m \u001b[38;5;28;01mreturn\u001b[39;00m \u001b[43mconstant_op\u001b[49m\u001b[38;5;241;43m.\u001b[39;49m\u001b[43mconstant\u001b[49m\u001b[43m(\u001b[49m\u001b[43mv\u001b[49m\u001b[43m,\u001b[49m\u001b[43m \u001b[49m\u001b[43mdtype\u001b[49m\u001b[38;5;241;43m=\u001b[39;49m\u001b[43mdtype\u001b[49m\u001b[43m,\u001b[49m\u001b[43m \u001b[49m\u001b[43mname\u001b[49m\u001b[38;5;241;43m=\u001b[39;49m\u001b[43mname\u001b[49m\u001b[43m)\u001b[49m\n",
      "File \u001b[0;32m~/Software/tfa/lib/python3.12/site-packages/tensorflow/python/ops/weak_tensor_ops.py:142\u001b[0m, in \u001b[0;36mweak_tensor_binary_op_wrapper.<locals>.wrapper\u001b[0;34m(*args, **kwargs)\u001b[0m\n\u001b[1;32m    140\u001b[0m \u001b[38;5;28;01mdef\u001b[39;00m \u001b[38;5;21mwrapper\u001b[39m(\u001b[38;5;241m*\u001b[39margs, \u001b[38;5;241m*\u001b[39m\u001b[38;5;241m*\u001b[39mkwargs):\n\u001b[1;32m    141\u001b[0m   \u001b[38;5;28;01mif\u001b[39;00m \u001b[38;5;129;01mnot\u001b[39;00m ops\u001b[38;5;241m.\u001b[39mis_auto_dtype_conversion_enabled():\n\u001b[0;32m--> 142\u001b[0m     \u001b[38;5;28;01mreturn\u001b[39;00m \u001b[43mop\u001b[49m\u001b[43m(\u001b[49m\u001b[38;5;241;43m*\u001b[39;49m\u001b[43margs\u001b[49m\u001b[43m,\u001b[49m\u001b[43m \u001b[49m\u001b[38;5;241;43m*\u001b[39;49m\u001b[38;5;241;43m*\u001b[39;49m\u001b[43mkwargs\u001b[49m\u001b[43m)\u001b[49m\n\u001b[1;32m    143\u001b[0m   bound_arguments \u001b[38;5;241m=\u001b[39m signature\u001b[38;5;241m.\u001b[39mbind(\u001b[38;5;241m*\u001b[39margs, \u001b[38;5;241m*\u001b[39m\u001b[38;5;241m*\u001b[39mkwargs)\n\u001b[1;32m    144\u001b[0m   bound_arguments\u001b[38;5;241m.\u001b[39mapply_defaults()\n",
      "File \u001b[0;32m~/Software/tfa/lib/python3.12/site-packages/tensorflow/python/framework/constant_op.py:276\u001b[0m, in \u001b[0;36mconstant\u001b[0;34m(value, dtype, shape, name)\u001b[0m\n\u001b[1;32m    177\u001b[0m \u001b[38;5;129m@tf_export\u001b[39m(\u001b[38;5;124m\"\u001b[39m\u001b[38;5;124mconstant\u001b[39m\u001b[38;5;124m\"\u001b[39m, v1\u001b[38;5;241m=\u001b[39m[])\n\u001b[1;32m    178\u001b[0m \u001b[38;5;28;01mdef\u001b[39;00m \u001b[38;5;21mconstant\u001b[39m(\n\u001b[1;32m    179\u001b[0m     value, dtype\u001b[38;5;241m=\u001b[39m\u001b[38;5;28;01mNone\u001b[39;00m, shape\u001b[38;5;241m=\u001b[39m\u001b[38;5;28;01mNone\u001b[39;00m, name\u001b[38;5;241m=\u001b[39m\u001b[38;5;124m\"\u001b[39m\u001b[38;5;124mConst\u001b[39m\u001b[38;5;124m\"\u001b[39m\n\u001b[1;32m    180\u001b[0m ) \u001b[38;5;241m-\u001b[39m\u001b[38;5;241m>\u001b[39m Union[ops\u001b[38;5;241m.\u001b[39mOperation, ops\u001b[38;5;241m.\u001b[39m_EagerTensorBase]:\n\u001b[1;32m    181\u001b[0m \u001b[38;5;250m  \u001b[39m\u001b[38;5;124;03m\"\"\"Creates a constant tensor from a tensor-like object.\u001b[39;00m\n\u001b[1;32m    182\u001b[0m \n\u001b[1;32m    183\u001b[0m \u001b[38;5;124;03m  Note: All eager `tf.Tensor` values are immutable (in contrast to\u001b[39;00m\n\u001b[0;32m   (...)\u001b[0m\n\u001b[1;32m    274\u001b[0m \u001b[38;5;124;03m    ValueError: if called on a symbolic tensor.\u001b[39;00m\n\u001b[1;32m    275\u001b[0m \u001b[38;5;124;03m  \"\"\"\u001b[39;00m\n\u001b[0;32m--> 276\u001b[0m   \u001b[38;5;28;01mreturn\u001b[39;00m \u001b[43m_constant_impl\u001b[49m\u001b[43m(\u001b[49m\u001b[43mvalue\u001b[49m\u001b[43m,\u001b[49m\u001b[43m \u001b[49m\u001b[43mdtype\u001b[49m\u001b[43m,\u001b[49m\u001b[43m \u001b[49m\u001b[43mshape\u001b[49m\u001b[43m,\u001b[49m\u001b[43m \u001b[49m\u001b[43mname\u001b[49m\u001b[43m,\u001b[49m\u001b[43m \u001b[49m\u001b[43mverify_shape\u001b[49m\u001b[38;5;241;43m=\u001b[39;49m\u001b[38;5;28;43;01mFalse\u001b[39;49;00m\u001b[43m,\u001b[49m\n\u001b[1;32m    277\u001b[0m \u001b[43m                        \u001b[49m\u001b[43mallow_broadcast\u001b[49m\u001b[38;5;241;43m=\u001b[39;49m\u001b[38;5;28;43;01mTrue\u001b[39;49;00m\u001b[43m)\u001b[49m\n",
      "File \u001b[0;32m~/Software/tfa/lib/python3.12/site-packages/tensorflow/python/framework/constant_op.py:289\u001b[0m, in \u001b[0;36m_constant_impl\u001b[0;34m(value, dtype, shape, name, verify_shape, allow_broadcast)\u001b[0m\n\u001b[1;32m    287\u001b[0m     \u001b[38;5;28;01mwith\u001b[39;00m trace\u001b[38;5;241m.\u001b[39mTrace(\u001b[38;5;124m\"\u001b[39m\u001b[38;5;124mtf.constant\u001b[39m\u001b[38;5;124m\"\u001b[39m):\n\u001b[1;32m    288\u001b[0m       \u001b[38;5;28;01mreturn\u001b[39;00m _constant_eager_impl(ctx, value, dtype, shape, verify_shape)\n\u001b[0;32m--> 289\u001b[0m   \u001b[38;5;28;01mreturn\u001b[39;00m \u001b[43m_constant_eager_impl\u001b[49m\u001b[43m(\u001b[49m\u001b[43mctx\u001b[49m\u001b[43m,\u001b[49m\u001b[43m \u001b[49m\u001b[43mvalue\u001b[49m\u001b[43m,\u001b[49m\u001b[43m \u001b[49m\u001b[43mdtype\u001b[49m\u001b[43m,\u001b[49m\u001b[43m \u001b[49m\u001b[43mshape\u001b[49m\u001b[43m,\u001b[49m\u001b[43m \u001b[49m\u001b[43mverify_shape\u001b[49m\u001b[43m)\u001b[49m\n\u001b[1;32m    291\u001b[0m const_tensor \u001b[38;5;241m=\u001b[39m ops\u001b[38;5;241m.\u001b[39m_create_graph_constant(  \u001b[38;5;66;03m# pylint: disable=protected-access\u001b[39;00m\n\u001b[1;32m    292\u001b[0m     value, dtype, shape, name, verify_shape, allow_broadcast\n\u001b[1;32m    293\u001b[0m )\n\u001b[1;32m    294\u001b[0m \u001b[38;5;28;01mreturn\u001b[39;00m const_tensor\n",
      "File \u001b[0;32m~/Software/tfa/lib/python3.12/site-packages/tensorflow/python/framework/constant_op.py:301\u001b[0m, in \u001b[0;36m_constant_eager_impl\u001b[0;34m(ctx, value, dtype, shape, verify_shape)\u001b[0m\n\u001b[1;32m    297\u001b[0m \u001b[38;5;28;01mdef\u001b[39;00m \u001b[38;5;21m_constant_eager_impl\u001b[39m(\n\u001b[1;32m    298\u001b[0m     ctx, value, dtype, shape, verify_shape\n\u001b[1;32m    299\u001b[0m ) \u001b[38;5;241m-\u001b[39m\u001b[38;5;241m>\u001b[39m ops\u001b[38;5;241m.\u001b[39m_EagerTensorBase:\n\u001b[1;32m    300\u001b[0m \u001b[38;5;250m  \u001b[39m\u001b[38;5;124;03m\"\"\"Creates a constant on the current device.\"\"\"\u001b[39;00m\n\u001b[0;32m--> 301\u001b[0m   t \u001b[38;5;241m=\u001b[39m \u001b[43mconvert_to_eager_tensor\u001b[49m\u001b[43m(\u001b[49m\u001b[43mvalue\u001b[49m\u001b[43m,\u001b[49m\u001b[43m \u001b[49m\u001b[43mctx\u001b[49m\u001b[43m,\u001b[49m\u001b[43m \u001b[49m\u001b[43mdtype\u001b[49m\u001b[43m)\u001b[49m\n\u001b[1;32m    302\u001b[0m   \u001b[38;5;28;01mif\u001b[39;00m shape \u001b[38;5;129;01mis\u001b[39;00m \u001b[38;5;28;01mNone\u001b[39;00m:\n\u001b[1;32m    303\u001b[0m     \u001b[38;5;28;01mreturn\u001b[39;00m t\n",
      "File \u001b[0;32m~/Software/tfa/lib/python3.12/site-packages/tensorflow/python/framework/constant_op.py:108\u001b[0m, in \u001b[0;36mconvert_to_eager_tensor\u001b[0;34m(value, ctx, dtype)\u001b[0m\n\u001b[1;32m    106\u001b[0m     dtype \u001b[38;5;241m=\u001b[39m dtypes\u001b[38;5;241m.\u001b[39mas_dtype(dtype)\u001b[38;5;241m.\u001b[39mas_datatype_enum\n\u001b[1;32m    107\u001b[0m ctx\u001b[38;5;241m.\u001b[39mensure_initialized()\n\u001b[0;32m--> 108\u001b[0m \u001b[38;5;28;01mreturn\u001b[39;00m \u001b[43mops\u001b[49m\u001b[38;5;241;43m.\u001b[39;49m\u001b[43mEagerTensor\u001b[49m\u001b[43m(\u001b[49m\u001b[43mvalue\u001b[49m\u001b[43m,\u001b[49m\u001b[43m \u001b[49m\u001b[43mctx\u001b[49m\u001b[38;5;241;43m.\u001b[39;49m\u001b[43mdevice_name\u001b[49m\u001b[43m,\u001b[49m\u001b[43m \u001b[49m\u001b[43mdtype\u001b[49m\u001b[43m)\u001b[49m\n",
      "\u001b[0;31mValueError\u001b[0m: Attempt to convert a value (<function model_mix.<locals>._model at 0x12c2cb9c0>) with an unsupported type (<class 'function'>) to a Tensor."
     ]
    }
   ],
   "source": [
    "d = tft.accept_reject_sample(\n",
    "            model_mix, tt\n",
    "        )"
   ]
  },
  {
   "cell_type": "code",
   "execution_count": null,
   "metadata": {},
   "outputs": [],
   "source": []
  },
  {
   "cell_type": "code",
   "execution_count": 42,
   "metadata": {},
   "outputs": [
    {
     "name": "stdout",
     "output_type": "stream",
     "text": [
      "WARNING:tensorflow:You are casting an input of type complex128 to an incompatible dtype float64.  This will discard the imaginary part and may not be what you intended.\n"
     ]
    },
    {
     "data": {
      "text/plain": [
       "<tf.Tensor: shape=(452,), dtype=float64, numpy=\n",
       "array([1.89463407e+01, 3.91388236e+00, 5.01323369e-01, 1.34031183e+01,\n",
       "       9.10211370e+00, 2.68207225e+01, 2.10930450e+01, 8.87952968e+00,\n",
       "       4.83019648e+00, 1.28229519e+00, 6.18182753e+00, 5.16585645e+00,\n",
       "       1.64885356e+01, 1.70303658e+01, 1.77088070e+01, 1.29650929e+01,\n",
       "       1.10144718e+01, 3.92551141e+00, 3.26166250e-01, 5.00991931e+01,\n",
       "       5.16208915e+00, 6.67709956e+00, 3.03201028e+00, 2.14039922e+00,\n",
       "       1.81004987e+01, 1.71487007e+01, 1.66062941e+01, 1.06097180e+02,\n",
       "       5.67319194e+01, 8.64750180e+00, 2.25409173e+01, 1.53192340e+01,\n",
       "       1.68287717e+02, 8.17954770e+00, 4.16427538e+01, 1.01148841e+01,\n",
       "       2.16571606e+02, 9.15007133e+00, 5.78685099e+00, 2.47914842e-01,\n",
       "       1.05137730e+02, 2.28196190e+02, 1.84726924e+00, 1.18865895e+01,\n",
       "       7.85298476e+00, 6.61074584e-01, 1.86409782e+01, 2.18434073e-01,\n",
       "       3.22359515e+01, 3.49763328e+00, 4.83354273e+01, 8.97816719e+00,\n",
       "       3.90999130e+01, 1.69684310e+01, 1.00751102e+02, 3.25675527e+00,\n",
       "       1.90691212e+01, 7.85252644e+00, 1.08012829e+01, 1.09794463e+01,\n",
       "       2.14681416e+01, 1.53654505e+02, 1.34433283e+00, 1.04731052e+01,\n",
       "       5.49187867e+01, 3.78025849e+01, 4.71632579e+00, 1.09925509e+02,\n",
       "       7.49724936e+01, 4.93498523e+01, 4.24102100e+01, 5.43310700e+01,\n",
       "       1.00848698e+01, 8.25252119e-01, 7.47170904e+01, 2.21681086e+01,\n",
       "       1.39313915e+02, 5.22794778e+00, 2.86435469e+01, 3.46377232e+00,\n",
       "       9.14170684e-01, 1.91146896e+00, 9.02303410e+01, 7.50653837e+01,\n",
       "       3.76276084e+01, 2.30927968e+01, 5.27195749e+01, 4.49816789e+01,\n",
       "       1.89694871e+01, 1.91913165e+01, 1.18318807e+01, 1.37016112e+02,\n",
       "       8.33069724e+00, 2.03649654e+00, 2.02434735e+00, 2.16219264e+01,\n",
       "       4.65679469e+01, 1.64737207e-02, 8.38582858e+00, 1.50612088e+01,\n",
       "       4.88803117e+01, 1.98506860e+01, 3.78666822e+00, 6.56395464e+00,\n",
       "       4.68513416e+00, 3.79653229e+01, 5.33916490e-02, 2.00509547e+01,\n",
       "       5.22298548e+01, 3.91971750e-01, 1.45688226e+00, 1.21818267e+01,\n",
       "       1.58733069e+01, 3.51265803e+01, 1.12651325e+01, 1.66215043e+01,\n",
       "       9.29970747e+00, 1.78227384e+01, 3.61302057e+00, 2.57306043e+01,\n",
       "       2.04020860e+01, 4.59904302e+01, 1.64556934e+01, 5.26896377e+01,\n",
       "       6.57962365e+01, 3.87377028e+01, 3.87853719e+01, 5.05113253e+00,\n",
       "       1.57758977e+01, 1.27252360e+01, 2.07238873e+01, 6.70337401e+01,\n",
       "       4.48903438e+01, 6.85124122e+01, 1.57134499e+01, 1.18921410e+01,\n",
       "       1.83384907e+01, 1.77183503e+00, 4.87361252e+00, 7.34229844e+01,\n",
       "       3.56097150e+00, 1.23242323e+02, 8.71433841e+00, 8.55336077e+01,\n",
       "       3.08460482e+00, 3.36188521e+01, 2.48058744e+01, 4.28822170e+00,\n",
       "       6.36757218e+01, 2.21108731e+01, 4.71369617e+00, 6.32964220e+00,\n",
       "       1.14545441e+02, 5.16059888e+00, 2.20769274e+01, 1.05770329e+01,\n",
       "       3.88663132e+00, 9.14103309e+00, 2.41305346e+02, 2.02030867e+01,\n",
       "       2.23399526e+00, 1.96008928e+01, 8.70709090e+00, 1.11778605e+02,\n",
       "       9.40634251e+01, 4.09323408e-01, 1.17496977e+01, 1.20870131e+01,\n",
       "       6.14627598e+01, 3.79673986e+01, 9.05061105e+00, 6.51618406e+01,\n",
       "       4.68805746e+00, 5.17138618e+00, 5.24780869e+00, 6.40403217e+00,\n",
       "       1.44749619e+00, 2.97389576e+01, 8.46565910e+00, 5.09420103e-01,\n",
       "       3.88899953e+01, 3.95800534e+00, 1.86553342e+01, 3.01026320e+01,\n",
       "       4.16981791e+01, 6.43063043e+00, 4.27449586e+01, 2.45539726e+01,\n",
       "       8.85944841e+00, 1.17221684e+01, 2.96122148e+01, 3.73469213e+01,\n",
       "       3.45415994e+01, 8.68520804e+01, 1.28538561e+01, 1.18278752e+01,\n",
       "       1.27823864e+01, 1.20211858e+02, 1.87173740e+01, 3.29689158e+00,\n",
       "       2.79416385e-01, 8.55840601e-03, 4.07065575e+01, 5.78988490e+00,\n",
       "       5.48141289e+01, 2.01315731e+02, 2.18815535e+01, 1.43990969e+02,\n",
       "       4.56277421e+01, 1.98526904e+01, 6.62704982e+00, 3.53618467e+01,\n",
       "       1.97826233e+01, 7.63886883e+00, 2.25997969e+01, 5.31676177e+00,\n",
       "       5.13156643e+01, 2.89674413e+00, 1.38737918e+01, 3.87896285e+01,\n",
       "       1.99767307e-01, 1.59501691e+01, 4.03285103e+00, 7.62424918e+00,\n",
       "       3.24761304e+01, 2.17694771e+01, 4.63989743e+00, 3.22588671e+01,\n",
       "       1.44388261e+01, 7.24723180e-01, 3.27128202e-01, 5.17934452e-01,\n",
       "       1.52421529e+02, 2.41121402e+00, 1.12571897e+00, 6.06956473e+01,\n",
       "       5.91678561e+00, 1.89845855e+01, 1.89603429e+00, 1.91800923e+01,\n",
       "       2.58549283e+00, 1.52438792e+01, 2.69239390e+00, 1.41842099e+01,\n",
       "       3.14804638e+01, 2.89551498e+01, 4.02833883e+01, 2.80868003e+01,\n",
       "       8.60661131e+00, 1.23464325e+01, 1.05675341e+02, 5.44971812e+01,\n",
       "       7.37443766e+00, 4.77189054e+01, 5.64002587e+01, 1.90727999e+00,\n",
       "       1.71617867e+01, 7.16742227e+01, 2.13518158e+01, 2.28645937e+00,\n",
       "       2.31826918e+00, 1.96544925e+00, 2.08302209e+01, 1.30981117e+01,\n",
       "       5.99508363e+01, 3.23970984e+01, 8.34739822e-01, 2.98739513e+01,\n",
       "       1.40192632e+01, 6.10545697e+00, 2.02429754e+00, 9.78267887e+00,\n",
       "       2.29966156e+00, 2.25751288e+01, 4.12513071e-01, 1.08653873e+01,\n",
       "       2.61036076e+01, 2.56629809e+01, 4.67608610e+01, 1.71878242e+01,\n",
       "       2.56883176e+00, 1.05871590e+02, 2.07974417e+01, 4.61555418e+00,\n",
       "       2.82648118e+01, 1.00858177e+00, 4.54021772e+01, 1.93783560e+01,\n",
       "       1.96133335e+00, 1.86948241e-01, 3.62051574e+01, 2.34169627e+01,\n",
       "       4.17557944e+00, 1.88732497e+02, 1.73568325e+01, 2.87543578e+01,\n",
       "       1.28186583e+00, 3.14691069e+01, 2.15274998e+01, 3.00982680e+00,\n",
       "       2.40493815e+00, 4.61115996e+00, 6.90534810e-01, 1.96681459e+02,\n",
       "       2.42526482e+00, 6.93723146e+00, 4.05981174e+01, 2.05657773e+00,\n",
       "       2.28229427e+02, 1.15058243e+02, 2.96676908e+01, 1.77511932e+01,\n",
       "       1.36403539e+02, 1.37445489e+01, 6.90871422e+01, 3.67273310e+01,\n",
       "       5.76759315e+01, 2.63509709e-01, 3.71866618e+01, 3.03152642e+00,\n",
       "       3.04477731e+00, 2.21872699e+00, 3.35404640e+00, 8.34105341e+00,\n",
       "       4.09125532e+00, 2.74808903e+01, 2.25031911e+02, 3.71824013e-03,\n",
       "       5.59592008e+01, 1.65067864e+00, 1.00968835e+02, 4.50191242e+01,\n",
       "       4.65401330e+01, 1.03290765e+01, 1.31095195e+00, 1.59233769e+01,\n",
       "       1.26430543e+01, 6.16550403e+00, 1.56355747e+00, 1.22757749e+02,\n",
       "       6.04349609e+00, 5.48924266e+01, 3.03372856e+00, 1.25927066e+01,\n",
       "       5.66836456e+00, 5.40694112e-01, 2.16076532e+01, 3.54644216e+00,\n",
       "       1.74103824e+00, 8.68407972e+00, 9.61033908e+01, 4.02529879e+01,\n",
       "       6.51086942e+00, 2.83842508e+01, 4.25547953e+00, 3.74319852e-02,\n",
       "       7.64982467e+01, 1.33827871e+01, 1.91154944e+00, 7.24783999e-01,\n",
       "       1.43263449e+01, 2.15650552e+02, 1.19011460e+02, 2.19869881e+01,\n",
       "       3.21234584e+00, 1.07502564e+02, 1.80712042e+01, 1.85892566e+00,\n",
       "       7.31905378e+00, 1.15204986e+01, 1.56614604e-01, 8.10653618e+00,\n",
       "       2.84009655e+00, 1.27920270e+01, 1.85033717e+00, 1.16337899e+01,\n",
       "       4.66603633e+00, 1.56053245e+01, 3.50528449e+01, 1.80315583e+01,\n",
       "       3.71268522e+01, 6.91059152e+00, 1.04290615e+01, 1.13104691e+01,\n",
       "       1.10219117e+01, 3.01938858e+01, 1.37779903e+01, 1.05275674e+02,\n",
       "       7.19885944e+01, 1.56008675e+01, 1.00458017e+02, 3.56308918e+00,\n",
       "       4.45509508e+00, 3.16676950e+00, 6.19080240e+00, 2.98729626e+01,\n",
       "       3.30701075e+01, 4.08193743e+01, 7.97563889e+01, 3.08566686e+01,\n",
       "       4.81910156e+00, 3.06143267e+01, 8.24918151e+00, 5.89276515e+00,\n",
       "       1.93940461e-01, 1.16174377e+00, 5.33809917e+00, 1.48076825e-01,\n",
       "       8.84537098e+00, 6.88016254e+00, 1.15203331e+01, 1.29201514e+00,\n",
       "       5.63221634e+01, 2.53207878e+01, 2.35538082e+00, 1.32261532e+02,\n",
       "       3.06067992e+01, 4.66275981e+00, 1.19171751e+01, 2.48726337e+01,\n",
       "       1.16091445e+01, 2.72801411e+01, 1.17350960e+01, 9.85456629e+00,\n",
       "       4.55786889e-01, 5.09063901e+00, 1.69256108e+01, 4.80493439e+00,\n",
       "       1.61799071e+00, 2.44363172e+01, 1.10414348e+01, 5.77701813e+01,\n",
       "       8.74400989e+00, 2.42474841e+00, 1.52625572e+01, 3.06441635e+02,\n",
       "       2.14837078e+01, 5.56220223e+01, 2.09447353e+01, 1.12563407e+01,\n",
       "       1.44257007e+01, 3.16045938e+01, 7.18120472e+01, 1.08135911e+01,\n",
       "       5.48699255e-02, 4.47199427e+01, 5.75795886e+00, 6.99509656e+00,\n",
       "       5.60157683e+00, 7.47565863e+01, 1.61972974e+01, 2.54373627e+01])>"
      ]
     },
     "execution_count": 42,
     "metadata": {},
     "output_type": "execute_result"
    }
   ],
   "source": [
    "toymc_model_mix(tt)"
   ]
  },
  {
   "cell_type": "code",
   "execution_count": 28,
   "metadata": {},
   "outputs": [
    {
     "data": {
      "text/plain": [
       "<tf.Tensor: shape=(452,), dtype=float64, numpy=\n",
       "array([2.23400958e+01, 4.45414947e+00, 8.39716719e-01, 1.68855265e+01,\n",
       "       3.15136364e+01, 4.75481816e+01, 3.00806092e+01, 1.10797839e+01,\n",
       "       5.65884145e+01, 7.90274131e+00, 7.54829634e+00, 3.05407371e+01,\n",
       "       3.06934074e+01, 4.24854309e+01, 1.74426342e+02, 1.88074393e+01,\n",
       "       2.95548257e+01, 1.00457142e+01, 1.49102563e+02, 6.41224863e+01,\n",
       "       5.70001150e+01, 8.81118587e+00, 4.26887895e+00, 8.94830601e+00,\n",
       "       2.52087442e+01, 4.03286646e+01, 1.74794189e+01, 1.11379357e+02,\n",
       "       7.75136063e+01, 2.43443924e+01, 3.95918682e+01, 3.32445699e+01,\n",
       "       2.93931464e+02, 1.43144876e+01, 6.05481514e+01, 5.58801820e+01,\n",
       "       2.32388297e+02, 1.11238627e+01, 3.05498454e+01, 8.41533001e+00,\n",
       "       2.05238794e+02, 2.41387105e+02, 2.37776592e+00, 5.48326442e+01,\n",
       "       3.24491650e+01, 7.36836379e+00, 2.67480562e+01, 1.65942133e+01,\n",
       "       7.12383773e+01, 5.35121782e+00, 5.51890651e+01, 1.19458755e+01,\n",
       "       8.20284580e+01, 2.89207482e+01, 3.14315240e+02, 4.08246545e+00,\n",
       "       4.59550001e+01, 1.76192747e+01, 1.42585902e+01, 4.78964485e+01,\n",
       "       3.53344116e+01, 1.68897055e+02, 5.30415393e+00, 1.57862302e+01,\n",
       "       1.06370126e+02, 4.37406492e+01, 8.31398035e+00, 2.55274150e+02,\n",
       "       1.16940503e+02, 5.22505405e+01, 4.53705241e+01, 5.81624773e+01,\n",
       "       1.17387206e+02, 1.90294323e+01, 7.71211755e+01, 5.11948307e+01,\n",
       "       1.80560305e+02, 5.93806343e+00, 6.22017832e+01, 1.65704929e+01,\n",
       "       9.77215758e+00, 1.93440401e+01, 1.31589279e+02, 9.89960627e+01,\n",
       "       4.36062241e+01, 2.47621623e+01, 1.36855432e+02, 5.66707050e+01,\n",
       "       3.91728992e+01, 5.38347607e+01, 3.39502337e+01, 1.76868181e+02,\n",
       "       2.46597261e+01, 4.80945765e+00, 1.26906431e+01, 3.56648319e+01,\n",
       "       6.73575612e+01, 6.99657261e+00, 1.05370041e+01, 3.54694720e+01,\n",
       "       2.89837668e+02, 2.06452081e+01, 3.33156558e+01, 1.66275683e+01,\n",
       "       4.99209060e+00, 1.46565712e+02, 2.17476451e-01, 2.33322965e+01,\n",
       "       6.02862407e+01, 4.65678865e+00, 6.86790982e+00, 1.26043713e+01,\n",
       "       1.93143967e+01, 8.03992946e+01, 4.95046527e+01, 3.22269480e+01,\n",
       "       1.16201971e+01, 1.42935703e+02, 1.53469138e+01, 3.36768835e+01,\n",
       "       6.25986532e+01, 4.91465947e+01, 5.58361044e+01, 6.12352470e+01,\n",
       "       1.19438253e+02, 4.10096824e+01, 4.40774683e+01, 6.53925655e+01,\n",
       "       2.41522931e+01, 3.47424030e+01, 2.91204575e+01, 1.15324267e+02,\n",
       "       4.98422638e+01, 7.61491189e+01, 2.74142732e+01, 3.56040551e+01,\n",
       "       2.29015185e+01, 3.60347419e+00, 5.98965649e+00, 9.26542312e+01,\n",
       "       5.15988895e+01, 3.03703201e+02, 2.94257939e+01, 1.50786810e+02,\n",
       "       7.31756381e+00, 4.56290160e+01, 2.77691719e+01, 7.62219914e+00,\n",
       "       1.64803224e+02, 5.55176206e+01, 1.82563680e+01, 9.76380510e+00,\n",
       "       2.08707431e+02, 3.55619440e+01, 2.48641824e+01, 1.39624643e+01,\n",
       "       4.99459714e+01, 1.15400100e+01, 2.95056096e+02, 3.34501933e+01,\n",
       "       3.34603891e+00, 2.85152339e+01, 1.94114467e+01, 2.42852248e+02,\n",
       "       1.08466151e+02, 4.91275519e+01, 2.34299875e+01, 3.14969243e+01,\n",
       "       3.49799298e+02, 4.76785833e+01, 1.31536887e+01, 7.52771534e+01,\n",
       "       8.01456927e+00, 1.14514599e+01, 6.91339695e+00, 1.74171968e+01,\n",
       "       3.36444362e+01, 3.03626166e+01, 4.94520739e+01, 1.45929826e+01,\n",
       "       1.66149505e+02, 4.52185479e+00, 2.87941053e+02, 1.12582725e+02,\n",
       "       8.78456782e+01, 1.70411047e+01, 4.85090040e+01, 3.06997631e+01,\n",
       "       1.71589616e+01, 3.12362568e+01, 4.56765881e+01, 7.99119566e+01,\n",
       "       7.23997947e+01, 1.16769178e+02, 2.50009261e+01, 2.34871429e+01,\n",
       "       1.77329959e+01, 2.86207484e+02, 2.08004898e+01, 4.08104931e+00,\n",
       "       1.23193224e+01, 1.37380659e+01, 1.24576352e+02, 1.05304214e+01,\n",
       "       9.21849748e+01, 2.39792399e+02, 6.26760567e+01, 2.36254748e+02,\n",
       "       5.68243667e+01, 4.21488526e+01, 1.40189444e+01, 3.99695354e+01,\n",
       "       2.17375885e+01, 1.09236348e+01, 4.80904585e+01, 1.89469180e+01,\n",
       "       1.08050035e+02, 4.12386033e+00, 3.16643501e+01, 5.64271425e+01,\n",
       "       3.46010487e-01, 2.33418094e+01, 7.93757841e+00, 2.65718020e+01,\n",
       "       4.54776371e+01, 2.78400281e+01, 1.47169076e+01, 6.02638193e+01,\n",
       "       3.34009650e+01, 8.70998994e+00, 3.06732672e+00, 5.95263266e+00,\n",
       "       2.35800937e+02, 6.40071942e+00, 2.29658497e+01, 8.57169487e+01,\n",
       "       1.70837461e+01, 7.45296453e+01, 3.46686660e+00, 1.09797533e+02,\n",
       "       5.28024296e+00, 8.71520729e+01, 3.39369375e+00, 1.80402715e+01,\n",
       "       4.43961689e+01, 6.25838103e+01, 6.31861804e+01, 3.23784180e+01,\n",
       "       1.20729888e+01, 9.68036696e+01, 1.67846204e+02, 1.32828150e+02,\n",
       "       1.34440827e+01, 8.21410748e+01, 6.31174595e+01, 3.61618675e+01,\n",
       "       4.07716424e+01, 9.46230496e+01, 3.88071858e+01, 4.54306464e+01,\n",
       "       4.87045974e+01, 4.68862069e+01, 2.19770491e+01, 4.65746236e+01,\n",
       "       6.49867615e+01, 4.22443238e+01, 2.41641952e+01, 9.30703211e+01,\n",
       "       1.80579067e+01, 1.56939771e+01, 6.66846025e+00, 1.93418057e+01,\n",
       "       2.56456241e+00, 2.88885005e+01, 1.62004854e+01, 3.01110174e+01,\n",
       "       6.74819716e+01, 6.72962934e+01, 6.32696416e+01, 3.28351620e+01,\n",
       "       3.32193002e+00, 3.10634158e+02, 2.87381928e+01, 9.33943868e+00,\n",
       "       1.48144904e+02, 1.58760659e+00, 7.00593519e+01, 1.20960012e+02,\n",
       "       7.57217955e+01, 1.27780905e+01, 5.35755329e+01, 5.13761503e+01,\n",
       "       8.00914539e+00, 3.39147199e+02, 1.82012140e+01, 4.07025438e+01,\n",
       "       1.51481738e+00, 3.74178500e+01, 3.30417245e+01, 1.23386601e+01,\n",
       "       2.47048867e+01, 1.06432143e+01, 4.14401245e+00, 1.99065457e+02,\n",
       "       6.06122768e+00, 3.97687088e+01, 1.03299565e+02, 8.71575720e+00,\n",
       "       2.61702149e+02, 3.29582909e+02, 1.32196765e+02, 2.35278541e+01,\n",
       "       1.64426567e+02, 7.70734305e+01, 1.73569844e+02, 4.21506410e+01,\n",
       "       2.14172030e+02, 3.87062104e+00, 3.82352714e+01, 7.65172611e+01,\n",
       "       4.13316702e+00, 3.22837572e+00, 7.77981516e+00, 2.75950728e+01,\n",
       "       9.40693276e+00, 2.80168522e+01, 2.49996826e+02, 4.46773378e+00,\n",
       "       7.71544053e+01, 1.23289651e+01, 1.51503026e+02, 1.11586271e+02,\n",
       "       1.14433222e+02, 3.15812776e+01, 9.15203241e+00, 1.63157571e+01,\n",
       "       2.03700585e+01, 2.09702084e+01, 3.93013837e+00, 1.55408645e+02,\n",
       "       1.53815481e+01, 9.65689259e+01, 1.39969795e+01, 3.29644047e+01,\n",
       "       5.74084483e+01, 4.07755439e+00, 2.17397716e+01, 2.07065374e+01,\n",
       "       3.19433153e+01, 3.43419838e+01, 1.88772889e+02, 7.33439833e+01,\n",
       "       4.58976575e+01, 1.15164181e+02, 4.33682872e+00, 7.14770423e-01,\n",
       "       9.78446170e+01, 2.05733908e+01, 3.26252691e+00, 1.31289806e+01,\n",
       "       2.14414242e+01, 2.33885014e+02, 2.21020990e+02, 3.68683009e+01,\n",
       "       2.11554529e+01, 1.16339634e+02, 4.04587447e+01, 9.86588526e+00,\n",
       "       2.27947511e+01, 4.11070155e+01, 7.31914460e+01, 2.59388240e+01,\n",
       "       5.22463439e+00, 2.23142153e+01, 4.32885432e+00, 4.23284405e+01,\n",
       "       5.48359044e+00, 2.44830844e+01, 1.19823300e+02, 3.39350250e+01,\n",
       "       7.45223541e+01, 3.07175535e+01, 1.51252308e+01, 7.38064212e+01,\n",
       "       2.10288825e+01, 5.68252535e+01, 3.56905586e+01, 1.32678141e+02,\n",
       "       7.92991810e+01, 1.82553997e+01, 2.58344514e+02, 5.17834386e+00,\n",
       "       5.80642786e+00, 6.63690140e+00, 1.36111612e+01, 3.99472267e+01,\n",
       "       6.82194576e+01, 7.40756600e+01, 2.48990760e+02, 5.83929255e+01,\n",
       "       8.49664292e+00, 7.41487962e+01, 1.05384199e+01, 3.07979415e+01,\n",
       "       6.55350249e+00, 7.80318200e+00, 8.39642430e+01, 5.40958304e-01,\n",
       "       1.60706601e+01, 2.89456683e+01, 1.19080897e+01, 8.16559166e+00,\n",
       "       7.19332401e+01, 2.62222749e+01, 4.35752958e+01, 1.81247830e+02,\n",
       "       3.60488310e+01, 1.10798198e+01, 1.32825789e+01, 6.52263437e+01,\n",
       "       1.42446131e+01, 4.75344295e+01, 3.58011603e+01, 2.05442591e+02,\n",
       "       6.43320101e-01, 3.18909985e+01, 2.80336283e+01, 1.82295562e+01,\n",
       "       7.67701923e+00, 2.72258678e+01, 4.19530616e+01, 5.93444184e+01,\n",
       "       2.42350171e+01, 1.84683324e+02, 3.89066452e+01, 3.13144757e+02,\n",
       "       4.36219994e+01, 8.79628877e+01, 3.25606776e+01, 1.59097625e+01,\n",
       "       3.24608007e+01, 3.31860347e+01, 7.59211626e+01, 1.21636337e+01,\n",
       "       1.74405515e-01, 7.75325349e+01, 3.17502934e+01, 8.32769704e+00,\n",
       "       1.85506423e+01, 1.03543527e+02, 1.10136208e+02, 4.28961329e+01])>"
      ]
     },
     "execution_count": 28,
     "metadata": {},
     "output_type": "execute_result"
    }
   ],
   "source": [
    "toymc_model(c_phsp.data1(tt))"
   ]
  },
  {
   "cell_type": "code",
   "execution_count": 39,
   "metadata": {},
   "outputs": [
    {
     "name": "stdout",
     "output_type": "stream",
     "text": [
      "tf.Tensor(\n",
      "[8.48086813e-01 8.78704763e-01 5.97014872e-01 7.93763716e-01\n",
      " 2.88830955e-01 5.64074622e-01 7.01217348e-01 8.01417228e-01\n",
      " 8.53566321e-02 1.62259543e-01 8.18969904e-01 1.69146424e-01\n",
      " 5.37201211e-01 4.00851903e-01 1.01525990e-01 6.89359814e-01\n",
      " 3.72679300e-01 3.90764790e-01 2.18752947e-03 7.81304593e-01\n",
      " 9.05627849e-02 7.57798060e-01 7.10259137e-01 2.39196024e-01\n",
      " 7.18024607e-01 4.25223618e-01 9.50048409e-01 9.52574908e-01\n",
      " 7.31896270e-01 3.55215348e-01 5.69331994e-01 4.60804097e-01\n",
      " 5.72540669e-01 5.71417429e-01 6.87762597e-01 1.81010222e-01\n",
      " 9.31938523e-01 8.22562412e-01 1.89423250e-01 2.94599073e-02\n",
      " 5.12270259e-01 9.45353690e-01 7.76892805e-01 2.16779433e-01\n",
      " 2.42008840e-01 8.97179622e-02 6.96909638e-01 1.31632678e-02\n",
      " 4.52508223e-01 6.53614448e-01 8.75815295e-01 7.51570461e-01\n",
      " 4.76662782e-01 5.86721716e-01 3.20541573e-01 7.97742274e-01\n",
      " 4.14952043e-01 4.45678190e-01 7.57528108e-01 2.29232994e-01\n",
      " 6.07570372e-01 9.09752424e-01 2.53449060e-01 6.63432944e-01\n",
      " 5.16298970e-01 8.64243801e-01 5.67276514e-01 4.30617471e-01\n",
      " 6.41116564e-01 9.44485011e-01 9.34752483e-01 9.34125789e-01\n",
      " 8.59111497e-02 4.33671434e-02 9.68827172e-01 4.33014590e-01\n",
      " 7.71564461e-01 8.80412923e-01 4.60493983e-01 2.09032547e-01\n",
      " 9.35485000e-02 9.88143609e-02 6.85696750e-01 7.58266356e-01\n",
      " 8.62895360e-01 9.32584017e-01 3.85220917e-01 7.93737767e-01\n",
      " 4.84250272e-01 3.56485591e-01 3.48506606e-01 7.74679258e-01\n",
      " 3.37826025e-01 4.23435799e-01 1.59514954e-01 6.06253422e-01\n",
      " 6.91354409e-01 2.35454152e-03 7.95845625e-01 4.24624557e-01\n",
      " 1.68647202e-01 9.61515424e-01 1.13660324e-01 3.94763355e-01\n",
      " 9.38511446e-01 2.59032774e-01 2.45505427e-01 8.59364815e-01\n",
      " 8.66364434e-01 8.41721150e-02 2.12128916e-01 9.66476349e-01\n",
      " 8.21838088e-01 4.36901598e-01 2.27557046e-01 5.15764144e-01\n",
      " 8.00305486e-01 1.24690599e-01 2.35423266e-01 7.64043511e-01\n",
      " 3.25918930e-01 9.35780606e-01 2.94714210e-01 8.60446235e-01\n",
      " 5.50880767e-01 9.44598947e-01 8.79936471e-01 7.72432231e-02\n",
      " 6.53184260e-01 3.66273914e-01 7.11660772e-01 5.81263091e-01\n",
      " 9.00648172e-01 8.99713788e-01 5.73184989e-01 3.34010859e-01\n",
      " 8.00754357e-01 4.91701879e-01 8.13671457e-01 7.92440707e-01\n",
      " 6.90125607e-02 4.05798566e-01 2.96146246e-01 5.67248606e-01\n",
      " 4.21534394e-01 7.36786699e-01 8.93288229e-01 5.62596388e-01\n",
      " 3.86374249e-01 3.98267664e-01 2.58194629e-01 6.48276172e-01\n",
      " 5.48832595e-01 1.45115770e-01 8.87900800e-01 7.57533389e-01\n",
      " 7.78167130e-02 7.92116564e-01 8.17828709e-01 6.03975186e-01\n",
      " 6.67653701e-01 6.87383202e-01 4.48554455e-01 4.60274121e-01\n",
      " 8.67214557e-01 8.33185029e-03 5.01481179e-01 3.83752172e-01\n",
      " 1.75708642e-01 7.96319771e-01 6.88066387e-01 8.65625726e-01\n",
      " 5.84941911e-01 4.51591867e-01 7.59078168e-01 3.67684435e-01\n",
      " 4.30233450e-02 9.79459643e-01 1.71189162e-01 3.49085664e-02\n",
      " 2.34066273e-01 8.75305715e-01 6.47887269e-02 2.67382336e-01\n",
      " 4.74675362e-01 3.77359950e-01 8.81175762e-01 7.99809839e-01\n",
      " 5.16316116e-01 3.75274428e-01 6.48301812e-01 4.67350856e-01\n",
      " 4.77095267e-01 7.43792858e-01 5.14135200e-01 5.03589356e-01\n",
      " 7.20824980e-01 4.20016473e-01 8.99852561e-01 8.07853895e-01\n",
      " 2.26811488e-02 6.22970224e-04 3.26759911e-01 5.49824615e-01\n",
      " 5.94610228e-01 8.39541750e-01 3.49121413e-01 6.09473336e-01\n",
      " 8.02960855e-01 4.71013781e-01 4.72721028e-01 8.84719983e-01\n",
      " 9.10065218e-01 6.99297344e-01 4.69943469e-01 2.80613541e-01\n",
      " 4.74925014e-01 7.02435072e-01 4.38151794e-01 6.87428545e-01\n",
      " 5.77344661e-01 6.83330450e-01 5.08070702e-01 2.86930077e-01\n",
      " 7.14112090e-01 7.81948820e-01 3.15276657e-01 5.35294104e-01\n",
      " 4.32287694e-01 8.32059721e-02 1.06649285e-01 8.70093086e-02\n",
      " 6.46399166e-01 3.76709844e-01 4.90170833e-02 7.08093886e-01\n",
      " 3.46340058e-01 2.54725290e-01 5.46901428e-01 1.74686005e-01\n",
      " 4.89654141e-01 1.74911263e-01 7.93352052e-01 7.86252577e-01\n",
      " 7.09080638e-01 4.62661984e-01 6.37534791e-01 8.67454372e-01\n",
      " 7.12881581e-01 1.27540956e-01 6.29596253e-01 4.10283371e-01\n",
      " 5.48526649e-01 5.80938410e-01 8.93576186e-01 5.27428509e-02\n",
      " 4.20924587e-01 7.57471071e-01 5.50202633e-01 5.03285678e-02\n",
      " 4.75985698e-02 4.19195617e-02 9.47817007e-01 2.81228503e-01\n",
      " 9.22508445e-01 7.66898260e-01 3.45444909e-02 3.20982575e-01\n",
      " 7.76350409e-01 3.89031852e-01 3.03562962e-01 5.05778986e-01\n",
      " 8.96707195e-01 7.81457274e-01 2.54630068e-02 3.60844243e-01\n",
      " 3.86823428e-01 3.81343156e-01 7.39072640e-01 5.23457878e-01\n",
      " 7.73294966e-01 3.40824045e-01 7.23686484e-01 4.94200384e-01\n",
      " 1.90791658e-01 6.35284442e-01 6.48053057e-01 1.60204648e-01\n",
      " 2.59018337e-02 1.46303739e-02 6.75777830e-01 4.55794422e-01\n",
      " 5.21351435e-01 5.56491394e-01 9.53608509e-01 7.06451124e-01\n",
      " 8.46218059e-01 8.41018574e-01 6.51524703e-01 2.43934656e-01\n",
      " 9.73466578e-02 4.33248814e-01 1.66634347e-01 9.88024051e-01\n",
      " 4.00127656e-01 1.74439444e-01 3.93013439e-01 2.35960879e-01\n",
      " 8.72096116e-01 3.49102575e-01 2.24420702e-01 7.54475657e-01\n",
      " 8.29571171e-01 1.78330571e-01 3.98036553e-01 8.71335053e-01\n",
      " 2.69297216e-01 6.80794390e-02 9.72574811e-01 3.96188569e-02\n",
      " 7.36669313e-01 6.87257985e-01 4.31121605e-01 3.02266041e-01\n",
      " 4.34919163e-01 9.80870017e-01 9.00139074e-01 8.32242992e-04\n",
      " 7.25288473e-01 1.33886229e-01 6.66447646e-01 4.03446802e-01\n",
      " 4.06701236e-01 3.27063289e-01 1.43241621e-01 9.75950845e-01\n",
      " 6.20668530e-01 2.94012529e-01 3.97837767e-01 7.89902964e-01\n",
      " 3.92905581e-01 5.68427432e-01 2.16741659e-01 3.82009223e-01\n",
      " 9.87374634e-02 1.32602550e-01 9.93922733e-01 1.71271618e-01\n",
      " 5.45039932e-02 2.52870649e-01 5.09095300e-01 5.48824676e-01\n",
      " 1.41856247e-01 2.46467700e-01 9.81242239e-01 5.23692419e-02\n",
      " 7.81833984e-01 6.50490101e-01 5.85910704e-01 5.52048954e-02\n",
      " 6.68162001e-01 9.22036635e-01 5.38462251e-01 5.96365646e-01\n",
      " 1.51844816e-01 9.24040764e-01 4.46657560e-01 1.88419550e-01\n",
      " 3.21085049e-01 2.80256266e-01 2.13979382e-03 3.12525201e-01\n",
      " 5.43597186e-01 5.73268064e-01 4.27442699e-01 2.74845701e-01\n",
      " 8.50908977e-01 6.37392097e-01 2.92537803e-01 5.31355386e-01\n",
      " 4.98197523e-01 2.24972068e-01 6.89514202e-01 1.53245056e-01\n",
      " 5.24132069e-01 5.31346257e-01 3.86040197e-01 7.93466604e-01\n",
      " 9.07810062e-01 8.54589203e-01 3.88852915e-01 6.88075044e-01\n",
      " 7.67269513e-01 4.77145781e-01 4.54832790e-01 7.47810677e-01\n",
      " 4.84760633e-01 5.51049755e-01 3.20318669e-01 5.28431627e-01\n",
      " 5.67177132e-01 4.12876922e-01 7.82772142e-01 1.91336332e-01\n",
      " 2.95934062e-02 1.48880773e-01 6.35758625e-02 2.73730570e-01\n",
      " 5.50404957e-01 2.37692302e-01 9.67437542e-01 1.58226764e-01\n",
      " 7.82978264e-01 9.65621325e-01 5.40531229e-02 7.29727533e-01\n",
      " 8.49037218e-01 4.20833544e-01 8.97203413e-01 3.81328039e-01\n",
      " 8.14984899e-01 5.73902778e-01 3.27785354e-01 4.79674942e-02\n",
      " 7.08491603e-01 1.59626203e-01 6.03760977e-01 2.63579340e-01\n",
      " 2.10757673e-01 8.97540435e-01 2.63185435e-01 9.73472870e-01\n",
      " 3.60800649e-01 1.31292223e-02 3.92286643e-01 9.78594175e-01\n",
      " 4.92497091e-01 6.32335111e-01 6.43252440e-01 7.07511549e-01\n",
      " 4.44403724e-01 9.52346193e-01 9.45876549e-01 8.89009926e-01\n",
      " 3.14611183e-01 5.76789380e-01 1.81351359e-01 8.39979712e-01\n",
      " 3.01961341e-01 7.21982228e-01 1.47066053e-01 5.92998972e-01], shape=(452,), dtype=float64)\n"
     ]
    }
   ],
   "source": [
    "tep = psip(c_phsp.phsp2.t(c_phsp.data2(tt)), x_mix, tdz)\n",
    "tep = tf.squeeze(tep)\n",
    "print(tep)"
   ]
  },
  {
   "cell_type": "code",
   "execution_count": null,
   "metadata": {},
   "outputs": [],
   "source": []
  }
 ],
 "metadata": {
  "kernelspec": {
   "display_name": "Python 3 (ipykernel)",
   "language": "python",
   "name": "python3"
  },
  "language_info": {
   "codemirror_mode": {
    "name": "ipython",
    "version": 3
   },
   "file_extension": ".py",
   "mimetype": "text/x-python",
   "name": "python",
   "nbconvert_exporter": "python",
   "pygments_lexer": "ipython3",
   "version": "3.12.4"
  }
 },
 "nbformat": 4,
 "nbformat_minor": 4
}

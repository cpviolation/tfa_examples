{
 "cells": [
  {
   "cell_type": "markdown",
   "metadata": {},
   "source": [
    "# Lineshapes for $D^0\\to K^0_S\\pi^+\\pi^-$\n",
    "\n",
    "In this notebook, various lineshapes to study the $D^0\\to K^0_S\\pi^+\\pi^-$ decay are implemented. The lineshapes are:\n",
    "\n",
    "- $K^*(892)^-$\n",
    "- $K_0^*(1430)^-$ \n",
    "- $K_2^*(1430)^-$\n",
    "- $K^*(1410)^-$\n",
    "- $K^*(1680)^-$\n",
    "- $\\rho(770)$\n",
    "- $\\omega(782)$\n",
    "- $f_2(1270)$\n",
    "- $\\rho(1450)$\n",
    "- ππ S wave"
   ]
  },
  {
   "cell_type": "markdown",
   "metadata": {},
   "source": []
  },
  {
   "cell_type": "code",
   "execution_count": 1,
   "metadata": {},
   "outputs": [
    {
     "name": "stderr",
     "output_type": "stream",
     "text": [
      "2025-04-17 15:45:19.317350: E external/local_xla/xla/stream_executor/cuda/cuda_fft.cc:467] Unable to register cuFFT factory: Attempting to register factory for plugin cuFFT when one has already been registered\n",
      "WARNING: All log messages before absl::InitializeLog() is called are written to STDERR\n",
      "E0000 00:00:1744897519.336951   48347 cuda_dnn.cc:8579] Unable to register cuDNN factory: Attempting to register factory for plugin cuDNN when one has already been registered\n",
      "E0000 00:00:1744897519.343114   48347 cuda_blas.cc:1407] Unable to register cuBLAS factory: Attempting to register factory for plugin cuBLAS when one has already been registered\n",
      "W0000 00:00:1744897519.358524   48347 computation_placer.cc:177] computation placer already registered. Please check linkage and avoid linking the same target more than once.\n",
      "W0000 00:00:1744897519.358539   48347 computation_placer.cc:177] computation placer already registered. Please check linkage and avoid linking the same target more than once.\n",
      "W0000 00:00:1744897519.358542   48347 computation_placer.cc:177] computation placer already registered. Please check linkage and avoid linking the same target more than once.\n",
      "W0000 00:00:1744897519.358544   48347 computation_placer.cc:177] computation placer already registered. Please check linkage and avoid linking the same target more than once.\n",
      "2025-04-17 15:45:19.363734: I tensorflow/core/platform/cpu_feature_guard.cc:210] This TensorFlow binary is optimized to use available CPU instructions in performance-critical operations.\n",
      "To enable the following instructions: AVX2 FMA, in other operations, rebuild TensorFlow with the appropriate compiler flags.\n"
     ]
    },
    {
     "name": "stdout",
     "output_type": "stream",
     "text": [
      "WARNING:tensorflow:From /user/gr1/lhcb/mmartinelli/environments/tfa/lib64/python3.9/site-packages/tensorflow/python/util/deprecation.py:588: calling function (from tensorflow.python.eager.polymorphic_function.polymorphic_function) with experimental_relax_shapes is deprecated and will be removed in a future version.\n",
      "Instructions for updating:\n",
      "experimental_relax_shapes is deprecated, use reduce_retracing instead\n"
     ]
    },
    {
     "name": "stderr",
     "output_type": "stream",
     "text": [
      "I0000 00:00:1744897521.735205   48347 gpu_device.cc:2019] Created device /job:localhost/replica:0/task:0/device:GPU:0 with 46761 MB memory:  -> device: 0, name: NVIDIA RTX A6000, pci bus id: 0000:41:00.0, compute capability: 8.6\n"
     ]
    }
   ],
   "source": [
    "# Import tensorflow\n",
    "import tensorflow as tf\n",
    "\n",
    "# Import AmpliTF modules\n",
    "import amplitf.interface as atfi\n",
    "import amplitf.kinematics as atfk\n",
    "import amplitf.dynamics as atfd\n",
    "import amplitf.likelihood as atfl\n",
    "from amplitf.phasespace.dalitz_phasespace import DalitzPhaseSpace\n",
    "\n",
    "# Import TFA modules\n",
    "import tfa.toymc as tft\n",
    "import tfa.plotting as tfp\n",
    "import tfa.optimisation as tfo"
   ]
  },
  {
   "cell_type": "code",
   "execution_count": 2,
   "metadata": {},
   "outputs": [],
   "source": [
    "tf.config.run_functions_eagerly(True)"
   ]
  },
  {
   "cell_type": "code",
   "execution_count": 3,
   "metadata": {},
   "outputs": [],
   "source": [
    "# Masses of final state particles\n",
    "from particle.particle import literals as lp\n",
    "# Dalitz Particles\n",
    "mkz = atfi.const(lp.K_S_0.mass/1000)\n",
    "mpi = atfi.const(lp.pi_plus.mass/1000)\n",
    "md = atfi.const(lp.D_0.mass/1000)\n",
    "\n",
    "# Resonances\n",
    "mkst = atfi.const(lp.Kst_892_0.mass/1000)\n",
    "wkst = atfi.const(lp.Kst_892_0.width/1000)\n",
    "mrho = atfi.const(lp.rho_770_0.mass/1000)\n",
    "wrho = atfi.const(lp.rho_770_0.width/1000)\n",
    "mk0st1430 = atfi.const(lp.K_0st_1430_plus.mass/1000)\n",
    "wk0st1430 = atfi.const(lp.K_0st_1430_plus.width/1000)\n",
    "mk2st1430 = atfi.const(lp.K_2st_1430_plus.mass/1000)\n",
    "wk2st1430 = atfi.const(lp.K_2st_1430_plus.width/1000)\n",
    "mkst1410 = atfi.const(lp.Kst_1410_plus.mass/1000)\n",
    "wkst1410 = atfi.const(lp.Kst_1410_plus.width/1000)\n",
    "mkst1680 = atfi.const(lp.Kst_1680_plus.mass/1000)\n",
    "wkst1680 = atfi.const(lp.Kst_1680_plus.width/1000)\n",
    "momega = atfi.const(lp.omega_782.mass/1000)\n",
    "womega = atfi.const(lp.omega_782.width/1000)\n",
    "mf2_1270 = atfi.const(lp.f_2_1270.mass/1000)\n",
    "wf2_1270 = atfi.const(lp.f_2_1270.width/1000)\n",
    "mrho1450 = atfi.const(lp.rho_1450_0.mass/1000)\n",
    "wrho1450 = atfi.const(lp.rho_1450_0.width/1000)\n",
    "\n",
    "# Blatt-Weisskopf radii for Breit-Wigner lineshape\n",
    "rd = atfi.const(5.0)\n",
    "rr = atfi.const(1.5)\n",
    "\n",
    "# Useful constants\n",
    "deg2rad = atfi.pi() / 180.0"
   ]
  },
  {
   "cell_type": "code",
   "execution_count": 4,
   "metadata": {},
   "outputs": [],
   "source": [
    "phsp = DalitzPhaseSpace(mpi, mkz, mpi, md)"
   ]
  },
  {
   "cell_type": "markdown",
   "metadata": {},
   "source": [
    "generate plotting sample"
   ]
  },
  {
   "cell_type": "code",
   "execution_count": 5,
   "metadata": {},
   "outputs": [],
   "source": [
    "nnorm=100000\n",
    "norm_sample = phsp.uniform_sample(nnorm)"
   ]
  },
  {
   "cell_type": "code",
   "execution_count": 6,
   "metadata": {},
   "outputs": [],
   "source": [
    "def bw(m2, coshel, mass, width, spin, masses=[mpi, mpi, mkz]):\n",
    "    #m2 = phsp.__getattribute__('m2'+particles)(x)\n",
    "    bw = atfd.breit_wigner_lineshape(m2, mass, width, masses[0], masses[1], masses[2], md, rd, rr, 1, 1)\n",
    "    #coshel = phsp.__getattribute__('cos_helicity_'+particles)(x)\n",
    "    helamp = atfd.helicity_amplitude(coshel, spin)\n",
    "    return atfd.density(bw*helamp)"
   ]
  },
  {
   "cell_type": "code",
   "execution_count": 7,
   "metadata": {},
   "outputs": [],
   "source": [
    "masses_ab = masses_bc = [mpi, mkz, mpi]\n",
    "masses_ac = [mpi, mpi, mkz]"
   ]
  },
  {
   "cell_type": "code",
   "execution_count": 8,
   "metadata": {},
   "outputs": [],
   "source": [
    "import matplotlib.pyplot as plt\n",
    "import numpy as np\n",
    "import scipy\n",
    "from scipy.integrate import trapezoid\n"
   ]
  },
  {
   "cell_type": "code",
   "execution_count": 9,
   "metadata": {},
   "outputs": [
    {
     "name": "stdout",
     "output_type": "stream",
     "text": [
      "/usr/lib64/python39.zip\n",
      "/usr/lib64/python3.9\n",
      "/usr/lib64/python3.9/lib-dynload\n",
      "\n",
      "/user/gr1/lhcb/mmartinelli/environments/tfa/lib64/python3.9/site-packages\n",
      "/user/gr1/lhcb/mmartinelli/environments/tfa/lib/python3.9/site-packages\n"
     ]
    }
   ],
   "source": [
    "import sys\n",
    "print(\"\\n\".join(sys.path))"
   ]
  },
  {
   "cell_type": "code",
   "execution_count": 10,
   "metadata": {},
   "outputs": [
    {
     "data": {
      "text/plain": [
       "<matplotlib.legend.Legend at 0x7fd5f80f5f10>"
      ]
     },
     "execution_count": 10,
     "metadata": {},
     "output_type": "execute_result"
    },
    {
     "data": {
      "image/png": "[encoded data removed]",
      "text/plain": [
       "<Figure size 640x480 with 1 Axes>"
      ]
     },
     "metadata": {},
     "output_type": "display_data"
    }
   ],
   "source": [
    "xpl = np.linspace(np.min(phsp.m2ab(norm_sample)), np.max(phsp.m2ab(norm_sample)), 1000)\n",
    "ykst = atfd.density(atfd.breit_wigner_lineshape(xpl, mkst, wkst, masses_ab[0], masses_ab[1], masses_ab[2], md, rd, rr, 1, 1))\n",
    "yk0st1430 = atfd.density(atfd.breit_wigner_lineshape(xpl, mk0st1430, wk0st1430, masses_ab[0], masses_ab[1], masses_ab[2], md, rd, rr, 1, 1))\n",
    "yk2st1430 = atfd.density(atfd.breit_wigner_lineshape(xpl, mk2st1430, wk2st1430, masses_ab[0], masses_ab[1], masses_ab[2], md, rd, rr, 1, 1))\n",
    "ykst1410 = atfd.density(atfd.breit_wigner_lineshape(xpl, mkst1410, wkst1410, masses_ab[0], masses_ab[1], masses_ab[2], md, rd, rr, 1, 1))\n",
    "ykst1680 = atfd.density(atfd.breit_wigner_lineshape(xpl, mkst1680, wkst1680, masses_ab[0], masses_ab[1], masses_ab[2], md, rd, rr, 1, 1))\n",
    "int_kst = trapezoid(ykst, xpl)\n",
    "int_k0st1430 = trapezoid(yk0st1430, xpl)\n",
    "int_k2st1430 = trapezoid(yk2st1430, xpl)\n",
    "int_kst1410 = trapezoid(ykst1410, xpl)\n",
    "int_kst1680 = trapezoid(ykst1680, xpl)\n",
    "plt.plot(xpl, ykst / int_kst, label=r'$K^*(892)^+$')\n",
    "plt.plot(xpl, yk0st1430 / int_k0st1430, label=r'$K_0^*(1430)^+$')\n",
    "plt.plot(xpl, yk2st1430 / int_k2st1430, label=r'$K_2^*(1430)^+$')\n",
    "plt.plot(xpl, ykst1410 / int_kst1410, label=r'$K^*(1410)^+$')\n",
    "plt.plot(xpl, ykst1680 / int_kst1680, label=r'$K^*(1680)^+$')\n",
    "plt.legend()"
   ]
  },
  {
   "cell_type": "markdown",
   "metadata": {},
   "source": [
    "There is a problem in the relativistic breit wigner lineshape at low masses. FIXED: order of particles in `phsp` and `masses` were different."
   ]
  },
  {
   "cell_type": "code",
   "execution_count": 11,
   "metadata": {},
   "outputs": [
    {
     "data": {
      "text/plain": [
       "<matplotlib.legend.Legend at 0x7fd5f039d9a0>"
      ]
     },
     "execution_count": 11,
     "metadata": {},
     "output_type": "execute_result"
    },
    {
     "data": {
      "image/png": "[encoded data removed]",
      "text/plain": [
       "<Figure size 640x480 with 1 Axes>"
      ]
     },
     "metadata": {},
     "output_type": "display_data"
    }
   ],
   "source": [
    "xpl = np.linspace(np.min(phsp.m2ac(norm_sample)), np.max(phsp.m2ac(norm_sample)), 1000)\n",
    "yrho = atfd.density(atfd.breit_wigner_lineshape(xpl, mrho, wrho, masses_ac[0], masses_ac[1], masses_ac[2], md, rd, rr, 1, 1))\n",
    "yomega = atfd.density(atfd.breit_wigner_lineshape(xpl, momega, womega, *masses_ac, md, rd, rr, 1, 1))\n",
    "yf2_1270 = atfd.density(atfd.breit_wigner_lineshape(xpl, mf2_1270, wf2_1270, *masses_ac, md, rd, rr, 1, 1))\n",
    "yrho1450 = atfd.density(atfd.breit_wigner_lineshape(xpl, mrho1450, wrho1450, *masses_ac, md, rd, rr, 1, 1, md0=mrho1450+masses_ac[2]))\n",
    "int_rho = trapezoid(yrho, xpl)\n",
    "int_omega = trapezoid(yomega, xpl)\n",
    "int_f2_1270 = trapezoid(yf2_1270, xpl)\n",
    "int_rho1450 = trapezoid(yrho1450, xpl)\n",
    "plt.plot(xpl, yrho / int_rho, label=r'$\\rho(770)$')\n",
    "plt.plot(xpl, yomega / int_omega, label=r'$\\omega(782)$')\n",
    "plt.plot(xpl, yf2_1270 / int_f2_1270, label=r'$f_2(1270)$')\n",
    "plt.plot(xpl, yrho1450 / int_rho1450, label=r'$\\rho(1450)$')\n",
    "plt.legend()"
   ]
  },
  {
   "cell_type": "code",
   "execution_count": 12,
   "metadata": {},
   "outputs": [],
   "source": [
    "@atfi.function\n",
    "def breit_wigner_lineshape_test(\n",
    "    m2,\n",
    "    m0,\n",
    "    gamma0,\n",
    "    ma,\n",
    "    mb,\n",
    "    mc,\n",
    "    md,\n",
    "    dr,\n",
    "    dd,\n",
    "    lr,\n",
    "    ld,\n",
    "    barrier_factor=True,\n",
    "    ma0=None,\n",
    "    md0=None,\n",
    "):\n",
    "    r\"\"\"Breit-Wigner amplitude with Blatt-Weisskopf form factors, mass-dependent width and orbital barriers\n",
    "\n",
    "        .. math::\n",
    "\n",
    "            BW(m^2) = \\frac{1}{m_{res}^2 - m^2 - i m_{res} \\Gamma(m, m_{res}, \\Gamma_{res}, p, p_0, FF_r, l_r)} FF_r FF_d\n",
    "\n",
    "            \n",
    "        if barrier_factor is True, the orbital barrier factors are included in the form factor\n",
    "\n",
    "        .. math::\n",
    "\n",
    "            BW(m^2) = \\frac{1}{m_{res}^2 - m^2 - i m_{res} \\Gamma(m, m_{res}, \\Gamma_{res}, p, p_0, FF_r, l_r)} FF_r FF_d B_r B_d\n",
    "\n",
    "        \n",
    "        where\n",
    "            - :math:`\\Gamma(m, m_{res}, \\Gamma_{res}, p, p_0, FF_r, l_r)` is the mass-dependent width\n",
    "            - :math:`FF_r = BWFF(p, p_0, d_r, l_r)` is the Blatt-Weisskopf form factor for the resonance\n",
    "            - :math:`FF_d = BWFF(p, p_0, d_d, l_d)` is the Blatt-Weisskopf form factor for the decay\n",
    "            - :math:`B_r = B_l(p, p_0, l_r)` is the orbital barrier factor for the resonance\n",
    "            - :math:`B_d = B_l(q, q_0, l_d)` is the orbital barrier factor for the decay\n",
    "\n",
    "    Args:\n",
    "        m2 (float): invariant mass squared of the system\n",
    "        m0 (float): resonance mass\n",
    "        gamma0 (float): resonance width\n",
    "        ma (float): mass of particle a\n",
    "        mb (float): mass of particle b\n",
    "        mc (float): mass of the other particle (particle c)\n",
    "        md (float): mass of the decaying particle\n",
    "        dr (float): barrier radius for the resonance\n",
    "        dd (float): barrier radius for the decay\n",
    "        lr (int): orbital angular momentum of the resonance\n",
    "        ld (int): orbital angular momentum of the decay\n",
    "        barrier_factor (bool, optional): multiplies the form factor for the barrier factors. Defaults to True.\n",
    "        ma0 (float, optional): alternative value for the mass of the decaying particle to calculate the momentum of the system assuming the resonance mass. Defaults to None.\n",
    "        md0 (float, optional): alternative value for the mass of the decaying particle to calculate the q-value of the system assuming the resonance mass. Defaults to None.\n",
    "\n",
    "    Returns:\n",
    "        complex: the Breit-Wigner amplitude\n",
    "    \"\"\"\n",
    "    m = atfi.sqrt(m2)\n",
    "    q = atfk.two_body_momentum(md, m, mc)\n",
    "    q0 = atfk.two_body_momentum(md if md0 is None else md0, m0, mc)\n",
    "    # if q0 == 0:\n",
    "    #     q0 = atfk.complex_two_body_momentum(md if md0 is None else md0, m0, mc)\n",
    "    p = atfk.two_body_momentum(m, ma, mb)\n",
    "    p0 = atfk.two_body_momentum(m0, ma if ma0 is None else ma0, mb)\n",
    "    print(m.numpy(), q.numpy(), q0.numpy(), p.numpy(), p0.numpy())\n",
    "    ffr = atfd.blatt_weisskopf_ff(p, p0, dr, lr)\n",
    "    ffd = atfd.blatt_weisskopf_ff(q, q0, dd, ld)\n",
    "    print(ffr.numpy(), ffd.numpy())\n",
    "    width = atfd.mass_dependent_width(m, m0, gamma0, p, p0, ffr, lr)\n",
    "    bw = atfd.relativistic_breit_wigner(m2, m0, width)\n",
    "    print(width.numpy(), bw.numpy())\n",
    "    ff = ffr * ffd\n",
    "    if barrier_factor:\n",
    "        b1 = atfd.orbital_barrier_factor(p, p0, lr)\n",
    "        b2 = atfd.orbital_barrier_factor(q, q0, ld) if q0 != 0 else atfi.const(1.0)\n",
    "        ff *= b1 * b2\n",
    "        print(b1.numpy(), b2.numpy())\n",
    "    return bw * atfi.complex(ff, atfi.const(0.0))"
   ]
  },
  {
   "cell_type": "markdown",
   "metadata": {},
   "source": [
    "## LASS\n"
   ]
  },
  {
   "cell_type": "code",
   "execution_count": 13,
   "metadata": {},
   "outputs": [],
   "source": [
    "def LASS(m2ab, a, r, m0, gamma0, md, mc, amp_res, amp_nr, phase_res, phase_nr, cutOff=0):\n",
    "    q0 = atfk.two_body_momentum(md, m0, mc)\n",
    "    q = atfk.two_body_momentum(md, atfi.sqrt(m2ab), mc)\n",
    "    cot_delta_beta = atfi.const(1.0) / a / q + atfi.const(0.5) * r * q\n",
    "    nr  = atfd.nonresonant_lass_lineshape(m2ab, a, r, md, mc)\n",
    "    res = atfd.resonant_lass_lineshape(m2ab, m0, gamma0, a, r, md, mc)\n",
    "    lass = atfi.cast_complex(amp_res) * atfi.complex( atfi.cos(phase_res), atfi.sin(phase_res) ) * \\\n",
    "             atfi.complex( q * cot_delta_beta, q ) / atfi.complex( q * cot_delta_beta, -q ) * res\n",
    "    lass += atfi.cast_complex(amp_nr) * atfi.complex( atfi.cos(phase_nr), atfi.sin(phase_nr) ) * \\\n",
    "            atfi.cast_complex( atfi.cos(phase_nr) + atfi.sin(phase_nr) * cot_delta_beta ) * nr\n",
    "    # lass += atfi.where( m2ab>cutOff,\n",
    "    #             atfi.cast_complex(amp_nr) * atfi.complex( atfi.cos(phase_nr), atfi.sin(phase_nr) ) * \\\n",
    "    #            atfi.cast_complex( atfi.cos(phase_nr) + atfi.sin(phase_nr) * cot_delta_beta ) * nr,\n",
    "    #                atfi.cast_complex(0.0))  # Default value if condition is false\n",
    "    return lass\n",
    "\n",
    "def LASSalt(m2ab, a, r, m0, gamma0, md, mc, amp_res, amp_nr, phase_res, phase_nr):\n",
    "    q = atfk.two_body_momentum(md, atfi.sqrt(m2ab), mc)\n",
    "    cot_delta_beta = atfi.const(1.0) / a / q + atfi.const(0.5) * r * q\n",
    "    nr  = atfd.nonresonant_lass_lineshape(m2ab, a, r, md, mc)\n",
    "    res = atfd.resonant_lass_lineshape(m2ab, m0, gamma0, a, r, md, mc)\n",
    "    lass =  atfi.cast_complex(amp_nr) * atfi.complex( atfi.cos(phase_nr), atfi.sin(phase_nr) ) * \\\n",
    "               atfi.cast_complex( atfi.cos(phase_nr) + atfi.sin(phase_nr) * cot_delta_beta ) * nr\n",
    "    lass += atfi.cast_complex(amp_res) * atfi.complex( atfi.cos(phase_res), atfi.sin(phase_res) ) * \\\n",
    "             atfi.complex( q * cot_delta_beta, q ) / atfi.complex( q * cot_delta_beta, -q ) * res\n",
    "    return lass"
   ]
  },
  {
   "cell_type": "code",
   "execution_count": 14,
   "metadata": {},
   "outputs": [],
   "source": [
    "lass_M = atfi.const(1.4617)\n",
    "lass_G = atfi.const(0.2683)\n",
    "lass_F = atfi.const(0.4524)\n",
    "lass_phiF = atfi.const(0.248)\n",
    "lass_R = atfi.const(1.0)\n",
    "lass_phiR = atfi.const(2.495)\n",
    "lass_a = atfi.const(0.172)\n",
    "lass_r = atfi.const(-20.6)"
   ]
  },
  {
   "cell_type": "code",
   "execution_count": 15,
   "metadata": {},
   "outputs": [
    {
     "data": {
      "text/plain": [
       "<matplotlib.legend.Legend at 0x7fd665fdb490>"
      ]
     },
     "execution_count": 15,
     "metadata": {},
     "output_type": "execute_result"
    },
    {
     "data": {
      "image/png": "[encoded data removed]",
      "text/plain": [
       "<Figure size 640x480 with 1 Axes>"
      ]
     },
     "metadata": {},
     "output_type": "display_data"
    }
   ],
   "source": [
    "xpl = np.linspace(np.min(phsp.m2ab(norm_sample)), np.max(phsp.m2ab(norm_sample)), 1000)\n",
    "pab = atfk.two_body_momentum(atfi.sqrt(xpl), masses_ab[0], masses_ab[1])\n",
    "delta_beta = atfi.atan( 1.0 / ( 1.0 / lass_a / pab + 0.5 * lass_r * pab ) )\n",
    "ylass = atfd.density(LASS(xpl, lass_a, lass_r, lass_M, lass_G, md, masses_ab[2], lass_R, lass_F, lass_phiR, lass_phiF, 0.5))\n",
    "ylass_alt = atfd.density(LASSalt(xpl, lass_a, lass_r, lass_M, lass_G, md, masses_ab[2], lass_R, lass_F, lass_phiR, lass_phiF))\n",
    "nr = atfd.nonresonant_lass_lineshape(xpl, lass_a, lass_r, md, masses_ab[2])\n",
    "ylass_nr = atfd.density(atfi.cast_complex(lass_F) * atfi.complex( atfi.cos(lass_phiF), atfi.sin(lass_phiF) ) * nr)\n",
    "ylass_nr_jordi = atfd.density(atfi.cast_complex(lass_F) * atfi.complex( atfi.cos(lass_phiF), atfi.sin(lass_phiF) ) * \\\n",
    "                        atfi.cast_complex( atfi.cos(lass_phiF) + atfi.sin(lass_phiF) / atfi.tan(delta_beta) ) * nr)\n",
    "ylass_res = atfd.density(atfd.resonant_lass_lineshape(xpl, lass_M, lass_G, lass_a, lass_r, md, masses_ab[2]))\n",
    "#yomega = atfd.density(atfd.breit_wigner_lineshape(xpl, momega, womega, *masses_ac, md, rd, rr, 1, 1))\n",
    "int_lass = trapezoid(ylass, xpl)\n",
    "int_lass_alt = trapezoid(ylass_alt, xpl)\n",
    "int_lass_nr = trapezoid(ylass_nr, xpl)\n",
    "int_lass_nr_jordi = trapezoid(ylass_nr_jordi, xpl)\n",
    "int_lass_res = trapezoid(ylass_res, xpl)\n",
    "#int_omega = trapezoid(yomega, xpl)\n",
    "#int_f2_1270 = trapezoid(yf2_1270, xpl)\n",
    "#int_rho1450 = trapezoid(yrho1450, xpl)\n",
    "plt.plot(xpl, ylass / int_lass, label=r'LASS')\n",
    "# plt.plot(xpl, ylass_alt / int_lass_alt, label=r'LASS alt')\n",
    "#plt.plot(xpl, ylass_nr / int_lass_nr, label=r'LASS NR')\n",
    "#plt.plot(xpl, ylass_res / int_lass_res, label=r'LASS Res')\n",
    "# plt.plot(xpl, yomega / int_omega, label=r'$\\omega(782)$')\n",
    "# plt.plot(xpl, yf2_1270 / int_f2_1270, label=r'$f_2(1270)$')\n",
    "# plt.plot(xpl, yrho1450 / int_rho1450, label=r'$\\rho(1450)$')\n",
    "plt.legend()"
   ]
  },
  {
   "cell_type": "code",
   "execution_count": 16,
   "metadata": {},
   "outputs": [
    {
     "data": {
      "text/plain": [
       "<matplotlib.legend.Legend at 0x7fd5f02d1d90>"
      ]
     },
     "execution_count": 16,
     "metadata": {},
     "output_type": "execute_result"
    },
    {
     "data": {
      "image/png": "[encoded data removed]",
      "text/plain": [
       "<Figure size 640x480 with 1 Axes>"
      ]
     },
     "metadata": {},
     "output_type": "display_data"
    }
   ],
   "source": [
    "xpl2 = np.linspace(masses_ab[0]+masses_ab[1], md-masses_ab[2], 1000)\n",
    "xpl2sq = np.power(xpl2,2)\n",
    "pab = atfk.two_body_momentum(xpl2, masses_ab[0], masses_ab[1])\n",
    "delta_beta = atfi.atan( 1.0 / ( 1.0 / lass_a / pab + 0.5 * lass_r * pab ) )\n",
    "ylass = atfd.density(LASS(xpl2sq, lass_a, lass_r, lass_M, lass_G, masses_ab[0], masses_ab[1], lass_R, lass_F, lass_phiR, lass_phiF, 0.5))\n",
    "ylass_alt = atfd.density(LASSalt(xpl2sq, lass_a, lass_r, lass_M, lass_G, md, masses_ab[2], lass_R, lass_F, lass_phiR, lass_phiF))\n",
    "#nr = atfd.nonresonant_lass_lineshape(xpl, lass_a, lass_r, masses_ab[0], masses_ab[1])\n",
    "#ylass_nr = atfd.density(atfi.cast_complex(lass_F) * atfi.complex( atfi.cos(lass_phiF), atfi.sin(lass_phiF) ) * nr)\n",
    "#ylass_nr_jordi = atfd.density(atfi.cast_complex(lass_F) * atfi.complex( atfi.cos(lass_phiF), atfi.sin(lass_phiF) ) * \\\n",
    "#                        atfi.cast_complex( atfi.cos(lass_phiF) + atfi.sin(lass_phiF) / atfi.tan(delta_beta) ) * nr)\n",
    "#ylass_res = atfd.density(atfd.resonant_lass_lineshape(xpl, lass_M, lass_G, lass_a, lass_r, masses_ab[0], masses_ab[1], True))\n",
    "#yomega = atfd.density(atfd.breit_wigner_lineshape(xpl, momega, womega, *masses_ac, md, rd, rr, 1, 1))\n",
    "int_lass = trapezoid(ylass, xpl2sq)\n",
    "int_lass_alt = trapezoid(ylass_alt, xpl2sq)\n",
    "#int_lass_nr = trapezoid(ylass_nr, xpl)\n",
    "#int_lass_nr_jordi = trapezoid(ylass_nr_jordi, xpl)\n",
    "#int_lass_res = trapezoid(ylass_res, xpl)\n",
    "#int_omega = trapezoid(yomega, xpl)\n",
    "#int_f2_1270 = trapezoid(yf2_1270, xpl)\n",
    "#int_rho1450 = trapezoid(yrho1450, xpl)\n",
    "plt.plot(xpl2, ylass / int_lass, label=r'LASS')\n",
    "plt.plot(xpl2, ylass_alt / int_lass_alt, label=r'LASS alt')\n",
    "#plt.plot(xpl, ylass_nr / int_lass_nr, label=r'LASS NR')\n",
    "#plt.plot(xpl, ylass_res / int_lass_res, label=r'LASS Res')\n",
    "# plt.plot(xpl, yomega / int_omega, label=r'$\\omega(782)$')\n",
    "# plt.plot(xpl, yf2_1270 / int_f2_1270, label=r'$f_2(1270)$')\n",
    "# plt.plot(xpl, yrho1450 / int_rho1450, label=r'$\\rho(1450)$')\n",
    "plt.legend()"
   ]
  },
  {
   "cell_type": "code",
   "execution_count": 17,
   "metadata": {},
   "outputs": [
    {
     "name": "stdout",
     "output_type": "stream",
     "text": [
      "[0.63718139 0.63827057 0.63935974 0.64044892 0.6415381  0.64262728\n",
      " 0.64371645 0.64480563 0.64589481 0.64698399 0.64807316 0.64916234\n",
      " 0.65025152 0.6513407  0.65242987 0.65351905 0.65460823 0.65569741\n",
      " 0.65678658 0.65787576 0.65896494 0.66005412 0.66114329 0.66223247\n",
      " 0.66332165 0.66441082 0.6655     0.66658918 0.66767836 0.66876753\n",
      " 0.66985671 0.67094589 0.67203507 0.67312424 0.67421342 0.6753026\n",
      " 0.67639178 0.67748095 0.67857013 0.67965931 0.68074849 0.68183766\n",
      " 0.68292684 0.68401602 0.6851052  0.68619437 0.68728355 0.68837273\n",
      " 0.68946191 0.69055108 0.69164026 0.69272944 0.69381861 0.69490779\n",
      " 0.69599697 0.69708615 0.69817532 0.6992645  0.70035368 0.70144286\n",
      " 0.70253203 0.70362121 0.70471039 0.70579957 0.70688874 0.70797792\n",
      " 0.7090671  0.71015628 0.71124545 0.71233463 0.71342381 0.71451299\n",
      " 0.71560216 0.71669134 0.71778052 0.71886969 0.71995887 0.72104805\n",
      " 0.72213723 0.7232264  0.72431558 0.72540476 0.72649394 0.72758311\n",
      " 0.72867229 0.72976147 0.73085065 0.73193982 0.733029   0.73411818\n",
      " 0.73520736 0.73629653 0.73738571 0.73847489 0.73956407 0.74065324\n",
      " 0.74174242 0.7428316  0.74392077 0.74500995 0.74609913 0.74718831\n",
      " 0.74827748 0.74936666 0.75045584 0.75154502 0.75263419 0.75372337\n",
      " 0.75481255 0.75590173 0.7569909  0.75808008 0.75916926 0.76025844\n",
      " 0.76134761 0.76243679 0.76352597 0.76461515 0.76570432 0.7667935\n",
      " 0.76788268 0.76897186 0.77006103 0.77115021 0.77223939 0.77332856\n",
      " 0.77441774 0.77550692 0.7765961  0.77768527 0.77877445 0.77986363\n",
      " 0.78095281 0.78204198 0.78313116 0.78422034 0.78530952 0.78639869\n",
      " 0.78748787 0.78857705 0.78966623 0.7907554  0.79184458 0.79293376\n",
      " 0.79402294 0.79511211 0.79620129 0.79729047 0.79837964 0.79946882\n",
      " 0.800558   0.80164718 0.80273635 0.80382553 0.80491471 0.80600389\n",
      " 0.80709306 0.80818224 0.80927142 0.8103606  0.81144977 0.81253895\n",
      " 0.81362813 0.81471731 0.81580648 0.81689566 0.81798484 0.81907402\n",
      " 0.82016319 0.82125237 0.82234155 0.82343072 0.8245199  0.82560908\n",
      " 0.82669826 0.82778743 0.82887661 0.82996579 0.83105497 0.83214414\n",
      " 0.83323332 0.8343225  0.83541168 0.83650085 0.83759003 0.83867921\n",
      " 0.83976839 0.84085756 0.84194674 0.84303592 0.8441251  0.84521427\n",
      " 0.84630345 0.84739263 0.84848181 0.84957098 0.85066016 0.85174934\n",
      " 0.85283851 0.85392769 0.85501687 0.85610605 0.85719522 0.8582844\n",
      " 0.85937358 0.86046276 0.86155193 0.86264111 0.86373029 0.86481947\n",
      " 0.86590864 0.86699782 0.868087   0.86917618 0.87026535 0.87135453\n",
      " 0.87244371 0.87353289 0.87462206 0.87571124 0.87680042 0.87788959\n",
      " 0.87897877 0.88006795 0.88115713 0.8822463  0.88333548 0.88442466\n",
      " 0.88551384 0.88660301 0.88769219 0.88878137 0.88987055 0.89095972\n",
      " 0.8920489  0.89313808 0.89422726 0.89531643 0.89640561 0.89749479\n",
      " 0.89858397 0.89967314 0.90076232 0.9018515  0.90294067 0.90402985\n",
      " 0.90511903 0.90620821 0.90729738 0.90838656 0.90947574 0.91056492\n",
      " 0.91165409 0.91274327 0.91383245 0.91492163 0.9160108  0.91709998\n",
      " 0.91818916 0.91927834 0.92036751 0.92145669 0.92254587 0.92363505\n",
      " 0.92472422 0.9258134  0.92690258 0.92799176 0.92908093 0.93017011\n",
      " 0.93125929 0.93234846 0.93343764 0.93452682 0.935616   0.93670517\n",
      " 0.93779435 0.93888353 0.93997271 0.94106188 0.94215106 0.94324024\n",
      " 0.94432942 0.94541859 0.94650777 0.94759695 0.94868613 0.9497753\n",
      " 0.95086448 0.95195366 0.95304284 0.95413201 0.95522119 0.95631037\n",
      " 0.95739954 0.95848872 0.9595779  0.96066708 0.96175625 0.96284543\n",
      " 0.96393461 0.96502379 0.96611296 0.96720214 0.96829132 0.9693805\n",
      " 0.97046967 0.97155885 0.97264803 0.97373721 0.97482638 0.97591556\n",
      " 0.97700474 0.97809392 0.97918309 0.98027227 0.98136145 0.98245062\n",
      " 0.9835398  0.98462898 0.98571816 0.98680733 0.98789651 0.98898569\n",
      " 0.99007487 0.99116404 0.99225322 0.9933424  0.99443158 0.99552075\n",
      " 0.99660993 0.99769911 0.99878829 0.99987746 1.00096664 1.00205582\n",
      " 1.003145   1.00423417 1.00532335 1.00641253 1.00750171 1.00859088\n",
      " 1.00968006 1.01076924 1.01185841 1.01294759 1.01403677 1.01512595\n",
      " 1.01621512 1.0173043  1.01839348 1.01948266 1.02057183 1.02166101\n",
      " 1.02275019 1.02383937 1.02492854 1.02601772 1.0271069  1.02819608\n",
      " 1.02928525 1.03037443 1.03146361 1.03255279 1.03364196 1.03473114\n",
      " 1.03582032 1.03690949 1.03799867 1.03908785 1.04017703 1.0412662\n",
      " 1.04235538 1.04344456 1.04453374 1.04562291 1.04671209 1.04780127\n",
      " 1.04889045 1.04997962 1.0510688  1.05215798 1.05324716 1.05433633\n",
      " 1.05542551 1.05651469 1.05760387 1.05869304 1.05978222 1.0608714\n",
      " 1.06196057 1.06304975 1.06413893 1.06522811 1.06631728 1.06740646\n",
      " 1.06849564 1.06958482 1.07067399 1.07176317 1.07285235 1.07394153\n",
      " 1.0750307  1.07611988 1.07720906 1.07829824 1.07938741 1.08047659\n",
      " 1.08156577 1.08265495 1.08374412 1.0848333  1.08592248 1.08701166\n",
      " 1.08810083 1.08919001 1.09027919 1.09136836 1.09245754 1.09354672\n",
      " 1.0946359  1.09572507 1.09681425 1.09790343 1.09899261 1.10008178\n",
      " 1.10117096 1.10226014 1.10334932 1.10443849 1.10552767 1.10661685\n",
      " 1.10770603 1.1087952  1.10988438 1.11097356 1.11206274 1.11315191\n",
      " 1.11424109 1.11533027 1.11641944 1.11750862 1.1185978  1.11968698\n",
      " 1.12077615 1.12186533 1.12295451 1.12404369 1.12513286 1.12622204\n",
      " 1.12731122 1.1284004  1.12948957 1.13057875 1.13166793 1.13275711\n",
      " 1.13384628 1.13493546 1.13602464 1.13711382 1.13820299 1.13929217\n",
      " 1.14038135 1.14147052 1.1425597  1.14364888 1.14473806 1.14582723\n",
      " 1.14691641 1.14800559 1.14909477 1.15018394 1.15127312 1.1523623\n",
      " 1.15345148 1.15454065 1.15562983 1.15671901 1.15780819 1.15889736\n",
      " 1.15998654 1.16107572 1.1621649  1.16325407 1.16434325 1.16543243\n",
      " 1.16652161 1.16761078 1.16869996 1.16978914 1.17087831 1.17196749\n",
      " 1.17305667 1.17414585 1.17523502 1.1763242  1.17741338 1.17850256\n",
      " 1.17959173 1.18068091 1.18177009 1.18285927 1.18394844 1.18503762\n",
      " 1.1861268  1.18721598 1.18830515 1.18939433 1.19048351 1.19157269\n",
      " 1.19266186 1.19375104 1.19484022 1.19592939 1.19701857 1.19810775\n",
      " 1.19919693 1.2002861  1.20137528 1.20246446 1.20355364 1.20464281\n",
      " 1.20573199 1.20682117 1.20791035 1.20899952 1.2100887  1.21117788\n",
      " 1.21226706 1.21335623 1.21444541 1.21553459 1.21662377 1.21771294\n",
      " 1.21880212 1.2198913  1.22098048 1.22206965 1.22315883 1.22424801\n",
      " 1.22533718 1.22642636 1.22751554 1.22860472 1.22969389 1.23078307\n",
      " 1.23187225 1.23296143 1.2340506  1.23513978 1.23622896 1.23731814\n",
      " 1.23840731 1.23949649 1.24058567 1.24167485 1.24276402 1.2438532\n",
      " 1.24494238 1.24603156 1.24712073 1.24820991 1.24929909 1.25038826\n",
      " 1.25147744 1.25256662 1.2536558  1.25474497 1.25583415 1.25692333\n",
      " 1.25801251 1.25910168 1.26019086 1.26128004 1.26236922 1.26345839\n",
      " 1.26454757 1.26563675 1.26672593 1.2678151  1.26890428 1.26999346\n",
      " 1.27108264 1.27217181 1.27326099 1.27435017 1.27543934 1.27652852\n",
      " 1.2776177  1.27870688 1.27979605 1.28088523 1.28197441 1.28306359\n",
      " 1.28415276 1.28524194 1.28633112 1.2874203  1.28850947 1.28959865\n",
      " 1.29068783 1.29177701 1.29286618 1.29395536 1.29504454 1.29613372\n",
      " 1.29722289 1.29831207 1.29940125 1.30049043 1.3015796  1.30266878\n",
      " 1.30375796 1.30484713 1.30593631 1.30702549 1.30811467 1.30920384\n",
      " 1.31029302 1.3113822  1.31247138 1.31356055 1.31464973 1.31573891\n",
      " 1.31682809 1.31791726 1.31900644 1.32009562 1.3211848  1.32227397\n",
      " 1.32336315 1.32445233 1.32554151 1.32663068 1.32771986 1.32880904\n",
      " 1.32989821 1.33098739 1.33207657 1.33316575 1.33425492 1.3353441\n",
      " 1.33643328 1.33752246 1.33861163 1.33970081 1.34078999 1.34187917\n",
      " 1.34296834 1.34405752 1.3451467  1.34623588 1.34732505 1.34841423\n",
      " 1.34950341 1.35059259 1.35168176 1.35277094 1.35386012 1.35494929\n",
      " 1.35603847 1.35712765 1.35821683 1.359306   1.36039518 1.36148436\n",
      " 1.36257354 1.36366271 1.36475189 1.36584107 1.36693025 1.36801942\n",
      " 1.3691086  1.37019778 1.37128696 1.37237613 1.37346531 1.37455449\n",
      " 1.37564367 1.37673284 1.37782202 1.3789112  1.38000038 1.38108955\n",
      " 1.38217873 1.38326791 1.38435708 1.38544626 1.38653544 1.38762462\n",
      " 1.38871379 1.38980297 1.39089215 1.39198133 1.3930705  1.39415968\n",
      " 1.39524886 1.39633804 1.39742721 1.39851639 1.39960557 1.40069475\n",
      " 1.40178392 1.4028731  1.40396228 1.40505146 1.40614063 1.40722981\n",
      " 1.40831899 1.40940816 1.41049734 1.41158652 1.4126757  1.41376487\n",
      " 1.41485405 1.41594323 1.41703241 1.41812158 1.41921076 1.42029994\n",
      " 1.42138912 1.42247829 1.42356747 1.42465665 1.42574583 1.426835\n",
      " 1.42792418 1.42901336 1.43010254 1.43119171 1.43228089 1.43337007\n",
      " 1.43445924 1.43554842 1.4366376  1.43772678 1.43881595 1.43990513\n",
      " 1.44099431 1.44208349 1.44317266 1.44426184 1.44535102 1.4464402\n",
      " 1.44752937 1.44861855 1.44970773 1.45079691 1.45188608 1.45297526\n",
      " 1.45406444 1.45515362 1.45624279 1.45733197 1.45842115 1.45951033\n",
      " 1.4605995  1.46168868 1.46277786 1.46386703 1.46495621 1.46604539\n",
      " 1.46713457 1.46822374 1.46931292 1.4704021  1.47149128 1.47258045\n",
      " 1.47366963 1.47475881 1.47584799 1.47693716 1.47802634 1.47911552\n",
      " 1.4802047  1.48129387 1.48238305 1.48347223 1.48456141 1.48565058\n",
      " 1.48673976 1.48782894 1.48891811 1.49000729 1.49109647 1.49218565\n",
      " 1.49327482 1.494364   1.49545318 1.49654236 1.49763153 1.49872071\n",
      " 1.49980989 1.50089907 1.50198824 1.50307742 1.5041666  1.50525578\n",
      " 1.50634495 1.50743413 1.50852331 1.50961249 1.51070166 1.51179084\n",
      " 1.51288002 1.51396919 1.51505837 1.51614755 1.51723673 1.5183259\n",
      " 1.51941508 1.52050426 1.52159344 1.52268261 1.52377179 1.52486097\n",
      " 1.52595015 1.52703932 1.5281285  1.52921768 1.53030686 1.53139603\n",
      " 1.53248521 1.53357439 1.53466357 1.53575274 1.53684192 1.5379311\n",
      " 1.53902028 1.54010945 1.54119863 1.54228781 1.54337698 1.54446616\n",
      " 1.54555534 1.54664452 1.54773369 1.54882287 1.54991205 1.55100123\n",
      " 1.5520904  1.55317958 1.55426876 1.55535794 1.55644711 1.55753629\n",
      " 1.55862547 1.55971465 1.56080382 1.561893   1.56298218 1.56407136\n",
      " 1.56516053 1.56624971 1.56733889 1.56842806 1.56951724 1.57060642\n",
      " 1.5716956  1.57278477 1.57387395 1.57496313 1.57605231 1.57714148\n",
      " 1.57823066 1.57931984 1.58040902 1.58149819 1.58258737 1.58367655\n",
      " 1.58476573 1.5858549  1.58694408 1.58803326 1.58912244 1.59021161\n",
      " 1.59130079 1.59238997 1.59347914 1.59456832 1.5956575  1.59674668\n",
      " 1.59783585 1.59892503 1.60001421 1.60110339 1.60219256 1.60328174\n",
      " 1.60437092 1.6054601  1.60654927 1.60763845 1.60872763 1.60981681\n",
      " 1.61090598 1.61199516 1.61308434 1.61417352 1.61526269 1.61635187\n",
      " 1.61744105 1.61853023 1.6196194  1.62070858 1.62179776 1.62288693\n",
      " 1.62397611 1.62506529 1.62615447 1.62724364 1.62833282 1.629422\n",
      " 1.63051118 1.63160035 1.63268953 1.63377871 1.63486789 1.63595706\n",
      " 1.63704624 1.63813542 1.6392246  1.64031377 1.64140295 1.64249213\n",
      " 1.64358131 1.64467048 1.64575966 1.64684884 1.64793801 1.64902719\n",
      " 1.65011637 1.65120555 1.65229472 1.6533839  1.65447308 1.65556226\n",
      " 1.65665143 1.65774061 1.65882979 1.65991897 1.66100814 1.66209732\n",
      " 1.6631865  1.66427568 1.66536485 1.66645403 1.66754321 1.66863239\n",
      " 1.66972156 1.67081074 1.67189992 1.67298909 1.67407827 1.67516745\n",
      " 1.67625663 1.6773458  1.67843498 1.67952416 1.68061334 1.68170251\n",
      " 1.68279169 1.68388087 1.68497005 1.68605922 1.6871484  1.68823758\n",
      " 1.68932676 1.69041593 1.69150511 1.69259429 1.69368347 1.69477264\n",
      " 1.69586182 1.696951   1.69804018 1.69912935 1.70021853 1.70130771\n",
      " 1.70239688 1.70348606 1.70457524 1.70566442 1.70675359 1.70784277\n",
      " 1.70893195 1.71002113 1.7111103  1.71219948 1.71328866 1.71437784\n",
      " 1.71546701 1.71655619 1.71764537 1.71873455 1.71982372 1.7209129\n",
      " 1.72200208 1.72309126 1.72418043 1.72526961]\n",
      "[0.40600012 0.40738932 0.40878088 0.41017482 0.41157113 0.41296982\n",
      " 0.41437087 0.4157743  0.4171801  0.41858828 0.41999883 0.42141175\n",
      " 0.42282704 0.4242447  0.42566474 0.42708715 0.42851193 0.42993909\n",
      " 0.43136862 0.43280052 0.43423479 0.43567144 0.43711045 0.43855184\n",
      " 0.43999561 0.44144174 0.44289025 0.44434113 0.44579439 0.44725002\n",
      " 0.44870801 0.45016839 0.45163113 0.45309625 0.45456374 0.4560336\n",
      " 0.45750584 0.45898044 0.46045742 0.46193678 0.4634185  0.4649026\n",
      " 0.46638907 0.46787791 0.46936913 0.47086272 0.47235868 0.47385701\n",
      " 0.47535772 0.4768608  0.47836625 0.47987407 0.48138427 0.48289684\n",
      " 0.48441178 0.4859291  0.48744878 0.48897084 0.49049528 0.49202208\n",
      " 0.49355126 0.49508281 0.49661673 0.49815303 0.4996917  0.50123274\n",
      " 0.50277615 0.50432194 0.50587009 0.50742063 0.50897353 0.51052881\n",
      " 0.51208646 0.51364648 0.51520887 0.51677364 0.51834078 0.51991029\n",
      " 0.52148217 0.52305643 0.52463306 0.52621206 0.52779344 0.52937719\n",
      " 0.53096331 0.5325518  0.53414267 0.53573591 0.53733152 0.5389295\n",
      " 0.54052986 0.54213258 0.54373769 0.54534516 0.54695501 0.54856723\n",
      " 0.55018182 0.55179878 0.55341812 0.55503983 0.55666391 0.55829037\n",
      " 0.55991919 0.56155039 0.56318397 0.56481991 0.56645823 0.56809892\n",
      " 0.56974198 0.57138742 0.57303523 0.57468541 0.57633796 0.57799289\n",
      " 0.57965019 0.58130986 0.5829719  0.58463632 0.58630311 0.58797227\n",
      " 0.58964381 0.59131771 0.59299399 0.59467265 0.59635367 0.59803707\n",
      " 0.59972284 0.60141098 0.6031015  0.60479439 0.60648965 0.60818728\n",
      " 0.60988729 0.61158966 0.61329442 0.61500154 0.61671104 0.61842291\n",
      " 0.62013715 0.62185376 0.62357275 0.62529411 0.62701784 0.62874394\n",
      " 0.63047242 0.63220327 0.63393649 0.63567209 0.63741006 0.6391504\n",
      " 0.64089311 0.6426382  0.64438565 0.64613549 0.64788769 0.64964227\n",
      " 0.65139921 0.65315854 0.65492023 0.6566843  0.65845074 0.66021955\n",
      " 0.66199073 0.66376429 0.66554022 0.66731852 0.6690992  0.67088224\n",
      " 0.67266766 0.67445546 0.67624562 0.67803816 0.67983307 0.68163035\n",
      " 0.68343001 0.68523204 0.68703644 0.68884321 0.69065236 0.69246388\n",
      " 0.69427777 0.69609403 0.69791267 0.69973368 0.70155706 0.70338281\n",
      " 0.70521094 0.70704144 0.70887431 0.71070956 0.71254718 0.71438717\n",
      " 0.71622953 0.71807427 0.71992137 0.72177085 0.72362271 0.72547693\n",
      " 0.72733353 0.7291925  0.73105385 0.73291756 0.73478365 0.73665211\n",
      " 0.73852295 0.74039616 0.74227173 0.74414969 0.74603001 0.74791271\n",
      " 0.74979778 0.75168522 0.75357504 0.75546722 0.75736178 0.75925872\n",
      " 0.76115802 0.7630597  0.76496375 0.76687018 0.76877897 0.77069014\n",
      " 0.77260368 0.7745196  0.77643788 0.77835854 0.78028157 0.78220698\n",
      " 0.78413475 0.7860649  0.78799743 0.78993232 0.79186959 0.79380923\n",
      " 0.79575124 0.79769563 0.79964238 0.80159152 0.80354302 0.80549689\n",
      " 0.80745314 0.80941176 0.81137276 0.81333612 0.81530186 0.81726997\n",
      " 0.81924046 0.82121331 0.82318854 0.82516615 0.82714612 0.82912847\n",
      " 0.83111319 0.83310028 0.83508974 0.83708158 0.83907579 0.84107238\n",
      " 0.84307133 0.84507266 0.84707636 0.84908243 0.85109088 0.8531017\n",
      " 0.85511489 0.85713045 0.85914839 0.8611687  0.86319138 0.86521643\n",
      " 0.86724386 0.86927366 0.87130583 0.87334038 0.87537729 0.87741658\n",
      " 0.87945825 0.88150228 0.88354869 0.88559747 0.88764862 0.88970215\n",
      " 0.89175805 0.89381632 0.89587696 0.89793998 0.90000537 0.90207313\n",
      " 0.90414326 0.90621577 0.90829065 0.9103679  0.91244752 0.91452952\n",
      " 0.91661389 0.91870063 0.92078975 0.92288123 0.92497509 0.92707133\n",
      " 0.92916993 0.93127091 0.93337426 0.93547998 0.93758808 0.93969855\n",
      " 0.94181139 0.9439266  0.94604419 0.94816415 0.95028648 0.95241118\n",
      " 0.95453826 0.95666771 0.95879953 0.96093372 0.96307029 0.96520923\n",
      " 0.96735054 0.96949423 0.97164029 0.97378872 0.97593952 0.97809269\n",
      " 0.98024824 0.98240616 0.98456646 0.98672912 0.98889416 0.99106157\n",
      " 0.99323135 0.99540351 0.99757804 0.99975494 1.00193422 1.00411586\n",
      " 1.00629988 1.00848627 1.01067504 1.01286618 1.01505969 1.01725557\n",
      " 1.01945382 1.02165445 1.02385745 1.02606282 1.02827057 1.03048069\n",
      " 1.03269318 1.03490804 1.03712528 1.03934489 1.04156687 1.04379122\n",
      " 1.04601795 1.04824705 1.05047852 1.05271236 1.05494858 1.05718717\n",
      " 1.05942813 1.06167147 1.06391717 1.06616525 1.06841571 1.07066853\n",
      " 1.07292373 1.0751813  1.07744124 1.07970356 1.08196825 1.08423531\n",
      " 1.08650474 1.08877655 1.09105073 1.09332728 1.0956062  1.0978875\n",
      " 1.10017117 1.10245721 1.10474562 1.10703641 1.10932957 1.1116251\n",
      " 1.11392301 1.11622329 1.11852594 1.12083096 1.12313835 1.12544812\n",
      " 1.12776026 1.13007478 1.13239166 1.13471092 1.13703255 1.13935656\n",
      " 1.14168293 1.14401168 1.1463428  1.1486763  1.15101216 1.1533504\n",
      " 1.15569101 1.158034   1.16037936 1.16272709 1.16507719 1.16742966\n",
      " 1.16978451 1.17214173 1.17450132 1.17686329 1.17922763 1.18159434\n",
      " 1.18396342 1.18633488 1.18870871 1.19108491 1.19346348 1.19584443\n",
      " 1.19822775 1.20061344 1.2030015  1.20539194 1.20778475 1.21017993\n",
      " 1.21257749 1.21497741 1.21737971 1.21978439 1.22219143 1.22460085\n",
      " 1.22701264 1.2294268  1.23184334 1.23426225 1.23668353 1.23910718\n",
      " 1.24153321 1.24396161 1.24639238 1.24882552 1.25126104 1.25369893\n",
      " 1.25613919 1.25858182 1.26102683 1.26347421 1.26592396 1.26837609\n",
      " 1.27083058 1.27328745 1.2757467  1.27820831 1.2806723  1.28313866\n",
      " 1.28560739 1.2880785  1.29055198 1.29302783 1.29550605 1.29798665\n",
      " 1.30046962 1.30295496 1.30544267 1.30793276 1.31042522 1.31292005\n",
      " 1.31541726 1.31791683 1.32041878 1.32292311 1.3254298  1.32793887\n",
      " 1.33045031 1.33296412 1.33548031 1.33799886 1.3405198  1.3430431\n",
      " 1.34556877 1.34809682 1.35062724 1.35316004 1.3556952  1.35823274\n",
      " 1.36077266 1.36331494 1.3658596  1.36840663 1.37095603 1.3735078\n",
      " 1.37606195 1.37861847 1.38117736 1.38373863 1.38630227 1.38886828\n",
      " 1.39143666 1.39400741 1.39658054 1.39915604 1.40173392 1.40431416\n",
      " 1.40689678 1.40948177 1.41206914 1.41465887 1.41725098 1.41984546\n",
      " 1.42244232 1.42504155 1.42764315 1.43024712 1.43285346 1.43546218\n",
      " 1.43807327 1.44068673 1.44330257 1.44592078 1.44854136 1.45116431\n",
      " 1.45378964 1.45641733 1.4590474  1.46167985 1.46431466 1.46695185\n",
      " 1.46959141 1.47223335 1.47487766 1.47752433 1.48017339 1.48282481\n",
      " 1.48547861 1.48813478 1.49079332 1.49345424 1.49611752 1.49878318\n",
      " 1.50145122 1.50412162 1.5067944  1.50946955 1.51214707 1.51482697\n",
      " 1.51750924 1.52019388 1.52288089 1.52557028 1.52826204 1.53095617\n",
      " 1.53365267 1.53635155 1.5390528  1.54175642 1.54446242 1.54717078\n",
      " 1.54988152 1.55259464 1.55531012 1.55802798 1.56074821 1.56347081\n",
      " 1.56619579 1.56892314 1.57165286 1.57438495 1.57711942 1.57985626\n",
      " 1.58259547 1.58533705 1.58808101 1.59082734 1.59357604 1.59632711\n",
      " 1.59908056 1.60183638 1.60459457 1.60735514 1.61011807 1.61288338\n",
      " 1.61565107 1.61842112 1.62119355 1.62396835 1.62674552 1.62952507\n",
      " 1.63230699 1.63509128 1.63787794 1.64066698 1.64345839 1.64625217\n",
      " 1.64904832 1.65184685 1.65464775 1.65745102 1.66025666 1.66306468\n",
      " 1.66587507 1.66868783 1.67150297 1.67432048 1.67714036 1.67996261\n",
      " 1.68278723 1.68561423 1.6884436  1.69127535 1.69410946 1.69694595\n",
      " 1.69978481 1.70262604 1.70546965 1.70831563 1.71116398 1.71401471\n",
      " 1.7168678  1.71972327 1.72258111 1.72544133 1.72830392 1.73116888\n",
      " 1.73403621 1.73690591 1.73977799 1.74265244 1.74552926 1.74840846\n",
      " 1.75129003 1.75417397 1.75706028 1.75994897 1.76284003 1.76573346\n",
      " 1.76862926 1.77152744 1.77442799 1.77733091 1.7802362  1.78314387\n",
      " 1.78605391 1.78896632 1.79188111 1.79479826 1.79771779 1.8006397\n",
      " 1.80356397 1.80649062 1.80941964 1.81235103 1.8152848  1.81822094\n",
      " 1.82115945 1.82410033 1.82704359 1.82998922 1.83293722 1.83588759\n",
      " 1.83884034 1.84179546 1.84475295 1.84771281 1.85067505 1.85363966\n",
      " 1.85660664 1.859576   1.86254773 1.86552183 1.8684983  1.87147714\n",
      " 1.87445836 1.87744195 1.88042792 1.88341625 1.88640696 1.88940004\n",
      " 1.89239549 1.89539332 1.89839352 1.90139609 1.90440104 1.90740835\n",
      " 1.91041804 1.9134301  1.91644454 1.91946134 1.92248052 1.92550208\n",
      " 1.928526   1.9315523  1.93458097 1.93761201 1.94064543 1.94368122\n",
      " 1.94671938 1.94975991 1.95280282 1.9558481  1.95889575 1.96194577\n",
      " 1.96499817 1.96805294 1.97111008 1.97416959 1.97723148 1.98029574\n",
      " 1.98336237 1.98643137 1.98950275 1.9925765  1.99565262 1.99873112\n",
      " 2.00181199 2.00489523 2.00798084 2.01106883 2.01415919 2.01725192\n",
      " 2.02034702 2.0234445  2.02654434 2.02964657 2.03275116 2.03585813\n",
      " 2.03896747 2.04207918 2.04519326 2.04830972 2.05142855 2.05454975\n",
      " 2.05767333 2.06079927 2.06392759 2.06705829 2.07019135 2.07332679\n",
      " 2.0764646  2.07960478 2.08274734 2.08589227 2.08903957 2.09218924\n",
      " 2.09534129 2.09849571 2.1016525  2.10481166 2.1079732  2.11113711\n",
      " 2.11430339 2.11747204 2.12064307 2.12381647 2.12699224 2.13017039\n",
      " 2.13335091 2.1365338  2.13971906 2.1429067  2.1460967  2.14928908\n",
      " 2.15248384 2.15568096 2.15888046 2.16208233 2.16528658 2.16849319\n",
      " 2.17170218 2.17491354 2.17812728 2.18134338 2.18456186 2.18778272\n",
      " 2.19100594 2.19423154 2.19745951 2.20068985 2.20392257 2.20715765\n",
      " 2.21039511 2.21363495 2.21687715 2.22012173 2.22336868 2.226618\n",
      " 2.2298697  2.23312377 2.23638021 2.23963902 2.24290021 2.24616377\n",
      " 2.2494297  2.25269801 2.25596868 2.25924173 2.26251716 2.26579495\n",
      " 2.26907512 2.27235766 2.27564257 2.27892986 2.28221951 2.28551154\n",
      " 2.28880595 2.29210272 2.29540187 2.29870339 2.30200729 2.30531355\n",
      " 2.30862219 2.3119332  2.31524659 2.31856234 2.32188047 2.32520097\n",
      " 2.32852385 2.3318491  2.33517672 2.33850671 2.34183907 2.34517381\n",
      " 2.34851092 2.3518504  2.35519226 2.35853649 2.36188309 2.36523206\n",
      " 2.36858341 2.37193713 2.37529322 2.37865168 2.38201252 2.38537573\n",
      " 2.38874131 2.39210926 2.39547959 2.39885229 2.40222736 2.4056048\n",
      " 2.40898462 2.41236681 2.41575137 2.41913831 2.42252762 2.4259193\n",
      " 2.42931335 2.43270978 2.43610857 2.43950974 2.44291329 2.4463192\n",
      " 2.44972749 2.45313815 2.45655119 2.45996659 2.46338437 2.46680453\n",
      " 2.47022705 2.47365195 2.47707922 2.48050886 2.48394087 2.48737526\n",
      " 2.49081202 2.49425115 2.49769266 2.50113654 2.50458279 2.50803141\n",
      " 2.51148241 2.51493577 2.51839151 2.52184963 2.52531011 2.52877297\n",
      " 2.5322382  2.53570581 2.53917579 2.54264813 2.54612286 2.54959995\n",
      " 2.55307942 2.55656126 2.56004547 2.56353205 2.56702101 2.57051234\n",
      " 2.57400605 2.57750212 2.58100057 2.58450139 2.58800458 2.59151015\n",
      " 2.59501809 2.5985284  2.60204108 2.60555614 2.60907357 2.61259337\n",
      " 2.61611554 2.61964009 2.62316701 2.6266963  2.63022797 2.633762\n",
      " 2.63729841 2.64083719 2.64437835 2.64792188 2.65146778 2.65501605\n",
      " 2.6585667  2.66211971 2.66567511 2.66923287 2.672793   2.67635551\n",
      " 2.67992039 2.68348765 2.68705727 2.69062927 2.69420365 2.69778039\n",
      " 2.70135951 2.704941   2.70852486 2.71211109 2.7156997  2.71929068\n",
      " 2.72288403 2.72647976 2.73007786 2.73367833 2.73728117 2.74088639\n",
      " 2.74449397 2.74810393 2.75171627 2.75533097 2.75894805 2.7625675\n",
      " 2.76618933 2.76981352 2.77344009 2.77706904 2.78070035 2.78433404\n",
      " 2.7879701  2.79160853 2.79524933 2.79889251 2.80253806 2.80618598\n",
      " 2.80983628 2.81348895 2.81714399 2.8208014  2.82446119 2.82812335\n",
      " 2.83178788 2.83545478 2.83912406 2.84279571 2.84646973 2.85014612\n",
      " 2.85382489 2.85750603 2.86118954 2.86487542 2.86856368 2.87225431\n",
      " 2.87594731 2.87964269 2.88334044 2.88704056 2.89074305 2.89444791\n",
      " 2.89815515 2.90186476 2.90557675 2.9092911  2.91300783 2.91672693\n",
      " 2.92044841 2.92417225 2.92789847 2.93162706 2.93535803 2.93909136\n",
      " 2.94282707 2.94656516 2.95030561 2.95404844 2.95779364 2.96154121\n",
      " 2.96529116 2.96904347 2.97279816 2.97655523]\n",
      "[0.40642219 0.40899359 0.41156499 0.41413638 0.41670778 0.41927918\n",
      " 0.42185057 0.42442197 0.42699337 0.42956476 0.43213616 0.43470756\n",
      " 0.43727896 0.43985035 0.44242175 0.44499315 0.44756454 0.45013594\n",
      " 0.45270734 0.45527873 0.45785013 0.46042153 0.46299293 0.46556432\n",
      " 0.46813572 0.47070712 0.47327851 0.47584991 0.47842131 0.4809927\n",
      " 0.4835641  0.4861355  0.4887069  0.49127829 0.49384969 0.49642109\n",
      " 0.49899248 0.50156388 0.50413528 0.50670668 0.50927807 0.51184947\n",
      " 0.51442087 0.51699226 0.51956366 0.52213506 0.52470645 0.52727785\n",
      " 0.52984925 0.53242065 0.53499204 0.53756344 0.54013484 0.54270623\n",
      " 0.54527763 0.54784903 0.55042042 0.55299182 0.55556322 0.55813462\n",
      " 0.56070601 0.56327741 0.56584881 0.5684202  0.5709916  0.573563\n",
      " 0.57613439 0.57870579 0.58127719 0.58384859 0.58641998 0.58899138\n",
      " 0.59156278 0.59413417 0.59670557 0.59927697 0.60184836 0.60441976\n",
      " 0.60699116 0.60956256 0.61213395 0.61470535 0.61727675 0.61984814\n",
      " 0.62241954 0.62499094 0.62756233 0.63013373 0.63270513 0.63527653\n",
      " 0.63784792 0.64041932 0.64299072 0.64556211 0.64813351 0.65070491\n",
      " 0.6532763  0.6558477  0.6584191  0.6609905  0.66356189 0.66613329\n",
      " 0.66870469 0.67127608 0.67384748 0.67641888 0.67899027 0.68156167\n",
      " 0.68413307 0.68670447 0.68927586 0.69184726 0.69441866 0.69699005\n",
      " 0.69956145 0.70213285 0.70470424 0.70727564 0.70984704 0.71241844\n",
      " 0.71498983 0.71756123 0.72013263 0.72270402 0.72527542 0.72784682\n",
      " 0.73041821 0.73298961 0.73556101 0.73813241 0.7407038  0.7432752\n",
      " 0.7458466  0.74841799 0.75098939 0.75356079 0.75613218 0.75870358\n",
      " 0.76127498 0.76384638 0.76641777 0.76898917 0.77156057 0.77413196\n",
      " 0.77670336 0.77927476 0.78184615 0.78441755 0.78698895 0.78956035\n",
      " 0.79213174 0.79470314 0.79727454 0.79984593 0.80241733 0.80498873\n",
      " 0.80756012 0.81013152 0.81270292 0.81527432 0.81784571 0.82041711\n",
      " 0.82298851 0.8255599  0.8281313  0.8307027  0.83327409 0.83584549\n",
      " 0.83841689 0.84098829 0.84355968 0.84613108 0.84870248 0.85127387\n",
      " 0.85384527 0.85641667 0.85898806 0.86155946 0.86413086 0.86670226\n",
      " 0.86927365 0.87184505 0.87441645 0.87698784 0.87955924 0.88213064\n",
      " 0.88470204 0.88727343 0.88984483 0.89241623 0.89498762 0.89755902\n",
      " 0.90013042 0.90270181 0.90527321 0.90784461 0.91041601 0.9129874\n",
      " 0.9155588  0.9181302  0.92070159 0.92327299 0.92584439 0.92841578\n",
      " 0.93098718 0.93355858 0.93612998 0.93870137 0.94127277 0.94384417\n",
      " 0.94641556 0.94898696 0.95155836 0.95412975 0.95670115 0.95927255\n",
      " 0.96184395 0.96441534 0.96698674 0.96955814 0.97212953 0.97470093\n",
      " 0.97727233 0.97984372 0.98241512 0.98498652 0.98755792 0.99012931\n",
      " 0.99270071 0.99527211 0.9978435  1.0004149  1.0029863  1.00555769\n",
      " 1.00812909 1.01070049 1.01327189 1.01584328 1.01841468 1.02098608\n",
      " 1.02355747 1.02612887 1.02870027 1.03127166 1.03384306 1.03641446\n",
      " 1.03898586 1.04155725 1.04412865 1.04670005 1.04927144 1.05184284\n",
      " 1.05441424 1.05698563 1.05955703 1.06212843 1.06469983 1.06727122\n",
      " 1.06984262 1.07241402 1.07498541 1.07755681 1.08012821 1.0826996\n",
      " 1.085271   1.0878424  1.0904138  1.09298519 1.09555659 1.09812799\n",
      " 1.10069938 1.10327078 1.10584218 1.10841357 1.11098497 1.11355637\n",
      " 1.11612777 1.11869916 1.12127056 1.12384196 1.12641335 1.12898475\n",
      " 1.13155615 1.13412754 1.13669894 1.13927034 1.14184174 1.14441313\n",
      " 1.14698453 1.14955593 1.15212732 1.15469872 1.15727012 1.15984151\n",
      " 1.16241291 1.16498431 1.16755571 1.1701271  1.1726985  1.1752699\n",
      " 1.17784129 1.18041269 1.18298409 1.18555548 1.18812688 1.19069828\n",
      " 1.19326968 1.19584107 1.19841247 1.20098387 1.20355526 1.20612666\n",
      " 1.20869806 1.21126945 1.21384085 1.21641225 1.21898365 1.22155504\n",
      " 1.22412644 1.22669784 1.22926923 1.23184063 1.23441203 1.23698343\n",
      " 1.23955482 1.24212622 1.24469762 1.24726901 1.24984041 1.25241181\n",
      " 1.2549832  1.2575546  1.260126   1.2626974  1.26526879 1.26784019\n",
      " 1.27041159 1.27298298 1.27555438 1.27812578 1.28069717 1.28326857\n",
      " 1.28583997 1.28841137 1.29098276 1.29355416 1.29612556 1.29869695\n",
      " 1.30126835 1.30383975 1.30641114 1.30898254 1.31155394 1.31412534\n",
      " 1.31669673 1.31926813 1.32183953 1.32441092 1.32698232 1.32955372\n",
      " 1.33212511 1.33469651 1.33726791 1.33983931 1.3424107  1.3449821\n",
      " 1.3475535  1.35012489 1.35269629 1.35526769 1.35783908 1.36041048\n",
      " 1.36298188 1.36555328 1.36812467 1.37069607 1.37326747 1.37583886\n",
      " 1.37841026 1.38098166 1.38355305 1.38612445 1.38869585 1.39126725\n",
      " 1.39383864 1.39641004 1.39898144 1.40155283 1.40412423 1.40669563\n",
      " 1.40926702 1.41183842 1.41440982 1.41698122 1.41955261 1.42212401\n",
      " 1.42469541 1.4272668  1.4298382  1.4324096  1.43498099 1.43755239\n",
      " 1.44012379 1.44269519 1.44526658 1.44783798 1.45040938 1.45298077\n",
      " 1.45555217 1.45812357 1.46069496 1.46326636 1.46583776 1.46840916\n",
      " 1.47098055 1.47355195 1.47612335 1.47869474 1.48126614 1.48383754\n",
      " 1.48640893 1.48898033 1.49155173 1.49412313 1.49669452 1.49926592\n",
      " 1.50183732 1.50440871 1.50698011 1.50955151 1.5121229  1.5146943\n",
      " 1.5172657  1.5198371  1.52240849 1.52497989 1.52755129 1.53012268\n",
      " 1.53269408 1.53526548 1.53783687 1.54040827 1.54297967 1.54555107\n",
      " 1.54812246 1.55069386 1.55326526 1.55583665 1.55840805 1.56097945\n",
      " 1.56355084 1.56612224 1.56869364 1.57126504 1.57383643 1.57640783\n",
      " 1.57897923 1.58155062 1.58412202 1.58669342 1.58926482 1.59183621\n",
      " 1.59440761 1.59697901 1.5995504  1.6021218  1.6046932  1.60726459\n",
      " 1.60983599 1.61240739 1.61497879 1.61755018 1.62012158 1.62269298\n",
      " 1.62526437 1.62783577 1.63040717 1.63297856 1.63554996 1.63812136\n",
      " 1.64069276 1.64326415 1.64583555 1.64840695 1.65097834 1.65354974\n",
      " 1.65612114 1.65869253 1.66126393 1.66383533 1.66640673 1.66897812\n",
      " 1.67154952 1.67412092 1.67669231 1.67926371 1.68183511 1.6844065\n",
      " 1.6869779  1.6895493  1.6921207  1.69469209 1.69726349 1.69983489\n",
      " 1.70240628 1.70497768 1.70754908 1.71012047 1.71269187 1.71526327\n",
      " 1.71783467 1.72040606 1.72297746 1.72554886 1.72812025 1.73069165\n",
      " 1.73326305 1.73583444 1.73840584 1.74097724 1.74354864 1.74612003\n",
      " 1.74869143 1.75126283 1.75383422 1.75640562 1.75897702 1.76154841\n",
      " 1.76411981 1.76669121 1.76926261 1.771834   1.7744054  1.7769768\n",
      " 1.77954819 1.78211959 1.78469099 1.78726238 1.78983378 1.79240518\n",
      " 1.79497658 1.79754797 1.80011937 1.80269077 1.80526216 1.80783356\n",
      " 1.81040496 1.81297635 1.81554775 1.81811915 1.82069055 1.82326194\n",
      " 1.82583334 1.82840474 1.83097613 1.83354753 1.83611893 1.83869032\n",
      " 1.84126172 1.84383312 1.84640452 1.84897591 1.85154731 1.85411871\n",
      " 1.8566901  1.8592615  1.8618329  1.86440429 1.86697569 1.86954709\n",
      " 1.87211849 1.87468988 1.87726128 1.87983268 1.88240407 1.88497547\n",
      " 1.88754687 1.89011826 1.89268966 1.89526106 1.89783246 1.90040385\n",
      " 1.90297525 1.90554665 1.90811804 1.91068944 1.91326084 1.91583223\n",
      " 1.91840363 1.92097503 1.92354643 1.92611782 1.92868922 1.93126062\n",
      " 1.93383201 1.93640341 1.93897481 1.9415462  1.9441176  1.946689\n",
      " 1.9492604  1.95183179 1.95440319 1.95697459 1.95954598 1.96211738\n",
      " 1.96468878 1.96726018 1.96983157 1.97240297 1.97497437 1.97754576\n",
      " 1.98011716 1.98268856 1.98525995 1.98783135 1.99040275 1.99297415\n",
      " 1.99554554 1.99811694 2.00068834 2.00325973 2.00583113 2.00840253\n",
      " 2.01097392 2.01354532 2.01611672 2.01868812 2.02125951 2.02383091\n",
      " 2.02640231 2.0289737  2.0315451  2.0341165  2.03668789 2.03925929\n",
      " 2.04183069 2.04440209 2.04697348 2.04954488 2.05211628 2.05468767\n",
      " 2.05725907 2.05983047 2.06240186 2.06497326 2.06754466 2.07011606\n",
      " 2.07268745 2.07525885 2.07783025 2.08040164 2.08297304 2.08554444\n",
      " 2.08811583 2.09068723 2.09325863 2.09583003 2.09840142 2.10097282\n",
      " 2.10354422 2.10611561 2.10868701 2.11125841 2.1138298  2.1164012\n",
      " 2.1189726  2.121544   2.12411539 2.12668679 2.12925819 2.13182958\n",
      " 2.13440098 2.13697238 2.13954377 2.14211517 2.14468657 2.14725797\n",
      " 2.14982936 2.15240076 2.15497216 2.15754355 2.16011495 2.16268635\n",
      " 2.16525774 2.16782914 2.17040054 2.17297194 2.17554333 2.17811473\n",
      " 2.18068613 2.18325752 2.18582892 2.18840032 2.19097171 2.19354311\n",
      " 2.19611451 2.19868591 2.2012573  2.2038287  2.2064001  2.20897149\n",
      " 2.21154289 2.21411429 2.21668568 2.21925708 2.22182848 2.22439988\n",
      " 2.22697127 2.22954267 2.23211407 2.23468546 2.23725686 2.23982826\n",
      " 2.24239965 2.24497105 2.24754245 2.25011385 2.25268524 2.25525664\n",
      " 2.25782804 2.26039943 2.26297083 2.26554223 2.26811362 2.27068502\n",
      " 2.27325642 2.27582782 2.27839921 2.28097061 2.28354201 2.2861134\n",
      " 2.2886848  2.2912562  2.29382759 2.29639899 2.29897039 2.30154179\n",
      " 2.30411318 2.30668458 2.30925598 2.31182737 2.31439877 2.31697017\n",
      " 2.31954157 2.32211296 2.32468436 2.32725576 2.32982715 2.33239855\n",
      " 2.33496995 2.33754134 2.34011274 2.34268414 2.34525554 2.34782693\n",
      " 2.35039833 2.35296973 2.35554112 2.35811252 2.36068392 2.36325531\n",
      " 2.36582671 2.36839811 2.37096951 2.3735409  2.3761123  2.3786837\n",
      " 2.38125509 2.38382649 2.38639789 2.38896928 2.39154068 2.39411208\n",
      " 2.39668348 2.39925487 2.40182627 2.40439767 2.40696906 2.40954046\n",
      " 2.41211186 2.41468325 2.41725465 2.41982605 2.42239745 2.42496884\n",
      " 2.42754024 2.43011164 2.43268303 2.43525443 2.43782583 2.44039722\n",
      " 2.44296862 2.44554002 2.44811142 2.45068281 2.45325421 2.45582561\n",
      " 2.458397   2.4609684  2.4635398  2.46611119 2.46868259 2.47125399\n",
      " 2.47382539 2.47639678 2.47896818 2.48153958 2.48411097 2.48668237\n",
      " 2.48925377 2.49182516 2.49439656 2.49696796 2.49953936 2.50211075\n",
      " 2.50468215 2.50725355 2.50982494 2.51239634 2.51496774 2.51753913\n",
      " 2.52011053 2.52268193 2.52525333 2.52782472 2.53039612 2.53296752\n",
      " 2.53553891 2.53811031 2.54068171 2.5432531  2.5458245  2.5483959\n",
      " 2.5509673  2.55353869 2.55611009 2.55868149 2.56125288 2.56382428\n",
      " 2.56639568 2.56896707 2.57153847 2.57410987 2.57668127 2.57925266\n",
      " 2.58182406 2.58439546 2.58696685 2.58953825 2.59210965 2.59468104\n",
      " 2.59725244 2.59982384 2.60239524 2.60496663 2.60753803 2.61010943\n",
      " 2.61268082 2.61525222 2.61782362 2.62039501 2.62296641 2.62553781\n",
      " 2.62810921 2.6306806  2.633252   2.6358234  2.63839479 2.64096619\n",
      " 2.64353759 2.64610898 2.64868038 2.65125178 2.65382318 2.65639457\n",
      " 2.65896597 2.66153737 2.66410876 2.66668016 2.66925156 2.67182296\n",
      " 2.67439435 2.67696575 2.67953715 2.68210854 2.68467994 2.68725134\n",
      " 2.68982273 2.69239413 2.69496553 2.69753693 2.70010832 2.70267972\n",
      " 2.70525112 2.70782251 2.71039391 2.71296531 2.7155367  2.7181081\n",
      " 2.7206795  2.7232509  2.72582229 2.72839369 2.73096509 2.73353648\n",
      " 2.73610788 2.73867928 2.74125067 2.74382207 2.74639347 2.74896487\n",
      " 2.75153626 2.75410766 2.75667906 2.75925045 2.76182185 2.76439325\n",
      " 2.76696464 2.76953604 2.77210744 2.77467884 2.77725023 2.77982163\n",
      " 2.78239303 2.78496442 2.78753582 2.79010722 2.79267861 2.79525001\n",
      " 2.79782141 2.80039281 2.8029642  2.8055356  2.808107   2.81067839\n",
      " 2.81324979 2.81582119 2.81839258 2.82096398 2.82353538 2.82610678\n",
      " 2.82867817 2.83124957 2.83382097 2.83639236 2.83896376 2.84153516\n",
      " 2.84410655 2.84667795 2.84924935 2.85182075 2.85439214 2.85696354\n",
      " 2.85953494 2.86210633 2.86467773 2.86724913 2.86982052 2.87239192\n",
      " 2.87496332 2.87753472 2.88010611 2.88267751 2.88524891 2.8878203\n",
      " 2.8903917  2.8929631  2.89553449 2.89810589 2.90067729 2.90324869\n",
      " 2.90582008 2.90839148 2.91096288 2.91353427 2.91610567 2.91867707\n",
      " 2.92124846 2.92381986 2.92639126 2.92896266 2.93153405 2.93410545\n",
      " 2.93667685 2.93924824 2.94181964 2.94439104 2.94696243 2.94953383\n",
      " 2.95210523 2.95467663 2.95724802 2.95981942 2.96239082 2.96496221\n",
      " 2.96753361 2.97010501 2.9726764  2.9752478 ]\n"
     ]
    }
   ],
   "source": [
    "print(xpl2)\n",
    "print(np.power(xpl2,2))\n",
    "print(xpl)\n"
   ]
  },
  {
   "cell_type": "code",
   "execution_count": 18,
   "metadata": {},
   "outputs": [
    {
     "data": {
      "image/png": "[encoded data removed]",
      "text/plain": [
       "<Figure size 640x480 with 1 Axes>"
      ]
     },
     "metadata": {},
     "output_type": "display_data"
    }
   ],
   "source": [
    "pab = atfk.two_body_momentum(atfi.sqrt(xpl), masses_ab[0], masses_ab[1])\n",
    "q = atfk.two_body_momentum(atfi.sqrt(xpl), md, masses_ab[2])\n",
    "plt.plot(xpl, pab, label='pab')\n",
    "plt.plot(xpl, q, label='q')\n",
    "plt.legend()\n",
    "plt.show()"
   ]
  },
  {
   "cell_type": "code",
   "execution_count": 19,
   "metadata": {},
   "outputs": [
    {
     "data": {
      "text/plain": [
       "<matplotlib.legend.Legend at 0x7fd5f01620a0>"
      ]
     },
     "execution_count": 19,
     "metadata": {},
     "output_type": "execute_result"
    },
    {
     "data": {
      "image/png": "[encoded data removed]",
      "text/plain": [
       "<Figure size 640x480 with 1 Axes>"
      ]
     },
     "metadata": {},
     "output_type": "display_data"
    }
   ],
   "source": [
    "q_lass = atfk.two_body_momentum(atfi.sqrt(xpl), masses_ab[0], masses_ab[1])\n",
    "delta_beta = atfi.atan( 1.0 / ( 1.0 / lass_a / q_lass + 0.5 * lass_r * q_lass ) )\n",
    "cotdb = 1.0 / ( lass_a * q_lass) + 0.5*lass_r*q_lass \n",
    "plt.plot(xpl, delta_beta, label=r'$\\delta_{\\beta}$')\n",
    "plt.plot(xpl, cotdb, label=r'$cot\\delta_{\\beta}$')\n",
    "#plt.plot(xpl, 1./cotdb, label=r'$tan\\delta_{\\beta}$')\n",
    "plt.legend()"
   ]
  },
  {
   "cell_type": "code",
   "execution_count": 20,
   "metadata": {},
   "outputs": [
    {
     "data": {
      "text/plain": [
       "[<matplotlib.lines.Line2D at 0x7fd5f01e3850>]"
      ]
     },
     "execution_count": 20,
     "metadata": {},
     "output_type": "execute_result"
    },
    {
     "data": {
      "image/png": "[encoded data removed]",
      "text/plain": [
       "<Figure size 640x480 with 1 Axes>"
      ]
     },
     "metadata": {},
     "output_type": "display_data"
    }
   ],
   "source": [
    "plt.plot(xpl, atfd.density(atfi.complex( q_lass * cotdb, q_lass ) / atfi.complex( q_lass * cotdb, -q_lass )))"
   ]
  },
  {
   "cell_type": "code",
   "execution_count": 21,
   "metadata": {},
   "outputs": [
    {
     "data": {
      "text/plain": [
       "[<matplotlib.lines.Line2D at 0x7fd5f009d160>]"
      ]
     },
     "execution_count": 21,
     "metadata": {},
     "output_type": "execute_result"
    },
    {
     "data": {
      "image/png": "[encoded data removed]",
      "text/plain": [
       "<Figure size 640x480 with 1 Axes>"
      ]
     },
     "metadata": {},
     "output_type": "display_data"
    }
   ],
   "source": [
    "\n",
    "res = atfd.resonant_lass_lineshape(xpl, lass_M, lass_G, lass_a, lass_r, md, masses_ab[2])\n",
    "lass = atfi.cast_complex(lass_R) * atfi.complex( atfi.cos(lass_phiR), atfi.sin(lass_phiR) ) * \\\n",
    "             atfi.complex( q_lass * cotdb, q_lass ) / atfi.complex( q_lass * cotdb, -q_lass ) * res\n",
    "plt.plot(xpl, atfd.density(lass))"
   ]
  },
  {
   "cell_type": "code",
   "execution_count": 22,
   "metadata": {},
   "outputs": [
    {
     "data": {
      "text/plain": [
       "[<matplotlib.lines.Line2D at 0x7fd5f0008e80>]"
      ]
     },
     "execution_count": 22,
     "metadata": {},
     "output_type": "execute_result"
    },
    {
     "data": {
      "image/png": "[encoded data removed]",
      "text/plain": [
       "<Figure size 640x480 with 1 Axes>"
      ]
     },
     "metadata": {},
     "output_type": "display_data"
    }
   ],
   "source": [
    "def LASS(m2ab, a, r, m0, gamma0, ma, mb, amp_res, amp_nr, phase_res, phase_nr, cutOff=0):\n",
    "    q0 = atfk.two_body_momentum(m0, ma, mb)\n",
    "    q = atfk.two_body_momentum(atfi.sqrt(m2ab), ma, mb)\n",
    "    cot_delta_beta = atfi.const(1.0) / a / q + atfi.const(0.5) * r * q\n",
    "    nr  = atfd.nonresonant_lass_lineshape(m2ab, a, r, ma, mb)\n",
    "    res = atfd.resonant_lass_lineshape(m2ab, m0, gamma0, a, r, ma, mb)\n",
    "    lass = atfi.cast_complex(amp_res) * atfi.complex( atfi.cos(phase_res), atfi.sin(phase_res) ) * \\\n",
    "             atfi.complex( q * cot_delta_beta, q ) / atfi.complex( q * cot_delta_beta, -q ) * res\n",
    "    lass += atfi.cast_complex(amp_nr) * atfi.complex( atfi.cos(phase_nr), atfi.sin(phase_nr) ) * \\\n",
    "            atfi.cast_complex( atfi.cos(phase_nr) + atfi.sin(phase_nr) * cot_delta_beta ) * nr\n",
    "    # lass += atfi.where( m2ab>cutOff,\n",
    "    #             atfi.cast_complex(amp_nr) * atfi.complex( atfi.cos(phase_nr), atfi.sin(phase_nr) ) * \\\n",
    "    #            atfi.cast_complex( atfi.cos(phase_nr) + atfi.sin(phase_nr) * cot_delta_beta ) * nr,\n",
    "    #                atfi.cast_complex(0.0))  # Default value if condition is false\n",
    "    return lass\n",
    "plt.plot(xpl, atfd.density(atfd.resonant_lass_lineshape(xpl, lass_M, lass_G, lass_a, lass_r, md, masses_ab[2])))\n",
    "plt.plot(xpl, atfd.density(LASS( xpl, lass_a, lass_r, lass_M, lass_G, md, masses_ab[2], lass_R, lass_F, lass_phiR, lass_phiF, 0.5)))"
   ]
  },
  {
   "cell_type": "code",
   "execution_count": 23,
   "metadata": {},
   "outputs": [
    {
     "data": {
      "text/plain": [
       "[<matplotlib.lines.Line2D at 0x7fd5e077adf0>]"
      ]
     },
     "execution_count": 23,
     "metadata": {},
     "output_type": "execute_result"
    },
    {
     "data": {
      "image/png": "[encoded data removed]",
      "text/plain": [
       "<Figure size 640x480 with 1 Axes>"
      ]
     },
     "metadata": {},
     "output_type": "display_data"
    }
   ],
   "source": [
    "plt.plot(xpl, atfi.cos(lass_phiF) + atfi.sin(lass_phiF) / atfi.tan(delta_beta) )\n",
    "plt.plot(xpl, atfi.cos(lass_phiF) + atfi.sin(lass_phiF) / (1.0 / ( 1.0 / lass_a / pab + 0.5 * lass_r * pab )  ))\n"
   ]
  },
  {
   "cell_type": "markdown",
   "metadata": {},
   "source": [
    "Problem is due to this divergence at low masses!"
   ]
  },
  {
   "cell_type": "markdown",
   "metadata": {},
   "source": [
    "## Laura++ Model\n",
    "\n",
    "Laura++ model seems the same as what AmpliTF uses, let's try to code it here in any case:\n",
    "\n",
    "$$\n",
    "T(m) = \\frac{m}{q\\cot\\delta_b - iq}+ e^{i\\delta_b}\\frac{m_0\\Gamma_0\\frac{m_0}{q_0}}{m_0^2 - m^2 -i m_0\\Gamma_0 \\frac{q}{m}\\frac{m_0}{q_0}}\n",
    "$$\n",
    "\n",
    "with\n",
    "\n",
    "$$\n",
    "\\cot\\delta_b = \\frac{1}{aq} + \\frac{rq}{2}\n",
    "$$"
   ]
  },
  {
   "cell_type": "code",
   "execution_count": 24,
   "metadata": {},
   "outputs": [],
   "source": [
    "@atfi.function\n",
    "def LauraLASS(m, md, mc, a, r, m0, g0):\n",
    "    q0 = atfk.two_body_momentum(md, m0, mc)\n",
    "    q = atfk.two_body_momentum(md, m, mc)\n",
    "    cot_delta_beta = atfi.const(1.0) / a / q + atfi.const(0.5) * r * q\n",
    "    delta_beta = atfi.atan(1.0 / cot_delta_beta)\n",
    "    Tm = atfi.cast_complex(m) / atfi.complex(q * cot_delta_beta, -q)\n",
    "    Tm+= atfi.complex(atfi.cos(delta_beta), atfi.sin(delta_beta)) * \\\n",
    "         atfi.cast_complex(m0 * g0 * m0 / q0) * \\\n",
    "         tf.math.reciprocal(atfi.complex(m0*m0 - m*m, - m0 * g0 * q / m * m0 / q0 ))\n",
    "    return Tm"
   ]
  },
  {
   "cell_type": "markdown",
   "metadata": {},
   "source": [
    "B->etacKπ parameters"
   ]
  },
  {
   "cell_type": "code",
   "execution_count": 25,
   "metadata": {},
   "outputs": [],
   "source": [
    "r = atfi.const(2.07)\n",
    "a = atfi.const(3.32)\n",
    "mkzst_1430 = atfi.const(1.425)\n",
    "gkzst_1430 = atfi.const(0.270)"
   ]
  },
  {
   "cell_type": "code",
   "execution_count": 26,
   "metadata": {},
   "outputs": [
    {
     "data": {
      "text/plain": [
       "[<matplotlib.lines.Line2D at 0x7fd5e06fba60>]"
      ]
     },
     "execution_count": 26,
     "metadata": {},
     "output_type": "execute_result"
    },
    {
     "data": {
      "image/png": "[encoded data removed]",
      "text/plain": [
       "<Figure size 640x480 with 1 Axes>"
      ]
     },
     "metadata": {},
     "output_type": "display_data"
    }
   ],
   "source": [
    "mb = 5.28\n",
    "metac = 2.99\n",
    "xpl = np.linspace(0.6,mb-metac,1000)\n",
    "LLass = atfd.density(LauraLASS(xpl, mb, metac, a, r, mkzst_1430, gkzst_1430))\n",
    "is_nan = np.isnan(LLass)\n",
    "LLass_int = trapezoid(LLass[~is_nan], xpl[~is_nan])\n",
    "plt.plot(xpl[~is_nan], LLass[~is_nan]/LLass_int)"
   ]
  },
  {
   "cell_type": "code",
   "execution_count": 27,
   "metadata": {},
   "outputs": [
    {
     "data": {
      "text/plain": [
       "[<matplotlib.lines.Line2D at 0x7fd5e0689100>]"
      ]
     },
     "execution_count": 27,
     "metadata": {},
     "output_type": "execute_result"
    },
    {
     "data": {
      "image/png": "[encoded data removed]",
      "text/plain": [
       "<Figure size 640x480 with 1 Axes>"
      ]
     },
     "metadata": {},
     "output_type": "display_data"
    }
   ],
   "source": [
    "md = 1.864\n",
    "mpi = 0.13957\n",
    "mkz = 0.497611\n",
    "xpl = np.linspace(mkz+mpi,md-mpi,1000)\n",
    "LLass = atfd.density(LauraLASS(xpl, md, mpi, a, r, mkzst_1430, gkzst_1430))\n",
    "is_nan = np.isnan(LLass)\n",
    "LLass_int = trapezoid(LLass[~is_nan], xpl[~is_nan])\n",
    "plt.plot(xpl[~is_nan], LLass[~is_nan]/LLass_int)"
   ]
  },
  {
   "cell_type": "code",
   "execution_count": 28,
   "metadata": {},
   "outputs": [],
   "source": [
    "@atfi.function\n",
    "def my_relativistic_breit_wigner(m2, mres, wres):\n",
    "    if wres.dtype is atfi.ctype():\n",
    "        return tf.math.reciprocal(\n",
    "            atfi.cast_complex(mres * mres - m2)\n",
    "            - atfi.complex(atfi.const(0.0), mres) * wres\n",
    "        )\n",
    "    if wres.dtype is atfi.fptype():\n",
    "        return tf.math.reciprocal(atfi.complex(mres * mres - m2, -mres * wres))\n",
    "    return None\n",
    "\n",
    "@atfi.function\n",
    "def my_resonant_lass_lineshape(m2, m0, gamma0, a, r, md, mc):\n",
    "    m = atfi.sqrt(m2)\n",
    "    q = atfk.two_body_momentum(md, m, mc)\n",
    "    q0 = atfk.two_body_momentum(md, m0, mc)\n",
    "    cot_deltab = atfi.const(1.0) / a / q + atfi.const(0.5) * r * q\n",
    "    phase = atfi.atan(1.0 / cot_deltab)\n",
    "    cot_delta_beta = atfi.const(1.0) / a / q + atfi.const(0.5) * r * q\n",
    "    delta_beta = atfi.atan(1.0 / cot_delta_beta)\n",
    "    width = gamma0 * q / m * m0 / q0\n",
    "    ampl = (tf.math.reciprocal(atfi.complex(m0*m0 - m2, - m0 * gamma0 * q / m * m0 / q0 )) * #my_relativistic_breit_wigner(m2, m0, width) *\n",
    "            atfi.complex(atfi.cos(phase), atfi.sin(phase)) *\n",
    "            atfi.cast_complex(m0* m0 * gamma0 / q0))\n",
    "    return ampl\n",
    "\n",
    "@atfi.function\n",
    "def LauraLASSatfd(m, md, mc, a, r, m0, g0):\n",
    "    m2 = atfi.pow(m,2)\n",
    "    q0 = atfk.two_body_momentum(md, m0, mc)\n",
    "    q = atfk.two_body_momentum(md, m, mc)\n",
    "    cot_delta_beta = atfi.const(1.0) / a / q + atfi.const(0.5) * r * q\n",
    "    delta_beta = atfi.atan(1.0 / cot_delta_beta)\n",
    "    Tm = atfd.nonresonant_lass_lineshape(m2, a, r, md, mc)\n",
    "    #Tm = atfi.cast_complex(m) / atfi.complex(q * cot_delta_beta, -q)\n",
    "    # Tm+= atfi.complex(atfi.cos(delta_beta), atfi.sin(delta_beta)) * \\\n",
    "    #      atfi.cast_complex(m0 * g0 * m0 / q0) * \\\n",
    "    #      tf.math.reciprocal(atfi.complex(m0*m0 - m2, - m0 * g0 * q / m * m0 / q0 ))\n",
    "\n",
    "    # width = gamma0 * q / m * m0 / q0\n",
    "    # ampl = (relativistic_breit_wigner(m2ab, m0, width) *\n",
    "    #         atfi.complex(atfi.cos(phase), atfi.sin(phase)) *\n",
    "    #         atfi.cast_complex(m2ab * gamma0 / q0))\n",
    "    # tf.math.reciprocal(atfi.complex(mres * mres - m2, -mres * wres))\n",
    "\n",
    "\n",
    "    Tm+=  atfd.resonant_lass_lineshape(m2, m0, g0, a, r, md, mc)\n",
    "    return Tm"
   ]
  },
  {
   "cell_type": "code",
   "execution_count": 29,
   "metadata": {},
   "outputs": [
    {
     "data": {
      "text/plain": [
       "[<matplotlib.lines.Line2D at 0x7fd5e0601af0>]"
      ]
     },
     "execution_count": 29,
     "metadata": {},
     "output_type": "execute_result"
    },
    {
     "data": {
      "image/png": "[encoded data removed]",
      "text/plain": [
       "<Figure size 640x480 with 1 Axes>"
      ]
     },
     "metadata": {},
     "output_type": "display_data"
    }
   ],
   "source": [
    "md = atfi.const(1.864)\n",
    "mpi = atfi.const(0.13957)\n",
    "mkz = atfi.const(0.497611)\n",
    "xpl = np.linspace(mkz+mpi,md-mpi,1000)\n",
    "LLass = atfd.density(LauraLASS(xpl, md, mpi, a, r, mkzst_1430, gkzst_1430))\n",
    "is_nan = np.isnan(LLass)\n",
    "LLass_int = trapezoid(LLass[~is_nan], xpl[~is_nan])\n",
    "plt.plot(xpl[~is_nan], LLass[~is_nan]/LLass_int)\n",
    "LLassA = atfd.density(LauraLASSatfd(xpl, md, mpi, a, r, mkzst_1430, gkzst_1430))\n",
    "LLass_int = trapezoid(LLassA[~is_nan], xpl[~is_nan])\n",
    "plt.plot(xpl[~is_nan], LLassA[~is_nan]/LLass_int)"
   ]
  },
  {
   "cell_type": "markdown",
   "metadata": {},
   "source": [
    "## K-Matrix\n",
    "\n",
    "$$\n",
    "K_{ij}(m) = f(m) \\left( \\sum_{\\alpha} \\frac{g_{\\alpha i}g_{\\alpha j}}{m_{\\alpha}^2-m^2} + f_{ij}^{\\text{scat}} \\frac{1 GeV^2 - s_0^{\\text{scat}}}{m^2 - s_0^{\\text{scat}}} \\right)\n",
    "$$\n",
    "\n",
    "Poles:\n",
    "\n",
    "| $\\alpha$ | Name | Mass (MeV) |\n",
    "|----------|------|------------|\n",
    "| 0        | $f_0(980)$ |  651 |\n",
    "| 1        | $f_0(1300)$ |  1203.6 |\n",
    "| 2        | $f_0(1500)$ |  1558.17 |\n",
    "| 3        | $f_0(1200-1600)$ |  1210 |\n",
    "| 4        | $f_0(1750)$ |  1822.06 |\n",
    "\n",
    "Channels:\n",
    "\n",
    "| $i,j$ | Particles |\n",
    "|--------|-----------|\n",
    "| 0    | $\\pi\\pi$ |\n",
    "| 1    | $KK$ |\n",
    "| 2    | $\\pi\\pi\\pi\\pi$ |\n",
    "| 3    | $\\eta\\eta$ |\n",
    "| 4    | $\\eta\\eta^{\\prime}$ |"
   ]
  },
  {
   "cell_type": "code",
   "execution_count": 30,
   "metadata": {},
   "outputs": [],
   "source": [
    "@atfi.function\n",
    "def AdlerZero(m2, ma, sA0 = atfi.const(-0.15), sA = atfi.const(1.0)):\n",
    "    r\"\"\"Suppress the non-physical singularity below the ππ threshold (Adler zero)\n",
    "\n",
    "    .. math::\n",
    "\n",
    "        f(m) = \\frac{1 GeV^2 - s_{A0}}{m^2 - s_{A0}} \\left(m^2 - s_A\\frac{m^2_{\\pi}}{2} \\right)\n",
    "\n",
    "    Args:\n",
    "        m (float): invariant mass squared of the system\n",
    "        ma (float): pion mass\n",
    "        sA0 (float, optional): _description_. Defaults to atfi.const(-0.15).\n",
    "        sA (float, optional): _description_. Defaults to atfi.const(1.0).\n",
    "\n",
    "    Returns:\n",
    "        float: suppression factor\n",
    "    \"\"\"\n",
    "    azero = ( atfi.const(1.0) - sA0 ) / (m2 - sA0) * \\\n",
    "        (m2 - atfi.const(0.5) * sA * ma * ma)\n",
    "    return azero\n",
    "\n",
    "@atfi.function\n",
    "def KM_res(m2, m_poles, g_poles):\n",
    "    r\"\"\"\n",
    "    Calculates the sum of resonances: \n",
    "    \n",
    "    .. math::\n",
    "        \n",
    "        \\sum_{\\alpha} \\frac{g_{\\alpha i}g_{\\alpha j}}{m_{\\alpha}^2-m^2}$\n",
    "\n",
    "    Args:\n",
    "        m2: squared mass of the system (:math:`m^2`)\n",
    "        m_poles (Tensor): array of pole masses (:math:`m_{\\alpha}`)\n",
    "        g_poles (Tensor): coupling constants (:math:`g_{\\alpha i}`)\n",
    "\n",
    "    Returns:\n",
    "        Tensor: result of the sum for each pair of poles\n",
    "    \"\"\"\n",
    "    m2 = tf.convert_to_tensor(m2, dtype=m_poles.dtype)\n",
    "    # If m2 is scalar, expand it to shape [1]\n",
    "    m2 = tf.reshape(m2, [-1])\n",
    "    denominators = atfi.pow(m_poles,2) - tf.expand_dims(m2, axis=-1)  # add one dimension for broadcasting\n",
    "    numerators = tf.einsum('ai,aj->aij', g_poles, g_poles)\n",
    "    inv_denominators = tf.math.reciprocal(denominators)\n",
    "    result = tf.einsum('ka,aij->kij',inv_denominators, numerators )\n",
    "    return result\n",
    "\n",
    "@atfi.function\n",
    "def KM_nonres(m2, s0, fij):\n",
    "    r\"\"\"\n",
    "    Calculates the non-resonant part of the K-Matrix amplitude:\n",
    "    \n",
    "    .. math::\n",
    "\n",
    "        f_{ij}^{\\text{scat}} \\frac{1 GeV^2 - s_0^{\\text{scat}}}{m^2 - s_0^{\\text{scat}}}\n",
    "    \n",
    "    Args:\n",
    "        m2: squared mass of the system (:math:`m^2`)\n",
    "        s0 (float): scattering parameter (:math:`s_0^{scat}`)\n",
    "        fij (Tensor): non resonant coupling constants (:math:`f_{ij}`)\n",
    "\n",
    "    Returns:\n",
    "        Tensor: result of the sum for each pair of poles    \n",
    "    \"\"\"\n",
    "    sfactor = (atfi.const(1.0) - s0) / (m2 - s0)\n",
    "    result = tf.einsum('k,ij->kij', sfactor, fij)\n",
    "    return result\n",
    "\n",
    "@atfi.function\n",
    "def KM_phsp_twobody(m2, ma, mb):\n",
    "    r\"\"\"Calculates the phase space factor for the K-matrix in the case of two-body pole\n",
    "\n",
    "    .. math::\n",
    "        \\sqrt{1 - \\frac{(m_a + m_b)^2}{m^2}}\n",
    "\n",
    "    Args:\n",
    "        m2 (float): the invariant mass squared of the system\n",
    "        ma (float): the mass of particle a\n",
    "        mb (float): the mass of particle b\n",
    "\n",
    "    Returns:\n",
    "        complex: the phase space factor\n",
    "    \"\"\"\n",
    "    result = atfi.sqrt( atfi.cast_complex((atfi.const(1.0) - atfi.pow(ma+mb,2)/m2) * (atfi.const(1.0) - atfi.pow(ma-mb,2)/m2)) )\n",
    "    return result\n",
    "\n",
    "@atfi.function\n",
    "def KM_phsp_fourbody(m2, ma):\n",
    "    r\"\"\"Calculates the phase space factor for the K-matrix in the case of two-body pole\n",
    "\n",
    "    .. math::\n",
    "\n",
    "        \\rho(m) = \\begin{cases}\n",
    "                \\sqrt{\\frac{m^2-(4m_a^2)}{m^2}}, & \\text{if }m\\greq 1 GeV \\\\\n",
    "                0.0005-0.0193m^2+0.1385m^4-0.2084m^6-0.2974m^8+0.1366m^{10}+1.0789m^{12} & \\text{if }m<1 GeV\n",
    "                \\end{cases}\n",
    "\n",
    "    where the second case is an approximation of the phase space factor for 4-body decays:\n",
    "\n",
    "    .. math::\n",
    "\n",
    "        \\rho(m) = \\rho_0\\int\\frac{dm_1^2}{\\pi}\\int\\frac{dm_2^2}{\\pi}\\frac{M_0^2 \\Gamma(m_1)\\Gamma(m_2)\\sqrt{(m^2+m_1^2-m_2^2)^2-4m^2m_1^2}}{m^2[(M_0^2-m_1^2)^2 + M_0^2\\Gamma^2(m_1)][(M_0^2-m_2^2)^2 + M_0^2\\Gamma^2(m_2)]}\n",
    "\n",
    "    Args:\n",
    "        m2 (float): the invariant mass squared of the system\n",
    "        ma (float): the mass of particle a\n",
    "        mb (float): the mass of particle b\n",
    "\n",
    "    Returns:\n",
    "        complex: the phase space factor\n",
    "    \"\"\"\n",
    "    result = tf.where(m2>1, atfi.sqrt( atfi.cast_complex((m2 - 16*ma*ma)/m2) ), \n",
    "                      atfi.cast_complex(0.0005- 0.0193*m2 + 0.1385*m2*m2 - 0.2084*m2*m2*m2 - \\\n",
    "                      0.2974*m2*m2*m2*m2 + 0.1366*m2*m2*m2*m2*m2 + 1.0789*m2*m2*m2*m2*m2*m2) )\n",
    "    return result\n",
    "\n",
    "@atfi.function\n",
    "def KM_phsp(m2, masses):\n",
    "    r\"\"\"Calculates the phase space factor for the K-matrix\n",
    "\n",
    "    .. math::\n",
    "\n",
    "        \\sqrt{1 - \\frac{(m_a + m_b)^2}{m^2}} \\text{ or } \\sqrt{1 - \\frac{(m_a + m_b)^2}{m^2}} \\text{ for 4-body decay}\n",
    "\n",
    "    Args:\n",
    "        m2 (float): invariant mass squared of the system\n",
    "        masses (array): array of masses of the particles in the final state\n",
    "\n",
    "    Returns:\n",
    "        float: phase space factor\n",
    "    \"\"\"\n",
    "    km_phsp = tf.stack([\n",
    "        KM_phsp_twobody(m2, masses[0][0], masses[0][1]),\n",
    "        KM_phsp_twobody(m2, masses[1][0], masses[1][1]),\n",
    "        KM_phsp_fourbody(m2, masses[2][0]),\n",
    "        KM_phsp_twobody(m2, masses[3][0], masses[3][1]),\n",
    "        KM_phsp_twobody(m2, masses[4][0], masses[4][1])\n",
    "    ], axis=1)\n",
    "    return km_phsp\n",
    "\n",
    "@atfi.function\n",
    "def KM_Pvec_res(m2, m_poles, g_poles, b_poles):\n",
    "    r\"\"\"Calculates the resonant part of the production vector\n",
    "\n",
    "    .. math::\n",
    "\n",
    "        \\sum_{\\alpha} \\frac{\\beta_{\\alpha}g_{\\alpha j}}{m_{\\alpha}^2-m^2}$\n",
    "\n",
    "    Args:\n",
    "        m2 (float): invariant mass squared of the system\n",
    "        m_poles (array): array of pole masses\n",
    "        g_poles (array): matrix of coupling constants\n",
    "        b_poles (array): array of production strength of the poles\n",
    "\n",
    "    Returns:\n",
    "        array: result of the sum of each poles\n",
    "    \"\"\"\n",
    "    m2 = tf.convert_to_tensor(m2, dtype=m_poles.dtype)\n",
    "    # If m2 is scalar, expand it to shape [1]\n",
    "    m2 = tf.reshape(m2, [-1])\n",
    "    denominators = atfi.pow(m_poles,2) - tf.expand_dims(m2, axis=-1)  # add one dimension for broadcasting\n",
    "    print(b_poles, denominators)\n",
    "    #numerators = tf.einsum('a,ai->ai', b_poles, g_poles)\n",
    "    inv_denominators = tf.einsum('ka,a->ka', atfi.cast_complex(tf.math.reciprocal(denominators)), b_poles)\n",
    "    result = tf.einsum('ka,ai->ki',inv_denominators, atfi.cast_complex(g_poles) )\n",
    "    return result\n",
    "\n",
    "@atfi.function\n",
    "def KM_Pvec_nonres(m2, s0, fi):\n",
    "    r\"\"\"Calculates the resonant part of the production vector\n",
    "\n",
    "    .. math::\n",
    "\n",
    "        f_{i}^{\\text{prod}} \\frac{1 GeV^2 - s_0^{\\text{prod}}}{m^2 - s_0^{\\text{prod}}}\n",
    "\n",
    "    Args:\n",
    "        m2 (float): invariant mass squared of the system\n",
    "        s0 (float): scattering parameter for production vector (:math:`s_0^{prod}`)\n",
    "        fi (Tensor): non resonant coupling constants for production vector (:math:`f_{i}`)\n",
    "\n",
    "    Returns:\n",
    "        array: result of the sum of each poles\n",
    "    \"\"\"\n",
    "    sfactor = (atfi.const(1.0) - s0) / (m2 - s0)\n",
    "    result = tf.einsum('k,i->ki', atfi.cast_complex(sfactor), fi)\n",
    "    return result\n",
    "\n",
    "@atfi.function\n",
    "def KM(m2, m_poles, g_poles, s0, fij, b_poles, s0_prod, fi_prod, masses_poles, mth):\n",
    "    r\"\"\"Calculates the K-matrix amplitude\n",
    "\n",
    "    .. math::\n",
    "\n",
    "        F_l = \\sum_j \\left( I - i K \\rho\\right)^{-1}_{lj} P_j\n",
    "\n",
    "    where _I_ is the identity matrix, _K_ is the K-matrix amplitude, _P_ is the production vector and _rho_ is the phase space factor.\n",
    "    Citation:\n",
    "        - `I. J. R. Atchinson, Nucl.Phys.A 189 (1972) 417-423<https://doi.org/10.1016/0375-9474(72)90305-3>`_\n",
    "        - `S. U. Chung et al., Annalen der Physik 507 (1995) 404<https://doi.org/10.1002/andp.19955070504>`_\n",
    "        - `V. V. Anisovich and A. V. Sarantsev, Eur. Phys. J. A16 (2003) 229<https://arxiv.org/abs/hep-ph/0204328>`_\n",
    "\n",
    "    Args:\n",
    "        m2 (array): tensor of invariant mass squared of the system\n",
    "        m_poles (array): array of the pole masses\n",
    "        g_poles (array): array of the pole couplings\n",
    "        s0 (float): scattering parameter (:math:`s_0^{scat}`)\n",
    "        fij (array): non resonant coupling constants (:math:`f_{ij}`)\n",
    "        b_poles (array): array of production strength of the poles\n",
    "        s0_prod (float): scattering parameter for production vector (:math:`s_0^{prod}`)\n",
    "        fi_prod (array): non resonant coupling constants for production vector (:math:`f_{i}`)\n",
    "        masses_poles (array): array of masses of the particles in the final state\n",
    "        mth (float): threshold value for the phase space factor\n",
    "\n",
    "    Returns:\n",
    "        array: array of the K-matrix amplitude for each pion channel\n",
    "    \"\"\"\n",
    "    # K-matrix\n",
    "    km = KM_res(m2, m_poles, g_poles) + KM_nonres(m2, s0, fij)\n",
    "    km = tf.einsum( 'k,kij->kij', AdlerZero(m2, mth), km )\n",
    "    # Production vector\n",
    "    km_pvec = KM_Pvec_res(m2, m_poles, g_poles, b_poles) + KM_Pvec_nonres(m2, s0_prod, fi_prod)\n",
    "    # Create the identity matrix of shape (5, 5)\n",
    "    identity = tf.eye(5, dtype=atfi.ctype())\n",
    "    # Compute the operation I - i * rho * KM\n",
    "    km_phsp = tf.einsum('ki,ij->kij',KM_phsp(m2, masses_poles ), identity)\n",
    "    result = tf.linalg.inv( identity - atfi.cast_complex(atfi.complex(0.0, 1.0)) * \\\n",
    "                           tf.einsum('kij,kij->kij', km_phsp, atfi.cast_complex(km)) )\n",
    "    result = tf.einsum('kij,kj->ki', result, km_pvec)\n",
    "    return result\n"
   ]
  },
  {
   "cell_type": "markdown",
   "metadata": {},
   "source": [
    "### Test individual components"
   ]
  },
  {
   "cell_type": "code",
   "execution_count": 31,
   "metadata": {},
   "outputs": [],
   "source": [
    "meta = atfi.const(lp.eta.mass/1000.)\n",
    "metap = atfi.const(lp.etap_958.mass/1000.)"
   ]
  },
  {
   "cell_type": "code",
   "execution_count": 32,
   "metadata": {},
   "outputs": [],
   "source": [
    "m_poles = atfi.const([0.651, 1.2036, 1.55817, 1.21, 1.82206]) # GeV\n",
    "g_poles = atfi.const([ [ 0.22889, -0.55377,  0.00000, -0.39899, -0.34639],\n",
    "                       [ 0.94128,  0.55095,  0.00000,  0.39065,  0.31503],\n",
    "                       [ 0.36856,  0.23888,  0.55639,  0.18340,  0.18681],\n",
    "                       [ 0.33650,  0.40907,  0.85679,  0.19906, -0.00984],\n",
    "                       [ 0.18171, -0.17558, -0.79658, -0.00355,  0.22358] ]) # GeV\n",
    "fij = atfi.const([ [  0.23399,  0.15044, -0.20545,  0.32825,  0.35412],\n",
    "                   [  0.15044, 0, 0, 0, 0],\n",
    "                   [ -0.20545, 0, 0, 0, 0],\n",
    "                   [  0.32825, 0, 0, 0, 0],\n",
    "                   [  0.35412, 0, 0, 0, 0]])\n",
    "s0=atfi.const(-3.92637)\n",
    "b_poles = atfi.complex_from_polar(atfi.const([4.23, 10.90, 37.4, 14.7, 0.0]),atfi.const([164.0, 15.6, 3.3, -8.9, 0.0]))\n",
    "fi_prod = atfi.complex(atfi.const([-4.724094278696236, -23.289333360304212, -1.860311896516422, -13.638752211193912, 0.0]), \n",
    "                       atfi.const([-6.511009103363590, -12.215597571354197, -32.982507366353126, -22.339804683783186, 0.0]))\n",
    "s0_prod = atfi.const( -0.070000000000000)"
   ]
  },
  {
   "cell_type": "code",
   "execution_count": 33,
   "metadata": {},
   "outputs": [],
   "source": [
    "xplsq = np.linspace(masses_ac[0]+masses_ac[1], md-masses_ac[2], 1000)"
   ]
  },
  {
   "cell_type": "code",
   "execution_count": 34,
   "metadata": {},
   "outputs": [
    {
     "data": {
      "text/plain": [
       "TensorShape([1, 5, 5])"
      ]
     },
     "execution_count": 34,
     "metadata": {},
     "output_type": "execute_result"
    }
   ],
   "source": [
    "KM_res(0.77, m_poles, g_poles).shape"
   ]
  },
  {
   "cell_type": "code",
   "execution_count": 35,
   "metadata": {},
   "outputs": [
    {
     "data": {
      "text/plain": [
       "TensorShape([1000, 5, 5])"
      ]
     },
     "execution_count": 35,
     "metadata": {},
     "output_type": "execute_result"
    }
   ],
   "source": [
    "KM_nonres(xplsq, s0, fij).shape"
   ]
  },
  {
   "cell_type": "code",
   "execution_count": 36,
   "metadata": {},
   "outputs": [
    {
     "name": "stdout",
     "output_type": "stream",
     "text": [
      "(1000, 5, 5)\n"
     ]
    }
   ],
   "source": [
    "km = tf.einsum( 'k,kij->kij', AdlerZero(xplsq, mpi), (KM_res(xplsq, m_poles, g_poles) + KM_nonres(xplsq, s0, fij)) )\n",
    "print(km.shape)"
   ]
  },
  {
   "cell_type": "code",
   "execution_count": 37,
   "metadata": {},
   "outputs": [
    {
     "name": "stdout",
     "output_type": "stream",
     "text": [
      "(1000, 5, 5)\n"
     ]
    },
    {
     "data": {
      "image/png": "[encoded data removed]",
      "text/plain": [
       "<Figure size 640x480 with 1 Axes>"
      ]
     },
     "metadata": {},
     "output_type": "display_data"
    }
   ],
   "source": [
    "masses_poles = [[mpi,mpi], [mkz, mkz], [mpi], [meta, meta], [meta, metap]]\n",
    "km_phsp = KM_phsp(xplsq, masses_poles )\n",
    "#print(km_phsp)\n",
    "plt.plot(xplsq, atfi.real(km_phsp[:, 0]), label='ππ')\n",
    "plt.plot(xplsq, atfi.real(km_phsp[:, 1]), label='KK')\n",
    "plt.plot(xplsq, atfi.real(km_phsp[:, 2]), label=r'$4\\pi$')\n",
    "plt.plot(xplsq, atfi.real(km_phsp[:, 3]), label=r'$\\eta\\eta$')\n",
    "plt.plot(xplsq, atfi.real(km_phsp[:, 4]), label=r'$\\eta\\eta^\\prime$')\n",
    "plt.legend()\n",
    "print(tf.einsum('ki,ij->kij',km_phsp , tf.eye(5, dtype=atfi.ctype())).shape)"
   ]
  },
  {
   "cell_type": "code",
   "execution_count": 38,
   "metadata": {},
   "outputs": [
    {
     "name": "stdout",
     "output_type": "stream",
     "text": [
      "tf.Tensor(\n",
      "[  3.39997019+2.51656565j -10.83653611+1.17451481j\n",
      " -36.93174339-5.89968896j -12.72189758-7.36500659j\n",
      "   0.        +0.j        ], shape=(5,), dtype=complex128) tf.Tensor(\n",
      "[[ 0.14466022  1.16951218  2.14875297  1.18495922  3.04076186]\n",
      " [ 0.14357188  1.16842384  2.14766463  1.18387088  3.03967353]\n",
      " [ 0.14248355  1.16733551  2.1465763   1.18278255  3.03858519]\n",
      " ...\n",
      " [-0.94041133  0.08444063  1.06368142  0.09988767  1.95569032]\n",
      " [-0.94149966  0.0833523   1.06259309  0.09879934  1.95460198]\n",
      " [-0.942588    0.08226396  1.06150475  0.097711    1.95351364]], shape=(1000, 5), dtype=float64)\n"
     ]
    },
    {
     "data": {
      "text/plain": [
       "TensorShape([1000, 5])"
      ]
     },
     "execution_count": 38,
     "metadata": {},
     "output_type": "execute_result"
    }
   ],
   "source": [
    "KM_Pvec_res(xplsq, m_poles, g_poles, b_poles).shape"
   ]
  },
  {
   "cell_type": "code",
   "execution_count": 39,
   "metadata": {},
   "outputs": [
    {
     "data": {
      "text/plain": [
       "TensorShape([1000, 5])"
      ]
     },
     "execution_count": 39,
     "metadata": {},
     "output_type": "execute_result"
    }
   ],
   "source": [
    "KM_Pvec_nonres(xplsq, s0_prod, fi_prod).shape"
   ]
  },
  {
   "cell_type": "code",
   "execution_count": 40,
   "metadata": {},
   "outputs": [
    {
     "name": "stdout",
     "output_type": "stream",
     "text": [
      "tf.Tensor(\n",
      "[  3.39997019+2.51656565j -10.83653611+1.17451481j\n",
      " -36.93174339-5.89968896j -12.72189758-7.36500659j\n",
      "   0.        +0.j        ], shape=(5,), dtype=complex128) tf.Tensor(\n",
      "[[ 0.14466022  1.16951218  2.14875297  1.18495922  3.04076186]\n",
      " [ 0.14357188  1.16842384  2.14766463  1.18387088  3.03967353]\n",
      " [ 0.14248355  1.16733551  2.1465763   1.18278255  3.03858519]\n",
      " ...\n",
      " [-0.94041133  0.08444063  1.06368142  0.09988767  1.95569032]\n",
      " [-0.94149966  0.0833523   1.06259309  0.09879934  1.95460198]\n",
      " [-0.942588    0.08226396  1.06150475  0.097711    1.95351364]], shape=(1000, 5), dtype=float64)\n"
     ]
    }
   ],
   "source": [
    "KM_Pvec = KM_Pvec_res(xplsq, m_poles, g_poles, b_poles) + KM_Pvec_nonres(xplsq, s0_prod, fi_prod)"
   ]
  },
  {
   "cell_type": "markdown",
   "metadata": {},
   "source": [
    "Calculate the K-matrix\n",
    "\n",
    "$$\n",
    "F_i = \\sum_j\\left(I - i\\rho K\\right)^{-1}_{ij} P_j\n",
    "$$"
   ]
  },
  {
   "cell_type": "code",
   "execution_count": 41,
   "metadata": {},
   "outputs": [
    {
     "name": "stdout",
     "output_type": "stream",
     "text": [
      "tf.Tensor(\n",
      "[  3.39997019+2.51656565j -10.83653611+1.17451481j\n",
      " -36.93174339-5.89968896j -12.72189758-7.36500659j\n",
      "   0.        +0.j        ], shape=(5,), dtype=complex128) tf.Tensor(\n",
      "[[ 0.14466022  1.16951218  2.14875297  1.18495922  3.04076186]\n",
      " [ 0.14357188  1.16842384  2.14766463  1.18387088  3.03967353]\n",
      " [ 0.14248355  1.16733551  2.1465763   1.18278255  3.03858519]\n",
      " ...\n",
      " [-0.94041133  0.08444063  1.06368142  0.09988767  1.95569032]\n",
      " [-0.94149966  0.0833523   1.06259309  0.09879934  1.95460198]\n",
      " [-0.942588    0.08226396  1.06150475  0.097711    1.95351364]], shape=(1000, 5), dtype=float64)\n"
     ]
    },
    {
     "name": "stderr",
     "output_type": "stream",
     "text": [
      "WARNING: All log messages before absl::InitializeLog() is called are written to STDERR\n",
      "I0000 00:00:1744897527.600844   48347 cuda_solvers.cc:175] Creating GpuSolver handles for stream 0x560d24743bc0\n"
     ]
    }
   ],
   "source": [
    "km  =KM(xplsq, m_poles, g_poles, s0, fij, b_poles, s0_prod, fi_prod, masses_poles, mpi)"
   ]
  },
  {
   "cell_type": "code",
   "execution_count": 42,
   "metadata": {},
   "outputs": [
    {
     "data": {
      "text/plain": [
       "[<matplotlib.lines.Line2D at 0x7fd5e04cf670>]"
      ]
     },
     "execution_count": 42,
     "metadata": {},
     "output_type": "execute_result"
    },
    {
     "data": {
      "image/png": "[encoded data removed]",
      "text/plain": [
       "<Figure size 640x480 with 1 Axes>"
      ]
     },
     "metadata": {},
     "output_type": "display_data"
    }
   ],
   "source": [
    "plt.plot(xplsq, atfd.density(km[:, 0]))"
   ]
  },
  {
   "cell_type": "code",
   "execution_count": 43,
   "metadata": {},
   "outputs": [
    {
     "name": "stdout",
     "output_type": "stream",
     "text": [
      "tf.Tensor(\n",
      "[  3.39997019+2.51656565j -10.83653611+1.17451481j\n",
      " -36.93174339-5.89968896j -12.72189758-7.36500659j\n",
      "   0.        +0.j        ], shape=(5,), dtype=complex128) tf.Tensor([[0.14466022 1.16951218 2.14875297 1.18495922 3.04076186]], shape=(1, 5), dtype=float64)\n"
     ]
    },
    {
     "data": {
      "text/plain": [
       "<tf.Tensor: shape=(1, 5), dtype=complex128, numpy=\n",
       "array([[ -5.41722782 -23.32181881j, -24.82578932 -12.59516187j,\n",
       "        -24.43949869-107.93860606j, -22.42801798 -28.64999796j,\n",
       "         -6.58523227  -2.86427183j]])>"
      ]
     },
     "execution_count": 43,
     "metadata": {},
     "output_type": "execute_result"
    }
   ],
   "source": [
    "KM(xplsq[:1], m_poles, g_poles, s0, fij, b_poles, s0_prod, fi_prod, masses_poles, mpi)"
   ]
  },
  {
   "cell_type": "code",
   "execution_count": 104,
   "metadata": {},
   "outputs": [],
   "source": [
    "import tensorflow as tf\n",
    "g_poles = atfi.const( [ [0.22889, -0.55377, 0, -0.39899, -0.34639],\n",
    "                        [0.94128, 0.55095, 0, 0.39065, 0.31503],\n",
    "                        [0.36856, 0.23888, 0.55639, 0.18340, 0.18681],\n",
    "                        [0.33650, 0.40907, 0.85679, 0.19906, -0.00984],\n",
    "                        [0.18171, -0.17558, -0.79658, -0.00355, 0.22358]] )\n",
    "m_poles = atfi.const( [0.651, 1.2036, 1.55817, 1.21, 1.82206] )\n",
    "b_poles = atfi.complex_from_polar(atfi.const([3.122415682166643, 11.139907856904129, 29.146102368470210, 6.631556203215280, 0.0]),\n",
    "\t\t\t\t\t\t\t\t  atfi.const([7.928823290976309, 4.948420661321371, -0.053588781806890, -8.455370251307063, 0.0]))\n",
    "fprod1 = atfi.complex_from_polar( atfi.const([-4.724094278696236, -23.289333360304212, -1.860311896516422, -13.638752211193912, 0.0]),\n",
    "\t\t\t\t\t  \t\t\t  atfi.const([-6.511009103363590, -12.215597571354197, -32.982507366353126, -22.339804683783186, 0.0]))\n",
    "fij = atfi.const([ [  0.23399,  0.15044, -0.20545,  0.32825,  0.35412],\n",
    "                   [  0.15044, 0, 0, 0, 0],\n",
    "                   [ -0.20545, 0, 0, 0, 0],\n",
    "                   [  0.32825, 0, 0, 0, 0],\n",
    "                   [  0.35412, 0, 0, 0, 0]])\n",
    "K_matrix_sprod = atfi.const(-0.070000000000000)\n",
    "#masses_poles = [[mpi,mpi], [mkz, mkz], [meta, meta], [meta, metap], [mpi]]\n",
    "\n",
    "def Kmatrix_jordi(s, g, ma, beta, f_prod_1, fij, K_matrix_sprod, masses_poles):\n",
    "\t# Define variables\n",
    "\t#atfi.complex pole,SVT,Adler\n",
    "\ti = tf.zeros([5,5], dtype=atfi.ctype())\n",
    "\t#f = tf.zeros([5,5], dtype=atfi.fptype())\n",
    "\t# pi+, K+, eta, and eta' PDG masses\n",
    "\tmpi=atfi.const(0.13957)\n",
    "\tmK = atfi.const(0.493677)\n",
    "\tmeta=atfi.const(0.54775)\n",
    "\tmetap=atfi.const(0.95778)\n",
    "\t# Init matrices and vectors with zeros\n",
    "\tK = tf.zeros([5,5], dtype=atfi.ctype())\n",
    "\t# Fill scattering data values \n",
    "\ts_scatt = atfi.const(-3.92637)\n",
    "\tsa = atfi.const(1.0)\n",
    "\tsa_0 = atfi.const(-0.15)\n",
    "\t# Compute phase space factors\n",
    "\trho1sq=(atfi.const(1.0)-(atfi.pow((masses_poles[0][0]+masses_poles[0][1]),2)/s))\n",
    "\trho1 = tf.where(rho1sq >= 0, \n",
    "                    atfi.complex(atfi.sqrt(rho1sq),atfi.const(0.0)), \n",
    "                    atfi.complex(atfi.const(0.0), tf.sqrt(-rho1sq)))\n",
    "\t#rho[0]=rho1\n",
    "\t#\n",
    "\trho2sq=(atfi.const(1.0)-(tf.pow((masses_poles[1][0]+masses_poles[1][1]),2)/s))\n",
    "\trho2 = tf.where(rho2sq >=0, \n",
    "                    atfi.complex(atfi.sqrt(rho2sq),atfi.const(0.0)), \n",
    "                    atfi.complex(atfi.const(0.0), tf.sqrt(-rho2sq)))\n",
    "\t#rho[1]=rho2\n",
    "\t#\n",
    "\trho3=tf.where(s<=1,\n",
    "\t\t\t   atfi.complex(tf.sqrt(atfi.const(1.0)-(atfi.const(16.0)*masses_poles[2][0]*masses_poles[2][0]))*(\n",
    "\t\t\t\t   atfi.const(1.2274)+atfi.const(0.00370909)/(s*s) - atfi.const(0.111203)/(s) - \\\n",
    "\t\t\t\t\tatfi.const(6.39017)*s +atfi.const(16.8358)*s*s - atfi.const(21.8845)*s*s*s + \\\n",
    "\t\t\t\t\tatfi.const(11.3153)*s*s*s*s),atfi.const(0.0)),\n",
    "               atfi.complex(tf.sqrt(atfi.const(1.0)-(atfi.const(16.0)*mpi*mpi/s)),atfi.const(0.0)))\n",
    "\t#rho[2]=rho3\n",
    "    #\n",
    "\trho4sq=(atfi.const(1.0)-(tf.pow((masses_poles[3][0]+masses_poles[3][1]),2)/s))\n",
    "\trho4 = tf.where(rho4sq >=0, \n",
    "                    atfi.complex(atfi.sqrt(rho4sq),atfi.const(0.0)), \n",
    "                    atfi.complex(atfi.const(0.0), tf.sqrt(-rho4sq)))\n",
    "\t#rho[3]=rho4\n",
    "\t#\n",
    "\trho5sq=(atfi.const(1.0)-(tf.pow((masses_poles[4][0]+masses_poles[4][1]),2)/s))\n",
    "\trho5 = tf.where(rho5sq >=0, \n",
    "                    atfi.complex(atfi.sqrt(rho5sq),atfi.const(0.0)), \n",
    "                    atfi.complex(atfi.const(0.0), tf.sqrt(-rho5sq)))\n",
    "\t#rho[4]=rho5\n",
    "\trho = tf.stack([rho1, rho2, rho3, rho4, rho5], axis=0)\n",
    "\t#print('RHO')\n",
    "\t#print(rho)\n",
    "\t# Sum over the poles\n",
    "\t#print('K sum #1')\n",
    "\tfor k in range(5):\n",
    "\t\tfor l in range(5):\n",
    "\t\t\tfor pole_index in range(5):\n",
    "\t\t\t\tA=g[pole_index][k]*g[pole_index][l]\n",
    "\t\t\t\tB=ma[pole_index]*ma[pole_index]-s\n",
    "\t\t\t\tindices = [[k, l]]\n",
    "\t\t\t\tvalues = [K[k, l] + atfi.complex(A / B, atfi.const(0.0))]\n",
    "\t\t\t\tK = tf.tensor_scatter_nd_update(K, indices, values)\n",
    "\t\t\t\t#K[k][l]=K[k][l]+atfi.complex(A/B,atfi.const(0.0))\n",
    "\t\t\t\t#print(K[k][l])\n",
    "\t#\n",
    "\t#print('K sum #2')\n",
    "\tfor k in range(5):\n",
    "\t\tfor l in range(5):\n",
    "\t\t\tC = fij[k][l]*(atfi.const(1.0)-s_scatt)\n",
    "\t\t\tD = (s-s_scatt)\n",
    "\t\t\tindices = [[k, l]]\n",
    "\t\t\tvalues = [K[k, l] + atfi.complex(C / D, atfi.const(0.0))]\n",
    "\t\t\tK = tf.tensor_scatter_nd_update(K, indices, values)\n",
    "\t\t\t#print(K[k][l])\n",
    "\t\t\t#K[k][l]=K[k][l]+atfi.complex(C/D,atfi.const(0.0))\n",
    "\t#\n",
    "\t#print('K sum #3')\n",
    "\tfor k in range(5):\n",
    "\t\tfor l in range(5):\n",
    "\t\t\tE = (s-(sa*mpi*mpi*atfi.const(0.5)))*(atfi.const(1.0)-sa_0)\n",
    "\t\t\tF = (s-sa_0)\n",
    "\t\t\tindices = [[k, l]]\n",
    "\t\t\tvalues = [K[k, l]*atfi.complex(E / F, atfi.const(0.0))]\n",
    "\t\t\tK = tf.tensor_scatter_nd_update(K, indices, values)\n",
    "\t\t\t#print(K[k][l])\n",
    "\t\t\t#K[k][l]=K[k][l]*atfi.complex(E/F,atfi.const(0.0))\n",
    "\t#\n",
    "\tc10 = atfi.complex(atfi.const(1.0), atfi.const(0.0))\n",
    "\tc00 = atfi.complex(atfi.const(0.0), atfi.const(0.0))\n",
    "\tc01 = atfi.complex(atfi.const(0.0), atfi.const(1.0))\n",
    "\tn11=c10-c01*K[0][0]*rho[0]\n",
    "\tn12=c00-c01*K[0][1]*rho[1]\n",
    "\tn13=c00-c01*K[0][2]*rho[2]\n",
    "\tn14=c00-c01*K[0][3]*rho[3]\n",
    "\tn15=c00-c01*K[0][4]*rho[4]\n",
    "\t#\n",
    "\tn21=c00-c01*K[1][0]*rho[0]\n",
    "\tn22=c10-c01*K[1][1]*rho[1]\n",
    "\tn23=c00-c01*K[1][2]*rho[2]\n",
    "\tn24=c00-c01*K[1][3]*rho[3]\n",
    "\tn25=c00-c01*K[1][4]*rho[4]\n",
    "\t#\n",
    "\tn31=c00-c01*K[2][0]*rho[0]\n",
    "\tn32=c00-c01*K[2][1]*rho[1]\n",
    "\tn33=c10-c01*K[2][2]*rho[2]\n",
    "\tn34=c00-c01*K[2][3]*rho[3]\n",
    "\tn35=c00-c01*K[2][4]*rho[4]\n",
    "\t#\n",
    "\tn41=c00-c01*K[3][0]*rho[0]\n",
    "\tn42=c00-c01*K[3][1]*rho[1]\n",
    "\tn43=c00-c01*K[3][2]*rho[2]\n",
    "\tn44=c10-c01*K[3][3]*rho[3]\n",
    "\tn45=c00-c01*K[3][4]*rho[4]\n",
    "\t#\n",
    "\tn51=c00-c01*K[4][0]*rho[0]\n",
    "\tn52=c00-c01*K[4][1]*rho[1]\n",
    "\tn53=c00-c01*K[4][2]*rho[2]\n",
    "\tn54=c00-c01*K[4][3]*rho[3]\n",
    "\tn55=c10-c01*K[4][4]*rho[4]\n",
    "\t#\n",
    "\t# Compute the determinant\n",
    "\tdet = (n15*n24*n33*n42*n51 - n14*n25*n33*n42*n51 - n15*n23*n34*n42*n51 +\n",
    "\t\t\tn13*n25*n34*n42*n51 + n14*n23*n35*n42*n51 - n13*n24*n35*n42*n51 -\n",
    "\t\t\tn15*n24*n32*n43*n51 + n14*n25*n32*n43*n51 + n15*n22*n34*n43*n51 -\n",
    "\t\t\tn12*n25*n34*n43*n51 - n14*n22*n35*n43*n51 + n12*n24*n35*n43*n51 +\n",
    "\t\t\tn15*n23*n32*n44*n51 - n13*n25*n32*n44*n51 - n15*n22*n33*n44*n51 +\n",
    "\t\t\tn12*n25*n33*n44*n51 + n13*n22*n35*n44*n51 - n12*n23*n35*n44*n51 -\n",
    "\t\t\tn14*n23*n32*n45*n51 + n13*n24*n32*n45*n51 + n14*n22*n33*n45*n51 -\n",
    "\t\t\tn12*n24*n33*n45*n51 - n13*n22*n34*n45*n51 + n12*n23*n34*n45*n51 -\n",
    "\t\t\tn15*n24*n33*n41*n52 + n14*n25*n33*n41*n52 + n15*n23*n34*n41*n52 -\n",
    "\t\t\tn13*n25*n34*n41*n52 - n14*n23*n35*n41*n52 + n13*n24*n35*n41*n52 +\n",
    "\t\t\tn15*n24*n31*n43*n52 - n14*n25*n31*n43*n52 - n15*n21*n34*n43*n52 +\n",
    "\t\t\tn11*n25*n34*n43*n52 + n14*n21*n35*n43*n52 - n11*n24*n35*n43*n52 -\n",
    "\t\t\tn15*n23*n31*n44*n52 + n13*n25*n31*n44*n52 + n15*n21*n33*n44*n52 -\n",
    "\t\t\tn11*n25*n33*n44*n52 - n13*n21*n35*n44*n52 + n11*n23*n35*n44*n52 +\n",
    "\t\t\tn14*n23*n31*n45*n52 - n13*n24*n31*n45*n52 - n14*n21*n33*n45*n52 +\n",
    "\t\t\tn11*n24*n33*n45*n52 + n13*n21*n34*n45*n52 - n11*n23*n34*n45*n52 +\n",
    "\t\t\tn15*n24*n32*n41*n53 - n14*n25*n32*n41*n53 - n15*n22*n34*n41*n53 +\n",
    "\t\t\tn12*n25*n34*n41*n53 + n14*n22*n35*n41*n53 - n12*n24*n35*n41*n53 -\n",
    "\t\t\tn15*n24*n31*n42*n53 + n14*n25*n31*n42*n53 + n15*n21*n34*n42*n53 -\n",
    "\t\t\tn11*n25*n34*n42*n53 - n14*n21*n35*n42*n53 + n11*n24*n35*n42*n53 +\n",
    "\t\t\tn15*n22*n31*n44*n53 - n12*n25*n31*n44*n53 - n15*n21*n32*n44*n53 +\n",
    "\t\t\tn11*n25*n32*n44*n53 + n12*n21*n35*n44*n53 - n11*n22*n35*n44*n53 -\n",
    "\t\t\tn14*n22*n31*n45*n53 + n12*n24*n31*n45*n53 + n14*n21*n32*n45*n53 -\n",
    "\t\t\tn11*n24*n32*n45*n53 - n12*n21*n34*n45*n53 + n11*n22*n34*n45*n53 -\n",
    "\t\t\tn15*n23*n32*n41*n54 + n13*n25*n32*n41*n54 + n15*n22*n33*n41*n54 -\n",
    "\t\t\tn12*n25*n33*n41*n54 - n13*n22*n35*n41*n54 + n12*n23*n35*n41*n54 +\n",
    "\t\t\tn15*n23*n31*n42*n54 - n13*n25*n31*n42*n54 - n15*n21*n33*n42*n54 +\n",
    "\t\t\tn11*n25*n33*n42*n54 + n13*n21*n35*n42*n54 - n11*n23*n35*n42*n54 -\n",
    "\t\t\tn15*n22*n31*n43*n54 + n12*n25*n31*n43*n54 + n15*n21*n32*n43*n54 -\n",
    "\t\t\tn11*n25*n32*n43*n54 - n12*n21*n35*n43*n54 + n11*n22*n35*n43*n54 +\n",
    "\t\t\tn13*n22*n31*n45*n54 - n12*n23*n31*n45*n54 - n13*n21*n32*n45*n54 +\n",
    "\t\t\tn11*n23*n32*n45*n54 + n12*n21*n33*n45*n54 - n11*n22*n33*n45*n54 +\n",
    "\t\t\tn14*n23*n32*n41*n55 - n13*n24*n32*n41*n55 - n14*n22*n33*n41*n55 +\n",
    "\t\t\tn12*n24*n33*n41*n55 + n13*n22*n34*n41*n55 - n12*n23*n34*n41*n55 -\n",
    "\t\t\tn14*n23*n31*n42*n55 + n13*n24*n31*n42*n55 + n14*n21*n33*n42*n55 -\n",
    "\t\t\tn11*n24*n33*n42*n55 - n13*n21*n34*n42*n55 + n11*n23*n34*n42*n55 +\n",
    "\t\t\tn14*n22*n31*n43*n55 - n12*n24*n31*n43*n55 - n14*n21*n32*n43*n55 +\n",
    "\t\t\tn11*n24*n32*n43*n55 + n12*n21*n34*n43*n55 - n11*n22*n34*n43*n55 -\n",
    "\t\t\tn13*n22*n31*n44*n55 + n12*n23*n31*n44*n55 + n13*n21*n32*n44*n55 -\n",
    "\t\t\tn11*n23*n32*n44*n55 - n12*n21*n33*n44*n55 + n11*n22*n33*n44*n55)\n",
    "\t#print(\"det\", det)\n",
    "\t#\n",
    "\t# The 1st row of the inverse matrix {(I-iKp)^-1}_0j\n",
    "\ti00 = (n25*n34*n43*n52 -\n",
    "\t\t\tn24*n35*n43*n52 - n25*n33*n44*n52 + n23*n35*n44*n52 +\n",
    "\t\t\tn24*n33*n45*n52 - n23*n34*n45*n52 - n25*n34*n42*n53 +\n",
    "\t\t\tn24*n35*n42*n53 + n25*n32*n44*n53 - n22*n35*n44*n53 -\n",
    "\t\t\tn24*n32*n45*n53 + n22*n34*n45*n53 + n25*n33*n42*n54 -\n",
    "\t\t\tn23*n35*n42*n54 - n25*n32*n43*n54 + n22*n35*n43*n54 +\n",
    "\t\t\tn23*n32*n45*n54 - n22*n33*n45*n54 - n24*n33*n42*n55 +\n",
    "\t\t\tn23*n34*n42*n55 + n24*n32*n43*n55 - n22*n34*n43*n55 -\n",
    "\t\t\tn23*n32*n44*n55 + n22*n33*n44*n55)/det\n",
    "\n",
    "\t#\n",
    "\ti01 = (-n15*n34*n43*n52 +\n",
    "\t\t\tn14*n35*n43*n52 + n15*n33*n44*n52 - n13*n35*n44*n52 -\n",
    "\t\t\tn14*n33*n45*n52 + n13*n34*n45*n52 + n15*n34*n42*n53 -\n",
    "\t\t\tn14*n35*n42*n53 - n15*n32*n44*n53 + n12*n35*n44*n53 +\n",
    "\t\t\tn14*n32*n45*n53 - n12*n34*n45*n53 - n15*n33*n42*n54 +\n",
    "\t\t\tn13*n35*n42*n54 + n15*n32*n43*n54 - n12*n35*n43*n54 -\n",
    "\t\t\tn13*n32*n45*n54 + n12*n33*n45*n54 + n14*n33*n42*n55 -\n",
    "\t\t\tn13*n34*n42*n55 - n14*n32*n43*n55 + n12*n34*n43*n55 +\n",
    "\t\t\tn13*n32*n44*n55 - n12*n33*n44*n55)/det\n",
    "\t#\n",
    "\ti02 = (n15*n24*n43*n52 -\n",
    "\t\t\tn14*n25*n43*n52 - n15*n23*n44*n52 + n13*n25*n44*n52 +\n",
    "\t\t\tn14*n23*n45*n52 - n13*n24*n45*n52 - n15*n24*n42*n53 +\n",
    "\t\t\tn14*n25*n42*n53 + n15*n22*n44*n53 - n12*n25*n44*n53 -\n",
    "\t\t\tn14*n22*n45*n53 + n12*n24*n45*n53 + n15*n23*n42*n54 -\n",
    "\t\t\tn13*n25*n42*n54 - n15*n22*n43*n54 + n12*n25*n43*n54 +\n",
    "\t\t\tn13*n22*n45*n54 - n12*n23*n45*n54 - n14*n23*n42*n55 +\n",
    "\t\t\tn13*n24*n42*n55 + n14*n22*n43*n55 - n12*n24*n43*n55 -\n",
    "\t\t\tn13*n22*n44*n55 + n12*n23*n44*n55)/det\n",
    "\t#\n",
    "\ti03 = (-n15*n24*n33*n52 +\n",
    "\t\t\tn14*n25*n33*n52 + n15*n23*n34*n52 - n13*n25*n34*n52 -\n",
    "\t\t\tn14*n23*n35*n52 + n13*n24*n35*n52 + n15*n24*n32*n53 -\n",
    "\t\t\tn14*n25*n32*n53 - n15*n22*n34*n53 + n12*n25*n34*n53 +\n",
    "\t\t\tn14*n22*n35*n53 - n12*n24*n35*n53 - n15*n23*n32*n54 +\n",
    "\t\t\tn13*n25*n32*n54 + n15*n22*n33*n54 - n12*n25*n33*n54 -\n",
    "\t\t\tn13*n22*n35*n54 + n12*n23*n35*n54 + n14*n23*n32*n55 -\n",
    "\t\t\tn13*n24*n32*n55 - n14*n22*n33*n55 + n12*n24*n33*n55 +\n",
    "\t\t\tn13*n22*n34*n55 - n12*n23*n34*n55)/det\n",
    "\t#\n",
    "\ti04 = (n15*n24*n33*n42 -\n",
    "\t\t\tn14*n25*n33*n42 - n15*n23*n34*n42 + n13*n25*n34*n42 +\n",
    "\t\t\tn14*n23*n35*n42 - n13*n24*n35*n42 - n15*n24*n32*n43 +\n",
    "\t\t\tn14*n25*n32*n43 + n15*n22*n34*n43 - n12*n25*n34*n43 -\n",
    "\t\t\tn14*n22*n35*n43 + n12*n24*n35*n43 + n15*n23*n32*n44 -\n",
    "\t\t\tn13*n25*n32*n44 - n15*n22*n33*n44 + n12*n25*n33*n44 +\n",
    "\t\t\tn13*n22*n35*n44 - n12*n23*n35*n44 - n14*n23*n32*n45 +\n",
    "\t\t\tn13*n24*n32*n45 + n14*n22*n33*n45 - n12*n24*n33*n45 -\n",
    "\t\t\tn13*n22*n34*n45 + n12*n23*n34*n45)/det\n",
    "\ti = tf.tensor_scatter_nd_update(i, [[0, 0], [0, 1], [0, 2], [0, 3], [0, 4]], [i00, i01, i02, i03, i04])\n",
    "\t#print(\"i0\", i[0])\n",
    "\t#\n",
    "\t# Fill complex couplings beta and productions f_prod vectors from fitter, convert the polar complex numbers to cartesian ones.\n",
    "\t_beta = beta\n",
    "\t_fr11prod = f_prod_1[0]\n",
    "\t_fr12prod = f_prod_1[1]\n",
    "\t_fr13prod = f_prod_1[2]\n",
    "\t_fr14prod = f_prod_1[3]\n",
    "\t_fr15prod = f_prod_1[4]\n",
    "\t#\n",
    "\t_s0prod = K_matrix_sprod;\n",
    "\n",
    "\t# U1j = tf.zeros([5], dtype=atfi.ctype())\n",
    "\t# for j in range(5):\n",
    "\t# \tU1j[j] = i[0][j]\n",
    "\tU1j = tf.stack([i[0][j] for j in range(5)], axis=0)\n",
    "\n",
    "    # Compute product of inverse matrix times production vector, split production vector into two pieces\n",
    "\tvalue0 = c00\n",
    "\tvalue1 = c00\n",
    "\n",
    "\t# Compute inverse_matrix times first part of production vector, sum all the poles\n",
    "\t#updates = []\n",
    "\tfor l in range(5):\n",
    "\t\tfor pole_index in range(5):\n",
    "\t\t\tA = beta[pole_index]*atfi.cast_complex(g[pole_index][l])\n",
    "\t\t\tB = atfi.cast_complex(ma[pole_index]*ma[pole_index]-s)\n",
    "\t\t\t#\tupdates.append(U1j[l] * A / B)\n",
    "\t\t\tvalue0 += U1j[l] * A / B\n",
    "\t#value0 += tf.add_n(updates) # sum all the poles\n",
    "\n",
    "\t# Compute inverse_matrix times second part of production vector\n",
    "\tvalue1 += U1j[0]*_fr11prod\n",
    "\tvalue1 += U1j[1]*_fr12prod\n",
    "\tvalue1 += U1j[2]*_fr13prod\n",
    "\tvalue1 += U1j[3]*_fr14prod\n",
    "\tvalue1 += U1j[4]*_fr15prod\n",
    "\tvalue1 *= atfi.cast_complex((1-_s0prod)/(s-_s0prod)) # MR20150303\n",
    "\n",
    "\t# Compute final F0 vector\n",
    "\tF_0 = value0 + value1\n",
    "\n",
    "\treturn F_0"
   ]
  },
  {
   "cell_type": "code",
   "execution_count": 78,
   "metadata": {},
   "outputs": [],
   "source": [
    "def complex_from_polar(r, phi):\n",
    "    \"\"\"Convert polar coordinates to complex number\"\"\"\n",
    "    return r * np.exp(1j * phi)"
   ]
  },
  {
   "cell_type": "code",
   "execution_count": 69,
   "metadata": {},
   "outputs": [],
   "source": [
    "g_poles_np = [ [0.22889, -0.55377, 0, -0.39899, -0.34639],\n",
    "                [0.94128, 0.55095, 0, 0.39065, 0.31503],\n",
    "                [0.36856, 0.23888, 0.55639, 0.18340, 0.18681],\n",
    "                        [0.33650, 0.40907, 0.85679, 0.19906, -0.00984],\n",
    "                        [0.18171, -0.17558, -0.79658, -0.00355, 0.22358]] \n",
    "m_poles_np =  [0.651, 1.2036, 1.55817, 1.21, 1.82206] \n",
    "b_poles_np = [complex_from_polar(3.122415682166643, 7.928823290976309),\n",
    "              complex_from_polar(11.139907856904129, 4.948420661321371),\n",
    "              complex_from_polar(29.146102368470210, -0.053588781806890),\n",
    "              complex_from_polar(6.631556203215280, -8.455370251307063),\n",
    "              complex_from_polar(0.0, 0.0)]\n",
    "fprod1_np = [complex_from_polar(-4.724094278696236, -6.511009103363590),\n",
    "             complex_from_polar(-23.289333360304212, -12.215597571354197),\n",
    "             complex_from_polar(-1.860311896516422, -32.982507366353126),\n",
    "             complex_from_polar(-13.638752211193912, -22.339804683783186), \n",
    "             complex_from_polar(0.0 ,0.0)]\n",
    "fij_np = [ [  0.23399,  0.15044, -0.20545,  0.32825,  0.35412],\n",
    "                   [  0.15044, 0, 0, 0, 0],\n",
    "                   [ -0.20545, 0, 0, 0, 0],\n",
    "                   [  0.32825, 0, 0, 0, 0],\n",
    "                   [  0.35412, 0, 0, 0, 0]]\n",
    "K_matrix_sprod_np = -0.070000000000000"
   ]
  },
  {
   "cell_type": "code",
   "execution_count": 102,
   "metadata": {},
   "outputs": [],
   "source": [
    "def Kmatrix_jordi_np(s, g, ma, beta, f_prod_1, fij, K_matrix_sprod, masses_poles, mth=0.13957):\n",
    "\t# Define variables\n",
    "\t#atfi.complex pole,SVT,Adler\n",
    "\ti = np.zeros([5,5],dtype=complex)\n",
    "\t#f = tf.zeros([5,5], dtype=atfi.fptype())\n",
    "\t# pi+, K+, eta, and eta' PDG masses\n",
    "\t\n",
    "\t# Init matrices and vectors with zeros\n",
    "\tK = np.zeros([5,5],dtype=complex)\n",
    "\t# Fill scattering data values \n",
    "\ts_scatt = -3.92637\n",
    "\tsa = 1.0\n",
    "\tsa_0 = -0.15\n",
    "\t# Compute phase space factors\n",
    "\trho1sq=(1.0-(np.pow((masses_poles[0][0]+masses_poles[0][1]),2)/s))\n",
    "\trho1 = np.lib.scimath.sqrt(rho1sq)\n",
    "\t#rho[0]=rho1\n",
    "\t#\n",
    "\trho2sq=(1.0-(np.pow((masses_poles[1][0]+masses_poles[1][1]),2)/s))\n",
    "\trho2 = np.lib.scimath.sqrt(rho2sq)\n",
    "\t#rho[1]=rho2\n",
    "\t#\n",
    "\trho3=np.where(s<=1,\n",
    "\t\t\t   complex( np.lib.scimath.sqrt(1.0-(16.0*mth*mth)) * \\\n",
    "\t\t\t\t\t(1.2274+0.00370909/(s*s) - (0.111203)/(s) - 6.39017*s +16.8358*s*s - 21.8845*s*s*s + 11.3153*s*s*s*s), 0.0),\n",
    "               complex(np.lib.scimath.sqrt(1.0-(16.0*masses_poles[2][0]*masses_poles[2][0]/s)),0.0))\n",
    "\t#rho[2]=rho3\n",
    "    #\n",
    "\trho4sq=(1.0-(np.pow((masses_poles[3][0]+masses_poles[3][1]),2)/s))\n",
    "\trho4 = np.lib.scimath.sqrt(rho4sq)\n",
    "\t#rho[3]=rho4\n",
    "\t#\n",
    "\trho5sq=(1.0-(np.pow((masses_poles[4][0]+masses_poles[4][1]),2)/s))\n",
    "\trho5 = np.lib.scimath.sqrt(rho5sq)\n",
    "\t#rho[4]=rho5\n",
    "\t#print('RHO')\n",
    "\trho = [rho1, rho2, rho3, rho4, rho5]\n",
    "\t#print(rho)\n",
    "\n",
    "\t# Sum over the poles\n",
    "\t#print('K sum #1')\n",
    "\tfor k in range(5):\n",
    "\t\tfor l in range(5):\n",
    "\t\t\tfor pole_index in range(5):\n",
    "\t\t\t\tA=g[pole_index][k]*g[pole_index][l]\n",
    "\t\t\t\tB=ma[pole_index]*ma[pole_index]-s\n",
    "\t\t\t\tK[k][l]=K[k][l]+complex(A/B,0.0)\n",
    "\t\t\t\t#print(K[k][l])\n",
    "\t#\n",
    "\t#print('K sum #2')\n",
    "\tfor k in range(5):\n",
    "\t\tfor l in range(5):\n",
    "\t\t\tC = fij[k][l]*(1.0-s_scatt)\n",
    "\t\t\tD = (s-s_scatt)\n",
    "\t\t\tK[k][l]=K[k][l]+complex(C/D,0.0)\n",
    "\t\t\t#print(K[k][l])\n",
    "\t#\n",
    "\t#print('K sum #3')\n",
    "\tfor k in range(5):\n",
    "\t\tfor l in range(5):\n",
    "\t\t\tE = (s-(sa*mth*mth*0.5))*(1.0-sa_0)\n",
    "\t\t\tF = (s-sa_0)\n",
    "\t\t\tK[k][l]=K[k][l]*complex(E/F,0.0)\n",
    "\t\t\t#print(K[k][l])\n",
    "\t#\n",
    "\tc10 = complex(1.0, 0.0)\n",
    "\tc00 = complex(0.0, 0.0)\n",
    "\tc01 = complex(0.0, 1.0)\n",
    "\tn11=c10-c01*K[0][0]*rho[0]\n",
    "\tn12=c00-c01*K[0][1]*rho[1]\n",
    "\tn13=c00-c01*K[0][2]*rho[2]\n",
    "\tn14=c00-c01*K[0][3]*rho[3]\n",
    "\tn15=c00-c01*K[0][4]*rho[4]\n",
    "\t#\n",
    "\tn21=c00-c01*K[1][0]*rho[0]\n",
    "\tn22=c10-c01*K[1][1]*rho[1]\n",
    "\tn23=c00-c01*K[1][2]*rho[2]\n",
    "\tn24=c00-c01*K[1][3]*rho[3]\n",
    "\tn25=c00-c01*K[1][4]*rho[4]\n",
    "\t#\n",
    "\tn31=c00-c01*K[2][0]*rho[0]\n",
    "\tn32=c00-c01*K[2][1]*rho[1]\n",
    "\tn33=c10-c01*K[2][2]*rho[2]\n",
    "\tn34=c00-c01*K[2][3]*rho[3]\n",
    "\tn35=c00-c01*K[2][4]*rho[4]\n",
    "\t#\n",
    "\tn41=c00-c01*K[3][0]*rho[0]\n",
    "\tn42=c00-c01*K[3][1]*rho[1]\n",
    "\tn43=c00-c01*K[3][2]*rho[2]\n",
    "\tn44=c10-c01*K[3][3]*rho[3]\n",
    "\tn45=c00-c01*K[3][4]*rho[4]\n",
    "\t#\n",
    "\tn51=c00-c01*K[4][0]*rho[0]\n",
    "\tn52=c00-c01*K[4][1]*rho[1]\n",
    "\tn53=c00-c01*K[4][2]*rho[2]\n",
    "\tn54=c00-c01*K[4][3]*rho[3]\n",
    "\tn55=c10-c01*K[4][4]*rho[4]\n",
    "\t#\n",
    "\t# Compute the determinant\n",
    "\tdet = (n15*n24*n33*n42*n51 - n14*n25*n33*n42*n51 - n15*n23*n34*n42*n51 +\n",
    "\t\t\tn13*n25*n34*n42*n51 + n14*n23*n35*n42*n51 - n13*n24*n35*n42*n51 -\n",
    "\t\t\tn15*n24*n32*n43*n51 + n14*n25*n32*n43*n51 + n15*n22*n34*n43*n51 -\n",
    "\t\t\tn12*n25*n34*n43*n51 - n14*n22*n35*n43*n51 + n12*n24*n35*n43*n51 +\n",
    "\t\t\tn15*n23*n32*n44*n51 - n13*n25*n32*n44*n51 - n15*n22*n33*n44*n51 +\n",
    "\t\t\tn12*n25*n33*n44*n51 + n13*n22*n35*n44*n51 - n12*n23*n35*n44*n51 -\n",
    "\t\t\tn14*n23*n32*n45*n51 + n13*n24*n32*n45*n51 + n14*n22*n33*n45*n51 -\n",
    "\t\t\tn12*n24*n33*n45*n51 - n13*n22*n34*n45*n51 + n12*n23*n34*n45*n51 -\n",
    "\t\t\tn15*n24*n33*n41*n52 + n14*n25*n33*n41*n52 + n15*n23*n34*n41*n52 -\n",
    "\t\t\tn13*n25*n34*n41*n52 - n14*n23*n35*n41*n52 + n13*n24*n35*n41*n52 +\n",
    "\t\t\tn15*n24*n31*n43*n52 - n14*n25*n31*n43*n52 - n15*n21*n34*n43*n52 +\n",
    "\t\t\tn11*n25*n34*n43*n52 + n14*n21*n35*n43*n52 - n11*n24*n35*n43*n52 -\n",
    "\t\t\tn15*n23*n31*n44*n52 + n13*n25*n31*n44*n52 + n15*n21*n33*n44*n52 -\n",
    "\t\t\tn11*n25*n33*n44*n52 - n13*n21*n35*n44*n52 + n11*n23*n35*n44*n52 +\n",
    "\t\t\tn14*n23*n31*n45*n52 - n13*n24*n31*n45*n52 - n14*n21*n33*n45*n52 +\n",
    "\t\t\tn11*n24*n33*n45*n52 + n13*n21*n34*n45*n52 - n11*n23*n34*n45*n52 +\n",
    "\t\t\tn15*n24*n32*n41*n53 - n14*n25*n32*n41*n53 - n15*n22*n34*n41*n53 +\n",
    "\t\t\tn12*n25*n34*n41*n53 + n14*n22*n35*n41*n53 - n12*n24*n35*n41*n53 -\n",
    "\t\t\tn15*n24*n31*n42*n53 + n14*n25*n31*n42*n53 + n15*n21*n34*n42*n53 -\n",
    "\t\t\tn11*n25*n34*n42*n53 - n14*n21*n35*n42*n53 + n11*n24*n35*n42*n53 +\n",
    "\t\t\tn15*n22*n31*n44*n53 - n12*n25*n31*n44*n53 - n15*n21*n32*n44*n53 +\n",
    "\t\t\tn11*n25*n32*n44*n53 + n12*n21*n35*n44*n53 - n11*n22*n35*n44*n53 -\n",
    "\t\t\tn14*n22*n31*n45*n53 + n12*n24*n31*n45*n53 + n14*n21*n32*n45*n53 -\n",
    "\t\t\tn11*n24*n32*n45*n53 - n12*n21*n34*n45*n53 + n11*n22*n34*n45*n53 -\n",
    "\t\t\tn15*n23*n32*n41*n54 + n13*n25*n32*n41*n54 + n15*n22*n33*n41*n54 -\n",
    "\t\t\tn12*n25*n33*n41*n54 - n13*n22*n35*n41*n54 + n12*n23*n35*n41*n54 +\n",
    "\t\t\tn15*n23*n31*n42*n54 - n13*n25*n31*n42*n54 - n15*n21*n33*n42*n54 +\n",
    "\t\t\tn11*n25*n33*n42*n54 + n13*n21*n35*n42*n54 - n11*n23*n35*n42*n54 -\n",
    "\t\t\tn15*n22*n31*n43*n54 + n12*n25*n31*n43*n54 + n15*n21*n32*n43*n54 -\n",
    "\t\t\tn11*n25*n32*n43*n54 - n12*n21*n35*n43*n54 + n11*n22*n35*n43*n54 +\n",
    "\t\t\tn13*n22*n31*n45*n54 - n12*n23*n31*n45*n54 - n13*n21*n32*n45*n54 +\n",
    "\t\t\tn11*n23*n32*n45*n54 + n12*n21*n33*n45*n54 - n11*n22*n33*n45*n54 +\n",
    "\t\t\tn14*n23*n32*n41*n55 - n13*n24*n32*n41*n55 - n14*n22*n33*n41*n55 +\n",
    "\t\t\tn12*n24*n33*n41*n55 + n13*n22*n34*n41*n55 - n12*n23*n34*n41*n55 -\n",
    "\t\t\tn14*n23*n31*n42*n55 + n13*n24*n31*n42*n55 + n14*n21*n33*n42*n55 -\n",
    "\t\t\tn11*n24*n33*n42*n55 - n13*n21*n34*n42*n55 + n11*n23*n34*n42*n55 +\n",
    "\t\t\tn14*n22*n31*n43*n55 - n12*n24*n31*n43*n55 - n14*n21*n32*n43*n55 +\n",
    "\t\t\tn11*n24*n32*n43*n55 + n12*n21*n34*n43*n55 - n11*n22*n34*n43*n55 -\n",
    "\t\t\tn13*n22*n31*n44*n55 + n12*n23*n31*n44*n55 + n13*n21*n32*n44*n55 -\n",
    "\t\t\tn11*n23*n32*n44*n55 - n12*n21*n33*n44*n55 + n11*n22*n33*n44*n55)\n",
    "\t#\n",
    "\t#print(\"det\", det)\n",
    "\t# The 1st row of the inverse matrix {(I-iKp)^-1}_0j\n",
    "\ti[0][0] = (n25*n34*n43*n52 -\n",
    "\t\t\tn24*n35*n43*n52 - n25*n33*n44*n52 + n23*n35*n44*n52 +\n",
    "\t\t\tn24*n33*n45*n52 - n23*n34*n45*n52 - n25*n34*n42*n53 +\n",
    "\t\t\tn24*n35*n42*n53 + n25*n32*n44*n53 - n22*n35*n44*n53 -\n",
    "\t\t\tn24*n32*n45*n53 + n22*n34*n45*n53 + n25*n33*n42*n54 -\n",
    "\t\t\tn23*n35*n42*n54 - n25*n32*n43*n54 + n22*n35*n43*n54 +\n",
    "\t\t\tn23*n32*n45*n54 - n22*n33*n45*n54 - n24*n33*n42*n55 +\n",
    "\t\t\tn23*n34*n42*n55 + n24*n32*n43*n55 - n22*n34*n43*n55 -\n",
    "\t\t\tn23*n32*n44*n55 + n22*n33*n44*n55)/det\n",
    "\n",
    "\t#\n",
    "\ti[0][1] = (-n15*n34*n43*n52 +\n",
    "\t\t\tn14*n35*n43*n52 + n15*n33*n44*n52 - n13*n35*n44*n52 -\n",
    "\t\t\tn14*n33*n45*n52 + n13*n34*n45*n52 + n15*n34*n42*n53 -\n",
    "\t\t\tn14*n35*n42*n53 - n15*n32*n44*n53 + n12*n35*n44*n53 +\n",
    "\t\t\tn14*n32*n45*n53 - n12*n34*n45*n53 - n15*n33*n42*n54 +\n",
    "\t\t\tn13*n35*n42*n54 + n15*n32*n43*n54 - n12*n35*n43*n54 -\n",
    "\t\t\tn13*n32*n45*n54 + n12*n33*n45*n54 + n14*n33*n42*n55 -\n",
    "\t\t\tn13*n34*n42*n55 - n14*n32*n43*n55 + n12*n34*n43*n55 +\n",
    "\t\t\tn13*n32*n44*n55 - n12*n33*n44*n55)/det\n",
    "\t#\n",
    "\ti[0][2] = (n15*n24*n43*n52 -\n",
    "\t\t\tn14*n25*n43*n52 - n15*n23*n44*n52 + n13*n25*n44*n52 +\n",
    "\t\t\tn14*n23*n45*n52 - n13*n24*n45*n52 - n15*n24*n42*n53 +\n",
    "\t\t\tn14*n25*n42*n53 + n15*n22*n44*n53 - n12*n25*n44*n53 -\n",
    "\t\t\tn14*n22*n45*n53 + n12*n24*n45*n53 + n15*n23*n42*n54 -\n",
    "\t\t\tn13*n25*n42*n54 - n15*n22*n43*n54 + n12*n25*n43*n54 +\n",
    "\t\t\tn13*n22*n45*n54 - n12*n23*n45*n54 - n14*n23*n42*n55 +\n",
    "\t\t\tn13*n24*n42*n55 + n14*n22*n43*n55 - n12*n24*n43*n55 -\n",
    "\t\t\tn13*n22*n44*n55 + n12*n23*n44*n55)/det\n",
    "\t#\n",
    "\ti[0][3] = (-n15*n24*n33*n52 +\n",
    "\t\t\tn14*n25*n33*n52 + n15*n23*n34*n52 - n13*n25*n34*n52 -\n",
    "\t\t\tn14*n23*n35*n52 + n13*n24*n35*n52 + n15*n24*n32*n53 -\n",
    "\t\t\tn14*n25*n32*n53 - n15*n22*n34*n53 + n12*n25*n34*n53 +\n",
    "\t\t\tn14*n22*n35*n53 - n12*n24*n35*n53 - n15*n23*n32*n54 +\n",
    "\t\t\tn13*n25*n32*n54 + n15*n22*n33*n54 - n12*n25*n33*n54 -\n",
    "\t\t\tn13*n22*n35*n54 + n12*n23*n35*n54 + n14*n23*n32*n55 -\n",
    "\t\t\tn13*n24*n32*n55 - n14*n22*n33*n55 + n12*n24*n33*n55 +\n",
    "\t\t\tn13*n22*n34*n55 - n12*n23*n34*n55)/det\n",
    "\t#\n",
    "\ti[0][4] = (n15*n24*n33*n42 -\n",
    "\t\t\tn14*n25*n33*n42 - n15*n23*n34*n42 + n13*n25*n34*n42 +\n",
    "\t\t\tn14*n23*n35*n42 - n13*n24*n35*n42 - n15*n24*n32*n43 +\n",
    "\t\t\tn14*n25*n32*n43 + n15*n22*n34*n43 - n12*n25*n34*n43 -\n",
    "\t\t\tn14*n22*n35*n43 + n12*n24*n35*n43 + n15*n23*n32*n44 -\n",
    "\t\t\tn13*n25*n32*n44 - n15*n22*n33*n44 + n12*n25*n33*n44 +\n",
    "\t\t\tn13*n22*n35*n44 - n12*n23*n35*n44 - n14*n23*n32*n45 +\n",
    "\t\t\tn13*n24*n32*n45 + n14*n22*n33*n45 - n12*n24*n33*n45 -\n",
    "\t\t\tn13*n22*n34*n45 + n12*n23*n34*n45)/det\n",
    "\t#print(\"i0\", i[0])\n",
    "\t#\n",
    "\t# Fill complex couplings beta and productions f_prod vectors from fitter, convert the polar complex numbers to cartesian ones.\n",
    "\t_beta = beta\n",
    "\t_fr11prod = f_prod_1[0]\n",
    "\t_fr12prod = f_prod_1[1]\n",
    "\t_fr13prod = f_prod_1[2]\n",
    "\t_fr14prod = f_prod_1[3]\n",
    "\t_fr15prod = f_prod_1[4]\n",
    "\t#\n",
    "\t_s0prod = K_matrix_sprod;\n",
    "\n",
    "\tU1j = np.zeros(5,dtype=complex)\n",
    "\tfor j in range(5):\n",
    "\t\tU1j[j] = i[0][j]\n",
    "\n",
    "    # Compute product of inverse matrix times production vector, split production vector into two pieces\n",
    "\tvalue0 = c00\n",
    "\tvalue1 = c00\n",
    "\n",
    "\t# Compute inverse_matrix times first part of production vector, sum all the poles\n",
    "\t#updates = []\n",
    "\tfor l in range(5):\n",
    "\t\tfor pole_index in range(5):\n",
    "\t\t\tA = beta[pole_index]*g[pole_index][l]\n",
    "\t\t\tB = ma[pole_index]*ma[pole_index]-s\n",
    "\t\t\t#\tupdates.append(U1j[l] * A / B)\n",
    "\t\t\tvalue0 += U1j[l] * A / B\n",
    "\t#value0 += tf.add_n(updates) # sum all the poles\n",
    "\n",
    "\t# Compute inverse_matrix times second part of production vector\n",
    "\tvalue1 += U1j[0]*_fr11prod\n",
    "\tvalue1 += U1j[1]*_fr12prod\n",
    "\tvalue1 += U1j[2]*_fr13prod\n",
    "\tvalue1 += U1j[3]*_fr14prod\n",
    "\tvalue1 += U1j[4]*_fr15prod\n",
    "\tvalue1 *= (1-_s0prod)/(s-_s0prod) # MR20150303\n",
    "\n",
    "\t# Compute final F0 vector\n",
    "\tF_0 = value0 + value1\n",
    "\n",
    "\treturn F_0"
   ]
  },
  {
   "cell_type": "code",
   "execution_count": 105,
   "metadata": {},
   "outputs": [
    {
     "data": {
      "text/plain": [
       "<tf.Tensor: shape=(), dtype=complex128, numpy=(-12.538766045955661-16.24128550987636j)>"
      ]
     },
     "execution_count": 105,
     "metadata": {},
     "output_type": "execute_result"
    }
   ],
   "source": [
    "Kmatrix_jordi(xplsq[0], g_poles, m_poles, b_poles, fprod1, fij, K_matrix_sprod, masses_poles)"
   ]
  },
  {
   "cell_type": "code",
   "execution_count": 103,
   "metadata": {},
   "outputs": [
    {
     "data": {
      "text/plain": [
       "np.complex128(-12.538766045955661-16.24128550987636j)"
      ]
     },
     "execution_count": 103,
     "metadata": {},
     "output_type": "execute_result"
    }
   ],
   "source": [
    "Kmatrix_jordi_np(xplsq[0], g_poles_np, m_poles_np, b_poles_np, fprod1_np, fij_np, K_matrix_sprod_np, masses_poles)"
   ]
  },
  {
   "cell_type": "code",
   "execution_count": null,
   "metadata": {},
   "outputs": [
    {
     "data": {
      "text/plain": [
       "[<matplotlib.lines.Line2D at 0x7fd4b077bb80>]"
      ]
     },
     "execution_count": 106,
     "metadata": {},
     "output_type": "execute_result"
    },
    {
     "data": {
      "image/png": "[encoded data removed]",
      "text/plain": [
       "<Figure size 640x480 with 1 Axes>"
      ]
     },
     "metadata": {},
     "output_type": "display_data"
    }
   ],
   "source": [
    "## TAKES AGES\n",
    "#km_jordi_vals = tf.stack([Kmatrix_jordi(v, g_poles, m_poles, b_poles, fprod1, fij, K_matrix_sprod, masses_poles) for v in xplsq], axis=0)\n",
    "#km_jordi_dens = atfd.density(km_jordi_vals)\n",
    "#plt.plot(xplsq, km_jordi_dens, label='ππ')"
   ]
  },
  {
   "cell_type": "code",
   "execution_count": 112,
   "metadata": {},
   "outputs": [
    {
     "data": {
      "text/plain": [
       "[<matplotlib.lines.Line2D at 0x7fd4b06255b0>]"
      ]
     },
     "execution_count": 112,
     "metadata": {},
     "output_type": "execute_result"
    },
    {
     "data": {
      "image/png": "[encoded data removed]",
      "text/plain": [
       "<Figure size 640x480 with 1 Axes>"
      ]
     },
     "metadata": {},
     "output_type": "display_data"
    }
   ],
   "source": [
    "km_jordi_np_vals = [Kmatrix_jordi_np(v, g_poles_np, m_poles_np, b_poles_np, fprod1_np, fij_np, K_matrix_sprod_np, masses_poles) for v in xplsq]\n",
    "km_jordi_np_dens = np.pow(np.abs(km_jordi_np_vals),2)\n",
    "plt.plot(xplsq, km_jordi_np_dens, label='ππ_np')"
   ]
  },
  {
   "cell_type": "code",
   "execution_count": 110,
   "metadata": {},
   "outputs": [
    {
     "data": {
      "text/plain": [
       "array([20.51828475, 20.39695575, 20.27650837, 20.15693628, 20.03823322,\n",
       "       19.92039299, 19.80340944, 19.68727648, 19.57198807, 19.45753822,\n",
       "       19.34392102, 19.23113058, 19.11916109, 19.00800678, 18.89766194,\n",
       "       18.7881209 , 18.67937806, 18.57142785, 18.46426477, 18.35788335,\n",
       "       18.2522782 , 18.14744394, 18.04337528, 17.94006695, 17.83751373,\n",
       "       17.73571046, 17.63465202, 17.53433334, 17.43474939, 17.33589518,\n",
       "       17.2377658 , 17.14035633, 17.04366194, 16.94767782, 16.85239922,\n",
       "       16.75782141, 16.66393973, 16.57074954, 16.47824626, 16.38642533,\n",
       "       16.29528224, 16.20481253, 16.11501178, 16.02587558, 15.93739961,\n",
       "       15.84957953, 15.76241109, 15.67589005, 15.59001222, 15.50477342,\n",
       "       15.42016955, 15.33619651, 15.25285026, 15.17012678, 15.08802208,\n",
       "       15.00653223, 14.92565332, 14.84538146, 14.76571281, 14.68664356,\n",
       "       14.60816994, 14.53028819, 14.45299461, 14.3762855 , 14.30015723,\n",
       "       14.22460617, 14.14962873, 14.07522135, 14.0013805 , 13.92810268,\n",
       "       13.85538441, 13.78322226, 13.71161281, 13.64055266, 13.57003847,\n",
       "       13.5000669 , 13.43063463, 13.3617384 , 13.29337494, 13.22554104,\n",
       "       13.15823348, 13.09144909, 13.02518471, 12.95943723, 12.89420352,\n",
       "       12.82948052, 12.76526515, 12.7015544 , 12.63834524, 12.57563468,\n",
       "       12.51341976, 12.45169753, 12.39046507, 12.32971946, 12.26945783,\n",
       "       12.20967732, 12.15037507, 12.09154827, 12.03319411, 11.97530981,\n",
       "       11.91789259, 11.86093972, 11.80444846, 11.7484161 , 11.69283994,\n",
       "       11.6377173 , 11.58304554, 11.528822  , 11.47504405, 11.42170908,\n",
       "       11.3688145 , 11.31635773, 11.2643362 , 11.21274736, 11.16158868,\n",
       "       11.11085763, 11.06055171, 11.01066843, 10.9612053 , 10.91215985,\n",
       "       10.86352964, 10.81531222, 10.76750516, 10.72010605, 10.67311248,\n",
       "       10.62652207, 10.58033242, 10.53454117, 10.48914595, 10.44414443,\n",
       "       10.39953426, 10.35531312, 10.31147868, 10.26802756, 10.2249607 ,\n",
       "       10.18227257, 10.13996196, 10.09802662, 10.05646427, 10.01527267,\n",
       "        9.97444955,  9.9339927 ,  9.89389987,  9.85416884,  9.8147974 ,\n",
       "        9.77578334,  9.73712446,  9.69881856,  9.66086346,  9.62325698,\n",
       "        9.58599693,  9.54908116,  9.51250749,  9.47627377,  9.44037786,\n",
       "        9.40481759,  9.36959084,  9.33469547,  9.30012934,  9.26589033,\n",
       "        9.23197632,  9.1983852 ,  9.16511484,  9.13216314,  9.09952801,\n",
       "        9.06720733,  9.03519902,  9.00350098,  8.97211113,  8.94102737,\n",
       "        8.91024763,  8.87976983,  8.8495919 ,  8.81971177,  8.79012736,\n",
       "        8.76083662,  8.73183747,  8.70312787,  8.67470576,  8.64656907,\n",
       "        8.61871577,  8.59114381,  8.56385113,  8.53683569,  8.51009547,\n",
       "        8.48362841,  8.45743248,  8.43150564,  8.40584588,  8.38045115,\n",
       "        8.35531944,  8.33044871,  8.30583695,  8.28148213,  8.25738224,\n",
       "        8.23353526,  8.20993918,  8.18659199,  8.16349167,  8.14063623,\n",
       "        8.11802365,  8.09565194,  8.07351909,  8.05162311,  8.02996199,\n",
       "        8.00853375,  7.9873364 ,  7.96636793,  7.94562638,  7.92510974,\n",
       "        7.90481605,  7.88474332,  7.86488957,  7.84525282,  7.82583112,\n",
       "        7.80662247,  7.78762493,  7.76883651,  7.75025527,  7.73187924,\n",
       "        7.71370647,  7.69573499,  7.67796287,  7.66038815,  7.64300889,\n",
       "        7.62582315,  7.60882898,  7.59202446,  7.57540765,  7.55897663,\n",
       "        7.54272946,  7.52666422,  7.51077901,  7.4950719 ,  7.47954098,\n",
       "        7.46418435,  7.44900011,  7.43398634,  7.41914117,  7.40446269,\n",
       "        7.38994903,  7.37559829,  7.3614086 ,  7.34737808,  7.33350487,\n",
       "        7.3197871 ,  7.30622291,  7.29281044,  7.27954784,  7.26643327,\n",
       "        7.25346488,  7.24064083,  7.2279593 ,  7.21541846,  7.20301648,\n",
       "        7.19075155,  7.17862186,  7.1666256 ,  7.15476098,  7.14302619,\n",
       "        7.13141944,  7.11993896,  7.10858296,  7.09734968,  7.08623734,\n",
       "        7.07524419,  7.06436846,  7.05360842,  7.04296231,  7.0324284 ,\n",
       "        7.02200497,  7.01169027,  7.00148261,  6.99138025,  6.98138151,\n",
       "        6.97148467,  6.96168805,  6.95198996,  6.94238871,  6.93288264,\n",
       "        6.92347008,  6.91414936,  6.90491884,  6.89577687,  6.8867218 ,\n",
       "        6.877752  ,  6.86886585,  6.86006172,  6.851338  ,  6.84269309,\n",
       "        6.83412539,  6.8256333 ,  6.81721524,  6.80886963,  6.80059489,\n",
       "        6.79238947,  6.78425181,  6.77618034,  6.76817355,  6.76022987,\n",
       "        6.75234779,  6.74452579,  6.73676234,  6.72905595,  6.7214051 ,\n",
       "        6.71380831,  6.70626408,  6.69877095,  6.69132743,  6.68393206,\n",
       "        6.67658338,  6.66927995,  6.66202031,  6.65480303,  6.64762668,\n",
       "        6.64048984,  6.63339109,  6.62632903,  6.61930224,  6.61230934,\n",
       "        6.60534895,  6.59841967,  6.59152014,  6.58464898,  6.57780485,\n",
       "        6.57098638,  6.56419224,  6.55742108,  6.55067158,  6.5439424 ,\n",
       "        6.53723223,  6.53053977,  6.5238637 ,  6.51720272,  6.51055556,\n",
       "        6.50392092,  6.49729753,  6.49068412,  6.48407943,  6.47748219,\n",
       "        6.47089117,  6.46430512,  6.45772279,  6.45114297,  6.44456443,\n",
       "        6.43798595,  6.43140632,  6.42482435,  6.41823883,  6.41164858,\n",
       "        6.4050524 ,  6.39844914,  6.3918376 ,  6.38521664,  6.37858509,\n",
       "        6.37194181,  6.36528564,  6.35861546,  6.35193013,  6.34522852,\n",
       "        6.33850952,  6.33177202,  6.3250149 ,  6.31823708,  6.31143745,\n",
       "        6.30461493,  6.29776845,  6.29089692,  6.28399928,  6.27707448,\n",
       "        6.27012145,  6.26313914,  6.25612653,  6.24908256,  6.24200622,\n",
       "        6.23489648,  6.22775232,  6.22057274,  6.21335673,  6.2061033 ,\n",
       "        6.19881147,  6.19148023,  6.18410863,  6.17669569,  6.16924044,\n",
       "        6.16174194,  6.15419923,  6.14661137,  6.13897743,  6.13129648,\n",
       "        6.12356759,  6.11578986,  6.10796237,  6.10008423,  6.09215455,\n",
       "        6.08417243,  6.07613701,  6.06804741,  6.05990277,  6.05170223,\n",
       "        6.04344496,  6.03513011,  6.02675685,  6.01832436,  6.00983183,\n",
       "        6.00127845,  5.99266343,  5.98398597,  5.9752453 ,  5.96644066,\n",
       "        5.95757127,  5.9486364 ,  5.93963529,  5.93056722,  5.92143147,\n",
       "        5.91222732,  5.90295408,  5.89361106,  5.88419757,  5.87471296,\n",
       "        5.86515656,  5.85552774,  5.84582585,  5.83605029,  5.82620044,\n",
       "        5.81627571,  5.80627552,  5.79619931,  5.78604652,  5.77581661,\n",
       "        5.76550906,  5.75512336,  5.74465902,  5.73411556,  5.72349252,\n",
       "        5.71278947,  5.70200596,  5.69114161,  5.68019601,  5.6691688 ,\n",
       "        5.65805963,  5.64686817,  5.63559412,  5.62423717,  5.61279707,\n",
       "        5.60127358,  5.58966648,  5.57797557,  5.56620069,  5.55434169,\n",
       "        5.54239846,  5.53037091,  5.51825898,  5.50606265,  5.4937819 ,\n",
       "        5.48141678,  5.46896735,  5.45643371,  5.443816  ,  5.43111438,\n",
       "        5.41832906,  5.40546029,  5.39250835,  5.37947357,  5.36635633,\n",
       "        5.35315704,  5.33987616,  5.32651419,  5.3130717 ,  5.2995493 ,\n",
       "        5.28594764,  5.27226744,  5.25850948,  5.24467459,  5.23076366,\n",
       "        5.21677764,  5.20271756,  5.1885845 ,  5.17437963,  5.16010418,\n",
       "        5.14575945,  5.13134684,  5.11686779,  5.10232388,  5.08771674,\n",
       "        5.07304809,  5.05831976,  5.04353367,  5.02869185,  5.01379642,\n",
       "        4.99884961,  4.98385377,  4.96881138,  4.95372502,  4.9385974 ,\n",
       "        4.92343137,  4.90822991,  4.89299615,  4.87773335,  4.86244493,\n",
       "        4.84713447,  4.83180572,  4.81646259,  4.80110917,  4.78574973,\n",
       "        4.77038873,  4.75503083,  4.7396809 ,  4.72434401,  4.70902545,\n",
       "        4.69373074,  4.67846566,  4.66323619,  4.64804861,  4.63290943,\n",
       "        4.61782543,  4.60280372,  4.58785164,  4.57297687,  4.5581874 ,\n",
       "        4.54349153,  4.52889792,  4.51441554,  4.50005376,  4.4858223 ,\n",
       "        4.47173125,  4.45779111,  4.44401279,  4.43040762,  4.41698734,\n",
       "        4.40376417,  4.39075077,  4.37796026,  4.36540626,  4.3531029 ,\n",
       "        4.34106479,  4.32930709,  4.31784547,  4.30669618,  4.295876  ,\n",
       "        4.2854023 ,  4.27529302,  4.26556672,  4.25624252,  4.24734019,\n",
       "        4.23888011,  4.23088328,  4.22337135,  4.2163666 ,  4.20989196,\n",
       "        4.203971  ,  4.19862794,  4.19388766,  4.18977569,  4.18631818,\n",
       "        4.18354195,  4.18147442,  4.18014366,  4.17957833,  4.17980772,\n",
       "        4.18086166,  4.18277059,  4.18556546,  4.18927776,  4.1939395 ,\n",
       "        4.19958312,  4.20624156,  4.21394814,  4.22273658,  4.23264096,\n",
       "        4.24369567,  4.25593539,  4.26939506,  4.28410981,  4.30011496,\n",
       "        4.31744597,  4.3361384 ,  4.35622786,  4.37775003,  4.40074055,\n",
       "        4.42523505,  4.45126907,  4.47887809,  4.50809745,  4.53896237,\n",
       "        4.57150789,  4.60576891,  4.64178014,  4.67957608,  4.71919108,\n",
       "        4.76065928,  4.80401465,  4.849291  ,  4.89652198,  4.94574113,\n",
       "        4.9969819 ,  5.05027766,  5.10566177,  5.16316762,  5.22282867,\n",
       "        5.2846785 ,  5.3487509 ,  5.41507992,  5.48369994,  5.55464575,\n",
       "        5.62795268,  5.70365664,  5.78179424,  5.86240292,  5.94552108,\n",
       "        6.03118818,  6.11944489,  6.21033327,  6.30389695,  6.40018127,\n",
       "        6.49923354,  6.60110325,  6.70584235,  6.8135055 ,  6.92415042,\n",
       "        7.03783828,  7.15463406,  7.27460708,  7.39783148,  7.52438692,\n",
       "        7.65435924,  7.78784131,  7.92493405,  8.06574753,  8.21040237,\n",
       "        8.35903137,  8.51178142,  8.6688159 ,  8.83031753,  8.99649188,\n",
       "        9.16757171,  9.34382246,  9.52554913,  9.71310508,  9.90690356,\n",
       "       10.1074328 , 10.31527634, 10.53114088, 10.75589533, 10.99062711,\n",
       "       11.23672587, 11.49601319, 11.77095291, 12.06501355, 12.38334299,\n",
       "       12.73416356, 13.13213195, 13.60869426, 14.26547842, 14.53036091,\n",
       "       13.99583576, 13.67970629, 13.44768554, 13.26374935, 13.11185427,\n",
       "       12.98319965, 12.87234377, 12.77564595, 12.69019043, 12.61246667,\n",
       "       12.5428466 , 12.48020821, 12.42365434, 12.37245461, 12.32600528,\n",
       "       12.28380072, 12.24541259, 12.21047446, 12.17867004, 12.14972422,\n",
       "       12.12339603, 12.09947303, 12.07776694, 12.05810996, 12.04035188,\n",
       "       12.02435765, 12.01000536, 11.99718456, 11.98579486, 11.97574472,\n",
       "       11.96695042, 11.95933521, 11.95282852, 11.94736534, 11.94288564,\n",
       "       11.93933386, 11.93665851, 11.93481175, 11.93374907, 11.93342901,\n",
       "       11.93381285, 11.93486442, 11.93654985, 11.93883742, 11.94169735,\n",
       "       11.94510168, 11.94902409, 11.95343983, 11.95832556, 11.96365928,\n",
       "       11.96942019, 11.97558867, 11.98214615, 11.98907505, 11.99635872,\n",
       "       12.00398138, 12.01192808, 12.0201846 , 12.02873746, 12.03757383,\n",
       "       12.04668154, 12.05604899, 12.06566514, 12.07551949, 12.08560202,\n",
       "       12.0959032 , 12.10641393, 12.11712552, 12.1280297 , 12.13911857,\n",
       "       12.15038457, 12.16182049, 12.17341945, 12.18517486, 12.19708043,\n",
       "       12.20913014, 12.22131822, 12.23363919, 12.24608776, 12.2586589 ,\n",
       "       12.27134779, 12.2841498 , 12.29706052, 12.31007572, 12.32319135,\n",
       "       12.33640353, 12.34970855, 12.36310287, 12.37658309, 12.39014595,\n",
       "       12.40378834, 12.41750729, 12.43129994, 12.44516359, 12.45909562,\n",
       "       12.47309356, 12.48715502, 12.50127775, 12.51545958, 12.52969845,\n",
       "       12.54399241, 12.55833958, 12.57273819, 12.58718654, 12.60168305,\n",
       "       12.61622618, 12.63081451, 12.64544668, 12.66012141, 12.67483751,\n",
       "       12.68959383, 12.70438933, 12.71922302, 12.734094  , 12.7490014 ,\n",
       "       12.76394447, 12.77892248, 12.7939348 , 12.80898085, 12.82406012,\n",
       "       12.83917216, 12.85431659, 12.8694931 , 12.88470142, 12.89994138,\n",
       "       12.91521286, 12.9305158 , 12.94585021, 12.96121617, 12.97661384,\n",
       "       12.99204343, 13.00750523, 13.02299961, 13.03852701, 13.05408794,\n",
       "       13.069683  , 13.08531288, 13.10097834, 13.11668023, 13.1324195 ,\n",
       "       13.14819721, 13.16401449, 13.17987261, 13.19577294, 13.21171696,\n",
       "       13.2277063 , 13.24374271, 13.25982807, 13.27596445, 13.29215405,\n",
       "       13.30839927, 13.32470269, 13.34106709, 13.35749548, 13.37399111,\n",
       "       13.3905575 , 13.40719843, 13.42391804, 13.44072076, 13.45761145,\n",
       "       13.47459536, 13.4916782 , 13.50886624, 13.52616629, 13.54358583,\n",
       "       13.56113307, 13.57881705, 13.59664776, 13.61463627, 13.6327949 ,\n",
       "       13.6511374 , 13.66967921, 13.68843772, 13.70743265, 13.72668648,\n",
       "       13.74622503, 13.76607816, 13.78628067, 13.80687357, 13.82790566,\n",
       "       13.84943578, 13.87153589, 13.89429552, 13.91782838, 13.94228252,\n",
       "       13.9678567 , 13.99482844, 14.0236058 , 14.05483317, 14.0896419 ,\n",
       "       14.13040085, 14.18432381, 14.05325958, 13.83755444, 13.70405365,\n",
       "       13.60043785, 13.51381322, 13.4385557 , 13.37160582, 13.31107809,\n",
       "       13.25571201, 13.20461494, 13.15712691, 13.1127434 , 13.07106821,\n",
       "       13.03178339, 12.99462901, 12.9593893 , 12.92588272, 12.89395481,\n",
       "       12.86347277, 12.83432142, 12.80640007, 12.77962008, 12.7539029 ,\n",
       "       12.72917852, 12.70538424, 12.68246358, 12.66036552, 12.6390437 ,\n",
       "       12.6184559 , 12.59856351, 12.57933111, 12.5607261 , 12.54271843,\n",
       "       12.52528027, 12.50838583, 12.49201115, 12.47613388, 12.4607332 ,\n",
       "       12.44578959, 12.43128482, 12.41720173, 12.40352423, 12.39023714,\n",
       "       12.37732616, 12.36477779, 12.35257927, 12.3407185 , 12.32918404,\n",
       "       12.31796501, 12.30705109, 12.29643245, 12.28609975, 12.27604407,\n",
       "       12.2662569 , 12.25673015, 12.24745604, 12.23842716, 12.22963641,\n",
       "       12.22107699, 12.21274238, 12.20462632, 12.1967228 , 12.18902606,\n",
       "       12.18153053, 12.17423089, 12.16712199, 12.16019889, 12.15345681,\n",
       "       12.14689114, 12.14049746, 12.13427147, 12.12820903, 12.12230613,\n",
       "       12.11655892, 12.11096363, 12.10551665, 12.10021447, 12.09505369,\n",
       "       12.09003101, 12.08514323, 12.08038725, 12.07576006, 12.07125874,\n",
       "       12.06688045, 12.06262244, 12.05848201, 12.05445657, 12.05054357,\n",
       "       12.04674054, 12.04304509, 12.03945487, 12.03596759, 12.03258104,\n",
       "       12.02929305, 12.0261015 , 12.02300433, 12.01999953, 12.01708513,\n",
       "       12.01425922, 12.01151992, 12.0088654 , 12.00629386, 12.00380356,\n",
       "       12.00139278, 11.99905986, 11.99680315, 11.99462104, 11.99251197,\n",
       "       11.99047439, 11.9885068 , 11.98660772, 11.98477571, 11.98300933,\n",
       "       11.98130721, 11.97966796, 11.97809026, 11.97657278, 11.97511424,\n",
       "       11.97371335, 11.97236889, 11.97107961, 11.96984431, 11.96866182,\n",
       "       11.96753097, 11.96645061, 11.96541962, 11.96443688, 11.96350131,\n",
       "       11.96261183, 11.96176739, 11.96096694, 11.96020945, 11.95949392,\n",
       "       11.95881934, 11.95818474, 11.95758913, 11.95703158, 11.95651113,\n",
       "       11.95602685, 11.95557783, 11.95516315, 11.95478192, 11.95443326,\n",
       "       11.95411629, 11.95383015, 11.95357397, 11.95334693, 11.95314818,\n",
       "       11.95297691, 11.95283228, 11.95271351, 11.95261977, 11.9525503 ])"
      ]
     },
     "execution_count": 110,
     "metadata": {},
     "output_type": "execute_result"
    }
   ],
   "source": [
    "np.abs(km_jordi_vals)"
   ]
  },
  {
   "cell_type": "code",
   "execution_count": null,
   "metadata": {},
   "outputs": [
    {
     "ename": "NameError",
     "evalue": "name 'KM' is not defined",
     "output_type": "error",
     "traceback": [
      "\u001b[0;31m---------------------------------------------------------------------------\u001b[0m",
      "\u001b[0;31mNameError\u001b[0m                                 Traceback (most recent call last)",
      "Cell \u001b[0;32mIn[1], line 1\u001b[0m\n\u001b[0;32m----> 1\u001b[0m km  \u001b[38;5;241m=\u001b[39m\u001b[43mKM\u001b[49m(xplsq, m_poles, g_poles, s0, fij, b_poles, s0_prod, fprod1, masses_poles, mpi)\n",
      "\u001b[0;31mNameError\u001b[0m: name 'KM' is not defined"
     ]
    }
   ],
   "source": [
    "km  =KM(xplsq, m_poles, g_poles, s0, fij, b_poles, s0_prod, fprod1, masses_poles, mpi)"
   ]
  },
  {
   "cell_type": "code",
   "execution_count": null,
   "metadata": {},
   "outputs": [
    {
     "ename": "NameError",
     "evalue": "name 'plt' is not defined",
     "output_type": "error",
     "traceback": [
      "\u001b[0;31m---------------------------------------------------------------------------\u001b[0m",
      "\u001b[0;31mNameError\u001b[0m                                 Traceback (most recent call last)",
      "Cell \u001b[0;32mIn[2], line 1\u001b[0m\n\u001b[0;32m----> 1\u001b[0m \u001b[43mplt\u001b[49m\u001b[38;5;241m.\u001b[39mplot(xplsq, km_jordi_dens, label\u001b[38;5;241m=\u001b[39m\u001b[38;5;124m'\u001b[39m\u001b[38;5;124mK-matrix (Jordi)\u001b[39m\u001b[38;5;124m'\u001b[39m)\n\u001b[1;32m      2\u001b[0m plt\u001b[38;5;241m.\u001b[39mplot(xplsq, atfd\u001b[38;5;241m.\u001b[39mdensity(km[:, \u001b[38;5;241m0\u001b[39m]), label\u001b[38;5;241m=\u001b[39m\u001b[38;5;124m'\u001b[39m\u001b[38;5;124mK-matrix (Mine)\u001b[39m\u001b[38;5;124m'\u001b[39m)\n\u001b[1;32m      3\u001b[0m plt\u001b[38;5;241m.\u001b[39mlegend()\n",
      "\u001b[0;31mNameError\u001b[0m: name 'plt' is not defined"
     ]
    }
   ],
   "source": [
    "plt.plot(xplsq, km_jordi_dens, label='K-matrix (Jordi)')\n",
    "plt.plot(xplsq, atfd.density(km[:, 0]), label='K-matrix (Mine)')\n",
    "plt.legend()"
   ]
  },
  {
   "cell_type": "code",
   "execution_count": null,
   "metadata": {},
   "outputs": [],
   "source": [
    "import numpy as np"
   ]
  },
  {
   "cell_type": "code",
   "execution_count": 51,
   "metadata": {},
   "outputs": [
    {
     "data": {
      "text/plain": [
       "array([[0., 0., 0., 0., 0.],\n",
       "       [0., 0., 0., 0., 0.],\n",
       "       [0., 0., 0., 0., 0.],\n",
       "       [0., 0., 0., 0., 0.],\n",
       "       [0., 0., 0., 0., 0.]])"
      ]
     },
     "execution_count": 51,
     "metadata": {},
     "output_type": "execute_result"
    }
   ],
   "source": [
    "np.zeros([5,5])"
   ]
  },
  {
   "cell_type": "code",
   "execution_count": null,
   "metadata": {},
   "outputs": [],
   "source": []
  }
 ],
 "metadata": {
  "kernelspec": {
   "display_name": "tfa",
   "language": "python",
   "name": "python3"
  },
  "language_info": {
   "codemirror_mode": {
    "name": "ipython",
    "version": 3
   },
   "file_extension": ".py",
   "mimetype": "text/x-python",
   "name": "python",
   "nbconvert_exporter": "python",
   "pygments_lexer": "ipython3",
   "version": "3.9.19"
  }
 },
 "nbformat": 4,
 "nbformat_minor": 2
}

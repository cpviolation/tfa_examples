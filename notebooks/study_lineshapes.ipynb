{
 "cells": [
  {
   "cell_type": "markdown",
   "metadata": {},
   "source": [
    "# Lineshapes for $D^0\\to K^0_S\\pi^+\\pi^-$\n",
    "\n",
    "In this notebook, various lineshapes to study the $D^0\\to K^0_S\\pi^+\\pi^-$ decay are implemented. The lineshapes are:\n",
    "\n",
    "- $K^*(892)^-$\n",
    "- $K_0^*(1430)^-$ \n",
    "- $K_2^*(1430)^-$\n",
    "- $K^*(1410)^-$\n",
    "- $K^*(1680)^-$\n",
    "- $\\rho(770)$\n",
    "- $\\omega(782)$\n",
    "- $f_2(1270)$\n",
    "- $\\rho(1450)$\n",
    "- ππ S wave"
   ]
  },
  {
   "cell_type": "markdown",
   "metadata": {},
   "source": []
  },
  {
   "cell_type": "code",
   "execution_count": 1,
   "metadata": {},
   "outputs": [
    {
     "name": "stderr",
     "output_type": "stream",
     "text": [
      "2025-04-16 11:44:30.782644: E external/local_xla/xla/stream_executor/cuda/cuda_fft.cc:467] Unable to register cuFFT factory: Attempting to register factory for plugin cuFFT when one has already been registered\n",
      "WARNING: All log messages before absl::InitializeLog() is called are written to STDERR\n",
      "E0000 00:00:1744796670.802776   26544 cuda_dnn.cc:8579] Unable to register cuDNN factory: Attempting to register factory for plugin cuDNN when one has already been registered\n",
      "E0000 00:00:1744796670.808911   26544 cuda_blas.cc:1407] Unable to register cuBLAS factory: Attempting to register factory for plugin cuBLAS when one has already been registered\n",
      "W0000 00:00:1744796670.824578   26544 computation_placer.cc:177] computation placer already registered. Please check linkage and avoid linking the same target more than once.\n",
      "W0000 00:00:1744796670.824592   26544 computation_placer.cc:177] computation placer already registered. Please check linkage and avoid linking the same target more than once.\n",
      "W0000 00:00:1744796670.824595   26544 computation_placer.cc:177] computation placer already registered. Please check linkage and avoid linking the same target more than once.\n",
      "W0000 00:00:1744796670.824597   26544 computation_placer.cc:177] computation placer already registered. Please check linkage and avoid linking the same target more than once.\n",
      "2025-04-16 11:44:30.829607: I tensorflow/core/platform/cpu_feature_guard.cc:210] This TensorFlow binary is optimized to use available CPU instructions in performance-critical operations.\n",
      "To enable the following instructions: AVX2 FMA, in other operations, rebuild TensorFlow with the appropriate compiler flags.\n"
     ]
    },
    {
     "name": "stdout",
     "output_type": "stream",
     "text": [
      "WARNING:tensorflow:From /user/gr1/lhcb/mmartinelli/environments/tfa/lib64/python3.9/site-packages/tensorflow/python/util/deprecation.py:588: calling function (from tensorflow.python.eager.polymorphic_function.polymorphic_function) with experimental_relax_shapes is deprecated and will be removed in a future version.\n",
      "Instructions for updating:\n",
      "experimental_relax_shapes is deprecated, use reduce_retracing instead\n"
     ]
    },
    {
     "name": "stderr",
     "output_type": "stream",
     "text": [
      "I0000 00:00:1744796673.116742   26544 gpu_device.cc:2019] Created device /job:localhost/replica:0/task:0/device:GPU:0 with 46761 MB memory:  -> device: 0, name: NVIDIA RTX A6000, pci bus id: 0000:41:00.0, compute capability: 8.6\n"
     ]
    }
   ],
   "source": [
    "# Import tensorflow\n",
    "import tensorflow as tf\n",
    "\n",
    "# Import AmpliTF modules\n",
    "import amplitf.interface as atfi\n",
    "import amplitf.kinematics as atfk\n",
    "import amplitf.dynamics as atfd\n",
    "import amplitf.likelihood as atfl\n",
    "from amplitf.phasespace.dalitz_phasespace import DalitzPhaseSpace\n",
    "\n",
    "# Import TFA modules\n",
    "import tfa.toymc as tft\n",
    "import tfa.plotting as tfp\n",
    "import tfa.optimisation as tfo"
   ]
  },
  {
   "cell_type": "code",
   "execution_count": 2,
   "metadata": {},
   "outputs": [],
   "source": [
    "tf.config.run_functions_eagerly(True)"
   ]
  },
  {
   "cell_type": "code",
   "execution_count": 3,
   "metadata": {},
   "outputs": [],
   "source": [
    "# Masses of final state particles\n",
    "from particle.particle import literals as lp\n",
    "# Dalitz Particles\n",
    "mkz = atfi.const(lp.K_S_0.mass/1000)\n",
    "mpi = atfi.const(lp.pi_plus.mass/1000)\n",
    "md = atfi.const(lp.D_0.mass/1000)\n",
    "\n",
    "# Resonances\n",
    "mkst = atfi.const(lp.Kst_892_0.mass/1000)\n",
    "wkst = atfi.const(lp.Kst_892_0.width/1000)\n",
    "mrho = atfi.const(lp.rho_770_0.mass/1000)\n",
    "wrho = atfi.const(lp.rho_770_0.width/1000)\n",
    "mk0st1430 = atfi.const(lp.K_0st_1430_plus.mass/1000)\n",
    "wk0st1430 = atfi.const(lp.K_0st_1430_plus.width/1000)\n",
    "mk2st1430 = atfi.const(lp.K_2st_1430_plus.mass/1000)\n",
    "wk2st1430 = atfi.const(lp.K_2st_1430_plus.width/1000)\n",
    "mkst1410 = atfi.const(lp.Kst_1410_plus.mass/1000)\n",
    "wkst1410 = atfi.const(lp.Kst_1410_plus.width/1000)\n",
    "mkst1680 = atfi.const(lp.Kst_1680_plus.mass/1000)\n",
    "wkst1680 = atfi.const(lp.Kst_1680_plus.width/1000)\n",
    "momega = atfi.const(lp.omega_782.mass/1000)\n",
    "womega = atfi.const(lp.omega_782.width/1000)\n",
    "mf2_1270 = atfi.const(lp.f_2_1270.mass/1000)\n",
    "wf2_1270 = atfi.const(lp.f_2_1270.width/1000)\n",
    "mrho1450 = atfi.const(lp.rho_1450_0.mass/1000)\n",
    "wrho1450 = atfi.const(lp.rho_1450_0.width/1000)\n",
    "\n",
    "# Blatt-Weisskopf radii for Breit-Wigner lineshape\n",
    "rd = atfi.const(5.0)\n",
    "rr = atfi.const(1.5)\n",
    "\n",
    "# Useful constants\n",
    "deg2rad = atfi.pi() / 180.0"
   ]
  },
  {
   "cell_type": "code",
   "execution_count": 4,
   "metadata": {},
   "outputs": [],
   "source": [
    "phsp = DalitzPhaseSpace(mpi, mkz, mpi, md)"
   ]
  },
  {
   "cell_type": "markdown",
   "metadata": {},
   "source": [
    "generate plotting sample"
   ]
  },
  {
   "cell_type": "code",
   "execution_count": 5,
   "metadata": {},
   "outputs": [],
   "source": [
    "nnorm=100000\n",
    "norm_sample = phsp.uniform_sample(nnorm)"
   ]
  },
  {
   "cell_type": "code",
   "execution_count": 6,
   "metadata": {},
   "outputs": [],
   "source": [
    "def bw(m2, coshel, mass, width, spin, masses=[mpi, mpi, mkz]):\n",
    "    #m2 = phsp.__getattribute__('m2'+particles)(x)\n",
    "    bw = atfd.breit_wigner_lineshape(m2, mass, width, masses[0], masses[1], masses[2], md, rd, rr, 1, 1)\n",
    "    #coshel = phsp.__getattribute__('cos_helicity_'+particles)(x)\n",
    "    helamp = atfd.helicity_amplitude(coshel, spin)\n",
    "    return atfd.density(bw*helamp)"
   ]
  },
  {
   "cell_type": "code",
   "execution_count": 7,
   "metadata": {},
   "outputs": [],
   "source": [
    "masses_ab = masses_bc = [mpi, mkz, mpi]\n",
    "masses_ac = [mpi, mpi, mkz]"
   ]
  },
  {
   "cell_type": "code",
   "execution_count": 8,
   "metadata": {},
   "outputs": [],
   "source": [
    "import matplotlib.pyplot as plt\n",
    "import numpy as np\n",
    "import scipy\n",
    "from scipy.integrate import trapezoid\n"
   ]
  },
  {
   "cell_type": "code",
   "execution_count": 9,
   "metadata": {},
   "outputs": [
    {
     "name": "stdout",
     "output_type": "stream",
     "text": [
      "/usr/lib64/python39.zip\n",
      "/usr/lib64/python3.9\n",
      "/usr/lib64/python3.9/lib-dynload\n",
      "\n",
      "/user/gr1/lhcb/mmartinelli/environments/tfa/lib64/python3.9/site-packages\n",
      "/user/gr1/lhcb/mmartinelli/environments/tfa/lib/python3.9/site-packages\n"
     ]
    }
   ],
   "source": [
    "import sys\n",
    "print(\"\\n\".join(sys.path))"
   ]
  },
  {
   "cell_type": "code",
   "execution_count": 10,
   "metadata": {},
   "outputs": [
    {
     "data": {
      "text/plain": [
       "<matplotlib.legend.Legend at 0x7f4dd6638670>"
      ]
     },
     "execution_count": 10,
     "metadata": {},
     "output_type": "execute_result"
    },
    {
     "data": {
      "image/png": "[encoded data removed]",
      "text/plain": [
       "<Figure size 640x480 with 1 Axes>"
      ]
     },
     "metadata": {},
     "output_type": "display_data"
    }
   ],
   "source": [
    "xpl = np.linspace(np.min(phsp.m2ab(norm_sample)), np.max(phsp.m2ab(norm_sample)), 1000)\n",
    "ykst = atfd.density(atfd.breit_wigner_lineshape(xpl, mkst, wkst, masses_ab[0], masses_ab[1], masses_ab[2], md, rd, rr, 1, 1))\n",
    "yk0st1430 = atfd.density(atfd.breit_wigner_lineshape(xpl, mk0st1430, wk0st1430, masses_ab[0], masses_ab[1], masses_ab[2], md, rd, rr, 1, 1))\n",
    "yk2st1430 = atfd.density(atfd.breit_wigner_lineshape(xpl, mk2st1430, wk2st1430, masses_ab[0], masses_ab[1], masses_ab[2], md, rd, rr, 1, 1))\n",
    "ykst1410 = atfd.density(atfd.breit_wigner_lineshape(xpl, mkst1410, wkst1410, masses_ab[0], masses_ab[1], masses_ab[2], md, rd, rr, 1, 1))\n",
    "ykst1680 = atfd.density(atfd.breit_wigner_lineshape(xpl, mkst1680, wkst1680, masses_ab[0], masses_ab[1], masses_ab[2], md, rd, rr, 1, 1))\n",
    "int_kst = trapezoid(ykst, xpl)\n",
    "int_k0st1430 = trapezoid(yk0st1430, xpl)\n",
    "int_k2st1430 = trapezoid(yk2st1430, xpl)\n",
    "int_kst1410 = trapezoid(ykst1410, xpl)\n",
    "int_kst1680 = trapezoid(ykst1680, xpl)\n",
    "plt.plot(xpl, ykst / int_kst, label=r'$K^*(892)^+$')\n",
    "plt.plot(xpl, yk0st1430 / int_k0st1430, label=r'$K_0^*(1430)^+$')\n",
    "plt.plot(xpl, yk2st1430 / int_k2st1430, label=r'$K_2^*(1430)^+$')\n",
    "plt.plot(xpl, ykst1410 / int_kst1410, label=r'$K^*(1410)^+$')\n",
    "plt.plot(xpl, ykst1680 / int_kst1680, label=r'$K^*(1680)^+$')\n",
    "plt.legend()"
   ]
  },
  {
   "cell_type": "markdown",
   "metadata": {},
   "source": [
    "There is a problem in the relativistic breit wigner lineshape at low masses. FIXED: order of particles in `phsp` and `masses` were different."
   ]
  },
  {
   "cell_type": "code",
   "execution_count": 11,
   "metadata": {},
   "outputs": [
    {
     "data": {
      "text/plain": [
       "<matplotlib.legend.Legend at 0x7f4c04297130>"
      ]
     },
     "execution_count": 11,
     "metadata": {},
     "output_type": "execute_result"
    },
    {
     "data": {
      "image/png": "[encoded data removed]",
      "text/plain": [
       "<Figure size 640x480 with 1 Axes>"
      ]
     },
     "metadata": {},
     "output_type": "display_data"
    }
   ],
   "source": [
    "xpl = np.linspace(np.min(phsp.m2ac(norm_sample)), np.max(phsp.m2ac(norm_sample)), 1000)\n",
    "yrho = atfd.density(atfd.breit_wigner_lineshape(xpl, mrho, wrho, masses_ac[0], masses_ac[1], masses_ac[2], md, rd, rr, 1, 1))\n",
    "yomega = atfd.density(atfd.breit_wigner_lineshape(xpl, momega, womega, *masses_ac, md, rd, rr, 1, 1))\n",
    "yf2_1270 = atfd.density(atfd.breit_wigner_lineshape(xpl, mf2_1270, wf2_1270, *masses_ac, md, rd, rr, 1, 1))\n",
    "yrho1450 = atfd.density(atfd.breit_wigner_lineshape(xpl, mrho1450, wrho1450, *masses_ac, md, rd, rr, 1, 1, md0=mrho1450+masses_ac[2]))\n",
    "int_rho = trapezoid(yrho, xpl)\n",
    "int_omega = trapezoid(yomega, xpl)\n",
    "int_f2_1270 = trapezoid(yf2_1270, xpl)\n",
    "int_rho1450 = trapezoid(yrho1450, xpl)\n",
    "plt.plot(xpl, yrho / int_rho, label=r'$\\rho(770)$')\n",
    "plt.plot(xpl, yomega / int_omega, label=r'$\\omega(782)$')\n",
    "plt.plot(xpl, yf2_1270 / int_f2_1270, label=r'$f_2(1270)$')\n",
    "plt.plot(xpl, yrho1450 / int_rho1450, label=r'$\\rho(1450)$')\n",
    "plt.legend()"
   ]
  },
  {
   "cell_type": "code",
   "execution_count": 12,
   "metadata": {},
   "outputs": [],
   "source": [
    "@atfi.function\n",
    "def breit_wigner_lineshape_test(\n",
    "    m2,\n",
    "    m0,\n",
    "    gamma0,\n",
    "    ma,\n",
    "    mb,\n",
    "    mc,\n",
    "    md,\n",
    "    dr,\n",
    "    dd,\n",
    "    lr,\n",
    "    ld,\n",
    "    barrier_factor=True,\n",
    "    ma0=None,\n",
    "    md0=None,\n",
    "):\n",
    "    r\"\"\"Breit-Wigner amplitude with Blatt-Weisskopf form factors, mass-dependent width and orbital barriers\n",
    "\n",
    "        .. math::\n",
    "\n",
    "            BW(m^2) = \\frac{1}{m_{res}^2 - m^2 - i m_{res} \\Gamma(m, m_{res}, \\Gamma_{res}, p, p_0, FF_r, l_r)} FF_r FF_d\n",
    "\n",
    "            \n",
    "        if barrier_factor is True, the orbital barrier factors are included in the form factor\n",
    "\n",
    "        .. math::\n",
    "\n",
    "            BW(m^2) = \\frac{1}{m_{res}^2 - m^2 - i m_{res} \\Gamma(m, m_{res}, \\Gamma_{res}, p, p_0, FF_r, l_r)} FF_r FF_d B_r B_d\n",
    "\n",
    "        \n",
    "        where\n",
    "            - :math:`\\Gamma(m, m_{res}, \\Gamma_{res}, p, p_0, FF_r, l_r)` is the mass-dependent width\n",
    "            - :math:`FF_r = BWFF(p, p_0, d_r, l_r)` is the Blatt-Weisskopf form factor for the resonance\n",
    "            - :math:`FF_d = BWFF(p, p_0, d_d, l_d)` is the Blatt-Weisskopf form factor for the decay\n",
    "            - :math:`B_r = B_l(p, p_0, l_r)` is the orbital barrier factor for the resonance\n",
    "            - :math:`B_d = B_l(q, q_0, l_d)` is the orbital barrier factor for the decay\n",
    "\n",
    "    Args:\n",
    "        m2 (float): invariant mass squared of the system\n",
    "        m0 (float): resonance mass\n",
    "        gamma0 (float): resonance width\n",
    "        ma (float): mass of particle a\n",
    "        mb (float): mass of particle b\n",
    "        mc (float): mass of the other particle (particle c)\n",
    "        md (float): mass of the decaying particle\n",
    "        dr (float): barrier radius for the resonance\n",
    "        dd (float): barrier radius for the decay\n",
    "        lr (int): orbital angular momentum of the resonance\n",
    "        ld (int): orbital angular momentum of the decay\n",
    "        barrier_factor (bool, optional): multiplies the form factor for the barrier factors. Defaults to True.\n",
    "        ma0 (float, optional): alternative value for the mass of the decaying particle to calculate the momentum of the system assuming the resonance mass. Defaults to None.\n",
    "        md0 (float, optional): alternative value for the mass of the decaying particle to calculate the q-value of the system assuming the resonance mass. Defaults to None.\n",
    "\n",
    "    Returns:\n",
    "        complex: the Breit-Wigner amplitude\n",
    "    \"\"\"\n",
    "    m = atfi.sqrt(m2)\n",
    "    q = atfk.two_body_momentum(md, m, mc)\n",
    "    q0 = atfk.two_body_momentum(md if md0 is None else md0, m0, mc)\n",
    "    # if q0 == 0:\n",
    "    #     q0 = atfk.complex_two_body_momentum(md if md0 is None else md0, m0, mc)\n",
    "    p = atfk.two_body_momentum(m, ma, mb)\n",
    "    p0 = atfk.two_body_momentum(m0, ma if ma0 is None else ma0, mb)\n",
    "    print(m.numpy(), q.numpy(), q0.numpy(), p.numpy(), p0.numpy())\n",
    "    ffr = atfd.blatt_weisskopf_ff(p, p0, dr, lr)\n",
    "    ffd = atfd.blatt_weisskopf_ff(q, q0, dd, ld)\n",
    "    print(ffr.numpy(), ffd.numpy())\n",
    "    width = atfd.mass_dependent_width(m, m0, gamma0, p, p0, ffr, lr)\n",
    "    bw = atfd.relativistic_breit_wigner(m2, m0, width)\n",
    "    print(width.numpy(), bw.numpy())\n",
    "    ff = ffr * ffd\n",
    "    if barrier_factor:\n",
    "        b1 = atfd.orbital_barrier_factor(p, p0, lr)\n",
    "        b2 = atfd.orbital_barrier_factor(q, q0, ld) if q0 != 0 else atfi.const(1.0)\n",
    "        ff *= b1 * b2\n",
    "        print(b1.numpy(), b2.numpy())\n",
    "    return bw * atfi.complex(ff, atfi.const(0.0))"
   ]
  },
  {
   "cell_type": "markdown",
   "metadata": {},
   "source": [
    "## LASS\n"
   ]
  },
  {
   "cell_type": "code",
   "execution_count": 13,
   "metadata": {},
   "outputs": [],
   "source": [
    "def LASS(m2ab, a, r, m0, gamma0, md, mc, amp_res, amp_nr, phase_res, phase_nr, cutOff=0):\n",
    "    q0 = atfk.two_body_momentum(md, m0, mc)\n",
    "    q = atfk.two_body_momentum(md, atfi.sqrt(m2ab), mc)\n",
    "    cot_delta_beta = atfi.const(1.0) / a / q + atfi.const(0.5) * r * q\n",
    "    nr  = atfd.nonresonant_lass_lineshape(m2ab, a, r, md, mc)\n",
    "    res = atfd.resonant_lass_lineshape(m2ab, m0, gamma0, a, r, md, mc)\n",
    "    lass = atfi.cast_complex(amp_res) * atfi.complex( atfi.cos(phase_res), atfi.sin(phase_res) ) * \\\n",
    "             atfi.complex( q * cot_delta_beta, q ) / atfi.complex( q * cot_delta_beta, -q ) * res\n",
    "    lass += atfi.cast_complex(amp_nr) * atfi.complex( atfi.cos(phase_nr), atfi.sin(phase_nr) ) * \\\n",
    "            atfi.cast_complex( atfi.cos(phase_nr) + atfi.sin(phase_nr) * cot_delta_beta ) * nr\n",
    "    # lass += atfi.where( m2ab>cutOff,\n",
    "    #             atfi.cast_complex(amp_nr) * atfi.complex( atfi.cos(phase_nr), atfi.sin(phase_nr) ) * \\\n",
    "    #            atfi.cast_complex( atfi.cos(phase_nr) + atfi.sin(phase_nr) * cot_delta_beta ) * nr,\n",
    "    #                atfi.cast_complex(0.0))  # Default value if condition is false\n",
    "    return lass\n",
    "\n",
    "def LASSalt(m2ab, a, r, m0, gamma0, md, mc, amp_res, amp_nr, phase_res, phase_nr):\n",
    "    q = atfk.two_body_momentum(md, atfi.sqrt(m2ab), mc)\n",
    "    cot_delta_beta = atfi.const(1.0) / a / q + atfi.const(0.5) * r * q\n",
    "    nr  = atfd.nonresonant_lass_lineshape(m2ab, a, r, md, mc)\n",
    "    res = atfd.resonant_lass_lineshape(m2ab, m0, gamma0, a, r, md, mc)\n",
    "    lass =  atfi.cast_complex(amp_nr) * atfi.complex( atfi.cos(phase_nr), atfi.sin(phase_nr) ) * \\\n",
    "               atfi.cast_complex( atfi.cos(phase_nr) + atfi.sin(phase_nr) * cot_delta_beta ) * nr\n",
    "    lass += atfi.cast_complex(amp_res) * atfi.complex( atfi.cos(phase_res), atfi.sin(phase_res) ) * \\\n",
    "             atfi.complex( q * cot_delta_beta, q ) / atfi.complex( q * cot_delta_beta, -q ) * res\n",
    "    return lass"
   ]
  },
  {
   "cell_type": "code",
   "execution_count": 14,
   "metadata": {},
   "outputs": [],
   "source": [
    "lass_M = atfi.const(1.4617)\n",
    "lass_G = atfi.const(0.2683)\n",
    "lass_F = atfi.const(0.4524)\n",
    "lass_phiF = atfi.const(0.248)\n",
    "lass_R = atfi.const(1.0)\n",
    "lass_phiR = atfi.const(2.495)\n",
    "lass_a = atfi.const(0.172)\n",
    "lass_r = atfi.const(-20.6)"
   ]
  },
  {
   "cell_type": "code",
   "execution_count": 15,
   "metadata": {},
   "outputs": [
    {
     "data": {
      "text/plain": [
       "<matplotlib.legend.Legend at 0x7f4c0435b9d0>"
      ]
     },
     "execution_count": 15,
     "metadata": {},
     "output_type": "execute_result"
    },
    {
     "data": {
      "image/png": "[encoded data removed]",
      "text/plain": [
       "<Figure size 640x480 with 1 Axes>"
      ]
     },
     "metadata": {},
     "output_type": "display_data"
    }
   ],
   "source": [
    "xpl = np.linspace(np.min(phsp.m2ab(norm_sample)), np.max(phsp.m2ab(norm_sample)), 1000)\n",
    "pab = atfk.two_body_momentum(atfi.sqrt(xpl), masses_ab[0], masses_ab[1])\n",
    "delta_beta = atfi.atan( 1.0 / ( 1.0 / lass_a / pab + 0.5 * lass_r * pab ) )\n",
    "ylass = atfd.density(LASS(xpl, lass_a, lass_r, lass_M, lass_G, md, masses_ab[2], lass_R, lass_F, lass_phiR, lass_phiF, 0.5))\n",
    "ylass_alt = atfd.density(LASSalt(xpl, lass_a, lass_r, lass_M, lass_G, md, masses_ab[2], lass_R, lass_F, lass_phiR, lass_phiF))\n",
    "nr = atfd.nonresonant_lass_lineshape(xpl, lass_a, lass_r, md, masses_ab[2])\n",
    "ylass_nr = atfd.density(atfi.cast_complex(lass_F) * atfi.complex( atfi.cos(lass_phiF), atfi.sin(lass_phiF) ) * nr)\n",
    "ylass_nr_jordi = atfd.density(atfi.cast_complex(lass_F) * atfi.complex( atfi.cos(lass_phiF), atfi.sin(lass_phiF) ) * \\\n",
    "                        atfi.cast_complex( atfi.cos(lass_phiF) + atfi.sin(lass_phiF) / atfi.tan(delta_beta) ) * nr)\n",
    "ylass_res = atfd.density(atfd.resonant_lass_lineshape(xpl, lass_M, lass_G, lass_a, lass_r, md, masses_ab[2]))\n",
    "#yomega = atfd.density(atfd.breit_wigner_lineshape(xpl, momega, womega, *masses_ac, md, rd, rr, 1, 1))\n",
    "int_lass = trapezoid(ylass, xpl)\n",
    "int_lass_alt = trapezoid(ylass_alt, xpl)\n",
    "int_lass_nr = trapezoid(ylass_nr, xpl)\n",
    "int_lass_nr_jordi = trapezoid(ylass_nr_jordi, xpl)\n",
    "int_lass_res = trapezoid(ylass_res, xpl)\n",
    "#int_omega = trapezoid(yomega, xpl)\n",
    "#int_f2_1270 = trapezoid(yf2_1270, xpl)\n",
    "#int_rho1450 = trapezoid(yrho1450, xpl)\n",
    "plt.plot(xpl, ylass / int_lass, label=r'LASS')\n",
    "# plt.plot(xpl, ylass_alt / int_lass_alt, label=r'LASS alt')\n",
    "#plt.plot(xpl, ylass_nr / int_lass_nr, label=r'LASS NR')\n",
    "#plt.plot(xpl, ylass_res / int_lass_res, label=r'LASS Res')\n",
    "# plt.plot(xpl, yomega / int_omega, label=r'$\\omega(782)$')\n",
    "# plt.plot(xpl, yf2_1270 / int_f2_1270, label=r'$f_2(1270)$')\n",
    "# plt.plot(xpl, yrho1450 / int_rho1450, label=r'$\\rho(1450)$')\n",
    "plt.legend()"
   ]
  },
  {
   "cell_type": "code",
   "execution_count": 16,
   "metadata": {},
   "outputs": [
    {
     "data": {
      "text/plain": [
       "<matplotlib.legend.Legend at 0x7f4c041aef40>"
      ]
     },
     "execution_count": 16,
     "metadata": {},
     "output_type": "execute_result"
    },
    {
     "data": {
      "image/png": "[encoded data removed]",
      "text/plain": [
       "<Figure size 640x480 with 1 Axes>"
      ]
     },
     "metadata": {},
     "output_type": "display_data"
    }
   ],
   "source": [
    "xpl2 = np.linspace(masses_ab[0]+masses_ab[1], md-masses_ab[2], 1000)\n",
    "xpl2sq = np.power(xpl2,2)\n",
    "pab = atfk.two_body_momentum(xpl2, masses_ab[0], masses_ab[1])\n",
    "delta_beta = atfi.atan( 1.0 / ( 1.0 / lass_a / pab + 0.5 * lass_r * pab ) )\n",
    "ylass = atfd.density(LASS(xpl2sq, lass_a, lass_r, lass_M, lass_G, masses_ab[0], masses_ab[1], lass_R, lass_F, lass_phiR, lass_phiF, 0.5))\n",
    "ylass_alt = atfd.density(LASSalt(xpl2sq, lass_a, lass_r, lass_M, lass_G, md, masses_ab[2], lass_R, lass_F, lass_phiR, lass_phiF))\n",
    "#nr = atfd.nonresonant_lass_lineshape(xpl, lass_a, lass_r, masses_ab[0], masses_ab[1])\n",
    "#ylass_nr = atfd.density(atfi.cast_complex(lass_F) * atfi.complex( atfi.cos(lass_phiF), atfi.sin(lass_phiF) ) * nr)\n",
    "#ylass_nr_jordi = atfd.density(atfi.cast_complex(lass_F) * atfi.complex( atfi.cos(lass_phiF), atfi.sin(lass_phiF) ) * \\\n",
    "#                        atfi.cast_complex( atfi.cos(lass_phiF) + atfi.sin(lass_phiF) / atfi.tan(delta_beta) ) * nr)\n",
    "#ylass_res = atfd.density(atfd.resonant_lass_lineshape(xpl, lass_M, lass_G, lass_a, lass_r, masses_ab[0], masses_ab[1], True))\n",
    "#yomega = atfd.density(atfd.breit_wigner_lineshape(xpl, momega, womega, *masses_ac, md, rd, rr, 1, 1))\n",
    "int_lass = trapezoid(ylass, xpl2sq)\n",
    "int_lass_alt = trapezoid(ylass_alt, xpl2sq)\n",
    "#int_lass_nr = trapezoid(ylass_nr, xpl)\n",
    "#int_lass_nr_jordi = trapezoid(ylass_nr_jordi, xpl)\n",
    "#int_lass_res = trapezoid(ylass_res, xpl)\n",
    "#int_omega = trapezoid(yomega, xpl)\n",
    "#int_f2_1270 = trapezoid(yf2_1270, xpl)\n",
    "#int_rho1450 = trapezoid(yrho1450, xpl)\n",
    "plt.plot(xpl2, ylass / int_lass, label=r'LASS')\n",
    "plt.plot(xpl2, ylass_alt / int_lass_alt, label=r'LASS alt')\n",
    "#plt.plot(xpl, ylass_nr / int_lass_nr, label=r'LASS NR')\n",
    "#plt.plot(xpl, ylass_res / int_lass_res, label=r'LASS Res')\n",
    "# plt.plot(xpl, yomega / int_omega, label=r'$\\omega(782)$')\n",
    "# plt.plot(xpl, yf2_1270 / int_f2_1270, label=r'$f_2(1270)$')\n",
    "# plt.plot(xpl, yrho1450 / int_rho1450, label=r'$\\rho(1450)$')\n",
    "plt.legend()"
   ]
  },
  {
   "cell_type": "code",
   "execution_count": 17,
   "metadata": {},
   "outputs": [
    {
     "name": "stdout",
     "output_type": "stream",
     "text": [
      "[0.63718139 0.63827057 0.63935974 0.64044892 0.6415381  0.64262728\n",
      " 0.64371645 0.64480563 0.64589481 0.64698399 0.64807316 0.64916234\n",
      " 0.65025152 0.6513407  0.65242987 0.65351905 0.65460823 0.65569741\n",
      " 0.65678658 0.65787576 0.65896494 0.66005412 0.66114329 0.66223247\n",
      " 0.66332165 0.66441082 0.6655     0.66658918 0.66767836 0.66876753\n",
      " 0.66985671 0.67094589 0.67203507 0.67312424 0.67421342 0.6753026\n",
      " 0.67639178 0.67748095 0.67857013 0.67965931 0.68074849 0.68183766\n",
      " 0.68292684 0.68401602 0.6851052  0.68619437 0.68728355 0.68837273\n",
      " 0.68946191 0.69055108 0.69164026 0.69272944 0.69381861 0.69490779\n",
      " 0.69599697 0.69708615 0.69817532 0.6992645  0.70035368 0.70144286\n",
      " 0.70253203 0.70362121 0.70471039 0.70579957 0.70688874 0.70797792\n",
      " 0.7090671  0.71015628 0.71124545 0.71233463 0.71342381 0.71451299\n",
      " 0.71560216 0.71669134 0.71778052 0.71886969 0.71995887 0.72104805\n",
      " 0.72213723 0.7232264  0.72431558 0.72540476 0.72649394 0.72758311\n",
      " 0.72867229 0.72976147 0.73085065 0.73193982 0.733029   0.73411818\n",
      " 0.73520736 0.73629653 0.73738571 0.73847489 0.73956407 0.74065324\n",
      " 0.74174242 0.7428316  0.74392077 0.74500995 0.74609913 0.74718831\n",
      " 0.74827748 0.74936666 0.75045584 0.75154502 0.75263419 0.75372337\n",
      " 0.75481255 0.75590173 0.7569909  0.75808008 0.75916926 0.76025844\n",
      " 0.76134761 0.76243679 0.76352597 0.76461515 0.76570432 0.7667935\n",
      " 0.76788268 0.76897186 0.77006103 0.77115021 0.77223939 0.77332856\n",
      " 0.77441774 0.77550692 0.7765961  0.77768527 0.77877445 0.77986363\n",
      " 0.78095281 0.78204198 0.78313116 0.78422034 0.78530952 0.78639869\n",
      " 0.78748787 0.78857705 0.78966623 0.7907554  0.79184458 0.79293376\n",
      " 0.79402294 0.79511211 0.79620129 0.79729047 0.79837964 0.79946882\n",
      " 0.800558   0.80164718 0.80273635 0.80382553 0.80491471 0.80600389\n",
      " 0.80709306 0.80818224 0.80927142 0.8103606  0.81144977 0.81253895\n",
      " 0.81362813 0.81471731 0.81580648 0.81689566 0.81798484 0.81907402\n",
      " 0.82016319 0.82125237 0.82234155 0.82343072 0.8245199  0.82560908\n",
      " 0.82669826 0.82778743 0.82887661 0.82996579 0.83105497 0.83214414\n",
      " 0.83323332 0.8343225  0.83541168 0.83650085 0.83759003 0.83867921\n",
      " 0.83976839 0.84085756 0.84194674 0.84303592 0.8441251  0.84521427\n",
      " 0.84630345 0.84739263 0.84848181 0.84957098 0.85066016 0.85174934\n",
      " 0.85283851 0.85392769 0.85501687 0.85610605 0.85719522 0.8582844\n",
      " 0.85937358 0.86046276 0.86155193 0.86264111 0.86373029 0.86481947\n",
      " 0.86590864 0.86699782 0.868087   0.86917618 0.87026535 0.87135453\n",
      " 0.87244371 0.87353289 0.87462206 0.87571124 0.87680042 0.87788959\n",
      " 0.87897877 0.88006795 0.88115713 0.8822463  0.88333548 0.88442466\n",
      " 0.88551384 0.88660301 0.88769219 0.88878137 0.88987055 0.89095972\n",
      " 0.8920489  0.89313808 0.89422726 0.89531643 0.89640561 0.89749479\n",
      " 0.89858397 0.89967314 0.90076232 0.9018515  0.90294067 0.90402985\n",
      " 0.90511903 0.90620821 0.90729738 0.90838656 0.90947574 0.91056492\n",
      " 0.91165409 0.91274327 0.91383245 0.91492163 0.9160108  0.91709998\n",
      " 0.91818916 0.91927834 0.92036751 0.92145669 0.92254587 0.92363505\n",
      " 0.92472422 0.9258134  0.92690258 0.92799176 0.92908093 0.93017011\n",
      " 0.93125929 0.93234846 0.93343764 0.93452682 0.935616   0.93670517\n",
      " 0.93779435 0.93888353 0.93997271 0.94106188 0.94215106 0.94324024\n",
      " 0.94432942 0.94541859 0.94650777 0.94759695 0.94868613 0.9497753\n",
      " 0.95086448 0.95195366 0.95304284 0.95413201 0.95522119 0.95631037\n",
      " 0.95739954 0.95848872 0.9595779  0.96066708 0.96175625 0.96284543\n",
      " 0.96393461 0.96502379 0.96611296 0.96720214 0.96829132 0.9693805\n",
      " 0.97046967 0.97155885 0.97264803 0.97373721 0.97482638 0.97591556\n",
      " 0.97700474 0.97809392 0.97918309 0.98027227 0.98136145 0.98245062\n",
      " 0.9835398  0.98462898 0.98571816 0.98680733 0.98789651 0.98898569\n",
      " 0.99007487 0.99116404 0.99225322 0.9933424  0.99443158 0.99552075\n",
      " 0.99660993 0.99769911 0.99878829 0.99987746 1.00096664 1.00205582\n",
      " 1.003145   1.00423417 1.00532335 1.00641253 1.00750171 1.00859088\n",
      " 1.00968006 1.01076924 1.01185841 1.01294759 1.01403677 1.01512595\n",
      " 1.01621512 1.0173043  1.01839348 1.01948266 1.02057183 1.02166101\n",
      " 1.02275019 1.02383937 1.02492854 1.02601772 1.0271069  1.02819608\n",
      " 1.02928525 1.03037443 1.03146361 1.03255279 1.03364196 1.03473114\n",
      " 1.03582032 1.03690949 1.03799867 1.03908785 1.04017703 1.0412662\n",
      " 1.04235538 1.04344456 1.04453374 1.04562291 1.04671209 1.04780127\n",
      " 1.04889045 1.04997962 1.0510688  1.05215798 1.05324716 1.05433633\n",
      " 1.05542551 1.05651469 1.05760387 1.05869304 1.05978222 1.0608714\n",
      " 1.06196057 1.06304975 1.06413893 1.06522811 1.06631728 1.06740646\n",
      " 1.06849564 1.06958482 1.07067399 1.07176317 1.07285235 1.07394153\n",
      " 1.0750307  1.07611988 1.07720906 1.07829824 1.07938741 1.08047659\n",
      " 1.08156577 1.08265495 1.08374412 1.0848333  1.08592248 1.08701166\n",
      " 1.08810083 1.08919001 1.09027919 1.09136836 1.09245754 1.09354672\n",
      " 1.0946359  1.09572507 1.09681425 1.09790343 1.09899261 1.10008178\n",
      " 1.10117096 1.10226014 1.10334932 1.10443849 1.10552767 1.10661685\n",
      " 1.10770603 1.1087952  1.10988438 1.11097356 1.11206274 1.11315191\n",
      " 1.11424109 1.11533027 1.11641944 1.11750862 1.1185978  1.11968698\n",
      " 1.12077615 1.12186533 1.12295451 1.12404369 1.12513286 1.12622204\n",
      " 1.12731122 1.1284004  1.12948957 1.13057875 1.13166793 1.13275711\n",
      " 1.13384628 1.13493546 1.13602464 1.13711382 1.13820299 1.13929217\n",
      " 1.14038135 1.14147052 1.1425597  1.14364888 1.14473806 1.14582723\n",
      " 1.14691641 1.14800559 1.14909477 1.15018394 1.15127312 1.1523623\n",
      " 1.15345148 1.15454065 1.15562983 1.15671901 1.15780819 1.15889736\n",
      " 1.15998654 1.16107572 1.1621649  1.16325407 1.16434325 1.16543243\n",
      " 1.16652161 1.16761078 1.16869996 1.16978914 1.17087831 1.17196749\n",
      " 1.17305667 1.17414585 1.17523502 1.1763242  1.17741338 1.17850256\n",
      " 1.17959173 1.18068091 1.18177009 1.18285927 1.18394844 1.18503762\n",
      " 1.1861268  1.18721598 1.18830515 1.18939433 1.19048351 1.19157269\n",
      " 1.19266186 1.19375104 1.19484022 1.19592939 1.19701857 1.19810775\n",
      " 1.19919693 1.2002861  1.20137528 1.20246446 1.20355364 1.20464281\n",
      " 1.20573199 1.20682117 1.20791035 1.20899952 1.2100887  1.21117788\n",
      " 1.21226706 1.21335623 1.21444541 1.21553459 1.21662377 1.21771294\n",
      " 1.21880212 1.2198913  1.22098048 1.22206965 1.22315883 1.22424801\n",
      " 1.22533718 1.22642636 1.22751554 1.22860472 1.22969389 1.23078307\n",
      " 1.23187225 1.23296143 1.2340506  1.23513978 1.23622896 1.23731814\n",
      " 1.23840731 1.23949649 1.24058567 1.24167485 1.24276402 1.2438532\n",
      " 1.24494238 1.24603156 1.24712073 1.24820991 1.24929909 1.25038826\n",
      " 1.25147744 1.25256662 1.2536558  1.25474497 1.25583415 1.25692333\n",
      " 1.25801251 1.25910168 1.26019086 1.26128004 1.26236922 1.26345839\n",
      " 1.26454757 1.26563675 1.26672593 1.2678151  1.26890428 1.26999346\n",
      " 1.27108264 1.27217181 1.27326099 1.27435017 1.27543934 1.27652852\n",
      " 1.2776177  1.27870688 1.27979605 1.28088523 1.28197441 1.28306359\n",
      " 1.28415276 1.28524194 1.28633112 1.2874203  1.28850947 1.28959865\n",
      " 1.29068783 1.29177701 1.29286618 1.29395536 1.29504454 1.29613372\n",
      " 1.29722289 1.29831207 1.29940125 1.30049043 1.3015796  1.30266878\n",
      " 1.30375796 1.30484713 1.30593631 1.30702549 1.30811467 1.30920384\n",
      " 1.31029302 1.3113822  1.31247138 1.31356055 1.31464973 1.31573891\n",
      " 1.31682809 1.31791726 1.31900644 1.32009562 1.3211848  1.32227397\n",
      " 1.32336315 1.32445233 1.32554151 1.32663068 1.32771986 1.32880904\n",
      " 1.32989821 1.33098739 1.33207657 1.33316575 1.33425492 1.3353441\n",
      " 1.33643328 1.33752246 1.33861163 1.33970081 1.34078999 1.34187917\n",
      " 1.34296834 1.34405752 1.3451467  1.34623588 1.34732505 1.34841423\n",
      " 1.34950341 1.35059259 1.35168176 1.35277094 1.35386012 1.35494929\n",
      " 1.35603847 1.35712765 1.35821683 1.359306   1.36039518 1.36148436\n",
      " 1.36257354 1.36366271 1.36475189 1.36584107 1.36693025 1.36801942\n",
      " 1.3691086  1.37019778 1.37128696 1.37237613 1.37346531 1.37455449\n",
      " 1.37564367 1.37673284 1.37782202 1.3789112  1.38000038 1.38108955\n",
      " 1.38217873 1.38326791 1.38435708 1.38544626 1.38653544 1.38762462\n",
      " 1.38871379 1.38980297 1.39089215 1.39198133 1.3930705  1.39415968\n",
      " 1.39524886 1.39633804 1.39742721 1.39851639 1.39960557 1.40069475\n",
      " 1.40178392 1.4028731  1.40396228 1.40505146 1.40614063 1.40722981\n",
      " 1.40831899 1.40940816 1.41049734 1.41158652 1.4126757  1.41376487\n",
      " 1.41485405 1.41594323 1.41703241 1.41812158 1.41921076 1.42029994\n",
      " 1.42138912 1.42247829 1.42356747 1.42465665 1.42574583 1.426835\n",
      " 1.42792418 1.42901336 1.43010254 1.43119171 1.43228089 1.43337007\n",
      " 1.43445924 1.43554842 1.4366376  1.43772678 1.43881595 1.43990513\n",
      " 1.44099431 1.44208349 1.44317266 1.44426184 1.44535102 1.4464402\n",
      " 1.44752937 1.44861855 1.44970773 1.45079691 1.45188608 1.45297526\n",
      " 1.45406444 1.45515362 1.45624279 1.45733197 1.45842115 1.45951033\n",
      " 1.4605995  1.46168868 1.46277786 1.46386703 1.46495621 1.46604539\n",
      " 1.46713457 1.46822374 1.46931292 1.4704021  1.47149128 1.47258045\n",
      " 1.47366963 1.47475881 1.47584799 1.47693716 1.47802634 1.47911552\n",
      " 1.4802047  1.48129387 1.48238305 1.48347223 1.48456141 1.48565058\n",
      " 1.48673976 1.48782894 1.48891811 1.49000729 1.49109647 1.49218565\n",
      " 1.49327482 1.494364   1.49545318 1.49654236 1.49763153 1.49872071\n",
      " 1.49980989 1.50089907 1.50198824 1.50307742 1.5041666  1.50525578\n",
      " 1.50634495 1.50743413 1.50852331 1.50961249 1.51070166 1.51179084\n",
      " 1.51288002 1.51396919 1.51505837 1.51614755 1.51723673 1.5183259\n",
      " 1.51941508 1.52050426 1.52159344 1.52268261 1.52377179 1.52486097\n",
      " 1.52595015 1.52703932 1.5281285  1.52921768 1.53030686 1.53139603\n",
      " 1.53248521 1.53357439 1.53466357 1.53575274 1.53684192 1.5379311\n",
      " 1.53902028 1.54010945 1.54119863 1.54228781 1.54337698 1.54446616\n",
      " 1.54555534 1.54664452 1.54773369 1.54882287 1.54991205 1.55100123\n",
      " 1.5520904  1.55317958 1.55426876 1.55535794 1.55644711 1.55753629\n",
      " 1.55862547 1.55971465 1.56080382 1.561893   1.56298218 1.56407136\n",
      " 1.56516053 1.56624971 1.56733889 1.56842806 1.56951724 1.57060642\n",
      " 1.5716956  1.57278477 1.57387395 1.57496313 1.57605231 1.57714148\n",
      " 1.57823066 1.57931984 1.58040902 1.58149819 1.58258737 1.58367655\n",
      " 1.58476573 1.5858549  1.58694408 1.58803326 1.58912244 1.59021161\n",
      " 1.59130079 1.59238997 1.59347914 1.59456832 1.5956575  1.59674668\n",
      " 1.59783585 1.59892503 1.60001421 1.60110339 1.60219256 1.60328174\n",
      " 1.60437092 1.6054601  1.60654927 1.60763845 1.60872763 1.60981681\n",
      " 1.61090598 1.61199516 1.61308434 1.61417352 1.61526269 1.61635187\n",
      " 1.61744105 1.61853023 1.6196194  1.62070858 1.62179776 1.62288693\n",
      " 1.62397611 1.62506529 1.62615447 1.62724364 1.62833282 1.629422\n",
      " 1.63051118 1.63160035 1.63268953 1.63377871 1.63486789 1.63595706\n",
      " 1.63704624 1.63813542 1.6392246  1.64031377 1.64140295 1.64249213\n",
      " 1.64358131 1.64467048 1.64575966 1.64684884 1.64793801 1.64902719\n",
      " 1.65011637 1.65120555 1.65229472 1.6533839  1.65447308 1.65556226\n",
      " 1.65665143 1.65774061 1.65882979 1.65991897 1.66100814 1.66209732\n",
      " 1.6631865  1.66427568 1.66536485 1.66645403 1.66754321 1.66863239\n",
      " 1.66972156 1.67081074 1.67189992 1.67298909 1.67407827 1.67516745\n",
      " 1.67625663 1.6773458  1.67843498 1.67952416 1.68061334 1.68170251\n",
      " 1.68279169 1.68388087 1.68497005 1.68605922 1.6871484  1.68823758\n",
      " 1.68932676 1.69041593 1.69150511 1.69259429 1.69368347 1.69477264\n",
      " 1.69586182 1.696951   1.69804018 1.69912935 1.70021853 1.70130771\n",
      " 1.70239688 1.70348606 1.70457524 1.70566442 1.70675359 1.70784277\n",
      " 1.70893195 1.71002113 1.7111103  1.71219948 1.71328866 1.71437784\n",
      " 1.71546701 1.71655619 1.71764537 1.71873455 1.71982372 1.7209129\n",
      " 1.72200208 1.72309126 1.72418043 1.72526961]\n",
      "[0.40600012 0.40738932 0.40878088 0.41017482 0.41157113 0.41296982\n",
      " 0.41437087 0.4157743  0.4171801  0.41858828 0.41999883 0.42141175\n",
      " 0.42282704 0.4242447  0.42566474 0.42708715 0.42851193 0.42993909\n",
      " 0.43136862 0.43280052 0.43423479 0.43567144 0.43711045 0.43855184\n",
      " 0.43999561 0.44144174 0.44289025 0.44434113 0.44579439 0.44725002\n",
      " 0.44870801 0.45016839 0.45163113 0.45309625 0.45456374 0.4560336\n",
      " 0.45750584 0.45898044 0.46045742 0.46193678 0.4634185  0.4649026\n",
      " 0.46638907 0.46787791 0.46936913 0.47086272 0.47235868 0.47385701\n",
      " 0.47535772 0.4768608  0.47836625 0.47987407 0.48138427 0.48289684\n",
      " 0.48441178 0.4859291  0.48744878 0.48897084 0.49049528 0.49202208\n",
      " 0.49355126 0.49508281 0.49661673 0.49815303 0.4996917  0.50123274\n",
      " 0.50277615 0.50432194 0.50587009 0.50742063 0.50897353 0.51052881\n",
      " 0.51208646 0.51364648 0.51520887 0.51677364 0.51834078 0.51991029\n",
      " 0.52148217 0.52305643 0.52463306 0.52621206 0.52779344 0.52937719\n",
      " 0.53096331 0.5325518  0.53414267 0.53573591 0.53733152 0.5389295\n",
      " 0.54052986 0.54213258 0.54373769 0.54534516 0.54695501 0.54856723\n",
      " 0.55018182 0.55179878 0.55341812 0.55503983 0.55666391 0.55829037\n",
      " 0.55991919 0.56155039 0.56318397 0.56481991 0.56645823 0.56809892\n",
      " 0.56974198 0.57138742 0.57303523 0.57468541 0.57633796 0.57799289\n",
      " 0.57965019 0.58130986 0.5829719  0.58463632 0.58630311 0.58797227\n",
      " 0.58964381 0.59131771 0.59299399 0.59467265 0.59635367 0.59803707\n",
      " 0.59972284 0.60141098 0.6031015  0.60479439 0.60648965 0.60818728\n",
      " 0.60988729 0.61158966 0.61329442 0.61500154 0.61671104 0.61842291\n",
      " 0.62013715 0.62185376 0.62357275 0.62529411 0.62701784 0.62874394\n",
      " 0.63047242 0.63220327 0.63393649 0.63567209 0.63741006 0.6391504\n",
      " 0.64089311 0.6426382  0.64438565 0.64613549 0.64788769 0.64964227\n",
      " 0.65139921 0.65315854 0.65492023 0.6566843  0.65845074 0.66021955\n",
      " 0.66199073 0.66376429 0.66554022 0.66731852 0.6690992  0.67088224\n",
      " 0.67266766 0.67445546 0.67624562 0.67803816 0.67983307 0.68163035\n",
      " 0.68343001 0.68523204 0.68703644 0.68884321 0.69065236 0.69246388\n",
      " 0.69427777 0.69609403 0.69791267 0.69973368 0.70155706 0.70338281\n",
      " 0.70521094 0.70704144 0.70887431 0.71070956 0.71254718 0.71438717\n",
      " 0.71622953 0.71807427 0.71992137 0.72177085 0.72362271 0.72547693\n",
      " 0.72733353 0.7291925  0.73105385 0.73291756 0.73478365 0.73665211\n",
      " 0.73852295 0.74039616 0.74227173 0.74414969 0.74603001 0.74791271\n",
      " 0.74979778 0.75168522 0.75357504 0.75546722 0.75736178 0.75925872\n",
      " 0.76115802 0.7630597  0.76496375 0.76687018 0.76877897 0.77069014\n",
      " 0.77260368 0.7745196  0.77643788 0.77835854 0.78028157 0.78220698\n",
      " 0.78413475 0.7860649  0.78799743 0.78993232 0.79186959 0.79380923\n",
      " 0.79575124 0.79769563 0.79964238 0.80159152 0.80354302 0.80549689\n",
      " 0.80745314 0.80941176 0.81137276 0.81333612 0.81530186 0.81726997\n",
      " 0.81924046 0.82121331 0.82318854 0.82516615 0.82714612 0.82912847\n",
      " 0.83111319 0.83310028 0.83508974 0.83708158 0.83907579 0.84107238\n",
      " 0.84307133 0.84507266 0.84707636 0.84908243 0.85109088 0.8531017\n",
      " 0.85511489 0.85713045 0.85914839 0.8611687  0.86319138 0.86521643\n",
      " 0.86724386 0.86927366 0.87130583 0.87334038 0.87537729 0.87741658\n",
      " 0.87945825 0.88150228 0.88354869 0.88559747 0.88764862 0.88970215\n",
      " 0.89175805 0.89381632 0.89587696 0.89793998 0.90000537 0.90207313\n",
      " 0.90414326 0.90621577 0.90829065 0.9103679  0.91244752 0.91452952\n",
      " 0.91661389 0.91870063 0.92078975 0.92288123 0.92497509 0.92707133\n",
      " 0.92916993 0.93127091 0.93337426 0.93547998 0.93758808 0.93969855\n",
      " 0.94181139 0.9439266  0.94604419 0.94816415 0.95028648 0.95241118\n",
      " 0.95453826 0.95666771 0.95879953 0.96093372 0.96307029 0.96520923\n",
      " 0.96735054 0.96949423 0.97164029 0.97378872 0.97593952 0.97809269\n",
      " 0.98024824 0.98240616 0.98456646 0.98672912 0.98889416 0.99106157\n",
      " 0.99323135 0.99540351 0.99757804 0.99975494 1.00193422 1.00411586\n",
      " 1.00629988 1.00848627 1.01067504 1.01286618 1.01505969 1.01725557\n",
      " 1.01945382 1.02165445 1.02385745 1.02606282 1.02827057 1.03048069\n",
      " 1.03269318 1.03490804 1.03712528 1.03934489 1.04156687 1.04379122\n",
      " 1.04601795 1.04824705 1.05047852 1.05271236 1.05494858 1.05718717\n",
      " 1.05942813 1.06167147 1.06391717 1.06616525 1.06841571 1.07066853\n",
      " 1.07292373 1.0751813  1.07744124 1.07970356 1.08196825 1.08423531\n",
      " 1.08650474 1.08877655 1.09105073 1.09332728 1.0956062  1.0978875\n",
      " 1.10017117 1.10245721 1.10474562 1.10703641 1.10932957 1.1116251\n",
      " 1.11392301 1.11622329 1.11852594 1.12083096 1.12313835 1.12544812\n",
      " 1.12776026 1.13007478 1.13239166 1.13471092 1.13703255 1.13935656\n",
      " 1.14168293 1.14401168 1.1463428  1.1486763  1.15101216 1.1533504\n",
      " 1.15569101 1.158034   1.16037936 1.16272709 1.16507719 1.16742966\n",
      " 1.16978451 1.17214173 1.17450132 1.17686329 1.17922763 1.18159434\n",
      " 1.18396342 1.18633488 1.18870871 1.19108491 1.19346348 1.19584443\n",
      " 1.19822775 1.20061344 1.2030015  1.20539194 1.20778475 1.21017993\n",
      " 1.21257749 1.21497741 1.21737971 1.21978439 1.22219143 1.22460085\n",
      " 1.22701264 1.2294268  1.23184334 1.23426225 1.23668353 1.23910718\n",
      " 1.24153321 1.24396161 1.24639238 1.24882552 1.25126104 1.25369893\n",
      " 1.25613919 1.25858182 1.26102683 1.26347421 1.26592396 1.26837609\n",
      " 1.27083058 1.27328745 1.2757467  1.27820831 1.2806723  1.28313866\n",
      " 1.28560739 1.2880785  1.29055198 1.29302783 1.29550605 1.29798665\n",
      " 1.30046962 1.30295496 1.30544267 1.30793276 1.31042522 1.31292005\n",
      " 1.31541726 1.31791683 1.32041878 1.32292311 1.3254298  1.32793887\n",
      " 1.33045031 1.33296412 1.33548031 1.33799886 1.3405198  1.3430431\n",
      " 1.34556877 1.34809682 1.35062724 1.35316004 1.3556952  1.35823274\n",
      " 1.36077266 1.36331494 1.3658596  1.36840663 1.37095603 1.3735078\n",
      " 1.37606195 1.37861847 1.38117736 1.38373863 1.38630227 1.38886828\n",
      " 1.39143666 1.39400741 1.39658054 1.39915604 1.40173392 1.40431416\n",
      " 1.40689678 1.40948177 1.41206914 1.41465887 1.41725098 1.41984546\n",
      " 1.42244232 1.42504155 1.42764315 1.43024712 1.43285346 1.43546218\n",
      " 1.43807327 1.44068673 1.44330257 1.44592078 1.44854136 1.45116431\n",
      " 1.45378964 1.45641733 1.4590474  1.46167985 1.46431466 1.46695185\n",
      " 1.46959141 1.47223335 1.47487766 1.47752433 1.48017339 1.48282481\n",
      " 1.48547861 1.48813478 1.49079332 1.49345424 1.49611752 1.49878318\n",
      " 1.50145122 1.50412162 1.5067944  1.50946955 1.51214707 1.51482697\n",
      " 1.51750924 1.52019388 1.52288089 1.52557028 1.52826204 1.53095617\n",
      " 1.53365267 1.53635155 1.5390528  1.54175642 1.54446242 1.54717078\n",
      " 1.54988152 1.55259464 1.55531012 1.55802798 1.56074821 1.56347081\n",
      " 1.56619579 1.56892314 1.57165286 1.57438495 1.57711942 1.57985626\n",
      " 1.58259547 1.58533705 1.58808101 1.59082734 1.59357604 1.59632711\n",
      " 1.59908056 1.60183638 1.60459457 1.60735514 1.61011807 1.61288338\n",
      " 1.61565107 1.61842112 1.62119355 1.62396835 1.62674552 1.62952507\n",
      " 1.63230699 1.63509128 1.63787794 1.64066698 1.64345839 1.64625217\n",
      " 1.64904832 1.65184685 1.65464775 1.65745102 1.66025666 1.66306468\n",
      " 1.66587507 1.66868783 1.67150297 1.67432048 1.67714036 1.67996261\n",
      " 1.68278723 1.68561423 1.6884436  1.69127535 1.69410946 1.69694595\n",
      " 1.69978481 1.70262604 1.70546965 1.70831563 1.71116398 1.71401471\n",
      " 1.7168678  1.71972327 1.72258111 1.72544133 1.72830392 1.73116888\n",
      " 1.73403621 1.73690591 1.73977799 1.74265244 1.74552926 1.74840846\n",
      " 1.75129003 1.75417397 1.75706028 1.75994897 1.76284003 1.76573346\n",
      " 1.76862926 1.77152744 1.77442799 1.77733091 1.7802362  1.78314387\n",
      " 1.78605391 1.78896632 1.79188111 1.79479826 1.79771779 1.8006397\n",
      " 1.80356397 1.80649062 1.80941964 1.81235103 1.8152848  1.81822094\n",
      " 1.82115945 1.82410033 1.82704359 1.82998922 1.83293722 1.83588759\n",
      " 1.83884034 1.84179546 1.84475295 1.84771281 1.85067505 1.85363966\n",
      " 1.85660664 1.859576   1.86254773 1.86552183 1.8684983  1.87147714\n",
      " 1.87445836 1.87744195 1.88042792 1.88341625 1.88640696 1.88940004\n",
      " 1.89239549 1.89539332 1.89839352 1.90139609 1.90440104 1.90740835\n",
      " 1.91041804 1.9134301  1.91644454 1.91946134 1.92248052 1.92550208\n",
      " 1.928526   1.9315523  1.93458097 1.93761201 1.94064543 1.94368122\n",
      " 1.94671938 1.94975991 1.95280282 1.9558481  1.95889575 1.96194577\n",
      " 1.96499817 1.96805294 1.97111008 1.97416959 1.97723148 1.98029574\n",
      " 1.98336237 1.98643137 1.98950275 1.9925765  1.99565262 1.99873112\n",
      " 2.00181199 2.00489523 2.00798084 2.01106883 2.01415919 2.01725192\n",
      " 2.02034702 2.0234445  2.02654434 2.02964657 2.03275116 2.03585813\n",
      " 2.03896747 2.04207918 2.04519326 2.04830972 2.05142855 2.05454975\n",
      " 2.05767333 2.06079927 2.06392759 2.06705829 2.07019135 2.07332679\n",
      " 2.0764646  2.07960478 2.08274734 2.08589227 2.08903957 2.09218924\n",
      " 2.09534129 2.09849571 2.1016525  2.10481166 2.1079732  2.11113711\n",
      " 2.11430339 2.11747204 2.12064307 2.12381647 2.12699224 2.13017039\n",
      " 2.13335091 2.1365338  2.13971906 2.1429067  2.1460967  2.14928908\n",
      " 2.15248384 2.15568096 2.15888046 2.16208233 2.16528658 2.16849319\n",
      " 2.17170218 2.17491354 2.17812728 2.18134338 2.18456186 2.18778272\n",
      " 2.19100594 2.19423154 2.19745951 2.20068985 2.20392257 2.20715765\n",
      " 2.21039511 2.21363495 2.21687715 2.22012173 2.22336868 2.226618\n",
      " 2.2298697  2.23312377 2.23638021 2.23963902 2.24290021 2.24616377\n",
      " 2.2494297  2.25269801 2.25596868 2.25924173 2.26251716 2.26579495\n",
      " 2.26907512 2.27235766 2.27564257 2.27892986 2.28221951 2.28551154\n",
      " 2.28880595 2.29210272 2.29540187 2.29870339 2.30200729 2.30531355\n",
      " 2.30862219 2.3119332  2.31524659 2.31856234 2.32188047 2.32520097\n",
      " 2.32852385 2.3318491  2.33517672 2.33850671 2.34183907 2.34517381\n",
      " 2.34851092 2.3518504  2.35519226 2.35853649 2.36188309 2.36523206\n",
      " 2.36858341 2.37193713 2.37529322 2.37865168 2.38201252 2.38537573\n",
      " 2.38874131 2.39210926 2.39547959 2.39885229 2.40222736 2.4056048\n",
      " 2.40898462 2.41236681 2.41575137 2.41913831 2.42252762 2.4259193\n",
      " 2.42931335 2.43270978 2.43610857 2.43950974 2.44291329 2.4463192\n",
      " 2.44972749 2.45313815 2.45655119 2.45996659 2.46338437 2.46680453\n",
      " 2.47022705 2.47365195 2.47707922 2.48050886 2.48394087 2.48737526\n",
      " 2.49081202 2.49425115 2.49769266 2.50113654 2.50458279 2.50803141\n",
      " 2.51148241 2.51493577 2.51839151 2.52184963 2.52531011 2.52877297\n",
      " 2.5322382  2.53570581 2.53917579 2.54264813 2.54612286 2.54959995\n",
      " 2.55307942 2.55656126 2.56004547 2.56353205 2.56702101 2.57051234\n",
      " 2.57400605 2.57750212 2.58100057 2.58450139 2.58800458 2.59151015\n",
      " 2.59501809 2.5985284  2.60204108 2.60555614 2.60907357 2.61259337\n",
      " 2.61611554 2.61964009 2.62316701 2.6266963  2.63022797 2.633762\n",
      " 2.63729841 2.64083719 2.64437835 2.64792188 2.65146778 2.65501605\n",
      " 2.6585667  2.66211971 2.66567511 2.66923287 2.672793   2.67635551\n",
      " 2.67992039 2.68348765 2.68705727 2.69062927 2.69420365 2.69778039\n",
      " 2.70135951 2.704941   2.70852486 2.71211109 2.7156997  2.71929068\n",
      " 2.72288403 2.72647976 2.73007786 2.73367833 2.73728117 2.74088639\n",
      " 2.74449397 2.74810393 2.75171627 2.75533097 2.75894805 2.7625675\n",
      " 2.76618933 2.76981352 2.77344009 2.77706904 2.78070035 2.78433404\n",
      " 2.7879701  2.79160853 2.79524933 2.79889251 2.80253806 2.80618598\n",
      " 2.80983628 2.81348895 2.81714399 2.8208014  2.82446119 2.82812335\n",
      " 2.83178788 2.83545478 2.83912406 2.84279571 2.84646973 2.85014612\n",
      " 2.85382489 2.85750603 2.86118954 2.86487542 2.86856368 2.87225431\n",
      " 2.87594731 2.87964269 2.88334044 2.88704056 2.89074305 2.89444791\n",
      " 2.89815515 2.90186476 2.90557675 2.9092911  2.91300783 2.91672693\n",
      " 2.92044841 2.92417225 2.92789847 2.93162706 2.93535803 2.93909136\n",
      " 2.94282707 2.94656516 2.95030561 2.95404844 2.95779364 2.96154121\n",
      " 2.96529116 2.96904347 2.97279816 2.97655523]\n",
      "[0.40695944 0.40952884 0.41209825 0.41466765 0.41723705 0.41980646\n",
      " 0.42237586 0.42494526 0.42751467 0.43008407 0.43265347 0.43522287\n",
      " 0.43779228 0.44036168 0.44293108 0.44550049 0.44806989 0.45063929\n",
      " 0.45320869 0.4557781  0.4583475  0.4609169  0.46348631 0.46605571\n",
      " 0.46862511 0.47119451 0.47376392 0.47633332 0.47890272 0.48147213\n",
      " 0.48404153 0.48661093 0.48918034 0.49174974 0.49431914 0.49688854\n",
      " 0.49945795 0.50202735 0.50459675 0.50716616 0.50973556 0.51230496\n",
      " 0.51487436 0.51744377 0.52001317 0.52258257 0.52515198 0.52772138\n",
      " 0.53029078 0.53286018 0.53542959 0.53799899 0.54056839 0.5431378\n",
      " 0.5457072  0.5482766  0.550846   0.55341541 0.55598481 0.55855421\n",
      " 0.56112362 0.56369302 0.56626242 0.56883183 0.57140123 0.57397063\n",
      " 0.57654003 0.57910944 0.58167884 0.58424824 0.58681765 0.58938705\n",
      " 0.59195645 0.59452585 0.59709526 0.59966466 0.60223406 0.60480347\n",
      " 0.60737287 0.60994227 0.61251167 0.61508108 0.61765048 0.62021988\n",
      " 0.62278929 0.62535869 0.62792809 0.6304975  0.6330669  0.6356363\n",
      " 0.6382057  0.64077511 0.64334451 0.64591391 0.64848332 0.65105272\n",
      " 0.65362212 0.65619152 0.65876093 0.66133033 0.66389973 0.66646914\n",
      " 0.66903854 0.67160794 0.67417734 0.67674675 0.67931615 0.68188555\n",
      " 0.68445496 0.68702436 0.68959376 0.69216317 0.69473257 0.69730197\n",
      " 0.69987137 0.70244078 0.70501018 0.70757958 0.71014899 0.71271839\n",
      " 0.71528779 0.71785719 0.7204266  0.722996   0.7255654  0.72813481\n",
      " 0.73070421 0.73327361 0.73584301 0.73841242 0.74098182 0.74355122\n",
      " 0.74612063 0.74869003 0.75125943 0.75382883 0.75639824 0.75896764\n",
      " 0.76153704 0.76410645 0.76667585 0.76924525 0.77181466 0.77438406\n",
      " 0.77695346 0.77952286 0.78209227 0.78466167 0.78723107 0.78980048\n",
      " 0.79236988 0.79493928 0.79750868 0.80007809 0.80264749 0.80521689\n",
      " 0.8077863  0.8103557  0.8129251  0.8154945  0.81806391 0.82063331\n",
      " 0.82320271 0.82577212 0.82834152 0.83091092 0.83348033 0.83604973\n",
      " 0.83861913 0.84118853 0.84375794 0.84632734 0.84889674 0.85146615\n",
      " 0.85403555 0.85660495 0.85917435 0.86174376 0.86431316 0.86688256\n",
      " 0.86945197 0.87202137 0.87459077 0.87716017 0.87972958 0.88229898\n",
      " 0.88486838 0.88743779 0.89000719 0.89257659 0.895146   0.8977154\n",
      " 0.9002848  0.9028542  0.90542361 0.90799301 0.91056241 0.91313182\n",
      " 0.91570122 0.91827062 0.92084002 0.92340943 0.92597883 0.92854823\n",
      " 0.93111764 0.93368704 0.93625644 0.93882584 0.94139525 0.94396465\n",
      " 0.94653405 0.94910346 0.95167286 0.95424226 0.95681166 0.95938107\n",
      " 0.96195047 0.96451987 0.96708928 0.96965868 0.97222808 0.97479749\n",
      " 0.97736689 0.97993629 0.98250569 0.9850751  0.9876445  0.9902139\n",
      " 0.99278331 0.99535271 0.99792211 1.00049151 1.00306092 1.00563032\n",
      " 1.00819972 1.01076913 1.01333853 1.01590793 1.01847733 1.02104674\n",
      " 1.02361614 1.02618554 1.02875495 1.03132435 1.03389375 1.03646316\n",
      " 1.03903256 1.04160196 1.04417136 1.04674077 1.04931017 1.05187957\n",
      " 1.05444898 1.05701838 1.05958778 1.06215718 1.06472659 1.06729599\n",
      " 1.06986539 1.0724348  1.0750042  1.0775736  1.080143   1.08271241\n",
      " 1.08528181 1.08785121 1.09042062 1.09299002 1.09555942 1.09812883\n",
      " 1.10069823 1.10326763 1.10583703 1.10840644 1.11097584 1.11354524\n",
      " 1.11611465 1.11868405 1.12125345 1.12382285 1.12639226 1.12896166\n",
      " 1.13153106 1.13410047 1.13666987 1.13923927 1.14180867 1.14437808\n",
      " 1.14694748 1.14951688 1.15208629 1.15465569 1.15722509 1.15979449\n",
      " 1.1623639  1.1649333  1.1675027  1.17007211 1.17264151 1.17521091\n",
      " 1.17778032 1.18034972 1.18291912 1.18548852 1.18805793 1.19062733\n",
      " 1.19319673 1.19576614 1.19833554 1.20090494 1.20347434 1.20604375\n",
      " 1.20861315 1.21118255 1.21375196 1.21632136 1.21889076 1.22146016\n",
      " 1.22402957 1.22659897 1.22916837 1.23173778 1.23430718 1.23687658\n",
      " 1.23944599 1.24201539 1.24458479 1.24715419 1.2497236  1.252293\n",
      " 1.2548624  1.25743181 1.26000121 1.26257061 1.26514001 1.26770942\n",
      " 1.27027882 1.27284822 1.27541763 1.27798703 1.28055643 1.28312583\n",
      " 1.28569524 1.28826464 1.29083404 1.29340345 1.29597285 1.29854225\n",
      " 1.30111166 1.30368106 1.30625046 1.30881986 1.31138927 1.31395867\n",
      " 1.31652807 1.31909748 1.32166688 1.32423628 1.32680568 1.32937509\n",
      " 1.33194449 1.33451389 1.3370833  1.3396527  1.3422221  1.3447915\n",
      " 1.34736091 1.34993031 1.35249971 1.35506912 1.35763852 1.36020792\n",
      " 1.36277733 1.36534673 1.36791613 1.37048553 1.37305494 1.37562434\n",
      " 1.37819374 1.38076315 1.38333255 1.38590195 1.38847135 1.39104076\n",
      " 1.39361016 1.39617956 1.39874897 1.40131837 1.40388777 1.40645717\n",
      " 1.40902658 1.41159598 1.41416538 1.41673479 1.41930419 1.42187359\n",
      " 1.42444299 1.4270124  1.4295818  1.4321512  1.43472061 1.43729001\n",
      " 1.43985941 1.44242882 1.44499822 1.44756762 1.45013702 1.45270643\n",
      " 1.45527583 1.45784523 1.46041464 1.46298404 1.46555344 1.46812284\n",
      " 1.47069225 1.47326165 1.47583105 1.47840046 1.48096986 1.48353926\n",
      " 1.48610866 1.48867807 1.49124747 1.49381687 1.49638628 1.49895568\n",
      " 1.50152508 1.50409449 1.50666389 1.50923329 1.51180269 1.5143721\n",
      " 1.5169415  1.5195109  1.52208031 1.52464971 1.52721911 1.52978851\n",
      " 1.53235792 1.53492732 1.53749672 1.54006613 1.54263553 1.54520493\n",
      " 1.54777433 1.55034374 1.55291314 1.55548254 1.55805195 1.56062135\n",
      " 1.56319075 1.56576016 1.56832956 1.57089896 1.57346836 1.57603777\n",
      " 1.57860717 1.58117657 1.58374598 1.58631538 1.58888478 1.59145418\n",
      " 1.59402359 1.59659299 1.59916239 1.6017318  1.6043012  1.6068706\n",
      " 1.60944    1.61200941 1.61457881 1.61714821 1.61971762 1.62228702\n",
      " 1.62485642 1.62742582 1.62999523 1.63256463 1.63513403 1.63770344\n",
      " 1.64027284 1.64284224 1.64541165 1.64798105 1.65055045 1.65311985\n",
      " 1.65568926 1.65825866 1.66082806 1.66339747 1.66596687 1.66853627\n",
      " 1.67110567 1.67367508 1.67624448 1.67881388 1.68138329 1.68395269\n",
      " 1.68652209 1.68909149 1.6916609  1.6942303  1.6967997  1.69936911\n",
      " 1.70193851 1.70450791 1.70707732 1.70964672 1.71221612 1.71478552\n",
      " 1.71735493 1.71992433 1.72249373 1.72506314 1.72763254 1.73020194\n",
      " 1.73277134 1.73534075 1.73791015 1.74047955 1.74304896 1.74561836\n",
      " 1.74818776 1.75075716 1.75332657 1.75589597 1.75846537 1.76103478\n",
      " 1.76360418 1.76617358 1.76874299 1.77131239 1.77388179 1.77645119\n",
      " 1.7790206  1.78159    1.7841594  1.78672881 1.78929821 1.79186761\n",
      " 1.79443701 1.79700642 1.79957582 1.80214522 1.80471463 1.80728403\n",
      " 1.80985343 1.81242283 1.81499224 1.81756164 1.82013104 1.82270045\n",
      " 1.82526985 1.82783925 1.83040865 1.83297806 1.83554746 1.83811686\n",
      " 1.84068627 1.84325567 1.84582507 1.84839448 1.85096388 1.85353328\n",
      " 1.85610268 1.85867209 1.86124149 1.86381089 1.8663803  1.8689497\n",
      " 1.8715191  1.8740885  1.87665791 1.87922731 1.88179671 1.88436612\n",
      " 1.88693552 1.88950492 1.89207432 1.89464373 1.89721313 1.89978253\n",
      " 1.90235194 1.90492134 1.90749074 1.91006015 1.91262955 1.91519895\n",
      " 1.91776835 1.92033776 1.92290716 1.92547656 1.92804597 1.93061537\n",
      " 1.93318477 1.93575417 1.93832358 1.94089298 1.94346238 1.94603179\n",
      " 1.94860119 1.95117059 1.95373999 1.9563094  1.9588788  1.9614482\n",
      " 1.96401761 1.96658701 1.96915641 1.97172582 1.97429522 1.97686462\n",
      " 1.97943402 1.98200343 1.98457283 1.98714223 1.98971164 1.99228104\n",
      " 1.99485044 1.99741984 1.99998925 2.00255865 2.00512805 2.00769746\n",
      " 2.01026686 2.01283626 2.01540566 2.01797507 2.02054447 2.02311387\n",
      " 2.02568328 2.02825268 2.03082208 2.03339148 2.03596089 2.03853029\n",
      " 2.04109969 2.0436691  2.0462385  2.0488079  2.05137731 2.05394671\n",
      " 2.05651611 2.05908551 2.06165492 2.06422432 2.06679372 2.06936313\n",
      " 2.07193253 2.07450193 2.07707133 2.07964074 2.08221014 2.08477954\n",
      " 2.08734895 2.08991835 2.09248775 2.09505715 2.09762656 2.10019596\n",
      " 2.10276536 2.10533477 2.10790417 2.11047357 2.11304298 2.11561238\n",
      " 2.11818178 2.12075118 2.12332059 2.12588999 2.12845939 2.1310288\n",
      " 2.1335982  2.1361676  2.138737   2.14130641 2.14387581 2.14644521\n",
      " 2.14901462 2.15158402 2.15415342 2.15672282 2.15929223 2.16186163\n",
      " 2.16443103 2.16700044 2.16956984 2.17213924 2.17470865 2.17727805\n",
      " 2.17984745 2.18241685 2.18498626 2.18755566 2.19012506 2.19269447\n",
      " 2.19526387 2.19783327 2.20040267 2.20297208 2.20554148 2.20811088\n",
      " 2.21068029 2.21324969 2.21581909 2.21838849 2.2209579  2.2235273\n",
      " 2.2260967  2.22866611 2.23123551 2.23380491 2.23637432 2.23894372\n",
      " 2.24151312 2.24408252 2.24665193 2.24922133 2.25179073 2.25436014\n",
      " 2.25692954 2.25949894 2.26206834 2.26463775 2.26720715 2.26977655\n",
      " 2.27234596 2.27491536 2.27748476 2.28005416 2.28262357 2.28519297\n",
      " 2.28776237 2.29033178 2.29290118 2.29547058 2.29803998 2.30060939\n",
      " 2.30317879 2.30574819 2.3083176  2.310887   2.3134564  2.31602581\n",
      " 2.31859521 2.32116461 2.32373401 2.32630342 2.32887282 2.33144222\n",
      " 2.33401163 2.33658103 2.33915043 2.34171983 2.34428924 2.34685864\n",
      " 2.34942804 2.35199745 2.35456685 2.35713625 2.35970565 2.36227506\n",
      " 2.36484446 2.36741386 2.36998327 2.37255267 2.37512207 2.37769148\n",
      " 2.38026088 2.38283028 2.38539968 2.38796909 2.39053849 2.39310789\n",
      " 2.3956773  2.3982467  2.4008161  2.4033855  2.40595491 2.40852431\n",
      " 2.41109371 2.41366312 2.41623252 2.41880192 2.42137132 2.42394073\n",
      " 2.42651013 2.42907953 2.43164894 2.43421834 2.43678774 2.43935715\n",
      " 2.44192655 2.44449595 2.44706535 2.44963476 2.45220416 2.45477356\n",
      " 2.45734297 2.45991237 2.46248177 2.46505117 2.46762058 2.47018998\n",
      " 2.47275938 2.47532879 2.47789819 2.48046759 2.48303699 2.4856064\n",
      " 2.4881758  2.4907452  2.49331461 2.49588401 2.49845341 2.50102281\n",
      " 2.50359222 2.50616162 2.50873102 2.51130043 2.51386983 2.51643923\n",
      " 2.51900864 2.52157804 2.52414744 2.52671684 2.52928625 2.53185565\n",
      " 2.53442505 2.53699446 2.53956386 2.54213326 2.54470266 2.54727207\n",
      " 2.54984147 2.55241087 2.55498028 2.55754968 2.56011908 2.56268848\n",
      " 2.56525789 2.56782729 2.57039669 2.5729661  2.5755355  2.5781049\n",
      " 2.58067431 2.58324371 2.58581311 2.58838251 2.59095192 2.59352132\n",
      " 2.59609072 2.59866013 2.60122953 2.60379893 2.60636833 2.60893774\n",
      " 2.61150714 2.61407654 2.61664595 2.61921535 2.62178475 2.62435415\n",
      " 2.62692356 2.62949296 2.63206236 2.63463177 2.63720117 2.63977057\n",
      " 2.64233998 2.64490938 2.64747878 2.65004818 2.65261759 2.65518699\n",
      " 2.65775639 2.6603258  2.6628952  2.6654646  2.668034   2.67060341\n",
      " 2.67317281 2.67574221 2.67831162 2.68088102 2.68345042 2.68601982\n",
      " 2.68858923 2.69115863 2.69372803 2.69629744 2.69886684 2.70143624\n",
      " 2.70400564 2.70657505 2.70914445 2.71171385 2.71428326 2.71685266\n",
      " 2.71942206 2.72199147 2.72456087 2.72713027 2.72969967 2.73226908\n",
      " 2.73483848 2.73740788 2.73997729 2.74254669 2.74511609 2.74768549\n",
      " 2.7502549  2.7528243  2.7553937  2.75796311 2.76053251 2.76310191\n",
      " 2.76567131 2.76824072 2.77081012 2.77337952 2.77594893 2.77851833\n",
      " 2.78108773 2.78365714 2.78622654 2.78879594 2.79136534 2.79393475\n",
      " 2.79650415 2.79907355 2.80164296 2.80421236 2.80678176 2.80935116\n",
      " 2.81192057 2.81448997 2.81705937 2.81962878 2.82219818 2.82476758\n",
      " 2.82733698 2.82990639 2.83247579 2.83504519 2.8376146  2.840184\n",
      " 2.8427534  2.84532281 2.84789221 2.85046161 2.85303101 2.85560042\n",
      " 2.85816982 2.86073922 2.86330863 2.86587803 2.86844743 2.87101683\n",
      " 2.87358624 2.87615564 2.87872504 2.88129445 2.88386385 2.88643325\n",
      " 2.88900265 2.89157206 2.89414146 2.89671086 2.89928027 2.90184967\n",
      " 2.90441907 2.90698847 2.90955788 2.91212728 2.91469668 2.91726609\n",
      " 2.91983549 2.92240489 2.9249743  2.9275437  2.9301131  2.9326825\n",
      " 2.93525191 2.93782131 2.94039071 2.94296012 2.94552952 2.94809892\n",
      " 2.95066832 2.95323773 2.95580713 2.95837653 2.96094594 2.96351534\n",
      " 2.96608474 2.96865414 2.97122355 2.97379295]\n"
     ]
    }
   ],
   "source": [
    "print(xpl2)\n",
    "print(np.power(xpl2,2))\n",
    "print(xpl)\n"
   ]
  },
  {
   "cell_type": "code",
   "execution_count": 18,
   "metadata": {},
   "outputs": [
    {
     "data": {
      "image/png": "[encoded data removed]",
      "text/plain": [
       "<Figure size 640x480 with 1 Axes>"
      ]
     },
     "metadata": {},
     "output_type": "display_data"
    }
   ],
   "source": [
    "pab = atfk.two_body_momentum(atfi.sqrt(xpl), masses_ab[0], masses_ab[1])\n",
    "q = atfk.two_body_momentum(atfi.sqrt(xpl), md, masses_ab[2])\n",
    "plt.plot(xpl, pab, label='pab')\n",
    "plt.plot(xpl, q, label='q')\n",
    "plt.legend()\n",
    "plt.show()"
   ]
  },
  {
   "cell_type": "code",
   "execution_count": 19,
   "metadata": {},
   "outputs": [
    {
     "data": {
      "text/plain": [
       "<matplotlib.legend.Legend at 0x7f4c040a2d30>"
      ]
     },
     "execution_count": 19,
     "metadata": {},
     "output_type": "execute_result"
    },
    {
     "data": {
      "image/png": "[encoded data removed]",
      "text/plain": [
       "<Figure size 640x480 with 1 Axes>"
      ]
     },
     "metadata": {},
     "output_type": "display_data"
    }
   ],
   "source": [
    "q_lass = atfk.two_body_momentum(atfi.sqrt(xpl), masses_ab[0], masses_ab[1])\n",
    "delta_beta = atfi.atan( 1.0 / ( 1.0 / lass_a / q_lass + 0.5 * lass_r * q_lass ) )\n",
    "cotdb = 1.0 / ( lass_a * q_lass) + 0.5*lass_r*q_lass \n",
    "plt.plot(xpl, delta_beta, label=r'$\\delta_{\\beta}$')\n",
    "plt.plot(xpl, cotdb, label=r'$cot\\delta_{\\beta}$')\n",
    "#plt.plot(xpl, 1./cotdb, label=r'$tan\\delta_{\\beta}$')\n",
    "plt.legend()"
   ]
  },
  {
   "cell_type": "code",
   "execution_count": 20,
   "metadata": {},
   "outputs": [
    {
     "data": {
      "text/plain": [
       "[<matplotlib.lines.Line2D at 0x7f4c04131700>]"
      ]
     },
     "execution_count": 20,
     "metadata": {},
     "output_type": "execute_result"
    },
    {
     "data": {
      "image/png": "[encoded data removed]",
      "text/plain": [
       "<Figure size 640x480 with 1 Axes>"
      ]
     },
     "metadata": {},
     "output_type": "display_data"
    }
   ],
   "source": [
    "plt.plot(xpl, atfd.density(atfi.complex( q_lass * cotdb, q_lass ) / atfi.complex( q_lass * cotdb, -q_lass )))"
   ]
  },
  {
   "cell_type": "code",
   "execution_count": 21,
   "metadata": {},
   "outputs": [
    {
     "data": {
      "text/plain": [
       "[<matplotlib.lines.Line2D at 0x7f4bfc7c3fd0>]"
      ]
     },
     "execution_count": 21,
     "metadata": {},
     "output_type": "execute_result"
    },
    {
     "data": {
      "image/png": "[encoded data removed]",
      "text/plain": [
       "<Figure size 640x480 with 1 Axes>"
      ]
     },
     "metadata": {},
     "output_type": "display_data"
    }
   ],
   "source": [
    "\n",
    "res = atfd.resonant_lass_lineshape(xpl, lass_M, lass_G, lass_a, lass_r, md, masses_ab[2])\n",
    "lass = atfi.cast_complex(lass_R) * atfi.complex( atfi.cos(lass_phiR), atfi.sin(lass_phiR) ) * \\\n",
    "             atfi.complex( q_lass * cotdb, q_lass ) / atfi.complex( q_lass * cotdb, -q_lass ) * res\n",
    "plt.plot(xpl, atfd.density(lass))"
   ]
  },
  {
   "cell_type": "code",
   "execution_count": 22,
   "metadata": {},
   "outputs": [
    {
     "data": {
      "text/plain": [
       "[<matplotlib.lines.Line2D at 0x7f4bfc743520>]"
      ]
     },
     "execution_count": 22,
     "metadata": {},
     "output_type": "execute_result"
    },
    {
     "data": {
      "image/png": "[encoded data removed]",
      "text/plain": [
       "<Figure size 640x480 with 1 Axes>"
      ]
     },
     "metadata": {},
     "output_type": "display_data"
    }
   ],
   "source": [
    "def LASS(m2ab, a, r, m0, gamma0, ma, mb, amp_res, amp_nr, phase_res, phase_nr, cutOff=0):\n",
    "    q0 = atfk.two_body_momentum(m0, ma, mb)\n",
    "    q = atfk.two_body_momentum(atfi.sqrt(m2ab), ma, mb)\n",
    "    cot_delta_beta = atfi.const(1.0) / a / q + atfi.const(0.5) * r * q\n",
    "    nr  = atfd.nonresonant_lass_lineshape(m2ab, a, r, ma, mb)\n",
    "    res = atfd.resonant_lass_lineshape(m2ab, m0, gamma0, a, r, ma, mb)\n",
    "    lass = atfi.cast_complex(amp_res) * atfi.complex( atfi.cos(phase_res), atfi.sin(phase_res) ) * \\\n",
    "             atfi.complex( q * cot_delta_beta, q ) / atfi.complex( q * cot_delta_beta, -q ) * res\n",
    "    lass += atfi.cast_complex(amp_nr) * atfi.complex( atfi.cos(phase_nr), atfi.sin(phase_nr) ) * \\\n",
    "            atfi.cast_complex( atfi.cos(phase_nr) + atfi.sin(phase_nr) * cot_delta_beta ) * nr\n",
    "    # lass += atfi.where( m2ab>cutOff,\n",
    "    #             atfi.cast_complex(amp_nr) * atfi.complex( atfi.cos(phase_nr), atfi.sin(phase_nr) ) * \\\n",
    "    #            atfi.cast_complex( atfi.cos(phase_nr) + atfi.sin(phase_nr) * cot_delta_beta ) * nr,\n",
    "    #                atfi.cast_complex(0.0))  # Default value if condition is false\n",
    "    return lass\n",
    "plt.plot(xpl, atfd.density(atfd.resonant_lass_lineshape(xpl, lass_M, lass_G, lass_a, lass_r, md, masses_ab[2])))\n",
    "plt.plot(xpl, atfd.density(LASS( xpl, lass_a, lass_r, lass_M, lass_G, md, masses_ab[2], lass_R, lass_F, lass_phiR, lass_phiF, 0.5)))"
   ]
  },
  {
   "cell_type": "code",
   "execution_count": 23,
   "metadata": {},
   "outputs": [
    {
     "data": {
      "text/plain": [
       "[<matplotlib.lines.Line2D at 0x7f4bfc738ac0>]"
      ]
     },
     "execution_count": 23,
     "metadata": {},
     "output_type": "execute_result"
    },
    {
     "data": {
      "image/png": "[encoded data removed]",
      "text/plain": [
       "<Figure size 640x480 with 1 Axes>"
      ]
     },
     "metadata": {},
     "output_type": "display_data"
    }
   ],
   "source": [
    "plt.plot(xpl, atfi.cos(lass_phiF) + atfi.sin(lass_phiF) / atfi.tan(delta_beta) )\n",
    "plt.plot(xpl, atfi.cos(lass_phiF) + atfi.sin(lass_phiF) / (1.0 / ( 1.0 / lass_a / pab + 0.5 * lass_r * pab )  ))\n"
   ]
  },
  {
   "cell_type": "markdown",
   "metadata": {},
   "source": [
    "Problem is due to this divergence at low masses!"
   ]
  },
  {
   "cell_type": "markdown",
   "metadata": {},
   "source": [
    "## Laura++ Model\n",
    "\n",
    "Laura++ model seems the same as what AmpliTF uses, let's try to code it here in any case:\n",
    "\n",
    "$$\n",
    "T(m) = \\frac{m}{q\\cot\\delta_b - iq}+ e^{i\\delta_b}\\frac{m_0\\Gamma_0\\frac{m_0}{q_0}}{m_0^2 - m^2 -i m_0\\Gamma_0 \\frac{q}{m}\\frac{m_0}{q_0}}\n",
    "$$\n",
    "\n",
    "with\n",
    "\n",
    "$$\n",
    "\\cot\\delta_b = \\frac{1}{aq} + \\frac{rq}{2}\n",
    "$$"
   ]
  },
  {
   "cell_type": "code",
   "execution_count": 24,
   "metadata": {},
   "outputs": [],
   "source": [
    "@atfi.function\n",
    "def LauraLASS(m, md, mc, a, r, m0, g0):\n",
    "    q0 = atfk.two_body_momentum(md, m0, mc)\n",
    "    q = atfk.two_body_momentum(md, m, mc)\n",
    "    cot_delta_beta = atfi.const(1.0) / a / q + atfi.const(0.5) * r * q\n",
    "    delta_beta = atfi.atan(1.0 / cot_delta_beta)\n",
    "    Tm = atfi.cast_complex(m) / atfi.complex(q * cot_delta_beta, -q)\n",
    "    Tm+= atfi.complex(atfi.cos(delta_beta), atfi.sin(delta_beta)) * \\\n",
    "         atfi.cast_complex(m0 * g0 * m0 / q0) * \\\n",
    "         tf.math.reciprocal(atfi.complex(m0*m0 - m*m, - m0 * g0 * q / m * m0 / q0 ))\n",
    "    return Tm"
   ]
  },
  {
   "cell_type": "markdown",
   "metadata": {},
   "source": [
    "B->etacKπ parameters"
   ]
  },
  {
   "cell_type": "code",
   "execution_count": 25,
   "metadata": {},
   "outputs": [],
   "source": [
    "r = atfi.const(2.07)\n",
    "a = atfi.const(3.32)\n",
    "mkzst_1430 = atfi.const(1.425)\n",
    "gkzst_1430 = atfi.const(0.270)"
   ]
  },
  {
   "cell_type": "code",
   "execution_count": 26,
   "metadata": {},
   "outputs": [
    {
     "data": {
      "text/plain": [
       "[<matplotlib.lines.Line2D at 0x7f4bfc6b8370>]"
      ]
     },
     "execution_count": 26,
     "metadata": {},
     "output_type": "execute_result"
    },
    {
     "data": {
      "image/png": "[encoded data removed]",
      "text/plain": [
       "<Figure size 640x480 with 1 Axes>"
      ]
     },
     "metadata": {},
     "output_type": "display_data"
    }
   ],
   "source": [
    "mb = 5.28\n",
    "metac = 2.99\n",
    "xpl = np.linspace(0.6,mb-metac,1000)\n",
    "LLass = atfd.density(LauraLASS(xpl, mb, metac, a, r, mkzst_1430, gkzst_1430))\n",
    "is_nan = np.isnan(LLass)\n",
    "LLass_int = trapezoid(LLass[~is_nan], xpl[~is_nan])\n",
    "plt.plot(xpl[~is_nan], LLass[~is_nan]/LLass_int)"
   ]
  },
  {
   "cell_type": "code",
   "execution_count": 27,
   "metadata": {},
   "outputs": [
    {
     "data": {
      "text/plain": [
       "[<matplotlib.lines.Line2D at 0x7f4bfc5baa00>]"
      ]
     },
     "execution_count": 27,
     "metadata": {},
     "output_type": "execute_result"
    },
    {
     "data": {
      "image/png": "[encoded data removed]",
      "text/plain": [
       "<Figure size 640x480 with 1 Axes>"
      ]
     },
     "metadata": {},
     "output_type": "display_data"
    }
   ],
   "source": [
    "md = 1.864\n",
    "mpi = 0.13957\n",
    "mkz = 0.497611\n",
    "xpl = np.linspace(mkz+mpi,md-mpi,1000)\n",
    "LLass = atfd.density(LauraLASS(xpl, md, mpi, a, r, mkzst_1430, gkzst_1430))\n",
    "is_nan = np.isnan(LLass)\n",
    "LLass_int = trapezoid(LLass[~is_nan], xpl[~is_nan])\n",
    "plt.plot(xpl[~is_nan], LLass[~is_nan]/LLass_int)"
   ]
  },
  {
   "cell_type": "code",
   "execution_count": 28,
   "metadata": {},
   "outputs": [],
   "source": [
    "@atfi.function\n",
    "def my_relativistic_breit_wigner(m2, mres, wres):\n",
    "    if wres.dtype is atfi.ctype():\n",
    "        return tf.math.reciprocal(\n",
    "            atfi.cast_complex(mres * mres - m2)\n",
    "            - atfi.complex(atfi.const(0.0), mres) * wres\n",
    "        )\n",
    "    if wres.dtype is atfi.fptype():\n",
    "        return tf.math.reciprocal(atfi.complex(mres * mres - m2, -mres * wres))\n",
    "    return None\n",
    "\n",
    "@atfi.function\n",
    "def my_resonant_lass_lineshape(m2, m0, gamma0, a, r, md, mc):\n",
    "    m = atfi.sqrt(m2)\n",
    "    q = atfk.two_body_momentum(md, m, mc)\n",
    "    q0 = atfk.two_body_momentum(md, m0, mc)\n",
    "    cot_deltab = atfi.const(1.0) / a / q + atfi.const(0.5) * r * q\n",
    "    phase = atfi.atan(1.0 / cot_deltab)\n",
    "    cot_delta_beta = atfi.const(1.0) / a / q + atfi.const(0.5) * r * q\n",
    "    delta_beta = atfi.atan(1.0 / cot_delta_beta)\n",
    "    width = gamma0 * q / m * m0 / q0\n",
    "    ampl = (tf.math.reciprocal(atfi.complex(m0*m0 - m2, - m0 * gamma0 * q / m * m0 / q0 )) * #my_relativistic_breit_wigner(m2, m0, width) *\n",
    "            atfi.complex(atfi.cos(phase), atfi.sin(phase)) *\n",
    "            atfi.cast_complex(m0* m0 * gamma0 / q0))\n",
    "    return ampl\n",
    "\n",
    "@atfi.function\n",
    "def LauraLASSatfd(m, md, mc, a, r, m0, g0):\n",
    "    m2 = atfi.pow(m,2)\n",
    "    q0 = atfk.two_body_momentum(md, m0, mc)\n",
    "    q = atfk.two_body_momentum(md, m, mc)\n",
    "    cot_delta_beta = atfi.const(1.0) / a / q + atfi.const(0.5) * r * q\n",
    "    delta_beta = atfi.atan(1.0 / cot_delta_beta)\n",
    "    Tm = atfd.nonresonant_lass_lineshape(m2, a, r, md, mc)\n",
    "    #Tm = atfi.cast_complex(m) / atfi.complex(q * cot_delta_beta, -q)\n",
    "    # Tm+= atfi.complex(atfi.cos(delta_beta), atfi.sin(delta_beta)) * \\\n",
    "    #      atfi.cast_complex(m0 * g0 * m0 / q0) * \\\n",
    "    #      tf.math.reciprocal(atfi.complex(m0*m0 - m2, - m0 * g0 * q / m * m0 / q0 ))\n",
    "\n",
    "    # width = gamma0 * q / m * m0 / q0\n",
    "    # ampl = (relativistic_breit_wigner(m2ab, m0, width) *\n",
    "    #         atfi.complex(atfi.cos(phase), atfi.sin(phase)) *\n",
    "    #         atfi.cast_complex(m2ab * gamma0 / q0))\n",
    "    # tf.math.reciprocal(atfi.complex(mres * mres - m2, -mres * wres))\n",
    "\n",
    "\n",
    "    Tm+=  atfd.resonant_lass_lineshape(m2, m0, g0, a, r, md, mc)\n",
    "    return Tm"
   ]
  },
  {
   "cell_type": "code",
   "execution_count": 29,
   "metadata": {},
   "outputs": [
    {
     "data": {
      "text/plain": [
       "[<matplotlib.lines.Line2D at 0x7f4bfc54b250>]"
      ]
     },
     "execution_count": 29,
     "metadata": {},
     "output_type": "execute_result"
    },
    {
     "data": {
      "image/png": "[encoded data removed]",
      "text/plain": [
       "<Figure size 640x480 with 1 Axes>"
      ]
     },
     "metadata": {},
     "output_type": "display_data"
    }
   ],
   "source": [
    "md = atfi.const(1.864)\n",
    "mpi = atfi.const(0.13957)\n",
    "mkz = atfi.const(0.497611)\n",
    "xpl = np.linspace(mkz+mpi,md-mpi,1000)\n",
    "LLass = atfd.density(LauraLASS(xpl, md, mpi, a, r, mkzst_1430, gkzst_1430))\n",
    "is_nan = np.isnan(LLass)\n",
    "LLass_int = trapezoid(LLass[~is_nan], xpl[~is_nan])\n",
    "plt.plot(xpl[~is_nan], LLass[~is_nan]/LLass_int)\n",
    "LLassA = atfd.density(LauraLASSatfd(xpl, md, mpi, a, r, mkzst_1430, gkzst_1430))\n",
    "LLass_int = trapezoid(LLassA[~is_nan], xpl[~is_nan])\n",
    "plt.plot(xpl[~is_nan], LLassA[~is_nan]/LLass_int)"
   ]
  },
  {
   "cell_type": "markdown",
   "metadata": {},
   "source": [
    "## K-Matrix\n",
    "\n",
    "$$\n",
    "K_{ij}(m) = f(m) \\left( \\sum_{\\alpha} \\frac{g_{\\alpha i}g_{\\alpha j}}{m_{\\alpha}^2-m^2} + f_{ij}^{\\text{scat}} \\frac{1 GeV^2 - s_0^{\\text{scat}}}{m^2 - s_0^{\\text{scat}}} \\right)\n",
    "$$\n",
    "\n",
    "Poles:\n",
    "\n",
    "| $\\alpha$ | Name | Mass (MeV) |\n",
    "|----------|------|------------|\n",
    "| 0        | $f_0(980)$ |  651 |\n",
    "| 1        | $f_0(1300)$ |  1203.6 |\n",
    "| 2        | $f_0(1500)$ |  1558.17 |\n",
    "| 3        | $f_0(1200-1600)$ |  1210 |\n",
    "| 4        | $f_0(1750)$ |  1822.06 |\n",
    "\n",
    "Channels:\n",
    "\n",
    "| $i,j$ | Particles |\n",
    "|--------|-----------|\n",
    "| 0    | $\\pi\\pi$ |\n",
    "| 1    | $KK$ |\n",
    "| 2    | $\\pi\\pi\\pi\\pi$ |\n",
    "| 3    | $\\eta\\eta$ |\n",
    "| 4    | $\\eta\\eta^{\\prime}$ |"
   ]
  },
  {
   "cell_type": "code",
   "execution_count": 50,
   "metadata": {},
   "outputs": [],
   "source": [
    "@atfi.function\n",
    "def AdlerZero(m2, ma, sA0 = atfi.const(-0.15), sA = atfi.const(1.0)):\n",
    "    r\"\"\"Suppress the non-physical singularity below the ππ threshold (Adler zero)\n",
    "\n",
    "    .. math::\n",
    "\n",
    "        f(m) = \\frac{1 GeV^2 - s_{A0}}{m^2 - s_{A0}} \\left(m^2 - s_A\\frac{m^2_{\\pi}}{2} \\right)\n",
    "\n",
    "    Args:\n",
    "        m (float): invariant mass squared of the system\n",
    "        ma (float): pion mass\n",
    "        sA0 (float, optional): _description_. Defaults to atfi.const(-0.15).\n",
    "        sA (float, optional): _description_. Defaults to atfi.const(1.0).\n",
    "\n",
    "    Returns:\n",
    "        float: suppression factor\n",
    "    \"\"\"\n",
    "    azero = ( atfi.const(1.0) - sA0 ) / (m2 - sA0) * \\\n",
    "        (m2 - atfi.const(0.5) * sA * ma * ma)\n",
    "    return azero\n",
    "\n",
    "@atfi.function\n",
    "def KM_res(m2, m_poles, g_poles):\n",
    "    r\"\"\"\n",
    "    Calculates the sum of resonances: \n",
    "    \n",
    "    .. math::\n",
    "        \n",
    "        \\sum_{\\alpha} \\frac{g_{\\alpha i}g_{\\alpha j}}{m_{\\alpha}^2-m^2}$\n",
    "\n",
    "    Args:\n",
    "        m2: squared mass of the system (:math:`m^2`)\n",
    "        m_poles (Tensor): array of pole masses (:math:`m_{\\alpha}`)\n",
    "        g_poles (Tensor): coupling constants (:math:`g_{\\alpha i}`)\n",
    "\n",
    "    Returns:\n",
    "        Tensor: result of the sum for each pair of poles\n",
    "    \"\"\"\n",
    "    m2 = tf.convert_to_tensor(m2, dtype=m_poles.dtype)\n",
    "    # If m2 is scalar, expand it to shape [1]\n",
    "    m2 = tf.reshape(m2, [-1])\n",
    "    denominators = atfi.pow(m_poles,2) - tf.expand_dims(m2, axis=-1)  # add one dimension for broadcasting\n",
    "    numerators = tf.einsum('ai,aj->aij', g_poles, g_poles)\n",
    "    inv_denominators = tf.math.reciprocal(denominators)\n",
    "    result = tf.einsum('ka,aij->kij',inv_denominators, numerators )\n",
    "    return result\n",
    "\n",
    "@atfi.function\n",
    "def KM_nonres(m2, s0, fij):\n",
    "    r\"\"\"\n",
    "    Calculates the non-resonant part of the K-Matrix amplitude:\n",
    "    \n",
    "    .. math::\n",
    "\n",
    "        f_{ij}^{\\text{scat}} \\frac{1 GeV^2 - s_0^{\\text{scat}}}{m^2 - s_0^{\\text{scat}}}\n",
    "    \n",
    "    Args:\n",
    "        m2: squared mass of the system (:math:`m^2`)\n",
    "        s0 (float): scattering parameter (:math:`s_0^{scat}`)\n",
    "        fij (Tensor): non resonant coupling constants (:math:`f_{ij}`)\n",
    "\n",
    "    Returns:\n",
    "        Tensor: result of the sum for each pair of poles    \n",
    "    \"\"\"\n",
    "    sfactor = (atfi.const(1.0) - s0) / (m2 - s0)\n",
    "    result = tf.einsum('k,ij->kij', sfactor, fij)\n",
    "    return result\n",
    "\n",
    "@atfi.function\n",
    "def KM_phsp_twobody(m2, ma, mb):\n",
    "    r\"\"\"Calculates the phase space factor for the K-matrix in the case of two-body pole\n",
    "\n",
    "    .. math::\n",
    "        \\sqrt{1 - \\frac{(m_a + m_b)^2}{m^2}}\n",
    "\n",
    "    Args:\n",
    "        m2 (float): the invariant mass squared of the system\n",
    "        ma (float): the mass of particle a\n",
    "        mb (float): the mass of particle b\n",
    "\n",
    "    Returns:\n",
    "        complex: the phase space factor\n",
    "    \"\"\"\n",
    "    result = atfi.sqrt( atfi.cast_complex((atfi.const(1.0) - atfi.pow(ma+mb,2)/m2) * (atfi.const(1.0) - atfi.pow(ma-mb,2)/m2)) )\n",
    "    return result\n",
    "\n",
    "@atfi.function\n",
    "def KM_phsp_fourbody(m2, ma):\n",
    "    r\"\"\"Calculates the phase space factor for the K-matrix in the case of two-body pole\n",
    "\n",
    "    .. math::\n",
    "\n",
    "        \\rho(m) = \\begin{cases}\n",
    "                \\sqrt{\\frac{m^2-(4m_a^2)}{m^2}}, & \\text{if }m\\greq 1 GeV \\\\\n",
    "                0.0005-0.0193m^2+0.1385m^4-0.2084m^6-0.2974m^8+0.1366m^{10}+1.0789m^{12} & \\text{if }m<1 GeV\n",
    "                \\end{cases}\n",
    "\n",
    "    where the second case is an approximation of the phase space factor for 4-body decays:\n",
    "\n",
    "    .. math::\n",
    "\n",
    "        \\rho(m) = \\rho_0\\int\\frac{dm_1^2}{\\pi}\\int\\frac{dm_2^2}{\\pi}\\frac{M_0^2 \\Gamma(m_1)\\Gamma(m_2)\\sqrt{(m^2+m_1^2-m_2^2)^2-4m^2m_1^2}}{m^2[(M_0^2-m_1^2)^2 + M_0^2\\Gamma^2(m_1)][(M_0^2-m_2^2)^2 + M_0^2\\Gamma^2(m_2)]}\n",
    "\n",
    "    Args:\n",
    "        m2 (float): the invariant mass squared of the system\n",
    "        ma (float): the mass of particle a\n",
    "        mb (float): the mass of particle b\n",
    "\n",
    "    Returns:\n",
    "        complex: the phase space factor\n",
    "    \"\"\"\n",
    "    result = tf.where(m2>1, atfi.sqrt( atfi.cast_complex((m2 - 16*ma*ma)/m2) ), \n",
    "                      atfi.cast_complex(0.0005- 0.0193*m2 + 0.1385*m2*m2 - 0.2084*m2*m2*m2 - \\\n",
    "                      0.2974*m2*m2*m2*m2 + 0.1366*m2*m2*m2*m2*m2 + 1.0789*m2*m2*m2*m2*m2*m2) )\n",
    "    return result\n",
    "\n",
    "@atfi.function\n",
    "def KM_phsp(m2, masses):\n",
    "    r\"\"\"Calculates the phase space factor for the K-matrix\n",
    "\n",
    "    .. math::\n",
    "\n",
    "        \\sqrt{1 - \\frac{(m_a + m_b)^2}{m^2}} \\text{ or } \\sqrt{1 - \\frac{(m_a + m_b)^2}{m^2}} \\text{ for 4-body decay}\n",
    "\n",
    "    Args:\n",
    "        m2 (float): invariant mass squared of the system\n",
    "        masses (array): array of masses of the particles in the final state\n",
    "\n",
    "    Returns:\n",
    "        float: phase space factor\n",
    "    \"\"\"\n",
    "    km_phsp = tf.stack([\n",
    "        KM_phsp_twobody(m2, masses[0][0], masses[0][1]),\n",
    "        KM_phsp_twobody(m2, masses[1][0], masses[1][1]),\n",
    "        KM_phsp_twobody(m2, masses[2][0], masses[2][1]),\n",
    "        KM_phsp_twobody(m2, masses[3][0], masses[3][1]),\n",
    "        KM_phsp_fourbody(m2, masses[4][0])\n",
    "    ], axis=1)\n",
    "    return km_phsp\n",
    "\n",
    "@atfi.function\n",
    "def KM_Pvec_res(m2, m_poles, g_poles, b_poles):\n",
    "    r\"\"\"Calculates the resonant part of the production vector\n",
    "\n",
    "    .. math::\n",
    "\n",
    "        \\sum_{\\alpha} \\frac{\\beta_{\\alpha}g_{\\alpha j}}{m_{\\alpha}^2-m^2}$\n",
    "\n",
    "    Args:\n",
    "        m2 (float): invariant mass squared of the system\n",
    "        m_poles (array): array of pole masses\n",
    "        g_poles (array): matrix of coupling constants\n",
    "        b_poles (array): array of production strength of the poles\n",
    "\n",
    "    Returns:\n",
    "        array: result of the sum of each poles\n",
    "    \"\"\"\n",
    "    denominators = atfi.pow(m_poles,2) - tf.expand_dims(m2, axis=-1)  # add one dimension for broadcasting\n",
    "    #numerators = tf.einsum('a,ai->ai', b_poles, g_poles)\n",
    "    inv_denominators = tf.einsum('ka,a->ka', atfi.cast_complex(tf.math.reciprocal(denominators)), b_poles)\n",
    "    result = tf.einsum('ka,ai->ki',inv_denominators, atfi.cast_complex(g_poles) )\n",
    "    return result\n",
    "\n",
    "@atfi.function\n",
    "def KM_Pvec_nonres(m2, s0, fi):\n",
    "    r\"\"\"Calculates the resonant part of the production vector\n",
    "\n",
    "    .. math::\n",
    "\n",
    "        f_{i}^{\\text{prod}} \\frac{1 GeV^2 - s_0^{\\text{prod}}}{m^2 - s_0^{\\text{prod}}}\n",
    "\n",
    "    Args:\n",
    "        m2 (float): invariant mass squared of the system\n",
    "        s0 (float): scattering parameter for production vector (:math:`s_0^{prod}`)\n",
    "        fi (Tensor): non resonant coupling constants for production vector (:math:`f_{i}`)\n",
    "\n",
    "    Returns:\n",
    "        array: result of the sum of each poles\n",
    "    \"\"\"\n",
    "    sfactor = (atfi.const(1.0) - s0) / (m2 - s0)\n",
    "    result = tf.einsum('k,i->ki', atfi.cast_complex(sfactor), fi)\n",
    "    return result\n",
    "\n",
    "@atfi.function\n",
    "def KM(m2, m_poles, g_poles, s0, fij, b_poles, s0_prod, fi_prod, masses_poles, mth):\n",
    "    r\"\"\"Calculates the K-matrix amplitude\n",
    "\n",
    "    .. math::\n",
    "\n",
    "        F_l = \\sum_j \\left( I - i K \\rho\\right)^{-1}_{lj} P_j\n",
    "\n",
    "    where _I_ is the identity matrix, _K_ is the K-matrix amplitude, _P_ is the production vector and _rho_ is the phase space factor.\n",
    "    Citation:\n",
    "        - `I. J. R. Atchinson, Nucl.Phys.A 189 (1972) 417-423<https://doi.org/10.1016/0375-9474(72)90305-3>`_\n",
    "        - `S. U. Chung et al., Annalen der Physik 507 (1995) 404<https://doi.org/10.1002/andp.19955070504>`_\n",
    "        - `V. V. Anisovich and A. V. Sarantsev, Eur. Phys. J. A16 (2003) 229<https://arxiv.org/abs/hep-ph/0204328>`_\n",
    "\n",
    "    Args:\n",
    "        m2 (array): tensor of invariant mass squared of the system\n",
    "        m_poles (array): array of the pole masses\n",
    "        g_poles (array): array of the pole couplings\n",
    "        s0 (float): scattering parameter (:math:`s_0^{scat}`)\n",
    "        fij (array): non resonant coupling constants (:math:`f_{ij}`)\n",
    "        b_poles (array): array of production strength of the poles\n",
    "        s0_prod (float): scattering parameter for production vector (:math:`s_0^{prod}`)\n",
    "        fi_prod (array): non resonant coupling constants for production vector (:math:`f_{i}`)\n",
    "        masses_poles (array): array of masses of the particles in the final state\n",
    "        mth (float): threshold value for the phase space factor\n",
    "\n",
    "    Returns:\n",
    "        array: array of the K-matrix amplitude for each pion channel\n",
    "    \"\"\"\n",
    "    # K-matrix\n",
    "    km = KM_res(m2, m_poles, g_poles) + KM_nonres(m2, s0, fij)\n",
    "    km = tf.einsum( 'k,kij->kij', AdlerZero(m2, mth), km )\n",
    "    # Production vector\n",
    "    km_pvec = KM_Pvec_res(m2, m_poles, g_poles, b_poles) + KM_Pvec_nonres(m2, s0_prod, fi_prod)\n",
    "    # Create the identity matrix of shape (5, 5)\n",
    "    identity = tf.eye(5, dtype=atfi.ctype())\n",
    "    # Compute the operation I - i * rho * KM\n",
    "    km_phsp = tf.einsum('ki,ij->kij',KM_phsp(m2, masses_poles ), identity)\n",
    "    result = tf.linalg.inv( identity - atfi.cast_complex(atfi.complex(0.0, 1.0)) * \\\n",
    "                           tf.einsum('kij,kij->kij', km_phsp, atfi.cast_complex(km)) )\n",
    "    result = tf.einsum('kij,kj->ki', result, km_pvec)\n",
    "    return result\n"
   ]
  },
  {
   "cell_type": "markdown",
   "metadata": {},
   "source": [
    "### Test individual components"
   ]
  },
  {
   "cell_type": "code",
   "execution_count": 51,
   "metadata": {},
   "outputs": [],
   "source": [
    "meta = atfi.const(lp.eta.mass/1000.)\n",
    "metap = atfi.const(lp.etap_958.mass/1000.)"
   ]
  },
  {
   "cell_type": "code",
   "execution_count": null,
   "metadata": {},
   "outputs": [],
   "source": [
    "m_poles = atfi.const([0.651, 1.2036, 1.55817, 1.21, 1.82206]) # GeV\n",
    "g_poles = atfi.const([ [ 0.22889, -0.55377,  0.00000, -0.39899, -0.34639],\n",
    "                       [ 0.94128,  0.55095,  0.00000,  0.39065,  0.31503],\n",
    "                       [ 0.36856,  0.23888,  0.55639,  0.18340,  0.18681],\n",
    "                       [ 0.33650,  0.40907,  0.85679,  0.19906, -0.00984],\n",
    "                       [ 0.18171, -0.17558, -0.79658, -0.00355,  0.22358] ]) # GeV\n",
    "fij = atfi.const([ [  0.23399,  0.15044, -0.20545,  0.32825,  0.35412],\n",
    "                   [  0.15044, 0, 0, 0, 0],\n",
    "                   [ -0.20545, 0, 0, 0, 0],\n",
    "                   [  0.32825, 0, 0, 0, 0],\n",
    "                   [  0.35412, 0, 0, 0, 0]])\n",
    "s0=atfi.const(-3.92637)\n",
    "b_poles = atfi.complex_from_polar([4.23, 10.90, 37.4, 14.7, 0.0],[164.0, 15.6, 3.3, -8.9, 0.0])\n",
    "fi_prod = atfi.complex(atfi.const([-4.724094278696236, -23.289333360304212, -1.860311896516422, -13.638752211193912, 0.0]), \n",
    "                       atfi.const([-6.511009103363590, -12.215597571354197, -32.982507366353126, -22.339804683783186, 0.0]))\n",
    "s0_prod = atfi.const( -0.070000000000000)"
   ]
  },
  {
   "cell_type": "code",
   "execution_count": 53,
   "metadata": {},
   "outputs": [],
   "source": [
    "xplsq = np.linspace(masses_ac[0]+masses_ac[1], md-masses_ac[2], 1000)"
   ]
  },
  {
   "cell_type": "code",
   "execution_count": 54,
   "metadata": {},
   "outputs": [
    {
     "data": {
      "text/plain": [
       "TensorShape([1, 5, 5])"
      ]
     },
     "execution_count": 54,
     "metadata": {},
     "output_type": "execute_result"
    }
   ],
   "source": [
    "KM_res(0.77, m_poles, g_poles).shape"
   ]
  },
  {
   "cell_type": "code",
   "execution_count": 55,
   "metadata": {},
   "outputs": [
    {
     "data": {
      "text/plain": [
       "TensorShape([1000, 5, 5])"
      ]
     },
     "execution_count": 55,
     "metadata": {},
     "output_type": "execute_result"
    }
   ],
   "source": [
    "KM_nonres(xplsq, s0, fij).shape"
   ]
  },
  {
   "cell_type": "code",
   "execution_count": 56,
   "metadata": {},
   "outputs": [
    {
     "name": "stdout",
     "output_type": "stream",
     "text": [
      "(1000, 5, 5)\n"
     ]
    }
   ],
   "source": [
    "km = tf.einsum( 'k,kij->kij', AdlerZero(xplsq, mpi), (KM_res(xplsq, m_poles, g_poles) + KM_nonres(xplsq, s0, fij)) )\n",
    "print(km.shape)"
   ]
  },
  {
   "cell_type": "code",
   "execution_count": 57,
   "metadata": {},
   "outputs": [
    {
     "name": "stdout",
     "output_type": "stream",
     "text": [
      "(1000, 5, 5)\n"
     ]
    },
    {
     "data": {
      "image/png": "[encoded data removed]",
      "text/plain": [
       "<Figure size 640x480 with 1 Axes>"
      ]
     },
     "metadata": {},
     "output_type": "display_data"
    }
   ],
   "source": [
    "masses = [[mpi,mpi], [mkz, mkz], [meta, meta], [meta, metap], [mpi]]\n",
    "km_phsp = KM_phsp(xplsq, masses )\n",
    "#print(km_phsp)\n",
    "plt.plot(xplsq, atfi.real(km_phsp[:, 0]), label='ππ')\n",
    "plt.plot(xplsq, atfi.real(km_phsp[:, 1]), label='KK')\n",
    "plt.plot(xplsq, atfi.real(km_phsp[:, 2]), label=r'$\\eta\\eta$')\n",
    "plt.plot(xplsq, atfi.real(km_phsp[:, 3]), label=r'$\\eta\\eta^\\prime$')\n",
    "plt.plot(xplsq, atfi.real(km_phsp[:, 4]), label=r'$4\\pi$')\n",
    "plt.legend()\n",
    "print(tf.einsum('ki,ij->kij',km_phsp , tf.eye(5, dtype=atfi.ctype())).shape)"
   ]
  },
  {
   "cell_type": "code",
   "execution_count": 58,
   "metadata": {},
   "outputs": [
    {
     "data": {
      "text/plain": [
       "[[<tf.Tensor: shape=(), dtype=float64, numpy=0.13957>,\n",
       "  <tf.Tensor: shape=(), dtype=float64, numpy=0.13957>],\n",
       " [<tf.Tensor: shape=(), dtype=float64, numpy=0.497611>,\n",
       "  <tf.Tensor: shape=(), dtype=float64, numpy=0.497611>],\n",
       " [<tf.Tensor: shape=(), dtype=float64, numpy=0.547862>,\n",
       "  <tf.Tensor: shape=(), dtype=float64, numpy=0.547862>],\n",
       " [<tf.Tensor: shape=(), dtype=float64, numpy=0.547862>,\n",
       "  <tf.Tensor: shape=(), dtype=float64, numpy=0.95778>],\n",
       " [<tf.Tensor: shape=(), dtype=float64, numpy=0.13957>]]"
      ]
     },
     "execution_count": 58,
     "metadata": {},
     "output_type": "execute_result"
    }
   ],
   "source": [
    "masses"
   ]
  },
  {
   "cell_type": "code",
   "execution_count": 59,
   "metadata": {},
   "outputs": [
    {
     "data": {
      "text/plain": [
       "TensorShape([1000, 5])"
      ]
     },
     "execution_count": 59,
     "metadata": {},
     "output_type": "execute_result"
    }
   ],
   "source": [
    "KM_Pvec_res(xplsq, m_poles, g_poles, b_poles).shape"
   ]
  },
  {
   "cell_type": "code",
   "execution_count": 60,
   "metadata": {},
   "outputs": [
    {
     "data": {
      "text/plain": [
       "TensorShape([1000, 5])"
      ]
     },
     "execution_count": 60,
     "metadata": {},
     "output_type": "execute_result"
    }
   ],
   "source": [
    "KM_Pvec_nonres(xplsq, s0_prod, fi_prod).shape"
   ]
  },
  {
   "cell_type": "code",
   "execution_count": 61,
   "metadata": {},
   "outputs": [],
   "source": [
    "KM_Pvec = KM_Pvec_res(xplsq, m_poles, g_poles, b_poles) + KM_Pvec_nonres(xplsq, s0_prod, fi_prod)"
   ]
  },
  {
   "cell_type": "markdown",
   "metadata": {},
   "source": [
    "Calculate the K-matrix\n",
    "\n",
    "$$\n",
    "F_i = \\sum_j\\left(I - i\\rho K\\right)^{-1}_{ij} P_j\n",
    "$$"
   ]
  },
  {
   "cell_type": "code",
   "execution_count": 62,
   "metadata": {},
   "outputs": [
    {
     "name": "stderr",
     "output_type": "stream",
     "text": [
      "WARNING: All log messages before absl::InitializeLog() is called are written to STDERR\n",
      "I0000 00:00:1744797541.906268   26544 cuda_solvers.cc:175] Creating GpuSolver handles for stream 0x55f043f06f80\n"
     ]
    }
   ],
   "source": [
    "km  =KM(xplsq, m_poles, g_poles, s0, fij, b_poles, s0_prod, fi_prod, [[mpi,mpi], [mkz, mkz], [meta, meta], [meta, metap], [mpi]], mpi)"
   ]
  },
  {
   "cell_type": "code",
   "execution_count": null,
   "metadata": {},
   "outputs": [
    {
     "data": {
      "text/plain": [
       "[<matplotlib.lines.Line2D at 0x7f4bc45a6610>]"
      ]
     },
     "execution_count": 63,
     "metadata": {},
     "output_type": "execute_result"
    },
    {
     "data": {
      "image/png": "[encoded data removed]",
      "text/plain": [
       "<Figure size 640x480 with 1 Axes>"
      ]
     },
     "metadata": {},
     "output_type": "display_data"
    }
   ],
   "source": [
    "plt.plot(xplsq, atfd.density(km[:, 0]))"
   ]
  },
  {
   "cell_type": "code",
   "execution_count": null,
   "metadata": {},
   "outputs": [
    {
     "data": {
      "text/plain": [
       "<tf.Tensor: shape=(1, 5), dtype=complex128, numpy=\n",
       "array([[  6.99829557 -9.31992391j, -10.56405092-10.40360234j,\n",
       "          6.35871166-44.90318908j,  -8.39258742-27.74018261j,\n",
       "         15.69025255 -1.7929274j ]])>"
      ]
     },
     "execution_count": 64,
     "metadata": {},
     "output_type": "execute_result"
    }
   ],
   "source": [
    "KM(xplsq[:1], m_poles, g_poles, s0, fij, b_poles, s0_prod, fi_prod, [[mpi,mpi], [mkz, mkz], [meta, meta], [meta, metap], [mpi]], mpi)"
   ]
  },
  {
   "cell_type": "code",
   "execution_count": 76,
   "metadata": {},
   "outputs": [],
   "source": [
    "import tensorflow as tf\n",
    "g_poles = atfi.const( [ [0.22889, -0.55377, 0, -0.39899, -0.34639],\n",
    "                        [0.94128, 0.55095, 0, 0.39065, 0.31503],\n",
    "                        [0.36856, 0.23888, 0.55639, 0.18340, 0.18681],\n",
    "                        [0.33650, 0.40907, 0.85679, 0.19906, -0.00984],\n",
    "                        [0.18171, -0.17558, -0.79658, -0.00355, 0.22358]] )\n",
    "m_poles = atfi.const( [0.651, 1.2036, 1.55817, 1.21, 1.82206] )\n",
    "b_poles = atfi.complex_from_polar([3.122415682166643, 11.139907856904129, 29.146102368470210, 6.631556203215280, 0.0],\n",
    "\t\t\t\t\t\t\t\t  [7.928823290976309, 4.948420661321371, -0.053588781806890, -8.455370251307063, 0.0])\n",
    "fprod1 = atfi.complex_from_polar( [-4.724094278696236, -23.289333360304212, -1.860311896516422, -13.638752211193912, 0.0],\n",
    "\t\t\t\t\t  \t\t\t  [-6.511009103363590, -12.215597571354197, -32.982507366353126, -22.339804683783186, 0.0])\n",
    "K_matrix_sprod = atfi.const(-0.070000000000000)\n",
    "\n",
    "def Kmatrix_jordi(s, g, ma, beta, f_prod_1, K_matrix_sprod):\n",
    "\t# Define variables\n",
    "\trho = tf.zeros([5], dtype=atfi.ctype())\n",
    "\t#atfi.complex pole,SVT,Adler\n",
    "\ti = tf.zeros([5,5], dtype=atfi.ctype())\n",
    "\t#f = tf.zeros([5,5], dtype=atfi.fptype())\n",
    "\t# pi+, K+, eta, and eta' PDG masses\n",
    "\tmpi=atfi.const(0.13957)\n",
    "\tmK = atfi.const(0.493677)\n",
    "\tmeta=atfi.const(0.54775)\n",
    "\tmetap=atfi.const(0.95778)\n",
    "\t# Init matrices and vectors with zeros\n",
    "\tK = tf.zeros([5,5], dtype=atfi.ctype())\n",
    "\t# Fill scattering data values \n",
    "\ts_scatt = atfi.const(-3.92637)\n",
    "\tsa = atfi.const(1.0)\n",
    "\tsa_0 = atfi.const(-0.15)\n",
    "\t# f_scattering\n",
    "\tf = atfi.const( [[0.23399, 0.15044, -0.20545, 0.32835, 0.35412],\n",
    "\t\t\t\t  \t [0.15044, 0.0, 0.0, 0.0, 0.0],\n",
    "\t\t\t\t  \t [-0.20545, 0.0, 0.0, 0.0, 0.0],\n",
    "\t\t\t\t  \t [0.32835, 0.0, 0.0, 0.0, 0.0],\n",
    "\t\t\t\t  \t [0.35412, 0.0, 0.0, 0.0, 0.0]] )\n",
    "\t# Compute phase space factors\n",
    "\trho1sq=(1.0-(atfi.pow((mpi+mpi),2)/s))\n",
    "\trho1 = tf.where(rho1sq >= 0, \n",
    "                    atfi.complex(atfi.sqrt(rho1sq),0.0), \n",
    "                    atfi.complex(0.0, tf.sqrt(-rho1sq)))\n",
    "\trho[0]=rho1\n",
    "\t#\n",
    "\trho2sq=(1.0-(tf.pow((mK+mK),2)/s))\n",
    "\trho2 = tf.where(rho2sq >=0, \n",
    "                    atfi.complex(atfi.sqrt(rho2sq),0.0), \n",
    "                    atfi.complex(0.0, tf.sqrt(-rho2sq)))\n",
    "\trho[1]=rho2\n",
    "\t#\n",
    "\trho3=tf.where(s<=1,\n",
    "\t\t\t   atfi.complex(tf.sqrt(1.0-(16.0*mpi*mpi))*(1.2274+0.00370909/(s*s) - (0.111203)/(s) - 6.39017*s +16.8358*s*s - 21.8845*s*s*s + 11.3153*s*s*s*s),0.0),\n",
    "               atfi.complex(tf.sqrt(1.0-(16.0*mpi*mpi/s)),0.0))\n",
    "\trho[2]=rho3\n",
    "    #\n",
    "\trho4sq=(1.0-(tf.pow((meta+meta),2)/s))\n",
    "\trho4 = tf.where(rho4sq >=0, \n",
    "                    atfi.complex(atfi.sqrt(rho4sq),0.0), \n",
    "                    atfi.complex(0.0, tf.sqrt(-rho4sq)))\n",
    "\trho[3]=rho4\n",
    "\t#\n",
    "\trho5sq=(1.0-(tf.pow((meta+metap),2)/s))\n",
    "\trho5 = tf.where(rho5sq >=0, \n",
    "                    atfi.complex(atfi.sqrt(rho5sq),0.0), \n",
    "                    atfi.complex(0.0, tf.sqrt(-rho5sq)))\n",
    "\trho[4]=rho5\n",
    "\t# Sum over the poles\n",
    "\tfor k in range(5):\n",
    "\t\tfor l in range(5):\n",
    "\t\t\tfor pole_index in range(5):\n",
    "\t\t\t\tA=g[pole_index][k]*g[pole_index][l]\n",
    "\t\t\t\tB=ma[pole_index]*ma[pole_index]-s\n",
    "\t\t\t\tK[k][l]=K[k][l]+atfi.complex(A/B,0.0)\n",
    "\t#\n",
    "\tfor k in range(5):\n",
    "\t\tfor l in range(5):\n",
    "\t\t\tC = f[k][l]*(1.0-s_scatt)\n",
    "\t\t\tD = (s-s_scatt)\n",
    "\t\t\tK[k][l]=K[k][l]+atfi.complex(C/D,0.0)\n",
    "\t#\n",
    "\tfor k in range(5):\n",
    "\t\tfor l in range(5):\n",
    "\t\t\tE = (s-(sa*mpi*mpi*0.5))*(1.0-sa_0)\n",
    "\t\t\tF = (s-sa_0)\n",
    "\t\t\tK[k][l]=K[k][l]*atfi.complex(E/F,0.0)\n",
    "\t#\n",
    "\tn11=atfi.complex(1.0,0.0)-atfi.complex(0.0,1.0)*K[0][0]*rho[0]\n",
    "\tn12=atfi.complex(0.0,0.0)-atfi.complex(0.0,1.0)*K[0][1]*rho[1]\n",
    "\tn13=atfi.complex(0.0,0.0)-atfi.complex(0.0,1.0)*K[0][2]*rho[2]\n",
    "\tn14=atfi.complex(0.0,0.0)-atfi.complex(0.0,1.0)*K[0][3]*rho[3]\n",
    "\tn15=atfi.complex(0.0,0.0)-atfi.complex(0.0,1.0)*K[0][4]*rho[4]\n",
    "\t#\n",
    "\tn21=atfi.complex(0.0,0.0)-atfi.complex(0.0,1.0)*K[1][0]*rho[0]\n",
    "\tn22=atfi.complex(1.0,0.0)-atfi.complex(0.0,1.0)*K[1][1]*rho[1]\n",
    "\tn23=atfi.complex(0.0,0.0)-atfi.complex(0.0,1.0)*K[1][2]*rho[2]\n",
    "\tn24=atfi.complex(0.0,0.0)-atfi.complex(0.0,1.0)*K[1][3]*rho[3]\n",
    "\tn25=atfi.complex(0.0,0.0)-atfi.complex(0.0,1.0)*K[1][4]*rho[4]\n",
    "\t#\n",
    "\tn31=atfi.complex(0.0,0.0)-atfi.complex(0.0,1.0)*K[2][0]*rho[0]\n",
    "\tn32=atfi.complex(0.0,0.0)-atfi.complex(0.0,1.0)*K[2][1]*rho[1]\n",
    "\tn33=atfi.complex(1.0,0.0)-atfi.complex(0.0,1.0)*K[2][2]*rho[2]\n",
    "\tn34=atfi.complex(0.0,0.0)-atfi.complex(0.0,1.0)*K[2][3]*rho[3]\n",
    "\tn35=atfi.complex(0.0,0.0)-atfi.complex(0.0,1.0)*K[2][4]*rho[4]\n",
    "\t#\n",
    "\tn41=atfi.complex(0.0,0.0)-atfi.complex(0.0,1.0)*K[3][0]*rho[0]\n",
    "\tn42=atfi.complex(0.0,0.0)-atfi.complex(0.0,1.0)*K[3][1]*rho[1]\n",
    "\tn43=atfi.complex(0.0,0.0)-atfi.complex(0.0,1.0)*K[3][2]*rho[2]\n",
    "\tn44=atfi.complex(1.0,0.0)-atfi.complex(0.0,1.0)*K[3][3]*rho[3]\n",
    "\tn45=atfi.complex(0.0,0.0)-atfi.complex(0.0,1.0)*K[3][4]*rho[4]\n",
    "\t#\n",
    "\tn51=atfi.complex(0.0,0.0)-atfi.complex(0.0,1.0)*K[4][0]*rho[0]\n",
    "\tn52=atfi.complex(0.0,0.0)-atfi.complex(0.0,1.0)*K[4][1]*rho[1]\n",
    "\tn53=atfi.complex(0.0,0.0)-atfi.complex(0.0,1.0)*K[4][2]*rho[2]\n",
    "\tn54=atfi.complex(0.0,0.0)-atfi.complex(0.0,1.0)*K[4][3]*rho[3]\n",
    "\tn55=atfi.complex(1.0,0.0)-atfi.complex(0.0,1.0)*K[4][4]*rho[4]\n",
    "\t#\n",
    "\t# Compute the determinant\n",
    "\tdet = (n15*n24*n33*n42*n51 - n14*n25*n33*n42*n51 - n15*n23*n34*n42*n51 +\n",
    "\t\t\tn13*n25*n34*n42*n51 + n14*n23*n35*n42*n51 - n13*n24*n35*n42*n51 -\n",
    "\t\t\tn15*n24*n32*n43*n51 + n14*n25*n32*n43*n51 + n15*n22*n34*n43*n51 -\n",
    "\t\t\tn12*n25*n34*n43*n51 - n14*n22*n35*n43*n51 + n12*n24*n35*n43*n51 +\n",
    "\t\t\tn15*n23*n32*n44*n51 - n13*n25*n32*n44*n51 - n15*n22*n33*n44*n51 +\n",
    "\t\t\tn12*n25*n33*n44*n51 + n13*n22*n35*n44*n51 - n12*n23*n35*n44*n51 -\n",
    "\t\t\tn14*n23*n32*n45*n51 + n13*n24*n32*n45*n51 + n14*n22*n33*n45*n51 -\n",
    "\t\t\tn12*n24*n33*n45*n51 - n13*n22*n34*n45*n51 + n12*n23*n34*n45*n51 -\n",
    "\t\t\tn15*n24*n33*n41*n52 + n14*n25*n33*n41*n52 + n15*n23*n34*n41*n52 -\n",
    "\t\t\tn13*n25*n34*n41*n52 - n14*n23*n35*n41*n52 + n13*n24*n35*n41*n52 +\n",
    "\t\t\tn15*n24*n31*n43*n52 - n14*n25*n31*n43*n52 - n15*n21*n34*n43*n52 +\n",
    "\t\t\tn11*n25*n34*n43*n52 + n14*n21*n35*n43*n52 - n11*n24*n35*n43*n52 -\n",
    "\t\t\tn15*n23*n31*n44*n52 + n13*n25*n31*n44*n52 + n15*n21*n33*n44*n52 -\n",
    "\t\t\tn11*n25*n33*n44*n52 - n13*n21*n35*n44*n52 + n11*n23*n35*n44*n52 +\n",
    "\t\t\tn14*n23*n31*n45*n52 - n13*n24*n31*n45*n52 - n14*n21*n33*n45*n52 +\n",
    "\t\t\tn11*n24*n33*n45*n52 + n13*n21*n34*n45*n52 - n11*n23*n34*n45*n52 +\n",
    "\t\t\tn15*n24*n32*n41*n53 - n14*n25*n32*n41*n53 - n15*n22*n34*n41*n53 +\n",
    "\t\t\tn12*n25*n34*n41*n53 + n14*n22*n35*n41*n53 - n12*n24*n35*n41*n53 -\n",
    "\t\t\tn15*n24*n31*n42*n53 + n14*n25*n31*n42*n53 + n15*n21*n34*n42*n53 -\n",
    "\t\t\tn11*n25*n34*n42*n53 - n14*n21*n35*n42*n53 + n11*n24*n35*n42*n53 +\n",
    "\t\t\tn15*n22*n31*n44*n53 - n12*n25*n31*n44*n53 - n15*n21*n32*n44*n53 +\n",
    "\t\t\tn11*n25*n32*n44*n53 + n12*n21*n35*n44*n53 - n11*n22*n35*n44*n53 -\n",
    "\t\t\tn14*n22*n31*n45*n53 + n12*n24*n31*n45*n53 + n14*n21*n32*n45*n53 -\n",
    "\t\t\tn11*n24*n32*n45*n53 - n12*n21*n34*n45*n53 + n11*n22*n34*n45*n53 -\n",
    "\t\t\tn15*n23*n32*n41*n54 + n13*n25*n32*n41*n54 + n15*n22*n33*n41*n54 -\n",
    "\t\t\tn12*n25*n33*n41*n54 - n13*n22*n35*n41*n54 + n12*n23*n35*n41*n54 +\n",
    "\t\t\tn15*n23*n31*n42*n54 - n13*n25*n31*n42*n54 - n15*n21*n33*n42*n54 +\n",
    "\t\t\tn11*n25*n33*n42*n54 + n13*n21*n35*n42*n54 - n11*n23*n35*n42*n54 -\n",
    "\t\t\tn15*n22*n31*n43*n54 + n12*n25*n31*n43*n54 + n15*n21*n32*n43*n54 -\n",
    "\t\t\tn11*n25*n32*n43*n54 - n12*n21*n35*n43*n54 + n11*n22*n35*n43*n54 +\n",
    "\t\t\tn13*n22*n31*n45*n54 - n12*n23*n31*n45*n54 - n13*n21*n32*n45*n54 +\n",
    "\t\t\tn11*n23*n32*n45*n54 + n12*n21*n33*n45*n54 - n11*n22*n33*n45*n54 +\n",
    "\t\t\tn14*n23*n32*n41*n55 - n13*n24*n32*n41*n55 - n14*n22*n33*n41*n55 +\n",
    "\t\t\tn12*n24*n33*n41*n55 + n13*n22*n34*n41*n55 - n12*n23*n34*n41*n55 -\n",
    "\t\t\tn14*n23*n31*n42*n55 + n13*n24*n31*n42*n55 + n14*n21*n33*n42*n55 -\n",
    "\t\t\tn11*n24*n33*n42*n55 - n13*n21*n34*n42*n55 + n11*n23*n34*n42*n55 +\n",
    "\t\t\tn14*n22*n31*n43*n55 - n12*n24*n31*n43*n55 - n14*n21*n32*n43*n55 +\n",
    "\t\t\tn11*n24*n32*n43*n55 + n12*n21*n34*n43*n55 - n11*n22*n34*n43*n55 -\n",
    "\t\t\tn13*n22*n31*n44*n55 + n12*n23*n31*n44*n55 + n13*n21*n32*n44*n55 -\n",
    "\t\t\tn11*n23*n32*n44*n55 - n12*n21*n33*n44*n55 + n11*n22*n33*n44*n55)\n",
    "\t#\n",
    "\t# The 1st row of the inverse matrix {(I-iKp)^-1}_0j\n",
    "\ti[0][0] = (n25*n34*n43*n52 -\n",
    "\t\t\tn24*n35*n43*n52 - n25*n33*n44*n52 + n23*n35*n44*n52 +\n",
    "\t\t\tn24*n33*n45*n52 - n23*n34*n45*n52 - n25*n34*n42*n53 +\n",
    "\t\t\tn24*n35*n42*n53 + n25*n32*n44*n53 - n22*n35*n44*n53 -\n",
    "\t\t\tn24*n32*n45*n53 + n22*n34*n45*n53 + n25*n33*n42*n54 -\n",
    "\t\t\tn23*n35*n42*n54 - n25*n32*n43*n54 + n22*n35*n43*n54 +\n",
    "\t\t\tn23*n32*n45*n54 - n22*n33*n45*n54 - n24*n33*n42*n55 +\n",
    "\t\t\tn23*n34*n42*n55 + n24*n32*n43*n55 - n22*n34*n43*n55 -\n",
    "\t\t\tn23*n32*n44*n55 + n22*n33*n44*n55)/det\n",
    "\t#\n",
    "\ti[0][1] = (-n15*n34*n43*n52 +\n",
    "\t\t\tn14*n35*n43*n52 + n15*n33*n44*n52 - n13*n35*n44*n52 -\n",
    "\t\t\tn14*n33*n45*n52 + n13*n34*n45*n52 + n15*n34*n42*n53 -\n",
    "\t\t\tn14*n35*n42*n53 - n15*n32*n44*n53 + n12*n35*n44*n53 +\n",
    "\t\t\tn14*n32*n45*n53 - n12*n34*n45*n53 - n15*n33*n42*n54 +\n",
    "\t\t\tn13*n35*n42*n54 + n15*n32*n43*n54 - n12*n35*n43*n54 -\n",
    "\t\t\tn13*n32*n45*n54 + n12*n33*n45*n54 + n14*n33*n42*n55 -\n",
    "\t\t\tn13*n34*n42*n55 - n14*n32*n43*n55 + n12*n34*n43*n55 +\n",
    "\t\t\tn13*n32*n44*n55 - n12*n33*n44*n55)/det\n",
    "\t#\n",
    "\ti[0][2] = (n15*n24*n43*n52 -\n",
    "\t\t\tn14*n25*n43*n52 - n15*n23*n44*n52 + n13*n25*n44*n52 +\n",
    "\t\t\tn14*n23*n45*n52 - n13*n24*n45*n52 - n15*n24*n42*n53 +\n",
    "\t\t\tn14*n25*n42*n53 + n15*n22*n44*n53 - n12*n25*n44*n53 -\n",
    "\t\t\tn14*n22*n45*n53 + n12*n24*n45*n53 + n15*n23*n42*n54 -\n",
    "\t\t\tn13*n25*n42*n54 - n15*n22*n43*n54 + n12*n25*n43*n54 +\n",
    "\t\t\tn13*n22*n45*n54 - n12*n23*n45*n54 - n14*n23*n42*n55 +\n",
    "\t\t\tn13*n24*n42*n55 + n14*n22*n43*n55 - n12*n24*n43*n55 -\n",
    "\t\t\tn13*n22*n44*n55 + n12*n23*n44*n55)/det\n",
    "\t#\n",
    "\ti[0][3] = (-n15*n24*n33*n52 +\n",
    "\t\t\tn14*n25*n33*n52 + n15*n23*n34*n52 - n13*n25*n34*n52 -\n",
    "\t\t\tn14*n23*n35*n52 + n13*n24*n35*n52 + n15*n24*n32*n53 -\n",
    "\t\t\tn14*n25*n32*n53 - n15*n22*n34*n53 + n12*n25*n34*n53 +\n",
    "\t\t\tn14*n22*n35*n53 - n12*n24*n35*n53 - n15*n23*n32*n54 +\n",
    "\t\t\tn13*n25*n32*n54 + n15*n22*n33*n54 - n12*n25*n33*n54 -\n",
    "\t\t\tn13*n22*n35*n54 + n12*n23*n35*n54 + n14*n23*n32*n55 -\n",
    "\t\t\tn13*n24*n32*n55 - n14*n22*n33*n55 + n12*n24*n33*n55 +\n",
    "\t\t\tn13*n22*n34*n55 - n12*n23*n34*n55)/det\n",
    "\t#\n",
    "\ti[0][4] = (n15*n24*n33*n42 -\n",
    "\t\t\tn14*n25*n33*n42 - n15*n23*n34*n42 + n13*n25*n34*n42 +\n",
    "\t\t\tn14*n23*n35*n42 - n13*n24*n35*n42 - n15*n24*n32*n43 +\n",
    "\t\t\tn14*n25*n32*n43 + n15*n22*n34*n43 - n12*n25*n34*n43 -\n",
    "\t\t\tn14*n22*n35*n43 + n12*n24*n35*n43 + n15*n23*n32*n44 -\n",
    "\t\t\tn13*n25*n32*n44 - n15*n22*n33*n44 + n12*n25*n33*n44 +\n",
    "\t\t\tn13*n22*n35*n44 - n12*n23*n35*n44 - n14*n23*n32*n45 +\n",
    "\t\t\tn13*n24*n32*n45 + n14*n22*n33*n45 - n12*n24*n33*n45 -\n",
    "\t\t\tn13*n22*n34*n45 + n12*n23*n34*n45)/det\n",
    "\t#\n",
    "\t# Fill complex couplings beta and productions f_prod vectors from fitter, convert the polar complex numbers to cartesian ones.\n",
    "\t_beta = beta\n",
    "\t_fr11prod = f_prod_1[0]\n",
    "\t_fr12prod = f_prod_1[1]\n",
    "\t_fr13prod = f_prod_1[2]\n",
    "\t_fr14prod = f_prod_1[3]\n",
    "\t_fr15prod = f_prod_1[4]\n",
    "\t#\n",
    "\t_s0prod = K_matrix_sprod;\n",
    "\n",
    "\tU1j = tf.zeros([5], dtype=atfi.ctype())\n",
    "\tfor j in range(5):\n",
    "\t\tU1j[j] = i[0][j]\n",
    "\n",
    "    # Compute product of inverse matrix times production vector, split production vector into two pieces\n",
    "\tvalue0 = atfi.complex(0.0,0.0)\n",
    "\tvalue1 = atfi.complex(0.0,0.0)\n",
    "\n",
    "\t# Compute inverse_matrix times first part of production vector, sum all the poles\n",
    "\tfor l in range(5):\n",
    "\t\tfor pole_index in range(5):\n",
    "\t\t\tA = _beta[pole_index]*g[pole_index][l]\n",
    "\t\t\tB = ma[pole_index]*ma[pole_index]-s\n",
    "\t\t\tvalue0 += U1j[l] * A / B\n",
    "\n",
    "\t# Compute inverse_matrix times second part of production vector\n",
    "\tvalue1 += U1j[0]*_fr11prod\n",
    "\tvalue1 += U1j[1]*_fr12prod\n",
    "\tvalue1 += U1j[2]*_fr13prod\n",
    "\tvalue1 += U1j[3]*_fr14prod\n",
    "\tvalue1 += U1j[4]*_fr15prod\n",
    "\tvalue1 *= (1-_s0prod)/(s-_s0prod); # MR20150303\n",
    "\n",
    "\t# Compute final F0 vector\n",
    "\tF_0 = value0 + value1\n",
    "\n",
    "\treturn F_0"
   ]
  },
  {
   "cell_type": "code",
   "execution_count": 77,
   "metadata": {},
   "outputs": [
    {
     "ename": "TypeError",
     "evalue": "The `real` and `imag` components have incorrect types: float64 float32. They must be consistent, and one of [tf.float32, tf.float64]",
     "output_type": "error",
     "traceback": [
      "\u001b[0;31m---------------------------------------------------------------------------\u001b[0m",
      "\u001b[0;31mTypeError\u001b[0m                                 Traceback (most recent call last)",
      "Cell \u001b[0;32mIn[77], line 1\u001b[0m\n\u001b[0;32m----> 1\u001b[0m \u001b[43mKmatrix_jordi\u001b[49m\u001b[43m(\u001b[49m\u001b[43mxplsq\u001b[49m\u001b[43m[\u001b[49m\u001b[38;5;241;43m0\u001b[39;49m\u001b[43m]\u001b[49m\u001b[43m,\u001b[49m\u001b[43m \u001b[49m\u001b[43mg_poles\u001b[49m\u001b[43m,\u001b[49m\u001b[43m \u001b[49m\u001b[43mm_poles\u001b[49m\u001b[43m,\u001b[49m\u001b[43m \u001b[49m\u001b[43mb_poles\u001b[49m\u001b[43m,\u001b[49m\u001b[43m \u001b[49m\u001b[43mfprod1\u001b[49m\u001b[43m,\u001b[49m\u001b[43m \u001b[49m\u001b[43mK_matrix_sprod\u001b[49m\u001b[43m)\u001b[49m\n",
      "Cell \u001b[0;32mIn[76], line 40\u001b[0m, in \u001b[0;36mKmatrix_jordi\u001b[0;34m(s, g, ma, beta, f_prod_1, K_matrix_sprod)\u001b[0m\n\u001b[1;32m     37\u001b[0m \t\u001b[38;5;66;03m# Compute phase space factors\u001b[39;00m\n\u001b[1;32m     38\u001b[0m \trho1sq\u001b[38;5;241m=\u001b[39m(\u001b[38;5;241m1.0\u001b[39m\u001b[38;5;241m-\u001b[39m(atfi\u001b[38;5;241m.\u001b[39mpow((mpi\u001b[38;5;241m+\u001b[39mmpi),\u001b[38;5;241m2\u001b[39m)\u001b[38;5;241m/\u001b[39ms))\n\u001b[1;32m     39\u001b[0m \trho1 \u001b[38;5;241m=\u001b[39m tf\u001b[38;5;241m.\u001b[39mwhere(rho1sq \u001b[38;5;241m>\u001b[39m\u001b[38;5;241m=\u001b[39m \u001b[38;5;241m0\u001b[39m, \n\u001b[0;32m---> 40\u001b[0m                     \u001b[43matfi\u001b[49m\u001b[38;5;241;43m.\u001b[39;49m\u001b[43mcomplex\u001b[49m\u001b[43m(\u001b[49m\u001b[43matfi\u001b[49m\u001b[38;5;241;43m.\u001b[39;49m\u001b[43msqrt\u001b[49m\u001b[43m(\u001b[49m\u001b[43mrho1sq\u001b[49m\u001b[43m)\u001b[49m\u001b[43m,\u001b[49m\u001b[38;5;241;43m0.0\u001b[39;49m\u001b[43m)\u001b[49m, \n\u001b[1;32m     41\u001b[0m                     atfi\u001b[38;5;241m.\u001b[39mcomplex(\u001b[38;5;241m0.0\u001b[39m, tf\u001b[38;5;241m.\u001b[39msqrt(\u001b[38;5;241m-\u001b[39mrho1sq)))\n\u001b[1;32m     42\u001b[0m \trho[\u001b[38;5;241m0\u001b[39m]\u001b[38;5;241m=\u001b[39mrho1\n\u001b[1;32m     43\u001b[0m \t\u001b[38;5;66;03m#\u001b[39;00m\n",
      "File \u001b[0;32m~/environments/tfa/lib64/python3.9/site-packages/amplitf/interface.py:122\u001b[0m, in \u001b[0;36mcomplex\u001b[0;34m(re, im)\u001b[0m\n\u001b[1;32m    113\u001b[0m \u001b[38;5;28;01mdef\u001b[39;00m\u001b[38;5;250m \u001b[39m\u001b[38;5;21mcomplex\u001b[39m(re, im):\n\u001b[1;32m    114\u001b[0m \u001b[38;5;250m    \u001b[39m\u001b[38;5;124;03m\"\"\"\u001b[39;00m\n\u001b[1;32m    115\u001b[0m \u001b[38;5;124;03m    Construct complex number from real and imaginary values\u001b[39;00m\n\u001b[1;32m    116\u001b[0m \n\u001b[0;32m   (...)\u001b[0m\n\u001b[1;32m    120\u001b[0m \u001b[38;5;124;03m    :returns: complex number\u001b[39;00m\n\u001b[1;32m    121\u001b[0m \u001b[38;5;124;03m    \"\"\"\u001b[39;00m\n\u001b[0;32m--> 122\u001b[0m     \u001b[38;5;28;01mreturn\u001b[39;00m \u001b[43mtf\u001b[49m\u001b[38;5;241;43m.\u001b[39;49m\u001b[43mcomplex\u001b[49m\u001b[43m(\u001b[49m\u001b[43mre\u001b[49m\u001b[43m,\u001b[49m\u001b[43m \u001b[49m\u001b[43mim\u001b[49m\u001b[43m)\u001b[49m\n",
      "File \u001b[0;32m~/environments/tfa/lib64/python3.9/site-packages/tensorflow/python/util/traceback_utils.py:153\u001b[0m, in \u001b[0;36mfilter_traceback.<locals>.error_handler\u001b[0;34m(*args, **kwargs)\u001b[0m\n\u001b[1;32m    151\u001b[0m \u001b[38;5;28;01mexcept\u001b[39;00m \u001b[38;5;167;01mException\u001b[39;00m \u001b[38;5;28;01mas\u001b[39;00m e:\n\u001b[1;32m    152\u001b[0m   filtered_tb \u001b[38;5;241m=\u001b[39m _process_traceback_frames(e\u001b[38;5;241m.\u001b[39m__traceback__)\n\u001b[0;32m--> 153\u001b[0m   \u001b[38;5;28;01mraise\u001b[39;00m e\u001b[38;5;241m.\u001b[39mwith_traceback(filtered_tb) \u001b[38;5;28;01mfrom\u001b[39;00m\u001b[38;5;250m \u001b[39m\u001b[38;5;28;01mNone\u001b[39;00m\n\u001b[1;32m    154\u001b[0m \u001b[38;5;28;01mfinally\u001b[39;00m:\n\u001b[1;32m    155\u001b[0m   \u001b[38;5;28;01mdel\u001b[39;00m filtered_tb\n",
      "File \u001b[0;32m~/environments/tfa/lib64/python3.9/site-packages/tensorflow/python/ops/math_ops.py:736\u001b[0m, in \u001b[0;36mcomplex\u001b[0;34m(real, imag, name)\u001b[0m\n\u001b[1;32m    734\u001b[0m   Tout \u001b[38;5;241m=\u001b[39m dtypes\u001b[38;5;241m.\u001b[39mcomplex64\n\u001b[1;32m    735\u001b[0m \u001b[38;5;28;01melse\u001b[39;00m:\n\u001b[0;32m--> 736\u001b[0m   \u001b[38;5;28;01mraise\u001b[39;00m \u001b[38;5;167;01mTypeError\u001b[39;00m(\n\u001b[1;32m    737\u001b[0m       \u001b[38;5;124mf\u001b[39m\u001b[38;5;124m\"\u001b[39m\u001b[38;5;124mThe `real` and `imag` components have incorrect types: \u001b[39m\u001b[38;5;124m\"\u001b[39m\n\u001b[1;32m    738\u001b[0m       \u001b[38;5;124mf\u001b[39m\u001b[38;5;124m\"\u001b[39m\u001b[38;5;132;01m{\u001b[39;00mreal\u001b[38;5;241m.\u001b[39mdtype\u001b[38;5;241m.\u001b[39mname\u001b[38;5;132;01m}\u001b[39;00m\u001b[38;5;124m \u001b[39m\u001b[38;5;132;01m{\u001b[39;00mimag\u001b[38;5;241m.\u001b[39mdtype\u001b[38;5;241m.\u001b[39mname\u001b[38;5;132;01m}\u001b[39;00m\u001b[38;5;124m. They must be consistent, and \u001b[39m\u001b[38;5;124m\"\u001b[39m\n\u001b[1;32m    739\u001b[0m       \u001b[38;5;124mf\u001b[39m\u001b[38;5;124m\"\u001b[39m\u001b[38;5;124mone of \u001b[39m\u001b[38;5;132;01m{\u001b[39;00m[dtypes\u001b[38;5;241m.\u001b[39mfloat32,\u001b[38;5;250m \u001b[39mdtypes\u001b[38;5;241m.\u001b[39mfloat64]\u001b[38;5;132;01m}\u001b[39;00m\u001b[38;5;124m\"\u001b[39m)\n\u001b[1;32m    740\u001b[0m \u001b[38;5;28;01mreturn\u001b[39;00m gen_math_ops\u001b[38;5;241m.\u001b[39m_complex(real, imag, Tout\u001b[38;5;241m=\u001b[39mTout, name\u001b[38;5;241m=\u001b[39mname)\n",
      "\u001b[0;31mTypeError\u001b[0m: The `real` and `imag` components have incorrect types: float64 float32. They must be consistent, and one of [tf.float32, tf.float64]"
     ]
    }
   ],
   "source": [
    "Kmatrix_jordi(xplsq[0], g_poles, m_poles, b_poles, fprod1, K_matrix_sprod)"
   ]
  },
  {
   "cell_type": "code",
   "execution_count": null,
   "metadata": {},
   "outputs": [],
   "source": []
  }
 ],
 "metadata": {
  "kernelspec": {
   "display_name": "tfa",
   "language": "python",
   "name": "python3"
  },
  "language_info": {
   "codemirror_mode": {
    "name": "ipython",
    "version": 3
   },
   "file_extension": ".py",
   "mimetype": "text/x-python",
   "name": "python",
   "nbconvert_exporter": "python",
   "pygments_lexer": "ipython3",
   "version": "3.9.19"
  }
 },
 "nbformat": 4,
 "nbformat_minor": 2
}
